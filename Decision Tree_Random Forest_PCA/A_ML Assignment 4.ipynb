{
 "cells": [
  {
   "cell_type": "markdown",
   "metadata": {},
   "source": [
    "# Machine Learning and Predictive Analytics    \n",
    "# Assignment 4     "
   ]
  },
  {
   "cell_type": "markdown",
   "metadata": {},
   "source": [
    "Name: Troy Zhongyi Zhang     \n",
    "Netid: zhongyiz@uchicago.edu      "
   ]
  },
  {
   "cell_type": "markdown",
   "metadata": {},
   "source": [
    "# 1. Data Processing:"
   ]
  },
  {
   "cell_type": "code",
   "execution_count": 1,
   "metadata": {},
   "outputs": [],
   "source": [
    "import pandas as pd\n",
    "import numpy as np\n",
    "import matplotlib as plt"
   ]
  },
  {
   "cell_type": "code",
   "execution_count": 2,
   "metadata": {},
   "outputs": [],
   "source": [
    "#!pip install xlrd"
   ]
  },
  {
   "cell_type": "code",
   "execution_count": 3,
   "metadata": {
    "scrolled": true
   },
   "outputs": [],
   "source": [
    "df = pd.read_excel('default of credit card clients.xls')\n",
    "df=df.drop(df.columns[[0]], axis=1)"
   ]
  },
  {
   "cell_type": "code",
   "execution_count": 4,
   "metadata": {},
   "outputs": [
    {
     "data": {
      "text/plain": [
       "(30000, 24)"
      ]
     },
     "execution_count": 4,
     "metadata": {},
     "output_type": "execute_result"
    }
   ],
   "source": [
    "# df[df.columns[0]]\n",
    "df.shape"
   ]
  },
  {
   "cell_type": "code",
   "execution_count": 5,
   "metadata": {},
   "outputs": [],
   "source": [
    "df = df.dropna()"
   ]
  },
  {
   "cell_type": "code",
   "execution_count": 6,
   "metadata": {},
   "outputs": [
    {
     "data": {
      "text/plain": [
       "(30000, 24)"
      ]
     },
     "execution_count": 6,
     "metadata": {},
     "output_type": "execute_result"
    }
   ],
   "source": [
    "df.shape"
   ]
  },
  {
   "cell_type": "code",
   "execution_count": 7,
   "metadata": {},
   "outputs": [],
   "source": [
    "# 1 - (c) and (d)\n",
    "from sklearn.metrics import classification_report\n",
    "from sklearn.model_selection import cross_val_score\n",
    "import sklearn.model_selection as cv\n",
    "from sklearn.model_selection import train_test_split\n",
    "\n",
    "y = df.iloc[:,23]\n",
    "X = df.iloc[:,1:22]\n",
    "\n",
    "(X_train, X_test, y_train, y_test) = train_test_split(X, y, test_size=.30, random_state=42)"
   ]
  },
  {
   "cell_type": "code",
   "execution_count": null,
   "metadata": {},
   "outputs": [],
   "source": []
  },
  {
   "cell_type": "markdown",
   "metadata": {},
   "source": [
    "# 2. Random Forest Classifier - Base Model:"
   ]
  },
  {
   "cell_type": "code",
   "execution_count": 8,
   "metadata": {},
   "outputs": [
    {
     "name": "stderr",
     "output_type": "stream",
     "text": [
      "/Users/zhongyizhang/env/lib/python3.7/site-packages/sklearn/ensemble/forest.py:245: FutureWarning: The default value of n_estimators will change from 10 in version 0.20 to 100 in 0.22.\n",
      "  \"10 in version 0.20 to 100 in 0.22.\", FutureWarning)\n"
     ]
    },
    {
     "data": {
      "text/plain": [
       "array([0, 0, 0, ..., 0, 0, 0])"
      ]
     },
     "execution_count": 8,
     "metadata": {},
     "output_type": "execute_result"
    }
   ],
   "source": [
    "#2-(a) & 2-(b)\n",
    "from sklearn.ensemble import RandomForestClassifier\n",
    "\n",
    "rnd_clf = RandomForestClassifier(random_state=42)\n",
    "rnd_clf.fit(X_train, y_train)\n",
    "\n",
    "y_pred_rf = rnd_clf.predict(X_test)\n",
    "y_pred_rf"
   ]
  },
  {
   "cell_type": "code",
   "execution_count": 9,
   "metadata": {},
   "outputs": [
    {
     "data": {
      "text/plain": [
       "array([[1. , 0. ],\n",
       "       [1. , 0. ],\n",
       "       [0.9, 0.1],\n",
       "       ...,\n",
       "       [0.9, 0.1],\n",
       "       [0.9, 0.1],\n",
       "       [0.9, 0.1]])"
      ]
     },
     "execution_count": 9,
     "metadata": {},
     "output_type": "execute_result"
    }
   ],
   "source": [
    "#2-(b)\n",
    "prob1 = rnd_clf.predict_proba(X_test) \n",
    "prob1"
   ]
  },
  {
   "cell_type": "code",
   "execution_count": 10,
   "metadata": {},
   "outputs": [
    {
     "data": {
      "text/plain": [
       "array([[6597,  443],\n",
       "       [1327,  633]])"
      ]
     },
     "execution_count": 10,
     "metadata": {},
     "output_type": "execute_result"
    }
   ],
   "source": [
    "#2-(c)\n",
    "from sklearn import metrics\n",
    "rnd_matrix1 = metrics.confusion_matrix(y_test, y_pred_rf)\n",
    "rnd_matrix1"
   ]
  },
  {
   "cell_type": "code",
   "execution_count": 11,
   "metadata": {},
   "outputs": [
    {
     "name": "stdout",
     "output_type": "stream",
     "text": [
      "                    precision    recall  f1-score   support\n",
      "\n",
      "Default Payment 1       0.83      0.94      0.88      7040\n",
      "Default Payment 2       0.59      0.32      0.42      1960\n",
      "\n",
      "         accuracy                           0.80      9000\n",
      "        macro avg       0.71      0.63      0.65      9000\n",
      "     weighted avg       0.78      0.80      0.78      9000\n",
      "\n"
     ]
    }
   ],
   "source": [
    "target_names = ['Default Payment 1', 'Default Payment 2']\n",
    "print(\"\", classification_report(y_test, y_pred_rf, target_names=target_names))"
   ]
  },
  {
   "cell_type": "code",
   "execution_count": 12,
   "metadata": {},
   "outputs": [
    {
     "name": "stdout",
     "output_type": "stream",
     "text": [
      "0.7089591184485158\n"
     ]
    }
   ],
   "source": [
    "#2-(d)\n",
    "from sklearn.metrics import roc_auc_score\n",
    "rnd_probs = rnd_clf.predict_proba(X_test)[:,1]\n",
    "print(roc_auc_score(y_test, rnd_probs))"
   ]
  },
  {
   "cell_type": "markdown",
   "metadata": {},
   "source": [
    "## 2-(e) For training set"
   ]
  },
  {
   "cell_type": "code",
   "execution_count": 13,
   "metadata": {},
   "outputs": [
    {
     "data": {
      "text/plain": [
       "array([0, 0, 0, ..., 0, 1, 0])"
      ]
     },
     "execution_count": 13,
     "metadata": {},
     "output_type": "execute_result"
    }
   ],
   "source": [
    "y_pred_rf_train = rnd_clf.predict(X_train)\n",
    "y_pred_rf_train"
   ]
  },
  {
   "cell_type": "code",
   "execution_count": 14,
   "metadata": {},
   "outputs": [
    {
     "data": {
      "text/plain": [
       "array([[0.53333333, 0.46666667],\n",
       "       [1.        , 0.        ],\n",
       "       [0.9       , 0.1       ],\n",
       "       ...,\n",
       "       [1.        , 0.        ],\n",
       "       [0.3       , 0.7       ],\n",
       "       [0.5       , 0.5       ]])"
      ]
     },
     "execution_count": 14,
     "metadata": {},
     "output_type": "execute_result"
    }
   ],
   "source": [
    "prob12 = rnd_clf.predict_proba(X_train) \n",
    "prob12"
   ]
  },
  {
   "cell_type": "code",
   "execution_count": 15,
   "metadata": {},
   "outputs": [
    {
     "data": {
      "text/plain": [
       "array([[16264,    60],\n",
       "       [  470,  4206]])"
      ]
     },
     "execution_count": 15,
     "metadata": {},
     "output_type": "execute_result"
    }
   ],
   "source": [
    "rnd_matrix2 = metrics.confusion_matrix(y_train, y_pred_rf_train)\n",
    "rnd_matrix2"
   ]
  },
  {
   "cell_type": "code",
   "execution_count": 16,
   "metadata": {},
   "outputs": [
    {
     "name": "stdout",
     "output_type": "stream",
     "text": [
      "                    precision    recall  f1-score   support\n",
      "\n",
      "Default Payment 1       0.97      1.00      0.98     16324\n",
      "Default Payment 2       0.99      0.90      0.94      4676\n",
      "\n",
      "         accuracy                           0.97     21000\n",
      "        macro avg       0.98      0.95      0.96     21000\n",
      "     weighted avg       0.98      0.97      0.97     21000\n",
      "\n"
     ]
    }
   ],
   "source": [
    "target_names = ['Default Payment 1', 'Default Payment 2']\n",
    "print(\"\", classification_report(y_train, y_pred_rf_train, target_names=target_names))"
   ]
  },
  {
   "cell_type": "code",
   "execution_count": 17,
   "metadata": {},
   "outputs": [
    {
     "name": "stdout",
     "output_type": "stream",
     "text": [
      "0.997941872232711\n"
     ]
    }
   ],
   "source": [
    "rnd_probs_train = rnd_clf.predict_proba(X_train)[:,1]\n",
    "print(roc_auc_score(y_train, rnd_probs_train))"
   ]
  },
  {
   "cell_type": "markdown",
   "metadata": {},
   "source": [
    "2-(e)     \n",
    "The training set accuracy score is 99.79%, but the testing set accuracy score is only 70.90%. The training set RMSE is much smaller than the testing set RMSE. This model is overfitting."
   ]
  },
  {
   "cell_type": "code",
   "execution_count": null,
   "metadata": {},
   "outputs": [],
   "source": []
  },
  {
   "cell_type": "markdown",
   "metadata": {},
   "source": [
    "## 3. Random Forest Classifier - Grid Search:"
   ]
  },
  {
   "cell_type": "code",
   "execution_count": 61,
   "metadata": {},
   "outputs": [],
   "source": [
    "#3-(a) & 3-(c) for prediction class\n",
    "from math import sqrt\n",
    "from sklearn.model_selection import GridSearchCV\n",
    "param_grid = {'n_estimators':[50,100,500],\n",
    "              'max_features':[2,4,6],\n",
    "              'max_depth':[6,8,10,12],\n",
    "              'random_state':[0,42]}\n",
    "\n",
    "rf_obj=RandomForestClassifier()\n",
    "\n",
    "rf_Grid = GridSearchCV(rf_obj, param_grid, cv = 5, scoring = 'roc_auc',refit = True, n_jobs=-1, verbose = 5)\n"
   ]
  },
  {
   "cell_type": "code",
   "execution_count": 62,
   "metadata": {},
   "outputs": [
    {
     "name": "stdout",
     "output_type": "stream",
     "text": [
      "Fitting 5 folds for each of 72 candidates, totalling 360 fits\n"
     ]
    },
    {
     "name": "stderr",
     "output_type": "stream",
     "text": [
      "[Parallel(n_jobs=-1)]: Using backend LokyBackend with 12 concurrent workers.\n",
      "[Parallel(n_jobs=-1)]: Done  48 tasks      | elapsed:   11.6s\n",
      "[Parallel(n_jobs=-1)]: Done 138 tasks      | elapsed:   51.7s\n",
      "[Parallel(n_jobs=-1)]: Done 264 tasks      | elapsed:  2.2min\n",
      "[Parallel(n_jobs=-1)]: Done 360 out of 360 | elapsed:  3.7min finished\n"
     ]
    },
    {
     "data": {
      "text/plain": [
       "array([0, 0, 0, ..., 0, 0, 0])"
      ]
     },
     "execution_count": 62,
     "metadata": {},
     "output_type": "execute_result"
    }
   ],
   "source": [
    "#3-(c) for prediction class\n",
    "rf_Grid.fit(X_train, y_train)\n",
    "y_pred_rf_grid = rf_Grid.predict(X_test)\n",
    "y_pred_rf_grid"
   ]
  },
  {
   "cell_type": "code",
   "execution_count": 63,
   "metadata": {},
   "outputs": [
    {
     "name": "stdout",
     "output_type": "stream",
     "text": [
      "0.7694212010088126\n"
     ]
    }
   ],
   "source": [
    "rnd_probs_grid = rf_Grid.predict_proba(X_test)[:,1]\n",
    "print(roc_auc_score(y_test, rnd_probs_grid))"
   ]
  },
  {
   "cell_type": "code",
   "execution_count": 64,
   "metadata": {},
   "outputs": [
    {
     "data": {
      "text/plain": [
       "{'max_depth': 10, 'max_features': 2, 'n_estimators': 500, 'random_state': 42}"
      ]
     },
     "execution_count": 64,
     "metadata": {},
     "output_type": "execute_result"
    }
   ],
   "source": [
    "#3-(b)\n",
    "rf_Grid.best_params_"
   ]
  },
  {
   "cell_type": "code",
   "execution_count": 65,
   "metadata": {},
   "outputs": [
    {
     "data": {
      "text/plain": [
       "RandomForestClassifier(bootstrap=True, class_weight=None, criterion='gini',\n",
       "                       max_depth=10, max_features=2, max_leaf_nodes=None,\n",
       "                       min_impurity_decrease=0.0, min_impurity_split=None,\n",
       "                       min_samples_leaf=1, min_samples_split=2,\n",
       "                       min_weight_fraction_leaf=0.0, n_estimators=500,\n",
       "                       n_jobs=None, oob_score=False, random_state=42, verbose=0,\n",
       "                       warm_start=False)"
      ]
     },
     "execution_count": 65,
     "metadata": {},
     "output_type": "execute_result"
    }
   ],
   "source": [
    "#3-(b)\n",
    "rf_Grid.best_estimator_"
   ]
  },
  {
   "cell_type": "code",
   "execution_count": 23,
   "metadata": {},
   "outputs": [
    {
     "data": {
      "text/plain": [
       "0.7775348235048448"
      ]
     },
     "execution_count": 23,
     "metadata": {},
     "output_type": "execute_result"
    }
   ],
   "source": [
    "rf_Grid.best_score_"
   ]
  },
  {
   "cell_type": "code",
   "execution_count": 66,
   "metadata": {},
   "outputs": [
    {
     "data": {
      "text/plain": [
       "array([0, 0, 0, ..., 0, 0, 0])"
      ]
     },
     "execution_count": 66,
     "metadata": {},
     "output_type": "execute_result"
    }
   ],
   "source": [
    "best_clf = RandomForestClassifier(bootstrap=True, class_weight=None, criterion='gini',\n",
    "                                  max_depth=10, max_features=2, max_leaf_nodes=None,\n",
    "                                  min_impurity_decrease=0.0, min_impurity_split=None,\n",
    "                                  min_samples_leaf=1, min_samples_split=2,\n",
    "                                  min_weight_fraction_leaf=0.0, n_estimators=500,\n",
    "                                  n_jobs=None, oob_score=False, random_state=42, verbose=0,\n",
    "                                  warm_start=False)\n",
    "best_clf.fit(X_train, y_train)\n",
    "\n",
    "y_pred_best = best_clf.predict(X_test)\n",
    "y_pred_best"
   ]
  },
  {
   "cell_type": "code",
   "execution_count": 67,
   "metadata": {},
   "outputs": [
    {
     "data": {
      "text/plain": [
       "array([[0.84703202, 0.15296798],\n",
       "       [0.90705566, 0.09294434],\n",
       "       [0.89857752, 0.10142248],\n",
       "       ...,\n",
       "       [0.86690204, 0.13309796],\n",
       "       [0.90203603, 0.09796397],\n",
       "       [0.91643585, 0.08356415]])"
      ]
     },
     "execution_count": 67,
     "metadata": {},
     "output_type": "execute_result"
    }
   ],
   "source": [
    "#3-(c) for predict_proba()\n",
    "prob2 = best_clf.predict_proba(X_test) \n",
    "prob2"
   ]
  },
  {
   "cell_type": "code",
   "execution_count": 68,
   "metadata": {},
   "outputs": [
    {
     "data": {
      "text/plain": [
       "array([[6718,  322],\n",
       "       [1344,  616]])"
      ]
     },
     "execution_count": 68,
     "metadata": {},
     "output_type": "execute_result"
    }
   ],
   "source": [
    "#3-(d)\n",
    "rnd_matrix_best = metrics.confusion_matrix(y_test, y_pred_best)\n",
    "rnd_matrix_best"
   ]
  },
  {
   "cell_type": "code",
   "execution_count": 69,
   "metadata": {},
   "outputs": [
    {
     "name": "stdout",
     "output_type": "stream",
     "text": [
      "                    precision    recall  f1-score   support\n",
      "\n",
      "Default Payment 1       0.83      0.95      0.89      7040\n",
      "Default Payment 2       0.66      0.31      0.43      1960\n",
      "\n",
      "         accuracy                           0.81      9000\n",
      "        macro avg       0.75      0.63      0.66      9000\n",
      "     weighted avg       0.79      0.81      0.79      9000\n",
      "\n"
     ]
    }
   ],
   "source": [
    "target_names = ['Default Payment 1', 'Default Payment 2']\n",
    "print(\"\", classification_report(y_test, y_pred_best, target_names=target_names))"
   ]
  },
  {
   "cell_type": "code",
   "execution_count": 70,
   "metadata": {},
   "outputs": [
    {
     "name": "stdout",
     "output_type": "stream",
     "text": [
      "0.7694212010088126\n"
     ]
    }
   ],
   "source": [
    "#3-(e)\n",
    "rnd_probs_best = best_clf.predict_proba(X_test)[:,1]\n",
    "print(roc_auc_score(y_test, rnd_probs_best))"
   ]
  },
  {
   "cell_type": "code",
   "execution_count": null,
   "metadata": {},
   "outputs": [],
   "source": []
  },
  {
   "cell_type": "markdown",
   "metadata": {},
   "source": [
    "## 3-(f) For training set:"
   ]
  },
  {
   "cell_type": "code",
   "execution_count": 71,
   "metadata": {},
   "outputs": [
    {
     "data": {
      "text/plain": [
       "array([0, 0, 1, ..., 0, 0, 0])"
      ]
     },
     "execution_count": 71,
     "metadata": {},
     "output_type": "execute_result"
    }
   ],
   "source": [
    "y_pred_best_train = best_clf.predict(X_train)\n",
    "y_pred_best_train"
   ]
  },
  {
   "cell_type": "code",
   "execution_count": 72,
   "metadata": {},
   "outputs": [
    {
     "data": {
      "text/plain": [
       "array([[0.69650515, 0.30349485],\n",
       "       [0.9053    , 0.0947    ],\n",
       "       [0.41140012, 0.58859988],\n",
       "       ...,\n",
       "       [0.70860525, 0.29139475],\n",
       "       [0.70819115, 0.29180885],\n",
       "       [0.78885772, 0.21114228]])"
      ]
     },
     "execution_count": 72,
     "metadata": {},
     "output_type": "execute_result"
    }
   ],
   "source": [
    "prob_best_train = best_clf.predict_proba(X_train) \n",
    "prob_best_train"
   ]
  },
  {
   "cell_type": "code",
   "execution_count": 73,
   "metadata": {},
   "outputs": [
    {
     "data": {
      "text/plain": [
       "array([[15943,   381],\n",
       "       [ 2721,  1955]])"
      ]
     },
     "execution_count": 73,
     "metadata": {},
     "output_type": "execute_result"
    }
   ],
   "source": [
    "rnd_matrix_best_train = metrics.confusion_matrix(y_train, y_pred_best_train)\n",
    "rnd_matrix_best_train"
   ]
  },
  {
   "cell_type": "code",
   "execution_count": 74,
   "metadata": {},
   "outputs": [
    {
     "name": "stdout",
     "output_type": "stream",
     "text": [
      "                    precision    recall  f1-score   support\n",
      "\n",
      "Default Payment 1       0.85      0.98      0.91     16324\n",
      "Default Payment 2       0.84      0.42      0.56      4676\n",
      "\n",
      "         accuracy                           0.85     21000\n",
      "        macro avg       0.85      0.70      0.73     21000\n",
      "     weighted avg       0.85      0.85      0.83     21000\n",
      "\n"
     ]
    }
   ],
   "source": [
    "target_names = ['Default Payment 1', 'Default Payment 2']\n",
    "print(\"\", classification_report(y_train, y_pred_best_train, target_names=target_names))"
   ]
  },
  {
   "cell_type": "code",
   "execution_count": 75,
   "metadata": {},
   "outputs": [
    {
     "name": "stdout",
     "output_type": "stream",
     "text": [
      "0.8545774258183672\n"
     ]
    }
   ],
   "source": [
    "rnd_probs_best_train = best_clf.predict_proba(X_train)[:,1]\n",
    "print(roc_auc_score(y_train, rnd_probs_best_train))"
   ]
  },
  {
   "cell_type": "markdown",
   "metadata": {},
   "source": [
    "3-(f)     \n",
    "    The testing set accuracy score is 76.94%, and the training set accuracy score is 85.46%. The training set RMSE is smaller than the testing set RMSE. This model is still overfitting, but this model from question 3 is much better than the previous model from question 2. The RMSE difference between training and testing sets is getting smaller."
   ]
  },
  {
   "cell_type": "code",
   "execution_count": null,
   "metadata": {},
   "outputs": [],
   "source": []
  },
  {
   "cell_type": "markdown",
   "metadata": {},
   "source": [
    "# 4. Create a feature importance plot for your best performing model."
   ]
  },
  {
   "cell_type": "code",
   "execution_count": 76,
   "metadata": {},
   "outputs": [],
   "source": [
    "#!pip install xgboost"
   ]
  },
  {
   "cell_type": "code",
   "execution_count": 77,
   "metadata": {},
   "outputs": [],
   "source": [
    "from xgboost import plot_importance\n",
    "from matplotlib import pyplot"
   ]
  },
  {
   "cell_type": "code",
   "execution_count": 78,
   "metadata": {},
   "outputs": [
    {
     "name": "stdout",
     "output_type": "stream",
     "text": [
      "[0.00568214 0.01151864 0.00719227 0.02768741 0.22185061 0.10943561\n",
      " 0.0779052  0.05858338 0.05286063 0.04365488 0.03589474 0.03440817\n",
      " 0.03234817 0.03247281 0.03121666 0.03133298 0.04763581 0.0382054\n",
      " 0.0364141  0.03324387 0.03045653]\n"
     ]
    }
   ],
   "source": [
    "print(best_clf.feature_importances_)"
   ]
  },
  {
   "cell_type": "code",
   "execution_count": 79,
   "metadata": {},
   "outputs": [
    {
     "data": {
      "image/png": "[encoded data removed]",
      "text/plain": [
       "<Figure size 432x288 with 1 Axes>"
      ]
     },
     "metadata": {
      "needs_background": "light"
     },
     "output_type": "display_data"
    }
   ],
   "source": [
    "pyplot.bar(range(len(best_clf.feature_importances_)), best_clf.feature_importances_)\n",
    "pyplot.show()"
   ]
  },
  {
   "cell_type": "code",
   "execution_count": 80,
   "metadata": {},
   "outputs": [
    {
     "data": {
      "image/png": "[encoded data removed]",
      "text/plain": [
       "<Figure size 432x288 with 1 Axes>"
      ]
     },
     "metadata": {
      "needs_background": "light"
     },
     "output_type": "display_data"
    }
   ],
   "source": [
    "feat_importances = pd.Series(best_clf.feature_importances_, index=X.columns)\n",
    "feat_importances.nlargest(15).plot(kind='barh')\n",
    "pyplot.show()"
   ]
  },
  {
   "cell_type": "markdown",
   "metadata": {},
   "source": [
    "4-(a) According to the feature importance plot, the top five features of this model are PAY_0, PAY_2, PAY_3, PAY_4, and PAY_5."
   ]
  },
  {
   "cell_type": "code",
   "execution_count": 81,
   "metadata": {},
   "outputs": [],
   "source": [
    "feature_names = list(X.columns.values)"
   ]
  },
  {
   "cell_type": "code",
   "execution_count": 82,
   "metadata": {},
   "outputs": [
    {
     "name": "stdout",
     "output_type": "stream",
     "text": [
      "SEX = 0.0056821361520653915\n",
      "EDUCATION = 0.01151864225514549\n",
      "MARRIAGE = 0.007192272649820701\n",
      "AGE = 0.0276874148952046\n",
      "PAY_0 = 0.22185060856486621\n",
      "PAY_2 = 0.10943561331288647\n",
      "PAY_3 = 0.0779052029646254\n",
      "PAY_4 = 0.05858338400037015\n",
      "PAY_5 = 0.052860629726516256\n",
      "PAY_6 = 0.043654884677863263\n",
      "BILL_AMT1 = 0.03589474087645829\n",
      "BILL_AMT2 = 0.034408166021321726\n",
      "BILL_AMT3 = 0.032348168330102844\n",
      "BILL_AMT4 = 0.03247280577030198\n",
      "BILL_AMT5 = 0.03121665607899434\n",
      "BILL_AMT6 = 0.03133297613418786\n",
      "PAY_AMT1 = 0.047635808787411985\n",
      "PAY_AMT2 = 0.03820540075468745\n",
      "PAY_AMT3 = 0.036414097418261224\n",
      "PAY_AMT4 = 0.03324386547433505\n",
      "PAY_AMT5 = 0.030456525154573474\n"
     ]
    }
   ],
   "source": [
    "for name, importance in zip(feature_names, best_clf.feature_importances_):\n",
    "    print(name, \"=\", importance)"
   ]
  },
  {
   "cell_type": "markdown",
   "metadata": {},
   "source": [
    "### Sort by values"
   ]
  },
  {
   "cell_type": "code",
   "execution_count": 83,
   "metadata": {},
   "outputs": [
    {
     "data": {
      "text/plain": [
       "['SEX', 0.0056821361520653915]"
      ]
     },
     "execution_count": 83,
     "metadata": {},
     "output_type": "execute_result"
    }
   ],
   "source": [
    "a=[list(x) for x in zip(feature_names, best_clf.feature_importances_)]\n",
    "a[0]"
   ]
  },
  {
   "cell_type": "code",
   "execution_count": 84,
   "metadata": {},
   "outputs": [],
   "source": [
    "a=dict(list(x) for x in zip(feature_names, best_clf.feature_importances_))"
   ]
  },
  {
   "cell_type": "code",
   "execution_count": 85,
   "metadata": {},
   "outputs": [
    {
     "data": {
      "text/plain": [
       "'SEX'"
      ]
     },
     "execution_count": 85,
     "metadata": {},
     "output_type": "execute_result"
    }
   ],
   "source": [
    "list(a.keys())[0]"
   ]
  },
  {
   "cell_type": "code",
   "execution_count": 86,
   "metadata": {},
   "outputs": [
    {
     "data": {
      "text/plain": [
       "{'SEX': 0.0056821361520653915,\n",
       " 'EDUCATION': 0.01151864225514549,\n",
       " 'MARRIAGE': 0.007192272649820701,\n",
       " 'AGE': 0.0276874148952046,\n",
       " 'PAY_0': 0.22185060856486621,\n",
       " 'PAY_2': 0.10943561331288647,\n",
       " 'PAY_3': 0.0779052029646254,\n",
       " 'PAY_4': 0.05858338400037015,\n",
       " 'PAY_5': 0.052860629726516256,\n",
       " 'PAY_6': 0.043654884677863263,\n",
       " 'BILL_AMT1': 0.03589474087645829,\n",
       " 'BILL_AMT2': 0.034408166021321726,\n",
       " 'BILL_AMT3': 0.032348168330102844,\n",
       " 'BILL_AMT4': 0.03247280577030198,\n",
       " 'BILL_AMT5': 0.03121665607899434,\n",
       " 'BILL_AMT6': 0.03133297613418786,\n",
       " 'PAY_AMT1': 0.047635808787411985,\n",
       " 'PAY_AMT2': 0.03820540075468745,\n",
       " 'PAY_AMT3': 0.036414097418261224,\n",
       " 'PAY_AMT4': 0.03324386547433505,\n",
       " 'PAY_AMT5': 0.030456525154573474}"
      ]
     },
     "execution_count": 86,
     "metadata": {},
     "output_type": "execute_result"
    }
   ],
   "source": [
    "a"
   ]
  },
  {
   "cell_type": "code",
   "execution_count": 87,
   "metadata": {},
   "outputs": [],
   "source": [
    "from collections import OrderedDict\n",
    "from operator import itemgetter\n",
    "b = OrderedDict(sorted(a.items(), key=itemgetter(1)))"
   ]
  },
  {
   "cell_type": "code",
   "execution_count": 88,
   "metadata": {},
   "outputs": [
    {
     "data": {
      "text/plain": [
       "OrderedDict([('SEX', 0.0056821361520653915),\n",
       "             ('MARRIAGE', 0.007192272649820701),\n",
       "             ('EDUCATION', 0.01151864225514549),\n",
       "             ('AGE', 0.0276874148952046),\n",
       "             ('PAY_AMT5', 0.030456525154573474),\n",
       "             ('BILL_AMT5', 0.03121665607899434),\n",
       "             ('BILL_AMT6', 0.03133297613418786),\n",
       "             ('BILL_AMT3', 0.032348168330102844),\n",
       "             ('BILL_AMT4', 0.03247280577030198),\n",
       "             ('PAY_AMT4', 0.03324386547433505),\n",
       "             ('BILL_AMT2', 0.034408166021321726),\n",
       "             ('BILL_AMT1', 0.03589474087645829),\n",
       "             ('PAY_AMT3', 0.036414097418261224),\n",
       "             ('PAY_AMT2', 0.03820540075468745),\n",
       "             ('PAY_6', 0.043654884677863263),\n",
       "             ('PAY_AMT1', 0.047635808787411985),\n",
       "             ('PAY_5', 0.052860629726516256),\n",
       "             ('PAY_4', 0.05858338400037015),\n",
       "             ('PAY_3', 0.0779052029646254),\n",
       "             ('PAY_2', 0.10943561331288647),\n",
       "             ('PAY_0', 0.22185060856486621)])"
      ]
     },
     "execution_count": 88,
     "metadata": {},
     "output_type": "execute_result"
    }
   ],
   "source": [
    "b"
   ]
  },
  {
   "cell_type": "markdown",
   "metadata": {},
   "source": [
    "4-(a) I test my previous results here. According to the sorted rank, the top five features of this model are PAY_0, PAY_2, PAY_3, PAY_4, and PAY_5 (From high to low, the largest number is at the bottom of the above list. The number means the feature importance)."
   ]
  },
  {
   "cell_type": "code",
   "execution_count": 89,
   "metadata": {},
   "outputs": [
    {
     "data": {
      "text/plain": [
       "array([0.00568214, 0.01151864, 0.00719227, 0.02768741, 0.22185061,\n",
       "       0.10943561, 0.0779052 , 0.05858338, 0.05286063, 0.04365488,\n",
       "       0.03589474, 0.03440817, 0.03234817, 0.03247281, 0.03121666,\n",
       "       0.03133298, 0.04763581, 0.0382054 , 0.0364141 , 0.03324387,\n",
       "       0.03045653])"
      ]
     },
     "execution_count": 89,
     "metadata": {},
     "output_type": "execute_result"
    }
   ],
   "source": [
    "best_clf.feature_importances_"
   ]
  },
  {
   "cell_type": "markdown",
   "metadata": {},
   "source": [
    "### Creating a plot"
   ]
  },
  {
   "cell_type": "code",
   "execution_count": 90,
   "metadata": {},
   "outputs": [],
   "source": [
    "# 4 Creating a plot\n",
    "import matplotlib.pyplot as plt\n",
    "import matplotlib"
   ]
  },
  {
   "cell_type": "code",
   "execution_count": 91,
   "metadata": {},
   "outputs": [],
   "source": [
    "from matplotlib.pyplot import imshow\n",
    "def plot_digit(data):\n",
    "    image = data.reshape(1, 21)\n",
    "    plt.imshow(image, cmap = matplotlib.cm.hot,\n",
    "               interpolation=\"nearest\")\n",
    "    plt.axis(\"off\")"
   ]
  },
  {
   "cell_type": "code",
   "execution_count": 92,
   "metadata": {},
   "outputs": [
    {
     "data": {
      "image/png": "[encoded data removed]",
      "text/plain": [
       "<Figure size 432x288 with 2 Axes>"
      ]
     },
     "metadata": {
      "needs_background": "light"
     },
     "output_type": "display_data"
    }
   ],
   "source": [
    "plot_digit(best_clf.feature_importances_)\n",
    "\n",
    "cbar = plt.colorbar(ticks=[best_clf.feature_importances_.min(), best_clf.feature_importances_.max()])\n",
    "cbar.ax.set_yticklabels(['Not important', 'Very important'])\n",
    "\n",
    "plt.show()"
   ]
  },
  {
   "cell_type": "code",
   "execution_count": null,
   "metadata": {},
   "outputs": [],
   "source": []
  },
  {
   "cell_type": "markdown",
   "metadata": {},
   "source": [
    "# 5. Conceptual Questions:"
   ]
  },
  {
   "cell_type": "markdown",
   "metadata": {},
   "source": [
    "a) What are the best parameters from the Grid Search in Question # 3? Does the Model from #3 outperform Model #2? Explain why.\n",
    "\n",
    "b) Overfitting is always a concern in ML problems. Does Model #3 overfit data more or less than Model #2? Explain why you think this is the case. \n",
    "\n",
    "c) The lecture notes describe the Gini Index which is the default criterion used for splitting in sklearn's version of RandomForestClassifier. How does the Gini Index work? (i.e. How is it used to build a top-performing model?). \n",
    "\n",
    "d) Describe how Random Forest is different from bagging & why this difference can yield improved results.\n",
    "\n",
    "e) Describe the importance of the max_depth parameter in Random Forest. Do not just provide a definition, rather think through how bias-variance tradeoff might be impacted by the max_depth parameter.\n",
    "\n",
    "f) In this homework we used k-fold cross-validation while determining the optimal hyperparameters for our Random Forest model. 1) Describe how k-fold cross-validation works. 2) What benefit do we gain by using k-fold cross-validation when tuning our Random Forest model versus only using the train-test split approach?"
   ]
  },
  {
   "cell_type": "markdown",
   "metadata": {},
   "source": [
    "a) The best model has following parameters: {'max_depth': 10, 'max_features': 2, 'n_estimators': 500, 'random_state': 42}.      \n",
    "By using rf_Grid.best_estimator_ to go over more details, the best model has parameters:     \n",
    "\n",
    "(bootstrap=True, class_weight=None, criterion='gini',      \n",
    "max_depth=10, max_features=2, max_leaf_nodes=None,      \n",
    "min_impurity_decrease=0.0, min_impurity_split=None,      \n",
    "min_samples_leaf=1, min_samples_split=2,           \n",
    "min_weight_fraction_leaf=0.0, n_estimators=500,        \n",
    "n_jobs=None, oob_score=False, random_state=42, verbose=0,       \n",
    "warm_start=False)        \n",
    "                       \n",
    "The model in question 3 is better than model 2. Without specifying parameters, the model only gave the default parameters. However, we utilize our models by finding the best parameters in our given range. With correct parameters, the training set RMSE is much closer to the testing set RMSE (14% and 23%) than the model from question 2 (0% for training and 30% for testing). This means the new model in question 3 is still overfitting but much better than model from Q2. The previous model in question 2 has a huge error difference between training and testing sets. The model in question 2 has almost no error for training set but nearly 30% errors for testing set. This model is very overfitting. The model in question 3 is much better than the model in question 2."
   ]
  },
  {
   "cell_type": "markdown",
   "metadata": {},
   "source": [
    "b) Overfitting happens when a model learns the detail and noise in the training data to the extent that it negatively impacts the performance of the model on new data. This means that the noise or random fluctuations in the training data is picked up and learned as concepts by the model. The problem is that these concepts do not apply to new data and negatively impact the models ability to generalize. Overfitting means high variance and low bias, and underfitting means high bias and low variance. Overfitting usually fit the training set so well that if data coming outside from testing set try to use this model, the accuracy will be very low. The overfitting waste abundant computation resources and honestly, not useful in real day work since it cannot tolerate new data coming in.    \n",
    "\n",
    "Like I mentioned in part(a), the new model from question 3 is much better than the previous model from question 2. The difference between the training set RMSE and the testing set RMSE is getting smaller in Q3. This means the model in Q3 is better than the model in Q2. However, there is a huge difference between the training set error and testing set error for the previous model in question 2. The training set accuracy is almost 100%, but the testing set accuracy is just a little bit above 70%. The model from Q2 is overfitting because this model doesn't work for testing set."
   ]
  },
  {
   "cell_type": "markdown",
   "metadata": {},
   "source": [
    "c) The Gini Index is calculated by subtracting the sum of the squared probabilities of each class from one. It favors larger partitions. Information gain multiplies the probability of the class times the log (base=2) of that class probability. Information gain favors smaller partitions with many distinct values. Gini index or Gini impurity measures the degree or probability of a particular variable being wrongly classified when it is randomly chosen. I also need to mention a little about Impurity. If all the elements belong to a single class, then it can be called pure. The degree of Gini index varies between 0 and 1, where 0 denotes that all elements belong to a certain class or if there exists only one class, and 1 denotes that the elements are randomly distributed across various classes. A Gini Index of 0.5 denotes equally distributed elements into some classes. Gini Index, unlike information gain, isn’t computationally intensive as it doesn’t involve the logarithm function used to calculate entropy in information gain, which is why Gini Index is preferred over Information gain."
   ]
  },
  {
   "cell_type": "markdown",
   "metadata": {},
   "source": [
    "d) By definition, in random forests, only a subset of features are selected at random out of the total and the best split feature from the subset is used to split each node in a tree, unlike in bagging where all features are considered for splitting a node. Bagging (or Bootstrap Aggregating), uses a different random subset of the original dataset for each model in the ensemble. Specifically, BigML uses by default a sampling rate of 100% with replacement for each model, this means that some of the original instances will be repeated and others left out. Random Decision Forests extend this technique by only considering a random subset of the input fields at each split. Generally, Random Decision Forests are the most powerful type of ensemble. For datasets with many noisy fields I may need to adjust a Random Decision Forest's \"random candidates\" parameter for good results. Bagging, however, does not have this parameter and may occasionally give better out-of-the-box performance. Ensemble learning always improves machine learning results. Random forests will split relatively random without giving stable performances. Sometimes the bagging is more stable compared with random forest. The two models work together can give a better, more reasonable, and more logical result."
   ]
  },
  {
   "cell_type": "markdown",
   "metadata": {},
   "source": [
    "e) Max_depth represents the depth of each tree in the forest. The deeper the tree, the more splits it has and it captures more information about the data. We fit each decision tree with depths ranging from 1 to 32 and plot the training and test errors.    \n",
    "\n",
    "As large the max_depth value goes, the trees perfectly predicts all of the train data. However, it fails to generalize the findings for new data. In this case, the large max_depth value could fits the training set well, but it will cause OVERFITTING. The max_depth will not work well on new coming data from testing sets. As variance goes higher, the bias will always be lower. This is the trade-off. If I fit the training set too accurate, the tolerance performance for new data will always decrease."
   ]
  },
  {
   "cell_type": "markdown",
   "metadata": {},
   "source": [
    "f)          \n",
    "1) K-Fold CV is where a given data set is split into a K number of sections/folds where each fold is used as a testing set at some point. For example, if I have 5-Fold cross validation(K=5), the data set is split into 5 folds. In the first iteration, the first fold is used to test the model and the rest are used to train the model. In the second iteration, 2nd fold is used as the testing set while the rest serve as the training set. This process is repeated until each fold of the 5 folds have been used as the testing set.      \n",
    "\n",
    "2) 𝑘-fold cross validation can help me to measure the stability of the predictions for the same test case with respect to slight changes in the training data. Aggregation helps to improve this stability. If I set k=10, I split the data into 10 partitions, and run the classifier for 10 times. In each time, I choose different partition as validation set and training set. In the first time, I choose partition 1 as validation set, the remaining are training set. In the second time, I choose partition 2 as validation set, and so on. After running 10 times, I average their results. Since random forest always split randomly and the prediction result can vary hugely. The k-fold cross validation averaging the results can always give me a more stable performance for my model. The core benefit is improving the stablility by aggregating the k-fold CV and Random Forest."
   ]
  },
  {
   "cell_type": "code",
   "execution_count": null,
   "metadata": {},
   "outputs": [],
   "source": []
  },
  {
   "cell_type": "markdown",
   "metadata": {},
   "source": [
    "--------------------------------------------------------------------------------------------------------"
   ]
  },
  {
   "cell_type": "code",
   "execution_count": null,
   "metadata": {},
   "outputs": [],
   "source": []
  },
  {
   "cell_type": "code",
   "execution_count": null,
   "metadata": {},
   "outputs": [],
   "source": []
  }
 ],
 "metadata": {
  "kernelspec": {
   "display_name": "Python 3",
   "language": "python",
   "name": "python3"
  },
  "language_info": {
   "codemirror_mode": {
    "name": "ipython",
    "version": 3
   },
   "file_extension": ".py",
   "mimetype": "text/x-python",
   "name": "python",
   "nbconvert_exporter": "python",
   "pygments_lexer": "ipython3",
   "version": "3.7.4"
  }
 },
 "nbformat": 4,
 "nbformat_minor": 2
}
