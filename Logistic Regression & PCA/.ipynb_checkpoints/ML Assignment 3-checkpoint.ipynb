{
 "cells": [
  {
   "cell_type": "markdown",
   "metadata": {},
   "source": [
    "# Machine Learning and Predictive Analytics\n",
    "# Assignment 3"
   ]
  },
  {
   "cell_type": "markdown",
   "metadata": {},
   "source": [
    "Name: Troy Zhongyi Zhang      \n",
    "Netid: zhongyiz@uchicago.edu   "
   ]
  },
  {
   "cell_type": "markdown",
   "metadata": {},
   "source": [
    "# Part 1 - Data Processing"
   ]
  },
  {
   "cell_type": "code",
   "execution_count": 1,
   "metadata": {},
   "outputs": [],
   "source": [
    "import pandas as pd\n",
    "import numpy as np\n",
    "import matplotlib.pyplot as plot"
   ]
  },
  {
   "cell_type": "code",
   "execution_count": 2,
   "metadata": {},
   "outputs": [],
   "source": [
    "df = pd.read_csv('ProviderInfo.csv')"
   ]
  },
  {
   "cell_type": "code",
   "execution_count": 3,
   "metadata": {},
   "outputs": [],
   "source": [
    "df = df._get_numeric_data()"
   ]
  },
  {
   "cell_type": "code",
   "execution_count": 4,
   "metadata": {},
   "outputs": [],
   "source": [
    "df = df.drop(['PHONE','COUNTY_SSA'],axis=1)"
   ]
  },
  {
   "cell_type": "code",
   "execution_count": 5,
   "metadata": {},
   "outputs": [
    {
     "data": {
      "text/plain": [
       "(15617, 28)"
      ]
     },
     "execution_count": 5,
     "metadata": {},
     "output_type": "execute_result"
    }
   ],
   "source": [
    "# 1 - a.\n",
    "df.shape"
   ]
  },
  {
   "cell_type": "code",
   "execution_count": 6,
   "metadata": {
    "scrolled": true
   },
   "outputs": [],
   "source": [
    "df = df.replace(['NaT'], np.nan)"
   ]
  },
  {
   "cell_type": "code",
   "execution_count": 7,
   "metadata": {},
   "outputs": [],
   "source": [
    "df = df.dropna()"
   ]
  },
  {
   "cell_type": "code",
   "execution_count": 8,
   "metadata": {},
   "outputs": [
    {
     "data": {
      "text/plain": [
       "(14557, 28)"
      ]
     },
     "execution_count": 8,
     "metadata": {},
     "output_type": "execute_result"
    }
   ],
   "source": [
    "#1 - b.\n",
    "df.shape"
   ]
  },
  {
   "cell_type": "code",
   "execution_count": 9,
   "metadata": {},
   "outputs": [],
   "source": [
    "#df"
   ]
  },
  {
   "cell_type": "code",
   "execution_count": 10,
   "metadata": {},
   "outputs": [],
   "source": [
    "from sklearn.metrics import classification_report\n",
    "from sklearn.model_selection import cross_val_score\n",
    "import sklearn.model_selection as cv\n",
    "from sklearn.model_selection import train_test_split\n",
    "# 1 - c.\n",
    "y = df.iloc[:,3]\n",
    "X = df.loc[:, list(df.columns[0:3]) + list(df.columns[4:])]\n",
    "\n",
    "(X_train, X_test, y_train, y_test) = train_test_split(X, y, test_size=.20, random_state=42)"
   ]
  },
  {
   "cell_type": "code",
   "execution_count": 11,
   "metadata": {},
   "outputs": [],
   "source": [
    "# 1 - d.\n",
    "from sklearn.preprocessing import StandardScaler\n",
    "scaler = StandardScaler()\n",
    "scaler.fit(X_train)\n",
    "scaler.fit(X_test)\n",
    "X_train_scaled = scaler.transform(X_train)\n",
    "X_test_scaled = scaler.transform(X_test)"
   ]
  },
  {
   "cell_type": "code",
   "execution_count": 12,
   "metadata": {},
   "outputs": [],
   "source": [
    "X_train_scaled = pd.DataFrame(X_train_scaled)\n",
    "X_test_scaled = pd.DataFrame(X_test_scaled)\n",
    "y_train = pd.DataFrame(y_train)\n",
    "y_test = pd.DataFrame(y_test)"
   ]
  },
  {
   "cell_type": "code",
   "execution_count": 13,
   "metadata": {},
   "outputs": [
    {
     "data": {
      "text/plain": [
       "(11645, 27)"
      ]
     },
     "execution_count": 13,
     "metadata": {},
     "output_type": "execute_result"
    }
   ],
   "source": [
    "X_train_scaled.shape"
   ]
  },
  {
   "cell_type": "code",
   "execution_count": 14,
   "metadata": {},
   "outputs": [
    {
     "data": {
      "text/plain": [
       "(2912, 27)"
      ]
     },
     "execution_count": 14,
     "metadata": {},
     "output_type": "execute_result"
    }
   ],
   "source": [
    "X_test_scaled.shape"
   ]
  },
  {
   "cell_type": "code",
   "execution_count": 15,
   "metadata": {},
   "outputs": [
    {
     "data": {
      "text/plain": [
       "(11645, 1)"
      ]
     },
     "execution_count": 15,
     "metadata": {},
     "output_type": "execute_result"
    }
   ],
   "source": [
    "y_train.shape"
   ]
  },
  {
   "cell_type": "code",
   "execution_count": 16,
   "metadata": {},
   "outputs": [
    {
     "data": {
      "text/plain": [
       "(2912, 1)"
      ]
     },
     "execution_count": 16,
     "metadata": {},
     "output_type": "execute_result"
    }
   ],
   "source": [
    "y_test.shape"
   ]
  },
  {
   "cell_type": "markdown",
   "metadata": {},
   "source": [
    "# Part 2 - Logistic Regression"
   ]
  },
  {
   "cell_type": "code",
   "execution_count": 17,
   "metadata": {},
   "outputs": [
    {
     "name": "stderr",
     "output_type": "stream",
     "text": [
      "/Users/zhongyizhang/env/lib/python3.7/site-packages/sklearn/utils/validation.py:724: DataConversionWarning: A column-vector y was passed when a 1d array was expected. Please change the shape of y to (n_samples, ), for example using ravel().\n",
      "  y = column_or_1d(y, warn=True)\n",
      "/Users/zhongyizhang/env/lib/python3.7/site-packages/sklearn/linear_model/logistic.py:469: FutureWarning: Default multi_class will be changed to 'auto' in 0.22. Specify the multi_class option to silence this warning.\n",
      "  \"this warning.\", FutureWarning)\n",
      "/Users/zhongyizhang/env/lib/python3.7/site-packages/sklearn/linear_model/logistic.py:947: ConvergenceWarning: lbfgs failed to converge. Increase the number of iterations.\n",
      "  \"of iterations.\", ConvergenceWarning)\n",
      "/Users/zhongyizhang/env/lib/python3.7/site-packages/sklearn/linear_model/logistic.py:947: ConvergenceWarning: lbfgs failed to converge. Increase the number of iterations.\n",
      "  \"of iterations.\", ConvergenceWarning)\n"
     ]
    },
    {
     "data": {
      "text/plain": [
       "array([5., 4., 4., ..., 3., 4., 5.])"
      ]
     },
     "execution_count": 17,
     "metadata": {},
     "output_type": "execute_result"
    }
   ],
   "source": [
    "from sklearn.linear_model import LogisticRegression\n",
    "\n",
    "clf = LogisticRegression(random_state=0, solver='lbfgs').fit(X_train_scaled, y_train)\n",
    "log_y_pred = clf.predict(X_test_scaled)\n",
    "log_y_pred"
   ]
  },
  {
   "cell_type": "code",
   "execution_count": 18,
   "metadata": {},
   "outputs": [
    {
     "data": {
      "text/plain": [
       "array([[3.39345625e-07, 6.52421115e-02, 1.06378048e-01, 2.38235431e-01,\n",
       "        5.90144069e-01],\n",
       "       [9.27532789e-03, 4.08359774e-02, 4.36890747e-01, 5.12997602e-01,\n",
       "        3.45554729e-07],\n",
       "       [1.31932902e-02, 4.92778313e-02, 4.58601777e-01, 4.78926231e-01,\n",
       "        8.70240514e-07],\n",
       "       ...,\n",
       "       [2.25577356e-01, 8.88049794e-02, 3.72986528e-01, 3.12631134e-01,\n",
       "        2.53210869e-09],\n",
       "       [1.17742501e-03, 2.24640816e-01, 3.47969652e-01, 4.26029943e-01,\n",
       "        1.82163298e-04],\n",
       "       [5.23177208e-07, 5.52820267e-02, 1.31582856e-01, 2.25585337e-01,\n",
       "        5.87549257e-01]])"
      ]
     },
     "execution_count": 18,
     "metadata": {},
     "output_type": "execute_result"
    }
   ],
   "source": [
    "prob = clf.predict_proba(X_test_scaled) \n",
    "prob"
   ]
  },
  {
   "cell_type": "code",
   "execution_count": 19,
   "metadata": {},
   "outputs": [
    {
     "name": "stdout",
     "output_type": "stream",
     "text": [
      "Logistic regression training set accuracy score: 70.62 %\n",
      "Logistic regression testing set accuracy score: 68.72 %\n"
     ]
    }
   ],
   "source": [
    "acc_log = round(clf.score(X_train_scaled, y_train) * 100, 2)\n",
    "acc_log_test = round(clf.score(X_test_scaled, y_test) * 100, 2)\n",
    "print('Logistic regression training set accuracy score:',acc_log,'%')\n",
    "print('Logistic regression testing set accuracy score:',acc_log_test,'%')"
   ]
  },
  {
   "cell_type": "code",
   "execution_count": 20,
   "metadata": {},
   "outputs": [
    {
     "data": {
      "text/plain": [
       "array([[244,  64,   0,   0,   0],\n",
       "       [ 61, 411,  93,  11,   0],\n",
       "       [  0, 203,  58, 237,   0],\n",
       "       [  0,  87,  22, 486,  99],\n",
       "       [  0,   0,   0,  34, 802]])"
      ]
     },
     "execution_count": 20,
     "metadata": {},
     "output_type": "execute_result"
    }
   ],
   "source": [
    "from sklearn import metrics\n",
    "cnf_matrix = metrics.confusion_matrix(y_test, log_y_pred)\n",
    "cnf_matrix"
   ]
  },
  {
   "cell_type": "code",
   "execution_count": 21,
   "metadata": {},
   "outputs": [
    {
     "name": "stdout",
     "output_type": "stream",
     "text": [
      "                   precision    recall  f1-score   support\n",
      "\n",
      "OVERALL_RATING 1       0.80      0.79      0.80       308\n",
      "OVERALL_RATING 2       0.54      0.71      0.61       576\n",
      "OVERALL_RATING 3       0.34      0.12      0.17       498\n",
      "OVERALL_RATING 4       0.63      0.70      0.66       694\n",
      "OVERALL_RATING 5       0.89      0.96      0.92       836\n",
      "\n",
      "        accuracy                           0.69      2912\n",
      "       macro avg       0.64      0.66      0.63      2912\n",
      "    weighted avg       0.65      0.69      0.66      2912\n",
      "\n"
     ]
    }
   ],
   "source": [
    "from sklearn.metrics import classification_report\n",
    "target_names = ['OVERALL_RATING 1', 'OVERALL_RATING 2', 'OVERALL_RATING 3', 'OVERALL_RATING 4', 'OVERALL_RATING 5']\n",
    "print(\"\", classification_report(y_test, log_y_pred, target_names=target_names))"
   ]
  },
  {
   "cell_type": "markdown",
   "metadata": {},
   "source": [
    "2 - (d). Based on the confusion matrix and classification report, I found that the prediction for overall_rating score 3.0 class is very poor. The rating 3's accuracy scores are much lower than other overall_rating scores' predictions accuracies. According to the confusion matrix, there are not a lot of actual score 3s in the dataset, but the logistic regression model predicted them as 2 points or 4 points as the result. I will make an academic guess for the reason. I believe the 3 is the middle score in the range of score 1 through 5. It could be unlikely for a classification model to give prediction rating results just under the middle score \"3 points\" when the model felt vague in predictions. If the features show that the result prediction may tend to be a little bit lower than 3, the model will very likely to classify as 2 points. Conversely, if the features show that the result prediction may tend to be a little bit over 3 points, the model will likely to classify them as 4 points. There are many mistakes produced through here."
   ]
  },
  {
   "cell_type": "markdown",
   "metadata": {},
   "source": [
    "## For training set:"
   ]
  },
  {
   "cell_type": "code",
   "execution_count": 22,
   "metadata": {},
   "outputs": [
    {
     "data": {
      "text/plain": [
       "array([4., 5., 4., ..., 2., 5., 3.])"
      ]
     },
     "execution_count": 22,
     "metadata": {},
     "output_type": "execute_result"
    }
   ],
   "source": [
    "log_y_pred_t = clf.predict(X_train_scaled)\n",
    "log_y_pred_t"
   ]
  },
  {
   "cell_type": "code",
   "execution_count": 23,
   "metadata": {},
   "outputs": [
    {
     "data": {
      "text/plain": [
       "array([[5.46665814e-03, 3.28179534e-01, 3.19369312e-01, 3.46980985e-01,\n",
       "        3.51051508e-06],\n",
       "       [1.29086540e-07, 1.34224143e-02, 1.02080810e-01, 2.08365372e-01,\n",
       "        6.76131274e-01],\n",
       "       [1.14947713e-04, 1.49932220e-01, 3.81279516e-01, 4.62773682e-01,\n",
       "        5.89963433e-03],\n",
       "       ...,\n",
       "       [3.72620454e-01, 3.90956027e-01, 1.55836941e-01, 8.05865773e-02,\n",
       "        1.25353084e-09],\n",
       "       [4.69509179e-09, 1.09236108e-02, 4.25712536e-02, 2.04567706e-01,\n",
       "        7.41937424e-01],\n",
       "       [1.83825077e-01, 2.27641943e-01, 3.25533126e-01, 2.62999850e-01,\n",
       "        4.01350426e-09]])"
      ]
     },
     "execution_count": 23,
     "metadata": {},
     "output_type": "execute_result"
    }
   ],
   "source": [
    "prob_t = clf.predict_proba(X_train_scaled) \n",
    "prob_t"
   ]
  },
  {
   "cell_type": "code",
   "execution_count": 24,
   "metadata": {},
   "outputs": [
    {
     "name": "stdout",
     "output_type": "stream",
     "text": [
      "Logistic regression training set accuracy score: 70.62 %\n"
     ]
    }
   ],
   "source": [
    "acc_log = round(clf.score(X_train_scaled, y_train) * 100, 2)\n",
    "print('Logistic regression training set accuracy score:',acc_log,'%')"
   ]
  },
  {
   "cell_type": "markdown",
   "metadata": {},
   "source": [
    "2 - e. \"Training error is small and test error is big\" is an indication of overfitting. The training set accuracy score is 70.62 % and the testing set accuracy score is 68.72 %. It means that the testing RMSE is bigger than the Training RMSE. However, the RMSE values for training set and testing set are almost similar. It indicates that this logistic regression model is a little bit over-fitting or fits just well."
   ]
  },
  {
   "cell_type": "code",
   "execution_count": 25,
   "metadata": {},
   "outputs": [
    {
     "data": {
      "text/plain": [
       "array([[1102,  287,    2,    0,    0],\n",
       "       [ 262, 1666,  343,   51,    0],\n",
       "       [   0,  737,  328,  830,    0],\n",
       "       [   0,  372,   43, 1798,  411],\n",
       "       [   0,    0,    0,   83, 3330]])"
      ]
     },
     "execution_count": 25,
     "metadata": {},
     "output_type": "execute_result"
    }
   ],
   "source": [
    "cnf_matrix_t = metrics.confusion_matrix(y_train, log_y_pred_t)\n",
    "cnf_matrix_t"
   ]
  },
  {
   "cell_type": "code",
   "execution_count": 26,
   "metadata": {},
   "outputs": [
    {
     "name": "stdout",
     "output_type": "stream",
     "text": [
      "                   precision    recall  f1-score   support\n",
      "\n",
      "OVERALL_RATING 1       0.81      0.79      0.80      1391\n",
      "OVERALL_RATING 2       0.54      0.72      0.62      2322\n",
      "OVERALL_RATING 3       0.46      0.17      0.25      1895\n",
      "OVERALL_RATING 4       0.65      0.69      0.67      2624\n",
      "OVERALL_RATING 5       0.89      0.98      0.93      3413\n",
      "\n",
      "        accuracy                           0.71     11645\n",
      "       macro avg       0.67      0.67      0.65     11645\n",
      "    weighted avg       0.69      0.71      0.68     11645\n",
      "\n"
     ]
    }
   ],
   "source": [
    "target_names = ['OVERALL_RATING 1', 'OVERALL_RATING 2', 'OVERALL_RATING 3', 'OVERALL_RATING 4', 'OVERALL_RATING 5']\n",
    "print(\"\", classification_report(y_train, log_y_pred_t, target_names=target_names))"
   ]
  },
  {
   "cell_type": "code",
   "execution_count": null,
   "metadata": {},
   "outputs": [],
   "source": []
  },
  {
   "cell_type": "code",
   "execution_count": 27,
   "metadata": {},
   "outputs": [
    {
     "data": {
      "text/plain": [
       "array([[5.46665814e-03, 3.28179534e-01, 3.19369312e-01, 3.46980985e-01,\n",
       "        3.51051508e-06],\n",
       "       [1.29086540e-07, 1.34224143e-02, 1.02080810e-01, 2.08365372e-01,\n",
       "        6.76131274e-01],\n",
       "       [1.14947713e-04, 1.49932220e-01, 3.81279516e-01, 4.62773682e-01,\n",
       "        5.89963433e-03],\n",
       "       ...,\n",
       "       [3.72620454e-01, 3.90956027e-01, 1.55836941e-01, 8.05865773e-02,\n",
       "        1.25353084e-09],\n",
       "       [4.69509179e-09, 1.09236108e-02, 4.25712536e-02, 2.04567706e-01,\n",
       "        7.41937424e-01],\n",
       "       [1.83825077e-01, 2.27641943e-01, 3.25533126e-01, 2.62999850e-01,\n",
       "        4.01350426e-09]])"
      ]
     },
     "execution_count": 27,
     "metadata": {},
     "output_type": "execute_result"
    }
   ],
   "source": [
    "#Predict_proba for training set\n",
    "log_pred_prob = clf.predict_proba(X_train_scaled)\n",
    "log_pred_prob"
   ]
  },
  {
   "cell_type": "code",
   "execution_count": 28,
   "metadata": {},
   "outputs": [
    {
     "data": {
      "text/plain": [
       "array([[3.39345625e-07, 6.52421115e-02, 1.06378048e-01, 2.38235431e-01,\n",
       "        5.90144069e-01],\n",
       "       [9.27532789e-03, 4.08359774e-02, 4.36890747e-01, 5.12997602e-01,\n",
       "        3.45554729e-07],\n",
       "       [1.31932902e-02, 4.92778313e-02, 4.58601777e-01, 4.78926231e-01,\n",
       "        8.70240514e-07],\n",
       "       ...,\n",
       "       [2.25577356e-01, 8.88049794e-02, 3.72986528e-01, 3.12631134e-01,\n",
       "        2.53210869e-09],\n",
       "       [1.17742501e-03, 2.24640816e-01, 3.47969652e-01, 4.26029943e-01,\n",
       "        1.82163298e-04],\n",
       "       [5.23177208e-07, 5.52820267e-02, 1.31582856e-01, 2.25585337e-01,\n",
       "        5.87549257e-01]])"
      ]
     },
     "execution_count": 28,
     "metadata": {},
     "output_type": "execute_result"
    }
   ],
   "source": [
    "# Predict_proba for testing set\n",
    "log_pred_prob = clf.predict_proba(X_test_scaled)\n",
    "log_pred_prob"
   ]
  },
  {
   "cell_type": "code",
   "execution_count": null,
   "metadata": {},
   "outputs": [],
   "source": []
  },
  {
   "cell_type": "markdown",
   "metadata": {},
   "source": [
    "# Part 3 - PCA(n_components = 2) + Logistic Regression"
   ]
  },
  {
   "cell_type": "code",
   "execution_count": 29,
   "metadata": {},
   "outputs": [],
   "source": [
    "#import numpy as np\n",
    "#from sklearn.decomposition import PCA\n",
    "#pca = PCA(n_components=2)\n",
    "#X_2 = pca.fit(X_train_scaled)  \n",
    "#X_2_t = pca.fit(X_test_scaled)\n",
    "#print(X_2.explained_variance_ratio_) \n",
    "#print(X_2_t.explained_variance_ratio_) "
   ]
  },
  {
   "cell_type": "code",
   "execution_count": 30,
   "metadata": {},
   "outputs": [],
   "source": [
    "#X_2=X_2.transform(X_train_scaled)\n",
    "#X_2_t = X_2_t.transform(X_test_scaled)"
   ]
  },
  {
   "cell_type": "code",
   "execution_count": 31,
   "metadata": {},
   "outputs": [],
   "source": [
    "#X_2_t.shape"
   ]
  },
  {
   "cell_type": "code",
   "execution_count": 32,
   "metadata": {},
   "outputs": [],
   "source": [
    "#clfff = LogisticRegression(random_state=0,solver='lbfgs').fit(X_2, y_train)\n",
    "#y_pred_pcaaa = clfff.predict(X_2_t)\n",
    "#y_pred_pcaaa"
   ]
  },
  {
   "cell_type": "code",
   "execution_count": 33,
   "metadata": {},
   "outputs": [],
   "source": [
    "#cnf_pcaaa = metrics.confusion_matrix(y_test, y_pred_pcaaa)\n",
    "#cnf_pcaaa"
   ]
  },
  {
   "cell_type": "code",
   "execution_count": 34,
   "metadata": {},
   "outputs": [
    {
     "name": "stdout",
     "output_type": "stream",
     "text": [
      "[0.21505181 0.14512196]\n",
      "[0.23332873 0.15266908]\n"
     ]
    }
   ],
   "source": [
    "from sklearn.decomposition import PCA\n",
    "def fit_pca(df, n_components):\n",
    "    pca = PCA(n_components)\n",
    "    pca.fit(df)   \n",
    "    return pca\n",
    "pca_train = fit_pca(X_train_scaled, n_components=2)\n",
    "print(pca_train.explained_variance_ratio_) \n",
    "pca_test = fit_pca(X_test_scaled, n_components=2)\n",
    "print(pca_test.explained_variance_ratio_) "
   ]
  },
  {
   "cell_type": "code",
   "execution_count": 35,
   "metadata": {},
   "outputs": [
    {
     "name": "stdout",
     "output_type": "stream",
     "text": [
      "Variance:  Projected dimension\n",
      "------------------------------\n",
      "21.5%:    -0.02 * f1 + -0.14 * f2 + -0.12 * f3 +  0.16 * f4 +  0.05 * f5 +  0.28 * f6 +  0.24 * f7 +  0.26 * f8 +  0.07 * f9 +  0.30 * f10\n",
      "14.5%:    -0.06 * f1 +  0.08 * f2 +  0.09 * f3 +  0.03 * f4 +  0.04 * f5 + -0.22 * f6 + -0.17 * f7 + -0.16 * f8 +  0.22 * f9 +  0.01 * f10\n"
     ]
    }
   ],
   "source": [
    "vars = pca_train.explained_variance_ratio_\n",
    "c_names = ['f1','f2','f3','f4','f5','f6','f7','f8','f9','f10']\n",
    "\n",
    "print('Variance:  Projected dimension')\n",
    "print('------------------------------')\n",
    "for idx, row in enumerate(pca_train.components_):\n",
    "    output = '{0:4.1f}%:    '.format(100.0 * vars[idx])\n",
    "    output += \" + \".join(\"{0:5.2f} * {1:s}\".format(val, name) for val, name in zip(row, c_names))\n",
    "    print(output)"
   ]
  },
  {
   "cell_type": "code",
   "execution_count": 36,
   "metadata": {},
   "outputs": [
    {
     "name": "stdout",
     "output_type": "stream",
     "text": [
      "Variance:  Projected dimension\n",
      "------------------------------\n",
      "23.3%:    -0.00 * f1 + -0.13 * f2 + -0.11 * f3 +  0.14 * f4 +  0.03 * f5 +  0.30 * f6 +  0.25 * f7 +  0.29 * f8 +  0.00 * f9 +  0.33 * f10\n",
      "15.3%:    -0.06 * f1 +  0.07 * f2 +  0.07 * f3 +  0.00 * f4 +  0.05 * f5 + -0.15 * f6 + -0.12 * f7 + -0.10 * f8 +  0.23 * f9 +  0.07 * f10\n"
     ]
    }
   ],
   "source": [
    "vars = pca_test.explained_variance_ratio_\n",
    "c_names = ['f1','f2','f3','f4','f5','f6','f7','f8','f9','f10']\n",
    "\n",
    "print('Variance:  Projected dimension')\n",
    "print('------------------------------')\n",
    "for idx, row in enumerate(pca_test.components_):\n",
    "    output = '{0:4.1f}%:    '.format(100.0 * vars[idx])\n",
    "    output += \" + \".join(\"{0:5.2f} * {1:s}\".format(val, name) for val, name in zip(row, c_names))\n",
    "    print(output)"
   ]
  },
  {
   "cell_type": "code",
   "execution_count": 37,
   "metadata": {},
   "outputs": [],
   "source": [
    "X_train_pca_2 = pca_train.transform(X_train_scaled)"
   ]
  },
  {
   "cell_type": "code",
   "execution_count": 38,
   "metadata": {},
   "outputs": [
    {
     "data": {
      "text/plain": [
       "array([[ 2.26369816,  0.30603356],\n",
       "       [ 0.32175768,  2.41909625],\n",
       "       [-0.09147553,  0.48564829],\n",
       "       ...,\n",
       "       [-0.91500033, -1.0780606 ],\n",
       "       [ 1.97518127, -0.17351481],\n",
       "       [-1.03941956, -2.14167152]])"
      ]
     },
     "execution_count": 38,
     "metadata": {},
     "output_type": "execute_result"
    }
   ],
   "source": [
    "X_train_pca_2"
   ]
  },
  {
   "cell_type": "code",
   "execution_count": 39,
   "metadata": {},
   "outputs": [
    {
     "data": {
      "text/plain": [
       "(11645, 27)"
      ]
     },
     "execution_count": 39,
     "metadata": {},
     "output_type": "execute_result"
    }
   ],
   "source": [
    "X_train.shape"
   ]
  },
  {
   "cell_type": "code",
   "execution_count": 40,
   "metadata": {},
   "outputs": [
    {
     "data": {
      "text/plain": [
       "(11645, 2)"
      ]
     },
     "execution_count": 40,
     "metadata": {},
     "output_type": "execute_result"
    }
   ],
   "source": [
    "X_train_pca_2.shape"
   ]
  },
  {
   "cell_type": "code",
   "execution_count": 41,
   "metadata": {},
   "outputs": [],
   "source": [
    "X_test_pca_2 = pca_test.transform(X_test_scaled)"
   ]
  },
  {
   "cell_type": "code",
   "execution_count": 42,
   "metadata": {},
   "outputs": [
    {
     "data": {
      "text/plain": [
       "(2912, 27)"
      ]
     },
     "execution_count": 42,
     "metadata": {},
     "output_type": "execute_result"
    }
   ],
   "source": [
    "X_test.shape"
   ]
  },
  {
   "cell_type": "code",
   "execution_count": 43,
   "metadata": {},
   "outputs": [
    {
     "data": {
      "text/plain": [
       "(2912, 2)"
      ]
     },
     "execution_count": 43,
     "metadata": {},
     "output_type": "execute_result"
    }
   ],
   "source": [
    "X_test_pca_2.shape"
   ]
  },
  {
   "cell_type": "code",
   "execution_count": 44,
   "metadata": {},
   "outputs": [
    {
     "name": "stderr",
     "output_type": "stream",
     "text": [
      "/Users/zhongyizhang/env/lib/python3.7/site-packages/sklearn/utils/validation.py:724: DataConversionWarning: A column-vector y was passed when a 1d array was expected. Please change the shape of y to (n_samples, ), for example using ravel().\n",
      "  y = column_or_1d(y, warn=True)\n",
      "/Users/zhongyizhang/env/lib/python3.7/site-packages/sklearn/linear_model/logistic.py:469: FutureWarning: Default multi_class will be changed to 'auto' in 0.22. Specify the multi_class option to silence this warning.\n",
      "  \"this warning.\", FutureWarning)\n"
     ]
    },
    {
     "data": {
      "text/plain": [
       "array([5., 2., 1., ..., 2., 2., 5.])"
      ]
     },
     "execution_count": 44,
     "metadata": {},
     "output_type": "execute_result"
    }
   ],
   "source": [
    "clfp2 = LogisticRegression(random_state=0,solver='lbfgs').fit(X_train_pca_2, y_train)\n",
    "y_pred_pca2 = clfp2.predict(X_test_pca_2)\n",
    "y_pred_pca2"
   ]
  },
  {
   "cell_type": "code",
   "execution_count": 45,
   "metadata": {},
   "outputs": [
    {
     "name": "stdout",
     "output_type": "stream",
     "text": [
      "Logistic regression training set accuracy score for n = 2 PCA: 39.68 %\n",
      "Logistic regression testing set accuracy score for n = 2 PCA: 37.19 %\n"
     ]
    }
   ],
   "source": [
    "pca_2_train = round(clfp2.score(X_train_pca_2, y_train) * 100, 2)\n",
    "pca_2_test = round(clfp2.score(X_test_pca_2, y_test) * 100, 2)\n",
    "print('Logistic regression training set accuracy score for n = 2 PCA:',pca_2_train,'%')\n",
    "print('Logistic regression testing set accuracy score for n = 2 PCA:',pca_2_test,'%')"
   ]
  },
  {
   "cell_type": "code",
   "execution_count": 46,
   "metadata": {},
   "outputs": [
    {
     "data": {
      "text/plain": [
       "array([[117, 167,   0,   4,  20],\n",
       "       [106, 244,   0,  11, 215],\n",
       "       [ 45, 195,   2,  16, 240],\n",
       "       [ 30, 172,   2,  23, 467],\n",
       "       [  7, 120,   0,  12, 697]])"
      ]
     },
     "execution_count": 46,
     "metadata": {},
     "output_type": "execute_result"
    }
   ],
   "source": [
    "cnf_pca2 = metrics.confusion_matrix(y_test, y_pred_pca2)\n",
    "cnf_pca2"
   ]
  },
  {
   "cell_type": "code",
   "execution_count": 47,
   "metadata": {},
   "outputs": [
    {
     "name": "stdout",
     "output_type": "stream",
     "text": [
      "                   precision    recall  f1-score   support\n",
      "\n",
      "OVERALL_RATING 1       0.38      0.38      0.38       308\n",
      "OVERALL_RATING 2       0.27      0.42      0.33       576\n",
      "OVERALL_RATING 3       0.50      0.00      0.01       498\n",
      "OVERALL_RATING 4       0.35      0.03      0.06       694\n",
      "OVERALL_RATING 5       0.43      0.83      0.56       836\n",
      "\n",
      "        accuracy                           0.37      2912\n",
      "       macro avg       0.39      0.33      0.27      2912\n",
      "    weighted avg       0.38      0.37      0.28      2912\n",
      "\n"
     ]
    }
   ],
   "source": [
    "target_names = ['OVERALL_RATING 1', 'OVERALL_RATING 2', 'OVERALL_RATING 3', 'OVERALL_RATING 4', 'OVERALL_RATING 5']\n",
    "print(\"\", classification_report(y_test, y_pred_pca2, target_names=target_names))"
   ]
  },
  {
   "cell_type": "markdown",
   "metadata": {},
   "source": [
    "## Training set after PCA when n_components = 2"
   ]
  },
  {
   "cell_type": "code",
   "execution_count": 48,
   "metadata": {},
   "outputs": [
    {
     "data": {
      "text/plain": [
       "array([5., 5., 5., ..., 2., 5., 2.])"
      ]
     },
     "execution_count": 48,
     "metadata": {},
     "output_type": "execute_result"
    }
   ],
   "source": [
    "y_pred_pca2_tr = clfp2.predict(X_train_pca_2)\n",
    "y_pred_pca2_tr"
   ]
  },
  {
   "cell_type": "code",
   "execution_count": 49,
   "metadata": {},
   "outputs": [
    {
     "name": "stdout",
     "output_type": "stream",
     "text": [
      "Logistic regression training set accuracy score for n = 2 PCA: 39.68 %\n"
     ]
    }
   ],
   "source": [
    "pca_2_train = round(clfp2.score(X_train_pca_2, y_train) * 100, 2)\n",
    "print('Logistic regression training set accuracy score for n = 2 PCA:',pca_2_train,'%')"
   ]
  },
  {
   "cell_type": "markdown",
   "metadata": {},
   "source": [
    "3 - d. \"Training error is small and test error is big\" is an indication of overfitting. The training set accuracy score is 39.68 % and the testing set accuracy score is 37.19 %. It means that the testing RMSE is a little bit bigger than the Training RMSE. However, the training RMSE and the testing RMSE are still very close. This indicates that the logistic regression model after n_components=2 PCA is a little bit tiny over-fitting, but it is not a good model since the overall accuracies are too low."
   ]
  },
  {
   "cell_type": "code",
   "execution_count": 50,
   "metadata": {},
   "outputs": [
    {
     "data": {
      "text/plain": [
       "array([[ 571,  630,    6,   30,  154],\n",
       "       [ 405, 1045,    8,   49,  815],\n",
       "       [ 153,  781,    6,   48,  907],\n",
       "       [  81,  580,    4,   76, 1883],\n",
       "       [  32,  390,    6,   62, 2923]])"
      ]
     },
     "execution_count": 50,
     "metadata": {},
     "output_type": "execute_result"
    }
   ],
   "source": [
    "cnf_pca2_tr = metrics.confusion_matrix(y_train, y_pred_pca2_tr)\n",
    "cnf_pca2_tr"
   ]
  },
  {
   "cell_type": "code",
   "execution_count": 51,
   "metadata": {},
   "outputs": [
    {
     "name": "stdout",
     "output_type": "stream",
     "text": [
      "                   precision    recall  f1-score   support\n",
      "\n",
      "OVERALL_RATING 1       0.46      0.41      0.43      1391\n",
      "OVERALL_RATING 2       0.31      0.45      0.36      2322\n",
      "OVERALL_RATING 3       0.20      0.00      0.01      1895\n",
      "OVERALL_RATING 4       0.29      0.03      0.05      2624\n",
      "OVERALL_RATING 5       0.44      0.86      0.58      3413\n",
      "\n",
      "        accuracy                           0.40     11645\n",
      "       macro avg       0.34      0.35      0.29     11645\n",
      "    weighted avg       0.34      0.40      0.31     11645\n",
      "\n"
     ]
    }
   ],
   "source": [
    "target_names = ['OVERALL_RATING 1', 'OVERALL_RATING 2', 'OVERALL_RATING 3', 'OVERALL_RATING 4', 'OVERALL_RATING 5']\n",
    "print(\"\", classification_report(y_train, y_pred_pca2_tr, target_names=target_names))"
   ]
  },
  {
   "cell_type": "markdown",
   "metadata": {},
   "source": [
    "3 - e. The overall accuracies for this model 2 (n_components = 2 PCA) are much poorer than the performance of model one without PCA. The reason for this is PCA filters the most important features by calculating the variances of each feature. However, n_components=2 means this PCA model only keeps 2 most crucial features with the highest variances. 2 features are still too less and not enough for an accurate model. The accuracy scores will decrease compared with the original model, model 1, which keeps all the features included without any filtering."
   ]
  },
  {
   "cell_type": "code",
   "execution_count": null,
   "metadata": {},
   "outputs": [],
   "source": []
  },
  {
   "cell_type": "markdown",
   "metadata": {},
   "source": [
    "# Part 4 - PCA(n_components = 16) + Logistic Regression"
   ]
  },
  {
   "cell_type": "code",
   "execution_count": 52,
   "metadata": {},
   "outputs": [
    {
     "name": "stdout",
     "output_type": "stream",
     "text": [
      "[0.21505181 0.14512196 0.13276604 0.09318017 0.06820902 0.05709726\n",
      " 0.04573236 0.03657319 0.03318498 0.03032689 0.02730018 0.02661403\n",
      " 0.02277657 0.02144951 0.01688691 0.01473191]\n",
      "[0.23332873 0.15266908 0.11817156 0.10078873 0.07340774 0.04365011\n",
      " 0.04057384 0.0375469  0.03183784 0.02777157 0.02635936 0.02331455\n",
      " 0.0225213  0.02115547 0.01817375 0.01589198]\n"
     ]
    }
   ],
   "source": [
    "def fit_pca(df, n_components):\n",
    "    pca = PCA(n_components)\n",
    "    pca.fit(df)   \n",
    "    return pca\n",
    "pca_train2 = fit_pca(X_train_scaled, n_components=16)\n",
    "print(pca_train2.explained_variance_ratio_) \n",
    "pca_test2 = fit_pca(X_test_scaled, n_components=16)\n",
    "print(pca_test2.explained_variance_ratio_) "
   ]
  },
  {
   "cell_type": "code",
   "execution_count": 53,
   "metadata": {},
   "outputs": [
    {
     "name": "stdout",
     "output_type": "stream",
     "text": [
      "Variance:  Projected dimension\n",
      "------------------------------\n",
      "21.5%:    -0.02 * f1 + -0.14 * f2 + -0.12 * f3 +  0.16 * f4 +  0.05 * f5 +  0.28 * f6 +  0.24 * f7 +  0.26 * f8 +  0.07 * f9 +  0.30 * f10\n",
      "14.5%:    -0.06 * f1 +  0.08 * f2 +  0.09 * f3 +  0.03 * f4 +  0.04 * f5 + -0.22 * f6 + -0.17 * f7 + -0.16 * f8 +  0.22 * f9 +  0.01 * f10\n",
      "13.3%:     0.08 * f1 +  0.03 * f2 +  0.00 * f3 + -0.25 * f4 + -0.09 * f5 +  0.05 * f6 + -0.00 * f7 +  0.08 * f8 +  0.15 * f9 +  0.07 * f10\n",
      " 9.3%:     0.14 * f1 + -0.01 * f2 + -0.02 * f3 +  0.01 * f4 + -0.06 * f5 + -0.07 * f6 + -0.30 * f7 +  0.17 * f8 +  0.48 * f9 + -0.26 * f10\n",
      " 6.8%:    -0.24 * f1 +  0.60 * f2 +  0.60 * f3 + -0.03 * f4 +  0.15 * f5 +  0.13 * f6 +  0.10 * f7 +  0.14 * f8 +  0.01 * f9 + -0.02 * f10\n",
      " 5.7%:     0.29 * f1 + -0.14 * f2 + -0.13 * f3 +  0.08 * f4 +  0.07 * f5 + -0.04 * f6 + -0.02 * f7 + -0.07 * f8 + -0.01 * f9 +  0.02 * f10\n",
      " 4.6%:    -0.30 * f1 +  0.04 * f2 +  0.02 * f3 + -0.08 * f4 + -0.11 * f5 +  0.09 * f6 +  0.16 * f7 + -0.47 * f8 +  0.25 * f9 +  0.16 * f10\n",
      " 3.7%:    -0.03 * f1 + -0.14 * f2 + -0.10 * f3 +  0.24 * f4 +  0.76 * f5 +  0.10 * f6 +  0.11 * f7 + -0.03 * f8 +  0.12 * f9 + -0.13 * f10\n",
      " 3.3%:    -0.40 * f1 + -0.22 * f2 + -0.17 * f3 + -0.12 * f4 + -0.38 * f5 +  0.08 * f6 +  0.12 * f7 +  0.10 * f8 +  0.02 * f9 + -0.11 * f10\n",
      " 3.0%:     0.17 * f1 +  0.12 * f2 +  0.10 * f3 +  0.16 * f4 + -0.08 * f5 + -0.13 * f6 + -0.19 * f7 +  0.01 * f8 + -0.08 * f9 +  0.06 * f10\n",
      " 2.7%:    -0.25 * f1 +  0.02 * f2 +  0.05 * f3 +  0.59 * f4 + -0.29 * f5 + -0.06 * f6 + -0.05 * f7 +  0.01 * f8 +  0.00 * f9 + -0.02 * f10\n",
      " 2.7%:    -0.44 * f1 + -0.11 * f2 + -0.05 * f3 + -0.14 * f4 +  0.03 * f5 + -0.06 * f6 + -0.14 * f7 +  0.16 * f8 + -0.02 * f9 + -0.17 * f10\n",
      " 2.3%:    -0.26 * f1 + -0.13 * f2 + -0.10 * f3 + -0.31 * f4 +  0.20 * f5 +  0.02 * f6 +  0.01 * f7 +  0.06 * f8 + -0.00 * f9 + -0.03 * f10\n",
      " 2.1%:     0.41 * f1 +  0.09 * f2 +  0.04 * f3 +  0.08 * f4 + -0.29 * f5 +  0.25 * f6 +  0.26 * f7 +  0.01 * f8 +  0.08 * f9 + -0.18 * f10\n",
      " 1.7%:    -0.21 * f1 + -0.06 * f2 + -0.06 * f3 +  0.57 * f4 +  0.02 * f5 + -0.07 * f6 + -0.06 * f7 +  0.02 * f8 + -0.00 * f9 +  0.01 * f10\n",
      " 1.5%:     0.01 * f1 +  0.02 * f2 +  0.00 * f3 + -0.09 * f4 +  0.03 * f5 + -0.50 * f6 + -0.38 * f7 +  0.04 * f8 + -0.08 * f9 +  0.23 * f10\n"
     ]
    }
   ],
   "source": [
    "vars = pca_train2.explained_variance_ratio_\n",
    "c_names = ['f1','f2','f3','f4','f5','f6','f7','f8','f9','f10']\n",
    "\n",
    "print('Variance:  Projected dimension')\n",
    "print('------------------------------')\n",
    "for idx, row in enumerate(pca_train2.components_):\n",
    "    output = '{0:4.1f}%:    '.format(100.0 * vars[idx])\n",
    "    output += \" + \".join(\"{0:5.2f} * {1:s}\".format(val, name) for val, name in zip(row, c_names))\n",
    "    print(output)"
   ]
  },
  {
   "cell_type": "code",
   "execution_count": 54,
   "metadata": {},
   "outputs": [
    {
     "name": "stdout",
     "output_type": "stream",
     "text": [
      "Variance:  Projected dimension\n",
      "------------------------------\n",
      "23.3%:    -0.00 * f1 + -0.13 * f2 + -0.11 * f3 +  0.14 * f4 +  0.03 * f5 +  0.30 * f6 +  0.25 * f7 +  0.29 * f8 +  0.00 * f9 +  0.33 * f10\n",
      "15.3%:    -0.06 * f1 +  0.07 * f2 +  0.07 * f3 +  0.00 * f4 +  0.05 * f5 + -0.15 * f6 + -0.12 * f7 + -0.10 * f8 +  0.23 * f9 +  0.07 * f10\n",
      "11.8%:     0.11 * f1 +  0.05 * f2 +  0.01 * f3 + -0.30 * f4 + -0.10 * f5 +  0.05 * f6 + -0.02 * f7 +  0.12 * f8 +  0.11 * f9 +  0.03 * f10\n",
      "10.1%:     0.13 * f1 + -0.04 * f2 + -0.06 * f3 +  0.05 * f4 + -0.07 * f5 + -0.07 * f6 + -0.30 * f7 +  0.19 * f8 +  0.47 * f9 + -0.26 * f10\n",
      " 7.3%:    -0.24 * f1 +  0.61 * f2 +  0.63 * f3 + -0.07 * f4 +  0.11 * f5 +  0.15 * f6 +  0.11 * f7 +  0.15 * f8 +  0.03 * f9 + -0.04 * f10\n",
      " 4.4%:     0.61 * f1 +  0.06 * f2 +  0.04 * f3 +  0.00 * f4 +  0.15 * f5 + -0.10 * f6 + -0.13 * f7 +  0.16 * f8 + -0.16 * f9 + -0.01 * f10\n",
      " 4.1%:    -0.05 * f1 +  0.08 * f2 +  0.03 * f3 + -0.16 * f4 + -0.37 * f5 +  0.02 * f6 +  0.05 * f7 + -0.36 * f8 +  0.16 * f9 +  0.19 * f10\n",
      " 3.8%:    -0.01 * f1 + -0.15 * f2 + -0.11 * f3 + -0.01 * f4 +  0.68 * f5 +  0.21 * f6 +  0.25 * f7 + -0.17 * f8 +  0.20 * f9 + -0.07 * f10\n",
      " 3.2%:     0.20 * f1 +  0.20 * f2 +  0.18 * f3 +  0.23 * f4 +  0.45 * f5 + -0.21 * f6 + -0.23 * f7 + -0.16 * f8 +  0.00 * f9 +  0.16 * f10\n",
      " 2.8%:    -0.22 * f1 + -0.12 * f2 + -0.13 * f3 + -0.41 * f4 +  0.26 * f5 +  0.01 * f6 +  0.00 * f7 +  0.09 * f8 + -0.03 * f9 + -0.04 * f10\n",
      " 2.6%:    -0.03 * f1 + -0.04 * f2 + -0.03 * f3 + -0.41 * f4 +  0.16 * f5 + -0.12 * f6 + -0.16 * f7 +  0.08 * f8 + -0.07 * f9 +  0.01 * f10\n",
      " 2.3%:     0.28 * f1 +  0.05 * f2 +  0.01 * f3 +  0.31 * f4 + -0.06 * f5 +  0.08 * f6 +  0.11 * f7 + -0.06 * f8 +  0.03 * f9 +  0.02 * f10\n",
      " 2.3%:    -0.51 * f1 + -0.09 * f2 + -0.04 * f3 +  0.31 * f4 + -0.01 * f5 + -0.14 * f6 + -0.19 * f7 +  0.13 * f8 + -0.05 * f9 + -0.08 * f10\n",
      " 2.1%:    -0.25 * f1 + -0.08 * f2 + -0.05 * f3 + -0.07 * f4 +  0.19 * f5 + -0.20 * f6 + -0.14 * f7 + -0.04 * f8 + -0.04 * f9 +  0.19 * f10\n",
      " 1.8%:    -0.18 * f1 + -0.03 * f2 + -0.05 * f3 +  0.51 * f4 +  0.06 * f5 + -0.11 * f6 + -0.08 * f7 +  0.03 * f8 + -0.01 * f9 +  0.02 * f10\n",
      " 1.6%:     0.02 * f1 +  0.02 * f2 +  0.01 * f3 + -0.12 * f4 + -0.03 * f5 + -0.44 * f6 + -0.33 * f7 +  0.01 * f8 + -0.06 * f9 +  0.20 * f10\n"
     ]
    }
   ],
   "source": [
    "vars = pca_test2.explained_variance_ratio_\n",
    "c_names = ['f1','f2','f3','f4','f5','f6','f7','f8','f9','f10']\n",
    "\n",
    "print('Variance:  Projected dimension')\n",
    "print('------------------------------')\n",
    "for idx, row in enumerate(pca_test2.components_):\n",
    "    output = '{0:4.1f}%:    '.format(100.0 * vars[idx])\n",
    "    output += \" + \".join(\"{0:5.2f} * {1:s}\".format(val, name) for val, name in zip(row, c_names))\n",
    "    print(output)"
   ]
  },
  {
   "cell_type": "code",
   "execution_count": 55,
   "metadata": {},
   "outputs": [],
   "source": [
    "X_train_pca_16 = pca_train2.transform(X_train_scaled)"
   ]
  },
  {
   "cell_type": "code",
   "execution_count": 56,
   "metadata": {},
   "outputs": [
    {
     "data": {
      "text/plain": [
       "(11645, 27)"
      ]
     },
     "execution_count": 56,
     "metadata": {},
     "output_type": "execute_result"
    }
   ],
   "source": [
    "X_train_scaled.shape"
   ]
  },
  {
   "cell_type": "code",
   "execution_count": 57,
   "metadata": {},
   "outputs": [
    {
     "data": {
      "text/plain": [
       "(11645, 16)"
      ]
     },
     "execution_count": 57,
     "metadata": {},
     "output_type": "execute_result"
    }
   ],
   "source": [
    "X_train_pca_16.shape"
   ]
  },
  {
   "cell_type": "code",
   "execution_count": 58,
   "metadata": {},
   "outputs": [],
   "source": [
    "X_test_pca_16 = pca_test2.transform(X_test_scaled)"
   ]
  },
  {
   "cell_type": "code",
   "execution_count": 59,
   "metadata": {},
   "outputs": [
    {
     "data": {
      "text/plain": [
       "(2912, 27)"
      ]
     },
     "execution_count": 59,
     "metadata": {},
     "output_type": "execute_result"
    }
   ],
   "source": [
    "X_test.shape"
   ]
  },
  {
   "cell_type": "code",
   "execution_count": 60,
   "metadata": {},
   "outputs": [
    {
     "data": {
      "text/plain": [
       "(2912, 16)"
      ]
     },
     "execution_count": 60,
     "metadata": {},
     "output_type": "execute_result"
    }
   ],
   "source": [
    "X_test_pca_16.shape"
   ]
  },
  {
   "cell_type": "code",
   "execution_count": 61,
   "metadata": {},
   "outputs": [
    {
     "name": "stderr",
     "output_type": "stream",
     "text": [
      "/Users/zhongyizhang/env/lib/python3.7/site-packages/sklearn/utils/validation.py:724: DataConversionWarning: A column-vector y was passed when a 1d array was expected. Please change the shape of y to (n_samples, ), for example using ravel().\n",
      "  y = column_or_1d(y, warn=True)\n",
      "/Users/zhongyizhang/env/lib/python3.7/site-packages/sklearn/linear_model/logistic.py:469: FutureWarning: Default multi_class will be changed to 'auto' in 0.22. Specify the multi_class option to silence this warning.\n",
      "  \"this warning.\", FutureWarning)\n"
     ]
    },
    {
     "data": {
      "text/plain": [
       "array([5., 1., 1., ..., 3., 3., 5.])"
      ]
     },
     "execution_count": 61,
     "metadata": {},
     "output_type": "execute_result"
    }
   ],
   "source": [
    "clfp16 = LogisticRegression(random_state=0, solver='lbfgs').fit(X_train_pca_16, y_train)\n",
    "y_pred_pca16 = clfp16.predict(X_test_pca_16)\n",
    "y_pred_pca16"
   ]
  },
  {
   "cell_type": "code",
   "execution_count": 62,
   "metadata": {},
   "outputs": [
    {
     "name": "stdout",
     "output_type": "stream",
     "text": [
      "Logistic regression training set accuracy score for n = 16 PCA: 70.07 %\n",
      "Logistic regression testing set accuracy score for n = 16 PCA: 39.9 %\n"
     ]
    }
   ],
   "source": [
    "pca_16_train = round(clfp16.score(X_train_pca_16, y_train) * 100, 2)\n",
    "pca_16_test = round(clfp16.score(X_test_pca_16, y_test) * 100, 2)\n",
    "print('Logistic regression training set accuracy score for n = 16 PCA:',pca_16_train,'%')\n",
    "print('Logistic regression testing set accuracy score for n = 16 PCA:',pca_16_test,'%')"
   ]
  },
  {
   "cell_type": "code",
   "execution_count": 63,
   "metadata": {},
   "outputs": [
    {
     "data": {
      "text/plain": [
       "array([[138,  31,  69,  64,   6],\n",
       "       [ 83,  82,  96, 214, 101],\n",
       "       [ 42,  53,  80, 240,  83],\n",
       "       [ 16,  51,  95, 312, 220],\n",
       "       [  2,  35,  34, 215, 550]])"
      ]
     },
     "execution_count": 63,
     "metadata": {},
     "output_type": "execute_result"
    }
   ],
   "source": [
    "cnf_pca16 = metrics.confusion_matrix(y_test, y_pred_pca16)\n",
    "cnf_pca16"
   ]
  },
  {
   "cell_type": "code",
   "execution_count": 64,
   "metadata": {},
   "outputs": [
    {
     "name": "stdout",
     "output_type": "stream",
     "text": [
      "                   precision    recall  f1-score   support\n",
      "\n",
      "OVERALL_RATING 1       0.49      0.45      0.47       308\n",
      "OVERALL_RATING 2       0.33      0.14      0.20       576\n",
      "OVERALL_RATING 3       0.21      0.16      0.18       498\n",
      "OVERALL_RATING 4       0.30      0.45      0.36       694\n",
      "OVERALL_RATING 5       0.57      0.66      0.61       836\n",
      "\n",
      "        accuracy                           0.40      2912\n",
      "       macro avg       0.38      0.37      0.36      2912\n",
      "    weighted avg       0.39      0.40      0.38      2912\n",
      "\n"
     ]
    }
   ],
   "source": [
    "target_names = ['OVERALL_RATING 1', 'OVERALL_RATING 2', 'OVERALL_RATING 3', 'OVERALL_RATING 4', 'OVERALL_RATING 5']\n",
    "print(\"\", classification_report(y_test, y_pred_pca16, target_names=target_names))"
   ]
  },
  {
   "cell_type": "code",
   "execution_count": null,
   "metadata": {},
   "outputs": [],
   "source": []
  },
  {
   "cell_type": "markdown",
   "metadata": {},
   "source": [
    "## Training set after PCA when n_components = 16"
   ]
  },
  {
   "cell_type": "code",
   "execution_count": 65,
   "metadata": {},
   "outputs": [
    {
     "data": {
      "text/plain": [
       "array([4., 5., 4., ..., 2., 5., 3.])"
      ]
     },
     "execution_count": 65,
     "metadata": {},
     "output_type": "execute_result"
    }
   ],
   "source": [
    "y_pred_pca16_tr = clfp16.predict(X_train_pca_16)\n",
    "y_pred_pca16_tr"
   ]
  },
  {
   "cell_type": "code",
   "execution_count": 66,
   "metadata": {},
   "outputs": [
    {
     "name": "stdout",
     "output_type": "stream",
     "text": [
      "Logistic regression training set accuracy score for n = 16 PCA: 70.07 %\n"
     ]
    }
   ],
   "source": [
    "pca_16_train = round(clfp16.score(X_train_pca_16, y_train) * 100, 2)\n",
    "print('Logistic regression training set accuracy score for n = 16 PCA:',pca_16_train,'%')"
   ]
  },
  {
   "cell_type": "markdown",
   "metadata": {},
   "source": [
    "4 - d. \"Training error is small and test error is big\" is an indication of overfitting. Training set accuracy score is 70.07 % and Testing set accuracy score is 39.9 %. It means that the testing RMSE is much bigger than the Training RMSE. It indicates that this logistic regression model is over-fitting for after PCA when n_compopnents = 16. The PCA model keeps 16 top features according to their importance by calculating the top variances. The model keeps so many features for modeling so that it may cause the over-fitting for the further models."
   ]
  },
  {
   "cell_type": "code",
   "execution_count": 67,
   "metadata": {},
   "outputs": [
    {
     "data": {
      "text/plain": [
       "array([[1088,  302,    1,    0,    0],\n",
       "       [ 261, 1683,  325,   53,    0],\n",
       "       [   0,  745,  297,  853,    0],\n",
       "       [   0,  381,   18, 1755,  470],\n",
       "       [   0,    0,    0,   76, 3337]])"
      ]
     },
     "execution_count": 67,
     "metadata": {},
     "output_type": "execute_result"
    }
   ],
   "source": [
    "cnf_pca16_tr = metrics.confusion_matrix(y_train, y_pred_pca16_tr)\n",
    "cnf_pca16_tr"
   ]
  },
  {
   "cell_type": "code",
   "execution_count": 68,
   "metadata": {},
   "outputs": [
    {
     "name": "stdout",
     "output_type": "stream",
     "text": [
      "                   precision    recall  f1-score   support\n",
      "\n",
      "OVERALL_RATING 1       0.81      0.78      0.79      1391\n",
      "OVERALL_RATING 2       0.54      0.72      0.62      2322\n",
      "OVERALL_RATING 3       0.46      0.16      0.23      1895\n",
      "OVERALL_RATING 4       0.64      0.67      0.65      2624\n",
      "OVERALL_RATING 5       0.88      0.98      0.92      3413\n",
      "\n",
      "        accuracy                           0.70     11645\n",
      "       macro avg       0.67      0.66      0.65     11645\n",
      "    weighted avg       0.68      0.70      0.67     11645\n",
      "\n"
     ]
    }
   ],
   "source": [
    "target_names = ['OVERALL_RATING 1', 'OVERALL_RATING 2', 'OVERALL_RATING 3', 'OVERALL_RATING 4', 'OVERALL_RATING 5']\n",
    "print(\"\", classification_report(y_train, y_pred_pca16_tr, target_names=target_names))"
   ]
  },
  {
   "cell_type": "code",
   "execution_count": null,
   "metadata": {},
   "outputs": [],
   "source": []
  },
  {
   "cell_type": "markdown",
   "metadata": {},
   "source": [
    "# Part 5 Conceptual Questions"
   ]
  },
  {
   "cell_type": "markdown",
   "metadata": {},
   "source": [
    "a) In order to better understand what is happening in Model 2 & Model 3, rerun PCA without specifying a number of components. Plot out the cumulative explained variance ratio vs number of components for the original scaled data. Describe what the plot is showing as well as what the cumulative explained variance tells us about our data.\n",
    "\n",
    "Helpful link: https://stackoverflow.com/questions/32857029/python-scikit-learn-pca-explained-variance-ratio-cutoff (Links to an external site.)\n",
    "\n",
    "b) Between Model 2 and Model 3, which performed the best? Explain why this is.\n",
    "\n",
    "c) Assuming you are working with a company on a modeling project with a massive data set, what would be some of the benefits of utilizing PCA? \n",
    "\n",
    "d) Now argue the opposite of question 3 - what is a negative result of utilizing this  dimensionality reduction technique? \n",
    "\n",
    "e) sklearn offers a variety of methods to solve a multiclass logistic regression problem. One option is the \"one-vs-the-rest\" (also known as \"one-vs-all\" method). Explain in detail what this process does.\n",
    "\n",
    "Hint: Run the .predict_proba() method for one of your prior models to have a better understanding of \"one-vs-the-rest\" output.\n",
    "\n",
    "f) Each of the three models utilized logistic regression. The Hands-On ML book describes the logistic function (sometimes called the sigmoid function) in detail. Using Equation 4-14, plot out the logistic function & describe why it is useful in classification problems of the nature covered in this homework assignment."
   ]
  },
  {
   "cell_type": "markdown",
   "metadata": {},
   "source": [
    "Answers:"
   ]
  },
  {
   "cell_type": "markdown",
   "metadata": {},
   "source": [
    "a)"
   ]
  },
  {
   "cell_type": "code",
   "execution_count": 69,
   "metadata": {},
   "outputs": [],
   "source": [
    "#import numpy as np\n",
    "#from sklearn.decomposition import PCA\n",
    "# my_modelu: my_modelu is my pca model with unspecifying the value for n_components. I added a u after my_model."
   ]
  },
  {
   "cell_type": "code",
   "execution_count": 70,
   "metadata": {},
   "outputs": [
    {
     "name": "stdout",
     "output_type": "stream",
     "text": [
      "[6.30203991e+00 4.12348109e+00 3.19172824e+00 2.72223065e+00\n",
      " 1.98268986e+00 1.17895782e+00 1.09587009e+00 1.01411463e+00\n",
      " 8.59917085e-01 7.50089905e-01 7.11947184e-01 6.29709081e-01\n",
      " 6.08283981e-01 5.71393787e-01 4.90859772e-01 4.29230958e-01\n",
      " 1.50948899e-01 8.87178581e-02 5.01200590e-02 3.57062253e-02\n",
      " 1.37222323e-02 6.57484234e-03 9.41002926e-04 2.27953577e-10\n",
      " 3.41913053e-11 1.69199421e-11 9.62590533e-32]\n",
      "[2.33328731e-01 1.52669076e-01 1.18171562e-01 1.00788734e-01\n",
      " 7.34077403e-02 4.36501095e-02 4.05738431e-02 3.75469029e-02\n",
      " 3.18378439e-02 2.77715674e-02 2.63593591e-02 2.33145494e-02\n",
      " 2.25212997e-02 2.11554654e-02 1.81737484e-02 1.58919836e-02\n",
      " 5.58878008e-03 3.28471821e-03 1.85566101e-03 1.32199865e-03\n",
      " 5.08056298e-04 2.43429056e-04 3.48399918e-05 8.43982580e-12\n",
      " 1.26590977e-12 6.26449320e-13 3.56392583e-33]\n",
      "[0.23332873 0.38599781 0.50416937 0.6049581  0.67836584 0.72201595\n",
      " 0.7625898  0.8001367  0.83197454 0.85974611 0.88610547 0.90942002\n",
      " 0.93194132 0.95309678 0.97127053 0.98716252 0.9927513  0.99603601\n",
      " 0.99789168 0.99921367 0.99972173 0.99996516 1.         1.\n",
      " 1.         1.         1.        ]\n"
     ]
    }
   ],
   "source": [
    "my_modelu = PCA()\n",
    "my_modelu.fit_transform(X_test_scaled)\n",
    "\n",
    "print(my_modelu.explained_variance_)\n",
    "print(my_modelu.explained_variance_ratio_)\n",
    "print(my_modelu.explained_variance_ratio_.cumsum())"
   ]
  },
  {
   "cell_type": "code",
   "execution_count": 71,
   "metadata": {},
   "outputs": [
    {
     "name": "stdout",
     "output_type": "stream",
     "text": [
      "[6.22558999e+00 4.20117284e+00 3.84347831e+00 2.69749682e+00\n",
      " 1.97460045e+00 1.65292334e+00 1.32391798e+00 1.05876656e+00\n",
      " 9.60680453e-01 8.77940805e-01 7.90320054e-01 7.70456322e-01\n",
      " 6.59364734e-01 6.20947278e-01 4.88863525e-01 4.26477746e-01\n",
      " 1.59403971e-01 9.02838004e-02 7.04925167e-02 3.60958385e-02\n",
      " 1.36183937e-02 5.34550682e-03 1.01986645e-03 2.36879813e-10\n",
      " 3.48446005e-11 1.69388965e-11 1.64400455e-31]\n",
      "[2.15051805e-01 1.45121957e-01 1.32766043e-01 9.31801742e-02\n",
      " 6.82090198e-02 5.70972626e-02 4.57323645e-02 3.65731857e-02\n",
      " 3.31849778e-02 3.03268855e-02 2.73001843e-02 2.66140274e-02\n",
      " 2.27765684e-02 2.14495065e-02 1.68869109e-02 1.47319064e-02\n",
      " 5.50632338e-03 3.11869144e-03 2.43503716e-03 1.24686580e-03\n",
      " 4.70422906e-04 1.84650915e-04 3.52294516e-05 8.18258693e-12\n",
      " 1.20364403e-12 5.85123703e-13 5.67891792e-33]\n",
      "[0.21505181 0.36017376 0.4929398  0.58611998 0.654329   0.71142626\n",
      " 0.75715863 0.79373181 0.82691679 0.85724368 0.88454386 0.91115789\n",
      " 0.93393446 0.95538396 0.97227087 0.98700278 0.9925091  0.99562779\n",
      " 0.99806283 0.9993097  0.99978012 0.99996477 1.         1.\n",
      " 1.         1.         1.        ]\n"
     ]
    }
   ],
   "source": [
    "my_modelu = PCA()\n",
    "my_modelu.fit_transform(X_train_scaled)\n",
    "\n",
    "print(my_modelu.explained_variance_)\n",
    "print(my_modelu.explained_variance_ratio_)\n",
    "print(my_modelu.explained_variance_ratio_.cumsum())"
   ]
  },
  {
   "cell_type": "code",
   "execution_count": 72,
   "metadata": {},
   "outputs": [
    {
     "name": "stdout",
     "output_type": "stream",
     "text": [
      "Variance:  Projected dimension\n",
      "------------------------------\n",
      "21.5%:    -0.02 * f1 + -0.14 * f2 + -0.12 * f3 +  0.16 * f4 +  0.05 * f5 +  0.28 * f6 +  0.24 * f7 +  0.26 * f8 +  0.07 * f9 +  0.30 * f10\n",
      "14.5%:    -0.06 * f1 +  0.08 * f2 +  0.09 * f3 +  0.03 * f4 +  0.04 * f5 + -0.22 * f6 + -0.17 * f7 + -0.16 * f8 +  0.22 * f9 +  0.01 * f10\n",
      "13.3%:     0.08 * f1 +  0.03 * f2 +  0.00 * f3 + -0.25 * f4 + -0.09 * f5 +  0.05 * f6 + -0.00 * f7 +  0.08 * f8 +  0.15 * f9 +  0.07 * f10\n",
      " 9.3%:     0.14 * f1 + -0.01 * f2 + -0.02 * f3 +  0.01 * f4 + -0.06 * f5 + -0.07 * f6 + -0.30 * f7 +  0.17 * f8 +  0.48 * f9 + -0.26 * f10\n",
      " 6.8%:    -0.24 * f1 +  0.60 * f2 +  0.60 * f3 + -0.03 * f4 +  0.15 * f5 +  0.13 * f6 +  0.10 * f7 +  0.14 * f8 +  0.01 * f9 + -0.02 * f10\n",
      " 5.7%:     0.29 * f1 + -0.14 * f2 + -0.13 * f3 +  0.08 * f4 +  0.07 * f5 + -0.04 * f6 + -0.02 * f7 + -0.07 * f8 + -0.01 * f9 +  0.02 * f10\n",
      " 4.6%:    -0.30 * f1 +  0.04 * f2 +  0.02 * f3 + -0.08 * f4 + -0.11 * f5 +  0.09 * f6 +  0.16 * f7 + -0.47 * f8 +  0.25 * f9 +  0.16 * f10\n",
      " 3.7%:    -0.03 * f1 + -0.14 * f2 + -0.10 * f3 +  0.24 * f4 +  0.76 * f5 +  0.10 * f6 +  0.11 * f7 + -0.03 * f8 +  0.12 * f9 + -0.13 * f10\n",
      " 3.3%:    -0.40 * f1 + -0.22 * f2 + -0.17 * f3 + -0.12 * f4 + -0.38 * f5 +  0.08 * f6 +  0.12 * f7 +  0.10 * f8 +  0.02 * f9 + -0.11 * f10\n",
      " 3.0%:     0.17 * f1 +  0.12 * f2 +  0.10 * f3 +  0.16 * f4 + -0.08 * f5 + -0.13 * f6 + -0.19 * f7 +  0.01 * f8 + -0.08 * f9 +  0.06 * f10\n",
      " 2.7%:    -0.25 * f1 +  0.02 * f2 +  0.05 * f3 +  0.59 * f4 + -0.29 * f5 + -0.06 * f6 + -0.05 * f7 +  0.01 * f8 +  0.00 * f9 + -0.02 * f10\n",
      " 2.7%:    -0.44 * f1 + -0.11 * f2 + -0.05 * f3 + -0.14 * f4 +  0.03 * f5 + -0.06 * f6 + -0.14 * f7 +  0.16 * f8 + -0.02 * f9 + -0.17 * f10\n",
      " 2.3%:    -0.26 * f1 + -0.13 * f2 + -0.10 * f3 + -0.31 * f4 +  0.20 * f5 +  0.02 * f6 +  0.01 * f7 +  0.06 * f8 + -0.00 * f9 + -0.03 * f10\n",
      " 2.1%:     0.41 * f1 +  0.09 * f2 +  0.04 * f3 +  0.08 * f4 + -0.29 * f5 +  0.25 * f6 +  0.26 * f7 +  0.01 * f8 +  0.08 * f9 + -0.18 * f10\n",
      " 1.7%:    -0.21 * f1 + -0.06 * f2 + -0.06 * f3 +  0.57 * f4 +  0.02 * f5 + -0.07 * f6 + -0.06 * f7 +  0.02 * f8 + -0.00 * f9 +  0.01 * f10\n",
      " 1.5%:     0.01 * f1 +  0.02 * f2 +  0.00 * f3 + -0.09 * f4 +  0.03 * f5 + -0.50 * f6 + -0.38 * f7 +  0.04 * f8 + -0.08 * f9 +  0.23 * f10\n",
      " 0.6%:     0.01 * f1 + -0.00 * f2 +  0.02 * f3 +  0.00 * f4 + -0.01 * f5 + -0.04 * f6 + -0.03 * f7 +  0.02 * f8 + -0.09 * f9 +  0.03 * f10\n",
      " 0.3%:     0.01 * f1 +  0.18 * f2 + -0.17 * f3 + -0.00 * f4 +  0.00 * f5 + -0.66 * f6 +  0.66 * f7 +  0.07 * f8 +  0.10 * f9 + -0.13 * f10\n",
      " 0.2%:    -0.06 * f1 +  0.66 * f2 + -0.71 * f3 +  0.01 * f4 +  0.02 * f5 +  0.17 * f6 + -0.16 * f7 + -0.01 * f8 + -0.05 * f9 +  0.03 * f10\n",
      " 0.1%:     0.01 * f1 + -0.01 * f2 +  0.00 * f3 + -0.01 * f4 +  0.01 * f5 + -0.08 * f6 +  0.17 * f7 +  0.02 * f8 + -0.21 * f9 +  0.42 * f10\n",
      " 0.0%:    -0.01 * f1 +  0.01 * f2 + -0.01 * f3 +  0.00 * f4 + -0.00 * f5 +  0.00 * f6 + -0.01 * f7 +  0.16 * f8 +  0.54 * f9 + -0.13 * f10\n",
      " 0.0%:     0.00 * f1 +  0.00 * f2 +  0.00 * f3 +  0.00 * f4 + -0.00 * f5 + -0.01 * f6 + -0.00 * f7 +  0.54 * f8 + -0.21 * f9 +  0.04 * f10\n",
      " 0.0%:    -0.00 * f1 + -0.00 * f2 +  0.00 * f3 + -0.00 * f4 + -0.00 * f5 +  0.00 * f6 + -0.01 * f7 + -0.18 * f8 + -0.02 * f9 +  0.14 * f10\n",
      " 0.0%:     0.00 * f1 + -0.00 * f2 +  0.00 * f3 + -0.00 * f4 + -0.00 * f5 +  0.00 * f6 + -0.00 * f7 +  0.00 * f8 +  0.00 * f9 +  0.00 * f10\n",
      " 0.0%:    -0.00 * f1 +  0.00 * f2 + -0.00 * f3 +  0.00 * f4 + -0.00 * f5 +  0.00 * f6 + -0.00 * f7 +  0.08 * f8 +  0.44 * f9 +  0.65 * f10\n",
      " 0.0%:     0.00 * f1 +  0.00 * f2 + -0.00 * f3 + -0.00 * f4 + -0.00 * f5 + -0.00 * f6 +  0.00 * f7 + -0.47 * f8 + -0.06 * f9 + -0.10 * f10\n",
      " 0.0%:    -0.00 * f1 + -0.00 * f2 +  0.00 * f3 + -0.00 * f4 + -0.00 * f5 + -0.00 * f6 +  0.00 * f7 + -0.00 * f8 + -0.00 * f9 + -0.00 * f10\n"
     ]
    }
   ],
   "source": [
    "# Giving an example here:\n",
    "vars = my_modelu.explained_variance_ratio_\n",
    "c_names = ['f1','f2','f3','f4','f5','f6','f7','f8','f9','f10']\n",
    "\n",
    "print('Variance:  Projected dimension')\n",
    "print('------------------------------')\n",
    "for idx, row in enumerate(my_modelu.components_):\n",
    "    output = '{0:4.1f}%:    '.format(100.0 * vars[idx])\n",
    "    output += \" + \".join(\"{0:5.2f} * {1:s}\".format(val, name) for val, name in zip(row, c_names))\n",
    "    print(output)"
   ]
  },
  {
   "cell_type": "code",
   "execution_count": 73,
   "metadata": {},
   "outputs": [
    {
     "data": {
      "text/plain": [
       "PCA(copy=True, iterated_power='auto', n_components=None, random_state=None,\n",
       "    svd_solver='auto', tol=0.0, whiten=False)"
      ]
     },
     "execution_count": 73,
     "metadata": {},
     "output_type": "execute_result"
    }
   ],
   "source": [
    "my_modelu"
   ]
  },
  {
   "cell_type": "markdown",
   "metadata": {},
   "source": [
    "If I do not specify the n_components value, the PCA model will show all the variances of every feature. This will not filter the most important features. However, by visualizing the data set, it is always good for data scientists to list the variances rank of each feature by descending order so that data scientists will be able to decide to choose how many features for further modeling regarding their importance. Unspecifying n_components will show all the feature importance by calculating the variances of each feature, but it is still a good visualization process."
   ]
  },
  {
   "cell_type": "markdown",
   "metadata": {},
   "source": [
    "b)     \n",
    "model 2 - PCA with n_components = 2    \n",
    "model 3 - PCA with n_components = 16    \n",
    "I would say model 3 performs better. Although model 3 has very high testing RMSE with very low training RMSE and is over-fitting, the testing accuracy score is still higher than the accuracy score of model 2. The main use of PCA is to reduce the size of the feature space while retaining as much of the information as possible. Model 2 only keeps 2 top features, which are definitely not good enough for accurate modeling. There are abundant mistaken classification predictions in the confusion matrix of model 2. Model 3 obviously took so many features including some not very necessary features. This is the reason why model 3 is seriously over-fitting. I would prefer to pick some values for n_components between 2 and 16. In conclusion, compared with model 2 and model 3, I still prefer model 2 as a better model."
   ]
  },
  {
   "cell_type": "markdown",
   "metadata": {},
   "source": [
    "c) The advantage of PCA (one method of dimension reduction) in the context of ML (ie. neural networks) would be to reduce the risk of over fitting and reduce computational complexity. The very high dimensional nature of many data sets makes direct visualization impossible as we humans can only comprehend three dimensions. The solution is to work with data dimension reduction techniques. When reducing the dimensions of data, it’s important not to lose more information than is necessary. The variation in a data set can be seen as representing the information that we would like to keep. Principal Component Analysis (PCA) is a well-established mathematical technique for reducing the dimensionality of data, while keeping as much variation as possible.\n",
    "\n",
    "One of the keys behind the success of PCA is that in addition to the low-dimensional sample representation, it provides a synchronized low-dimensional representation of the variables. The synchronized sample and variable representations provide a way to visually find variables that are characteristic of a group of samples.The figure below shows one example of how it might look."
   ]
  },
  {
   "cell_type": "markdown",
   "metadata": {},
   "source": [
    "d) \n",
    "1. PCA assumes that the principle components are a linear combination of the original features. If this is not true, PCA will not give you sensible results.    \n",
    "2. PCA uses variance as the measure of how important a particular dimension is. So, high variance axes are treated as principle components, while low variance axes are treated as noise.     \n",
    "3. PCA assumes that the principle components are orthogonal.     "
   ]
  },
  {
   "cell_type": "markdown",
   "metadata": {},
   "source": [
    "e) The one-vs-the-rest meta-classifier also implements a `predict_proba` method, so long as such a method is implemented by the base classifier. This method returns probabilities of class membership in both the single label and multilabel case.  Note that in the multilabel case, probabilities are the marginal probability that a given sample falls in the given class. As such, in the multilabel case the sum of these probabilities over all possible labels for a given sample *will not* sum to unity, as they do in the single label case.\n",
    "\n",
    "This strategy, also known as one-vs-all, is implemented in OneVsRestClassifier. The strategy consists in fitting one classifier per class. For each classifier, the class is fitted against all the other classes. In addition to its computational efficiency (only n_classes classifiers are needed), one advantage of this approach is its interpretability. Since each class is represented by one and only one classifier, it is possible to gain knowledge about the class by inspecting its corresponding classifier. This is the most commonly used strategy and is a fair default choice."
   ]
  },
  {
   "cell_type": "markdown",
   "metadata": {},
   "source": [
    "f) Equation 4-14 in the text book \"Hands on ML\":"
   ]
  },
  {
   "cell_type": "code",
   "execution_count": 74,
   "metadata": {},
   "outputs": [
    {
     "data": {
      "image/png": "[encoded data removed]",
      "text/plain": [
       "<Figure size 432x288 with 1 Axes>"
      ]
     },
     "metadata": {
      "needs_background": "light"
     },
     "output_type": "display_data"
    }
   ],
   "source": [
    "# Plot the Equation 4-14 in the text book \"Hands on ML\":\n",
    "# σ(t)= 1/(1+e**(−t))\n",
    "  \n",
    "import numpy as np  \n",
    "import matplotlib.pyplot as plt  \n",
    "import math\n",
    "\n",
    "def graph(formula, x_range):  \n",
    "    x = np.array(x_range)  \n",
    "    y = formula(x)  # <- note now we're calling the function 'formula' with x\n",
    "    plt.plot(x, y)  \n",
    "    plt.show()  \n",
    "e=math.exp(1)\n",
    "def my_formula(x):\n",
    "    return (1+e**(-x))**(-1)\n",
    "\n",
    "graph(my_formula, range(-10, 11))"
   ]
  },
  {
   "cell_type": "code",
   "execution_count": 80,
   "metadata": {},
   "outputs": [
    {
     "data": {
      "image/png": "[encoded data removed]",
      "text/plain": [
       "<Figure size 648x216 with 1 Axes>"
      ]
     },
     "metadata": {
      "needs_background": "light"
     },
     "output_type": "display_data"
    }
   ],
   "source": [
    "a = np.linspace(-10,10,100)\n",
    "sig=1/(1+np.exp(-a))\n",
    "plt.figure(figsize=(9,3))\n",
    "plt.plot([-10,10],[0,0],\"k-\")\n",
    "plt.plot([-10,10],[0.5,0.5],\"k:\")\n",
    "plt.plot([-10,10],[1,1],\"k:\")\n",
    "plt.plot([0,0],[-1.1,1.1],\"k-\")\n",
    "plt.plot(a,sig,\"b-\",linewidth=2, label=r\"$\\sigma(t) = \\frac{1}{1 + e^{-t}}$\")\n",
    "plt.xlabel(\"t\")\n",
    "plt.legend(loc=\"upper left\", fontsize=20)\n",
    "plt.axis([-10, 10, -0.1, 1.1])\n",
    "plt.show()"
   ]
  },
  {
   "cell_type": "code",
   "execution_count": 75,
   "metadata": {},
   "outputs": [
    {
     "data": {
      "image/png": "[encoded data removed]",
      "text/plain": [
       "<Figure size 288x216 with 1 Axes>"
      ]
     },
     "metadata": {
      "needs_background": "light"
     },
     "output_type": "display_data"
    }
   ],
   "source": [
    "import numpy as np\n",
    "import matplotlib.pyplot as plt\n",
    "from sklearn import linear_model\n",
    "from scipy.special import expit\n",
    "\n",
    "# General a toy dataset:s it's just a straight line with some Gaussian noise:\n",
    "#xmin, xmax = -5, 5\n",
    "n_samples = 100\n",
    "np.random.seed(0)\n",
    "X = np.random.normal(size=n_samples)\n",
    "y = (X > 0).astype(np.float)\n",
    "X[X > 0] *= 4\n",
    "X += .3 * np.random.normal(size=n_samples)\n",
    "\n",
    "X = X[:, np.newaxis]\n",
    "\n",
    "# Fit the classifier\n",
    "clf = linear_model.LogisticRegression(C=1e5, solver='lbfgs')\n",
    "clf.fit(X, y)\n",
    "\n",
    "# and plot the result\n",
    "plt.figure(1, figsize=(4, 3))\n",
    "plt.clf()\n",
    "\n",
    "X_test = np.linspace(-10, 10, 300)\n",
    "\n",
    "loss = expit(X_test * clf.coef_ + clf.intercept_).ravel()\n",
    "plt.plot(X_test, loss, color='red', linewidth=3)\n",
    "\n",
    "\n",
    "plt.ylabel('y')\n",
    "plt.xlabel('X')\n",
    "plt.ylim(-1.25, 1.25)\n",
    "plt.xlim(-10, 10)\n",
    "plt.legend(('Logistic Regression Model'))\n",
    "#plt.tight_layout()\n",
    "plt.show()"
   ]
  },
  {
   "cell_type": "markdown",
   "metadata": {},
   "source": [
    "Logistic Regression is a Machine Learning algorithm which is used for the classification problems, it is a predictive analysis algorithm and based on the concept of probability. Note that the probability prediction must be transformed into a binary values (0 or 1) in order to actually make a probability prediction. More on this later when we talk about making predictions.\n",
    "\n",
    "Logistic regression is a linear method, but the predictions are transformed using the logistic function. The impact of this is that we can no longer understand the predictions as a linear combination of the inputs as we can with linear regression.\n",
    "\n",
    "The Overall_rating, which is also our target outcome values, is a discrete numerical variables. Our prediction outcome is not continuous so we cannot apply regression models. We applied PCA because the original dataset after cleanning still remained 27 columns, which meant 27 dimensions. Human can usually visualize a 3 dimension graphs. We need to filter the most valuable features and reduce the dimensions with PCA by calculating the variances."
   ]
  },
  {
   "cell_type": "code",
   "execution_count": null,
   "metadata": {},
   "outputs": [],
   "source": []
  },
  {
   "cell_type": "markdown",
   "metadata": {},
   "source": [
    "-------------------"
   ]
  },
  {
   "cell_type": "code",
   "execution_count": null,
   "metadata": {},
   "outputs": [],
   "source": []
  },
  {
   "cell_type": "code",
   "execution_count": null,
   "metadata": {},
   "outputs": [],
   "source": []
  }
 ],
 "metadata": {
  "kernelspec": {
   "display_name": "Python 3",
   "language": "python",
   "name": "python3"
  },
  "language_info": {
   "codemirror_mode": {
    "name": "ipython",
    "version": 3
   },
   "file_extension": ".py",
   "mimetype": "text/x-python",
   "name": "python",
   "nbconvert_exporter": "python",
   "pygments_lexer": "ipython3",
   "version": "3.7.4"
  }
 },
 "nbformat": 4,
 "nbformat_minor": 2
}
