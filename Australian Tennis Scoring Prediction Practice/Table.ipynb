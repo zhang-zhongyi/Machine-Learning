{
 "cells": [
  {
   "cell_type": "code",
   "execution_count": null,
   "metadata": {},
   "outputs": [],
   "source": []
  },
  {
   "cell_type": "code",
   "execution_count": null,
   "metadata": {},
   "outputs": [],
   "source": [
    "from tabulate import tabulate\n",
    "print(tabulate([['Over/In', df[(df['outcome']=='W')&(df['net.clearance']>0)&\n",
    "                               (df['outside.sideline']==0)&(df['outside.baseline']==0)].groupby(['outcome']).size(), \n",
    "                            df[(df['outcome']=='FE')&(df['net.clearance']>0)&\n",
    "                               (df['outside.sideline']==0)&(df['outside.baseline']==0)].groupby(['outcome']).size(),\n",
    "                            df[(df['outcome']=='UE')&(df['net.clearance']>0)&\n",
    "                               (df['outside.sideline']==0)&(df['outside.baseline']==0)].groupby(['outcome']).size(),\n",
    "                            sum(df[(df['net.clearance']>0)&\n",
    "                               (df['outside.sideline']==0)&(df['outside.baseline']==0)].groupby(['outcome']).size())], \n",
    "                ['Over/Out', df[(df['outcome']=='W')&(df['net.clearance']>0)&\n",
    "                                ((df['outside.sideline']==1)|(df['outside.baseline']==1))].groupby(['outcome']).size(), \n",
    "                             df[(df['outcome']=='FE')&(df['net.clearance']>0)&\n",
    "                                ((df['outside.sideline']==1)|(df['outside.baseline']==1))].groupby(['outcome']).size(),\n",
    "                             df[(df['outcome']=='UE')&(df['net.clearance']>0)&\n",
    "                                ((df['outside.sideline']==1)|(df['outside.baseline']==1))].groupby(['outcome']).size(),\n",
    "                             sum(df[(df['net.clearance']>0)&\n",
    "                                ((df['outside.sideline']==1)|(df['outside.baseline']==1))].groupby(['outcome']).size())], \n",
    "                ['Net/In', df[(df['outcome']=='W')&(df['net.clearance']<0)&\n",
    "                              (df['outside.sideline']==0)&(df['outside.baseline']==0)].groupby(['outcome']).size(),\n",
    "                           df[(df['outcome']=='FE')&(df['net.clearance']<0)&\n",
    "                              (df['outside.sideline']==0)&(df['outside.baseline']==0)].groupby(['outcome']).size(),\n",
    "                           df[(df['outcome']=='UE')&(df['net.clearance']<0)&\n",
    "                              (df['outside.sideline']==0)&(df['outside.baseline']==0)].groupby(['outcome']).size(),\n",
    "                           sum(df[(df['net.clearance']<0)&\n",
    "                              (df['outside.sideline']==0)&(df['outside.baseline']==0)].groupby(['outcome']).size())], \n",
    "               ['Net/Out', df[(df['outcome']=='W')&(df['net.clearance']<0)&\n",
    "                              ((df['outside.sideline']==1)|(df['outside.baseline']==1))].groupby(['outcome']).size(),\n",
    "                           df[(df['outcome']=='FE')&(df['net.clearance']<0)&\n",
    "                              ((df['outside.sideline']==1)|(df['outside.baseline']==1))].groupby(['outcome']).size(),\n",
    "                           df[(df['outcome']=='UE')&(df['net.clearance']<0)&\n",
    "                              ((df['outside.sideline']==1)|(df['outside.baseline']==1))].groupby(['outcome']).size(),\n",
    "                           sum(df[(df['net.clearance']<0)&\n",
    "                              ((df['outside.sideline']==1)|(df['outside.baseline']==1))].groupby(['outcome']).size())]], \n",
    "               headers=['W', 'FE','UE','Counts']))\n",
    "\n"
   ]
  }
 ],
 "metadata": {
  "kernelspec": {
   "display_name": "Python 3",
   "language": "python",
   "name": "python3"
  },
  "language_info": {
   "codemirror_mode": {
    "name": "ipython",
    "version": 3
   },
   "file_extension": ".py",
   "mimetype": "text/x-python",
   "name": "python",
   "nbconvert_exporter": "python",
   "pygments_lexer": "ipython3",
   "version": "3.7.4"
  }
 },
 "nbformat": 4,
 "nbformat_minor": 2
}
