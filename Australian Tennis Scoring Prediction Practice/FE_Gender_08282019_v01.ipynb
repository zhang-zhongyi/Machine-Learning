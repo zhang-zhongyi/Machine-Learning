{
 "cells": [
  {
   "cell_type": "markdown",
   "metadata": {},
   "source": [
    "<div style=\"text-align: center; font-size:1.25em;\"> Jonathan Williams, Zhongyi Zhang, Stevan Zlojutro</div>\n",
    "<div style=\"text-align: center\"> MSCA 31009 </div>\n",
    "<div style=\"text-align: center\"> Final Project </div>"
   ]
  },
  {
   "cell_type": "markdown",
   "metadata": {},
   "source": [
    "### Notebook using One Hot Encoding"
   ]
  },
  {
   "cell_type": "markdown",
   "metadata": {},
   "source": [
    "### Table of Contents\n",
    "<br>\n",
    "<div class=\"toc\">\n",
    "  <ol>\n",
    "      <a id='home01'></a>\n",
    "      <li><a href=\"#1\"><span style=\"font-size:1.15em;\"><b>Data Processing:</b></span></a>\n",
    "          <br>&ensp;&ensp;<a href=\"#1a\">Import the data</a>\n",
    "          <br>&ensp;&ensp;<a href=\"#1b\">Define categorical variables</a>\n",
    "          <br>&ensp;&ensp;<a href=\"#1c\">Create 2nd Order Interactions for X DataFrame</a>\n",
    "          <br>&ensp;&ensp;<a href=\"#1d\">Split data into train / test set.</a>\n",
    "      </li><br>\n",
    "      <a id='home02'></a>\n",
    "      <li><a href=\"#2\"><span style=\"font-size:1.15em;\"><b>Random Forest Classifier + GridSearchCV - Model 1:</b></span></a>\n",
    "          <br>&ensp;&ensp;$~~~$ Create a Random Forest.\n",
    "          <br>&ensp;&ensp;<a href=\"#2a\">Model 1 using RandomForestClassifier in sklearn</a>\n",
    "          <br>&ensp;&ensp;<a href=\"#2b\">Confusion matrix and Classification report for the test data</a>\n",
    "          <br>&ensp;&ensp;<a href=\"#2c\">Confusion matrix and Classification report for the train data</a>\n",
    "          <br>&ensp;&ensp;<a href=\"#2d\">Top 5 features</a>\n",
    "      </li><br>\n",
    "      <a id='home03'></a>\n",
    "      <li><a href=\"#3\"><span style=\"font-size:1.15em;\"><b>AdaBoost Classifier + GridSearchCV - Model 2:</b></span></a>\n",
    "          <br>&ensp;&ensp;$~~~$ Create a AdaBoostClassifier Model.\n",
    "          <br>&ensp;&ensp;<a href=\"#3a\">Model 2 using AdaBoostClassifier in sklearn</a>\n",
    "          <br>&ensp;&ensp;<a href=\"#3b\">Confusion matrix and Classification report for the test data</a>\n",
    "          <br>&ensp;&ensp;<a href=\"#3c\">Confusion matrix and Classification report for the train data</a>\n",
    "          <br>&ensp;&ensp;<a href=\"#3d\">Top 5 features</a>\n",
    "      </li><br>\n",
    "      <a id='home04'></a>\n",
    "      <li><a href=\"#4\"><span style=\"font-size:1.15em;\"><b>Gradient Boosting Classifier + GridSearchCV - Model 3:</b></span></a>\n",
    "          <br>&ensp;&ensp;$~~~$ Create a GradientBoostingClassifier Model.\n",
    "          <br>&ensp;&ensp;<a href=\"#4a\">Model 3 using GradientBoostingClassifier in sklearn</a>\n",
    "          <br>&ensp;&ensp;<a href=\"#4b\">Confusion matrix and Classification report for the test data</a>\n",
    "          <br>&ensp;&ensp;<a href=\"#4c\">Confusion matrix and Classification report for the train data</a>\n",
    "          <br>&ensp;&ensp;<a href=\"#4d\">Top 5 features</a>\n",
    "      </li><br>\n",
    "      <a id='home05'></a>\n",
    "      <li><a href=\"#5\"><span style=\"font-size:1.15em;\"><b>XGBoost Classifier + RandomizedSearchCV - Model 4:</b></span></a>\n",
    "          <br>&ensp;&ensp;$~~~$ Create a XGBClassifier Model.\n",
    "          <br>&ensp;&ensp;<a href=\"#5a\">Model 4 using XGBClassifier in XGBoost</a>\n",
    "          <br>&ensp;&ensp;<a href=\"#5b\">Confusion matrix and Classification report for the test data</a>\n",
    "          <br>&ensp;&ensp;<a href=\"#5c\">Confusion matrix and Classification report for the train data</a>\n",
    "          <br>&ensp;&ensp;<a href=\"#5d\">Top 5 features</a>\n",
    "      </li><br>\n",
    "      <a id='home06'></a>\n",
    "      <li><a href=\"#6\"><span style=\"font-size:1.15em;\"><b>Support Vector Machine Classifier + Polynomial Kernel + GridSearch - Model 5:</b></span></a>\n",
    "          <br>&ensp;&ensp;$~~~$ Create a SVM with a polynomial kernel. \n",
    "          <br>&ensp;&ensp;<a href=\"#6a\">Model 5 using SVM in sklearn</a>\n",
    "          <br>&ensp;&ensp;<a href=\"#6b\">Confusion matrix and Classification report for the test data</a>\n",
    "          <br>&ensp;&ensp;<a href=\"#6c\">Confusion matrix and Classification report for the train data</a>\n",
    "          <br>&ensp;&ensp;<a href=\"#5d\">Top 5 features</a>\n",
    "      </li><br>\n",
    "      <a id='home07'></a>\n",
    "      <li><a href=\"#7\"><span style=\"font-size:1.15em;\"><b>Support Vector Machine Classifier + RBF Kernel + Grid Search - Model 6: </b></span></a>\n",
    "          <br>&ensp;&ensp;$~~~$ Create a SVM with a RBF kernel.\n",
    "          <br>&ensp;&ensp;<a href=\"#7a\">Model 6 using VotingClassifier in sklearn</a>\n",
    "          <br>&ensp;&ensp;<a href=\"#7b\">Confusion matrix and Classification report for the test data</a>\n",
    "          <br>&ensp;&ensp;<a href=\"#7c\">Confusion matrix and Classification report for the train data</a>\n",
    "          <br>&ensp;&ensp;<a href=\"#5d\">Top 5 features</a>\n",
    "      </li><br>\n",
    "      <a id='home08'></a>\n",
    "      <li><a href=\"#8\"><span style=\"font-size:1.15em;\"><b>kNN -Model 7:</b></span></a>\n",
    "          <br>&ensp;&ensp;$~~~$ Blah, blah, blah\n",
    "          <br>&ensp;&ensp;<a href=\"#8a\">Model 7 using KNeighborsClassifier in sklearn</a>\n",
    "          <br>&ensp;&ensp;<a href=\"#8b\">Confusion matrix and Classification report for the test data</a>\n",
    "          <br>&ensp;&ensp;<a href=\"#8c\">Confusion matrix and Classification report for the train data</a>\n",
    "          <br>&ensp;&ensp;<a href=\"#5d\">Top 5 features</a>\n",
    "      </li><br>      \n",
    "      <a id='home09'></a>\n",
    "      <li><a href=\"#9\"><span style=\"font-size:1.15em;\"><b>Kernel Density Classification - Model 8:</b></span></a>\n",
    "          <br>&ensp;&ensp;$~~~$ Create a Kernel Density Estimation \n",
    "          <br>&ensp;&ensp;<a href=\"#9a\">Model 8 using KernelDensity in sklearn</a>\n",
    "          <br>&ensp;&ensp;<a href=\"#9b\">Confusion matrix and Classification report for the test data</a>\n",
    "          <br>&ensp;&ensp;<a href=\"#9c\">Confusion matrix and Classification report for the train data</a>\n",
    "          <br>&ensp;&ensp;<a href=\"#5d\">Top 5 features</a>\n",
    "      </li><br>      \n",
    "      <a id='home10'></a>\n",
    "      <li><a href=\"#10\"><span style=\"font-size:1.15em;\"><b>Stacking - Model 9::</b></span></a>\n",
    "          <br>&ensp;&ensp;$~~~$ Blah, blah, blah\n",
    "          <br>&ensp;&ensp;<a href=\"#11a\">Model 9 using DESlib</a>\n",
    "          <br>&ensp;&ensp;<a href=\"#11b\">Confusion matrix and Classification report for the test data</a>\n",
    "          <br>&ensp;&ensp;<a href=\"#11c\">Confusion matrix and Classification report for the train data</a>\n",
    "          <br>&ensp;&ensp;<a href=\"#5d\">Top 5 features</a>\n",
    "      </li><br>      \n",
    "      <a id='home11'></a>\n",
    "      <li><a href=\"#11\"><span style=\"font-size:1.15em;\"><b>Voting Classifier - Models 11a and 11b:</b></span></a>\n",
    "          <br>&ensp;&ensp;$~~~$ Create a Hord Voting Classifier\n",
    "          <br>&ensp;&ensp;$~~~$ Create a Soft Voting Classifier.\n",
    "          <br>&ensp;&ensp;<a href=\"#11a\">Model 5 and 6 using VotingClassifier in sklearn</a>\n",
    "          <br>&ensp;&ensp;<a href=\"#11b\">Confusion matrix and Classification report for the test data</a>\n",
    "          <br>&ensp;&ensp;<a href=\"#11c\">Confusion matrix and Classification report for the train data</a>\n",
    "      </li><br>\n",
    "    </ol>\n",
    "</div>"
   ]
  },
  {
   "cell_type": "markdown",
   "metadata": {},
   "source": [
    "## 1. Data Processing: <a name=\"1\"></a>\n",
    "[return to top](#home01)"
   ]
  },
  {
   "cell_type": "markdown",
   "metadata": {},
   "source": [
    "### Import the data <a name=\"1a\"></a>\n",
    "Combine mens and womens data into single dataset\n",
    "\n",
    "[return to top](#home01)"
   ]
  },
  {
   "cell_type": "code",
   "execution_count": 1,
   "metadata": {},
   "outputs": [
    {
     "name": "stdout",
     "output_type": "stream",
     "text": [
      "Shape of men_data: (5000, 27)\n",
      "Shape of women_data: (5000, 27)\n"
     ]
    }
   ],
   "source": [
    "# import library\n",
    "import pandas as pd\n",
    "import numpy as np\n",
    "\n",
    "# import mean train data set using pd\n",
    "men_data = pd.read_excel('mens_train_file.xlsx')\n",
    "\n",
    "# import womean train data set using pd\n",
    "women_data = pd.read_excel('womens_train_file.xlsx')\n",
    "\n",
    "# append gender\n",
    "men_data['gender'] = 'mens'\n",
    "women_data['gender'] = 'womens'\n",
    "\n",
    "# verify the shapes\n",
    "print('Shape of men_data:', men_data.shape)\n",
    "print('Shape of women_data:', women_data.shape)"
   ]
  },
  {
   "cell_type": "code",
   "execution_count": 2,
   "metadata": {},
   "outputs": [
    {
     "name": "stdout",
     "output_type": "stream",
     "text": [
      "Shape of new df (10000, 27)\n"
     ]
    }
   ],
   "source": [
    "df = pd.concat([men_data, women_data])\n",
    "\n",
    "# verify the shapes\n",
    "print('Shape of new df', df.shape)"
   ]
  },
  {
   "cell_type": "code",
   "execution_count": 3,
   "metadata": {},
   "outputs": [
    {
     "data": {
      "text/html": [
       "<div>\n",
       "<style scoped>\n",
       "    .dataframe tbody tr th:only-of-type {\n",
       "        vertical-align: middle;\n",
       "    }\n",
       "\n",
       "    .dataframe tbody tr th {\n",
       "        vertical-align: top;\n",
       "    }\n",
       "\n",
       "    .dataframe thead th {\n",
       "        text-align: right;\n",
       "    }\n",
       "</style>\n",
       "<table border=\"1\" class=\"dataframe\">\n",
       "  <thead>\n",
       "    <tr style=\"text-align: right;\">\n",
       "      <th></th>\n",
       "      <th>id</th>\n",
       "      <th>outcome</th>\n",
       "      <th>serve</th>\n",
       "      <th>rally</th>\n",
       "      <th>hitpoint</th>\n",
       "      <th>speed</th>\n",
       "      <th>net.clearance</th>\n",
       "      <th>distance.from.sideline</th>\n",
       "      <th>depth</th>\n",
       "      <th>outside.sideline</th>\n",
       "      <th>...</th>\n",
       "      <th>previous.net.clearance</th>\n",
       "      <th>previous.distance.from.sideline</th>\n",
       "      <th>previous.depth</th>\n",
       "      <th>opponent.depth</th>\n",
       "      <th>opponent.distance.from.center</th>\n",
       "      <th>same.side</th>\n",
       "      <th>previous.hitpoint</th>\n",
       "      <th>previous.time.to.net</th>\n",
       "      <th>server.is.impact.player</th>\n",
       "      <th>gender</th>\n",
       "    </tr>\n",
       "  </thead>\n",
       "  <tbody>\n",
       "    <tr>\n",
       "      <th>0</th>\n",
       "      <td>5718</td>\n",
       "      <td>UE</td>\n",
       "      <td>1</td>\n",
       "      <td>4</td>\n",
       "      <td>B</td>\n",
       "      <td>35.515042</td>\n",
       "      <td>-0.021725</td>\n",
       "      <td>3.474766</td>\n",
       "      <td>6.797621</td>\n",
       "      <td>0</td>\n",
       "      <td>...</td>\n",
       "      <td>1.350533</td>\n",
       "      <td>2.449182</td>\n",
       "      <td>0.705435</td>\n",
       "      <td>12.5628</td>\n",
       "      <td>2.0724</td>\n",
       "      <td>1</td>\n",
       "      <td>F</td>\n",
       "      <td>0.445318</td>\n",
       "      <td>0</td>\n",
       "      <td>mens</td>\n",
       "    </tr>\n",
       "    <tr>\n",
       "      <th>1</th>\n",
       "      <td>371</td>\n",
       "      <td>FE</td>\n",
       "      <td>2</td>\n",
       "      <td>4</td>\n",
       "      <td>B</td>\n",
       "      <td>33.382640</td>\n",
       "      <td>1.114202</td>\n",
       "      <td>2.540801</td>\n",
       "      <td>2.608708</td>\n",
       "      <td>0</td>\n",
       "      <td>...</td>\n",
       "      <td>0.760499</td>\n",
       "      <td>0.583291</td>\n",
       "      <td>3.856600</td>\n",
       "      <td>12.3544</td>\n",
       "      <td>5.1124</td>\n",
       "      <td>0</td>\n",
       "      <td>B</td>\n",
       "      <td>0.432434</td>\n",
       "      <td>0</td>\n",
       "      <td>mens</td>\n",
       "    </tr>\n",
       "    <tr>\n",
       "      <th>2</th>\n",
       "      <td>7948</td>\n",
       "      <td>FE</td>\n",
       "      <td>1</td>\n",
       "      <td>23</td>\n",
       "      <td>B</td>\n",
       "      <td>22.316690</td>\n",
       "      <td>-0.254046</td>\n",
       "      <td>3.533166</td>\n",
       "      <td>9.435749</td>\n",
       "      <td>0</td>\n",
       "      <td>...</td>\n",
       "      <td>0.377732</td>\n",
       "      <td>1.115250</td>\n",
       "      <td>2.908892</td>\n",
       "      <td>13.8620</td>\n",
       "      <td>1.6564</td>\n",
       "      <td>0</td>\n",
       "      <td>F</td>\n",
       "      <td>0.397538</td>\n",
       "      <td>1</td>\n",
       "      <td>mens</td>\n",
       "    </tr>\n",
       "    <tr>\n",
       "      <th>3</th>\n",
       "      <td>9312</td>\n",
       "      <td>UE</td>\n",
       "      <td>1</td>\n",
       "      <td>9</td>\n",
       "      <td>F</td>\n",
       "      <td>36.837309</td>\n",
       "      <td>0.766694</td>\n",
       "      <td>0.586885</td>\n",
       "      <td>3.342180</td>\n",
       "      <td>1</td>\n",
       "      <td>...</td>\n",
       "      <td>1.239033</td>\n",
       "      <td>3.256695</td>\n",
       "      <td>0.557554</td>\n",
       "      <td>14.2596</td>\n",
       "      <td>0.1606</td>\n",
       "      <td>1</td>\n",
       "      <td>B</td>\n",
       "      <td>0.671984</td>\n",
       "      <td>1</td>\n",
       "      <td>mens</td>\n",
       "    </tr>\n",
       "    <tr>\n",
       "      <th>4</th>\n",
       "      <td>7667</td>\n",
       "      <td>W</td>\n",
       "      <td>1</td>\n",
       "      <td>4</td>\n",
       "      <td>B</td>\n",
       "      <td>35.544208</td>\n",
       "      <td>0.116162</td>\n",
       "      <td>0.918725</td>\n",
       "      <td>5.499119</td>\n",
       "      <td>0</td>\n",
       "      <td>...</td>\n",
       "      <td>0.165731</td>\n",
       "      <td>1.431146</td>\n",
       "      <td>3.945317</td>\n",
       "      <td>11.3658</td>\n",
       "      <td>1.1082</td>\n",
       "      <td>0</td>\n",
       "      <td>F</td>\n",
       "      <td>0.340411</td>\n",
       "      <td>0</td>\n",
       "      <td>mens</td>\n",
       "    </tr>\n",
       "  </tbody>\n",
       "</table>\n",
       "<p>5 rows × 27 columns</p>\n",
       "</div>"
      ],
      "text/plain": [
       "     id outcome  serve  rally hitpoint      speed  net.clearance  \\\n",
       "0  5718      UE      1      4        B  35.515042      -0.021725   \n",
       "1   371      FE      2      4        B  33.382640       1.114202   \n",
       "2  7948      FE      1     23        B  22.316690      -0.254046   \n",
       "3  9312      UE      1      9        F  36.837309       0.766694   \n",
       "4  7667       W      1      4        B  35.544208       0.116162   \n",
       "\n",
       "   distance.from.sideline     depth  outside.sideline  ...  \\\n",
       "0                3.474766  6.797621                 0  ...   \n",
       "1                2.540801  2.608708                 0  ...   \n",
       "2                3.533166  9.435749                 0  ...   \n",
       "3                0.586885  3.342180                 1  ...   \n",
       "4                0.918725  5.499119                 0  ...   \n",
       "\n",
       "   previous.net.clearance  previous.distance.from.sideline  previous.depth  \\\n",
       "0                1.350533                         2.449182        0.705435   \n",
       "1                0.760499                         0.583291        3.856600   \n",
       "2                0.377732                         1.115250        2.908892   \n",
       "3                1.239033                         3.256695        0.557554   \n",
       "4                0.165731                         1.431146        3.945317   \n",
       "\n",
       "   opponent.depth  opponent.distance.from.center  same.side  \\\n",
       "0         12.5628                         2.0724          1   \n",
       "1         12.3544                         5.1124          0   \n",
       "2         13.8620                         1.6564          0   \n",
       "3         14.2596                         0.1606          1   \n",
       "4         11.3658                         1.1082          0   \n",
       "\n",
       "   previous.hitpoint  previous.time.to.net  server.is.impact.player  gender  \n",
       "0                  F              0.445318                        0    mens  \n",
       "1                  B              0.432434                        0    mens  \n",
       "2                  F              0.397538                        1    mens  \n",
       "3                  B              0.671984                        1    mens  \n",
       "4                  F              0.340411                        0    mens  \n",
       "\n",
       "[5 rows x 27 columns]"
      ]
     },
     "execution_count": 3,
     "metadata": {},
     "output_type": "execute_result"
    }
   ],
   "source": [
    "df.head()"
   ]
  },
  {
   "cell_type": "code",
   "execution_count": 4,
   "metadata": {},
   "outputs": [],
   "source": [
    "# reset index values and not include old index as a column\n",
    "df = df.reset_index(drop=True)"
   ]
  },
  {
   "cell_type": "code",
   "execution_count": 5,
   "metadata": {},
   "outputs": [
    {
     "data": {
      "text/plain": [
       "Index(['id', 'outcome', 'serve', 'rally', 'hitpoint', 'speed', 'net.clearance',\n",
       "       'distance.from.sideline', 'depth', 'outside.sideline',\n",
       "       'outside.baseline', 'player.distance.travelled', 'player.impact.depth',\n",
       "       'player.impact.distance.from.center', 'player.depth',\n",
       "       'player.distance.from.center', 'previous.speed',\n",
       "       'previous.net.clearance', 'previous.distance.from.sideline',\n",
       "       'previous.depth', 'opponent.depth', 'opponent.distance.from.center',\n",
       "       'same.side', 'previous.hitpoint', 'previous.time.to.net',\n",
       "       'server.is.impact.player', 'gender'],\n",
       "      dtype='object')"
      ]
     },
     "execution_count": 5,
     "metadata": {},
     "output_type": "execute_result"
    }
   ],
   "source": [
    "df.columns"
   ]
  },
  {
   "cell_type": "code",
   "execution_count": 6,
   "metadata": {},
   "outputs": [
    {
     "data": {
      "text/plain": [
       "id                                      int64\n",
       "outcome                                object\n",
       "serve                                   int64\n",
       "rally                                   int64\n",
       "hitpoint                               object\n",
       "speed                                 float64\n",
       "net.clearance                         float64\n",
       "distance.from.sideline                float64\n",
       "depth                                 float64\n",
       "outside.sideline                        int64\n",
       "outside.baseline                        int64\n",
       "player.distance.travelled             float64\n",
       "player.impact.depth                   float64\n",
       "player.impact.distance.from.center    float64\n",
       "player.depth                          float64\n",
       "player.distance.from.center           float64\n",
       "previous.speed                        float64\n",
       "previous.net.clearance                float64\n",
       "previous.distance.from.sideline       float64\n",
       "previous.depth                        float64\n",
       "opponent.depth                        float64\n",
       "opponent.distance.from.center         float64\n",
       "same.side                               int64\n",
       "previous.hitpoint                      object\n",
       "previous.time.to.net                  float64\n",
       "server.is.impact.player                 int64\n",
       "gender                                 object\n",
       "dtype: object"
      ]
     },
     "execution_count": 6,
     "metadata": {},
     "output_type": "execute_result"
    }
   ],
   "source": [
    "df.dtypes"
   ]
  },
  {
   "cell_type": "markdown",
   "metadata": {},
   "source": [
    "**May need to change certain columns into type category**"
   ]
  },
  {
   "cell_type": "markdown",
   "metadata": {},
   "source": [
    "### Engineer New Features"
   ]
  },
  {
   "cell_type": "code",
   "execution_count": 7,
   "metadata": {},
   "outputs": [
    {
     "name": "stdout",
     "output_type": "stream",
     "text": [
      "             W    FE    UE    Counts\n",
      "--------  ----  ----  ----  --------\n",
      "Over/In   3263   266   245      3774\n",
      "Over/Out    28  1803  1630      3461\n",
      "Net/In      58  1306  1245      2609\n",
      "Net/Out      3    81    72       156\n"
     ]
    }
   ],
   "source": [
    "from tabulate import tabulate\n",
    "\n",
    "print(tabulate([['Over/In', df[(df['outcome']=='W')&(df['net.clearance']>0)&\n",
    "                               (df['outside.sideline']==0)&(df['outside.baseline']==0)].groupby(['outcome']).size(), \n",
    "                            df[(df['outcome']=='FE')&(df['net.clearance']>0)&\n",
    "                               (df['outside.sideline']==0)&(df['outside.baseline']==0)].groupby(['outcome']).size(),\n",
    "                            df[(df['outcome']=='UE')&(df['net.clearance']>0)&\n",
    "                               (df['outside.sideline']==0)&(df['outside.baseline']==0)].groupby(['outcome']).size(),\n",
    "                            sum(df[(df['net.clearance']>0)&\n",
    "                               (df['outside.sideline']==0)&(df['outside.baseline']==0)].groupby(['outcome']).size())], \n",
    "                ['Over/Out', df[(df['outcome']=='W')&(df['net.clearance']>0)&\n",
    "                                ((df['outside.sideline']==1)|(df['outside.baseline']==1))].groupby(['outcome']).size(), \n",
    "                             df[(df['outcome']=='FE')&(df['net.clearance']>0)&\n",
    "                                ((df['outside.sideline']==1)|(df['outside.baseline']==1))].groupby(['outcome']).size(),\n",
    "                             df[(df['outcome']=='UE')&(df['net.clearance']>0)&\n",
    "                                ((df['outside.sideline']==1)|(df['outside.baseline']==1))].groupby(['outcome']).size(),\n",
    "                             sum(df[(df['net.clearance']>0)&\n",
    "                                ((df['outside.sideline']==1)|(df['outside.baseline']==1))].groupby(['outcome']).size())], \n",
    "                ['Net/In', df[(df['outcome']=='W')&(df['net.clearance']<0)&\n",
    "                              (df['outside.sideline']==0)&(df['outside.baseline']==0)].groupby(['outcome']).size(),\n",
    "                           df[(df['outcome']=='FE')&(df['net.clearance']<0)&\n",
    "                              (df['outside.sideline']==0)&(df['outside.baseline']==0)].groupby(['outcome']).size(),\n",
    "                           df[(df['outcome']=='UE')&(df['net.clearance']<0)&\n",
    "                              (df['outside.sideline']==0)&(df['outside.baseline']==0)].groupby(['outcome']).size(),\n",
    "                           sum(df[(df['net.clearance']<0)&\n",
    "                              (df['outside.sideline']==0)&(df['outside.baseline']==0)].groupby(['outcome']).size())], \n",
    "               ['Net/Out', df[(df['outcome']=='W')&(df['net.clearance']<0)&\n",
    "                              ((df['outside.sideline']==1)|(df['outside.baseline']==1))].groupby(['outcome']).size(),\n",
    "                           df[(df['outcome']=='FE')&(df['net.clearance']<0)&\n",
    "                              ((df['outside.sideline']==1)|(df['outside.baseline']==1))].groupby(['outcome']).size(),\n",
    "                           df[(df['outcome']=='UE')&(df['net.clearance']<0)&\n",
    "                              ((df['outside.sideline']==1)|(df['outside.baseline']==1))].groupby(['outcome']).size(),\n",
    "                           sum(df[(df['net.clearance']<0)&\n",
    "                              ((df['outside.sideline']==1)|(df['outside.baseline']==1))].groupby(['outcome']).size())]], \n",
    "               headers=['W', 'FE','UE','Counts']))\n"
   ]
  },
  {
   "cell_type": "code",
   "execution_count": 8,
   "metadata": {},
   "outputs": [],
   "source": [
    "# distance between players\n",
    "def player_distances_start(df):\n",
    "    if df['same.side'] == 1:\n",
    "        return ((df['opponent.distance.from.center']-df['player.distance.from.center'])**2+\n",
    "                (df['opponent.depth']+df['player.depth'])**2)**(1/2)\n",
    "    elif df['same.side'] == 0:\n",
    "        return ((df['opponent.distance.from.center']+df['player.distance.from.center'])**2+\n",
    "                (df['opponent.depth']+df['player.depth'])**2)**(1/2)\n",
    "def player_distances_end(df):\n",
    "    if df['same.side'] == 1:\n",
    "        return ((df['opponent.distance.from.center']-df['player.impact.distance.from.center'])**2+\n",
    "                (df['opponent.depth']+df['player.impact.depth'])**2)**(1/2)\n",
    "    elif df['same.side'] == 0:\n",
    "        return ((df['opponent.distance.from.center']+df['player.impact.distance.from.center'])**2+\n",
    "                (df['opponent.depth']+df['player.impact.depth'])**2)**(1/2)\n",
    "    \n",
    "df['fe_player.distance.start'] = df.apply (lambda df: player_distances_start(df), axis=1)\n",
    "df['fe_player.distances.end'] = df.apply (lambda df: player_distances_end(df), axis=1)"
   ]
  },
  {
   "cell_type": "markdown",
   "metadata": {},
   "source": [
    "Still need to keep 'opponent.distance.from.center', 'opponent.depth', 'player.distance.from.center', and 'player.impact.depth' since it is the only way to capture player position on the court."
   ]
  },
  {
   "cell_type": "markdown",
   "metadata": {},
   "source": [
    "If over net and landed in court, should always be a winner"
   ]
  },
  {
   "cell_type": "code",
   "execution_count": 9,
   "metadata": {},
   "outputs": [],
   "source": [
    "# net clearance > 0 for over and outsidebaseline AND outsidesideline = 0\n",
    "df['fe_over.in'] = (df[\"net.clearance\"] >= 0.00) & ((df[\"outside.baseline\"] == 0) & (df[\"outside.sideline\"] == 0))\n",
    "\n",
    "# replace values with 0, 1\n",
    "df['fe_over.in'] = df['fe_over.in'].replace({False: 0, True: 1})"
   ]
  },
  {
   "cell_type": "markdown",
   "metadata": {},
   "source": [
    "If over net and landed out, should be either FE or UE"
   ]
  },
  {
   "cell_type": "code",
   "execution_count": 10,
   "metadata": {},
   "outputs": [],
   "source": [
    "# net clearance > 0 for over and outsidebaseline Or outsidesideline = 1\n",
    "df['fe_over.out'] = ((df['net.clearance'] > 0.00) & ((df[\"outside.baseline\"] == 1) | (df[\"outside.sideline\"] == 1))) | ((df['net.clearance'] > 0) & ((df[\"outside.baseline\"] == 1) & (df[\"outside.sideline\"] == 1)))\n",
    "\n",
    "# replace values with 0, 1 \n",
    "df['fe_over.out'] = df['fe_over.out'].replace({False: 0, True: 1})"
   ]
  },
  {
   "cell_type": "markdown",
   "metadata": {},
   "source": [
    "If hits net (by data dict), then should be either FE or UE"
   ]
  },
  {
   "cell_type": "code",
   "execution_count": 11,
   "metadata": {},
   "outputs": [],
   "source": [
    "df['fe_net.in'] = (df[\"net.clearance\"] < 0.00) & ((df[\"outside.baseline\"] == 0) & (df[\"outside.sideline\"] == 0))\n",
    "\n",
    "# replace values with 0, 1\n",
    "df['fe_net.in'] = df['fe_net.in'].replace({False: 0, True: 1})"
   ]
  },
  {
   "cell_type": "markdown",
   "metadata": {},
   "source": [
    "If hits net (by data dict), then should be either FE or UE"
   ]
  },
  {
   "cell_type": "code",
   "execution_count": 12,
   "metadata": {},
   "outputs": [],
   "source": [
    "# net clearance > 0 for over and outsidebaseline Or outsidesideline = 1\n",
    "df['fe_net.out'] = ((df[\"net.clearance\"] < 0.00) & ((df[\"outside.baseline\"] == 1) | (df[\"outside.sideline\"] == 1))) | ((df[\"net.clearance\"] < 0) & ((df[\"outside.baseline\"] == 1) & (df[\"outside.sideline\"] == 1)))\n",
    "\n",
    "# replace values with 0, 1 \n",
    "df['fe_net.out'] = df['fe_net.out'].replace({False: 0, True: 1})"
   ]
  },
  {
   "cell_type": "code",
   "execution_count": 13,
   "metadata": {},
   "outputs": [
    {
     "data": {
      "text/plain": [
       "10000"
      ]
     },
     "execution_count": 13,
     "metadata": {},
     "output_type": "execute_result"
    }
   ],
   "source": [
    "df['fe_over.in'].sum()+df['fe_over.out'].sum()+df['fe_net.in'].sum()+df['fe_net.out'].sum()"
   ]
  },
  {
   "cell_type": "markdown",
   "metadata": {},
   "source": [
    "Since outside.baseline and outside.sideline are captured in newly engineered features, they can be droped. We still need net.clearance since that contains continous data."
   ]
  },
  {
   "cell_type": "code",
   "execution_count": 14,
   "metadata": {},
   "outputs": [],
   "source": [
    "df = df.drop(columns=['outside.baseline', 'outside.sideline'])"
   ]
  },
  {
   "cell_type": "code",
   "execution_count": 15,
   "metadata": {},
   "outputs": [
    {
     "data": {
      "text/plain": [
       "(10000,)"
      ]
     },
     "execution_count": 15,
     "metadata": {},
     "output_type": "execute_result"
    }
   ],
   "source": [
    "df['fe_net.out'].shape"
   ]
  },
  {
   "cell_type": "markdown",
   "metadata": {},
   "source": [
    "A negative  value represents where the ball hit the net, where positive values mean that the ball went over the net. Model should only be consider with values where the ball went over the net. "
   ]
  },
  {
   "cell_type": "code",
   "execution_count": 16,
   "metadata": {},
   "outputs": [],
   "source": [
    "#df['net.clearance'] = df['net.clearance'].clip(lower=0)"
   ]
  },
  {
   "cell_type": "markdown",
   "metadata": {},
   "source": [
    "If a player travels a long distance for a fast incoming return and loses a point, it should identify whether it is a forced error."
   ]
  },
  {
   "cell_type": "code",
   "execution_count": 17,
   "metadata": {},
   "outputs": [],
   "source": [
    "df['fe_rush.shot'] = df['player.distance.travelled']*df['previous.speed']*(df['fe_over.out']+df['fe_net.in']+df['fe_net.out'])"
   ]
  },
  {
   "cell_type": "markdown",
   "metadata": {},
   "source": [
    "In the below, row 0 is a UE, row 1 is a FE, row 2 is a FE, row 3 is a UE, and row 4 is a W. The FE errors have much higher values per the new feature, fe_rush.shot."
   ]
  },
  {
   "cell_type": "code",
   "execution_count": 18,
   "metadata": {},
   "outputs": [
    {
     "data": {
      "text/plain": [
       "0     47.422461\n",
       "1     78.746204\n",
       "2    155.394255\n",
       "3     14.604617\n",
       "4      0.000000\n",
       "Name: fe_rush.shot, dtype: float64"
      ]
     },
     "execution_count": 18,
     "metadata": {},
     "output_type": "execute_result"
    }
   ],
   "source": [
    "df['fe_rush.shot'].head()"
   ]
  },
  {
   "cell_type": "code",
   "execution_count": 19,
   "metadata": {},
   "outputs": [],
   "source": [
    "df['fe_flop.shot'] = df['player.distance.travelled']*df['speed']*(df['fe_over.out']+df['fe_net.in']+df['fe_net.out'])"
   ]
  },
  {
   "cell_type": "code",
   "execution_count": 20,
   "metadata": {},
   "outputs": [
    {
     "data": {
      "text/plain": [
       "0    52.120814\n",
       "1    77.178372\n",
       "2    87.118291\n",
       "3    21.503605\n",
       "4     0.000000\n",
       "Name: fe_flop.shot, dtype: float64"
      ]
     },
     "execution_count": 20,
     "metadata": {},
     "output_type": "execute_result"
    }
   ],
   "source": [
    "df['fe_flop.shot'].head()"
   ]
  },
  {
   "cell_type": "code",
   "execution_count": 21,
   "metadata": {},
   "outputs": [],
   "source": [
    "# remove all rows where column value is > 200 based on visually looking at the 3b scatter plot from HW #1\n",
    "#full_data.drop(full_data[full_data.STheta > 200].index, inplace=True)"
   ]
  },
  {
   "cell_type": "markdown",
   "metadata": {},
   "source": [
    "When evaluating gender as it relates to forced errors (fe) we see nearly opposite relationships with certain features."
   ]
  },
  {
   "cell_type": "code",
   "execution_count": 22,
   "metadata": {},
   "outputs": [
    {
     "data": {
      "text/plain": [
       "speed                             -0.324038\n",
       "opponent.depth                    -0.238831\n",
       "previous.distance.from.sideline   -0.347894\n",
       "player.distance.travelled          0.217453\n",
       "fe_player.distance.start          -0.081946\n",
       "depth                              0.166616\n",
       "player.distance.from.center        0.124476\n",
       "outcome                            1.000000\n",
       "Name: outcome, dtype: float64"
      ]
     },
     "execution_count": 22,
     "metadata": {},
     "output_type": "execute_result"
    }
   ],
   "source": [
    "df_mens = df.loc[(df['gender'] == 'mens')].copy()\n",
    "df_mens['outcome'] = df_mens['outcome'].replace({'W': 0, 'UE': 0, 'FE': 1})\n",
    "df_mens[['speed', 'opponent.depth', 'previous.distance.from.sideline', 'player.distance.travelled',\n",
    "        'fe_player.distance.start', 'depth', 'player.distance.from.center','outcome']].corr()['outcome'][:]"
   ]
  },
  {
   "cell_type": "code",
   "execution_count": null,
   "metadata": {},
   "outputs": [],
   "source": []
  },
  {
   "cell_type": "code",
   "execution_count": null,
   "metadata": {},
   "outputs": [],
   "source": []
  },
  {
   "cell_type": "code",
   "execution_count": null,
   "metadata": {},
   "outputs": [],
   "source": []
  },
  {
   "cell_type": "code",
   "execution_count": null,
   "metadata": {},
   "outputs": [],
   "source": []
  },
  {
   "cell_type": "code",
   "execution_count": 23,
   "metadata": {},
   "outputs": [],
   "source": [
    "import matplotlib.pyplot as plt\n",
    "from sklearn.svm import LinearSVC"
   ]
  },
  {
   "cell_type": "code",
   "execution_count": 24,
   "metadata": {},
   "outputs": [],
   "source": [
    "df_mens = df.loc[(df['gender'] == 'mens')].copy()\n",
    "df_mens = df_mens[df_mens['outcome'] != 'W']\n",
    "df_mens['outcome'] = df_mens['outcome'].replace({'UE': 0, 'FE': 1})"
   ]
  },
  {
   "cell_type": "code",
   "execution_count": 25,
   "metadata": {},
   "outputs": [
    {
     "data": {
      "text/plain": [
       "<matplotlib.axes._subplots.AxesSubplot at 0x207f966a198>"
      ]
     },
     "execution_count": 25,
     "metadata": {},
     "output_type": "execute_result"
    },
    {
     "data": {
      "image/png": "[encoded data removed]",
      "text/plain": [
       "<Figure size 432x288 with 2 Axes>"
      ]
     },
     "metadata": {
      "needs_background": "light"
     },
     "output_type": "display_data"
    }
   ],
   "source": [
    "df_mens_plot = df_mens[['outcome', 'previous.net.clearance', 'player.distance.travelled']]\n",
    "df_mens_plot.plot.scatter('player.distance.travelled', 'previous.net.clearance', c = 'outcome', colormap = 'coolwarm')"
   ]
  },
  {
   "cell_type": "code",
   "execution_count": 26,
   "metadata": {},
   "outputs": [],
   "source": [
    "# X matrix (features / independent variables)\n",
    "X_fe_men_plot = df_mens.filter(['previous.net.clearance', 'player.distance.travelled'], axis=1)\n",
    "\n",
    "# y matrix (target / dependent variable) will be: T_degC\n",
    "y_fe_men_plot = df_mens['outcome']"
   ]
  },
  {
   "cell_type": "code",
   "execution_count": 27,
   "metadata": {},
   "outputs": [],
   "source": [
    "clf_men = LinearSVC()"
   ]
  },
  {
   "cell_type": "code",
   "execution_count": 28,
   "metadata": {},
   "outputs": [
    {
     "name": "stderr",
     "output_type": "stream",
     "text": [
      "C:\\Users\\Stevan\\Anaconda3\\lib\\site-packages\\sklearn\\svm\\base.py:931: ConvergenceWarning: Liblinear failed to converge, increase the number of iterations.\n",
      "  \"the number of iterations.\", ConvergenceWarning)\n"
     ]
    },
    {
     "data": {
      "text/plain": [
       "LinearSVC(C=1.0, class_weight=None, dual=True, fit_intercept=True,\n",
       "     intercept_scaling=1, loss='squared_hinge', max_iter=1000,\n",
       "     multi_class='ovr', penalty='l2', random_state=None, tol=0.0001,\n",
       "     verbose=0)"
      ]
     },
     "execution_count": 28,
     "metadata": {},
     "output_type": "execute_result"
    }
   ],
   "source": [
    "clf_men.fit(X_fe_men_plot, y_fe_men_plot)"
   ]
  },
  {
   "cell_type": "code",
   "execution_count": 29,
   "metadata": {},
   "outputs": [],
   "source": [
    "df['fe_men_error_differentiation'] = pd.DataFrame(clf_men.predict(X_fe_men_plot))"
   ]
  },
  {
   "cell_type": "code",
   "execution_count": 30,
   "metadata": {},
   "outputs": [],
   "source": [
    "df['fe_men_error_differentiation'].to_excel(\"men.xlsx\")"
   ]
  },
  {
   "cell_type": "code",
   "execution_count": null,
   "metadata": {},
   "outputs": [],
   "source": [
    "for i in range(len(df)):\n",
    "    if df['gender'][i] == \"womens\":\n",
    "        fe_men_error_differentiation[i] = \"womens\"\n",
    "        \n",
    "    elif df['fe_over.in'][i] == 1:\n",
    "        fe_men_error_differentiation[i] = \"W\"\n",
    "    \n",
    "    elif df['fe_men_error_differentiation'][i] == 1:\n",
    "        fe_men_error_differentiation[i] = \"FE\"\n",
    "        \n",
    "    else:\n",
    "        df['fe_men_error_differentiation'][i] == df['fe_men_error_differentiation'][i]"
   ]
  },
  {
   "cell_type": "code",
   "execution_count": null,
   "metadata": {},
   "outputs": [],
   "source": [
    "df.insert(2, \"fe_men_error_differentiation\", fe_men_error_differentiation)"
   ]
  },
  {
   "cell_type": "code",
   "execution_count": null,
   "metadata": {},
   "outputs": [],
   "source": [
    "df.to_excel(\"df123.xlsx\")"
   ]
  },
  {
   "cell_type": "code",
   "execution_count": null,
   "metadata": {},
   "outputs": [],
   "source": []
  },
  {
   "cell_type": "code",
   "execution_count": null,
   "metadata": {},
   "outputs": [],
   "source": []
  },
  {
   "cell_type": "code",
   "execution_count": null,
   "metadata": {},
   "outputs": [],
   "source": []
  },
  {
   "cell_type": "code",
   "execution_count": 31,
   "metadata": {},
   "outputs": [],
   "source": [
    "df_womens = df.loc[(df['gender'] == 'womens')].copy()\n",
    "df_womens = df_womens[df_womens['outcome'] != 'W']\n",
    "df_womens['outcome'] = df_womens['outcome'].replace({'UE': 0, 'FE': 1})"
   ]
  },
  {
   "cell_type": "code",
   "execution_count": 32,
   "metadata": {},
   "outputs": [
    {
     "data": {
      "text/plain": [
       "<matplotlib.axes._subplots.AxesSubplot at 0x207f9bbb5c0>"
      ]
     },
     "execution_count": 32,
     "metadata": {},
     "output_type": "execute_result"
    },
    {
     "data": {
      "image/png": "[encoded data removed]",
      "text/plain": [
       "<Figure size 432x288 with 2 Axes>"
      ]
     },
     "metadata": {
      "needs_background": "light"
     },
     "output_type": "display_data"
    }
   ],
   "source": [
    "df_womens_plot = df_womens[['outcome', 'previous.net.clearance', 'player.distance.travelled']]\n",
    "df_womens_plot.plot.scatter('previous.net.clearance', 'player.distance.travelled', c = 'outcome', colormap = 'coolwarm')"
   ]
  },
  {
   "cell_type": "code",
   "execution_count": 33,
   "metadata": {},
   "outputs": [],
   "source": [
    "# X matrix (features / independent variables)\n",
    "X_fe_women_plot = df_womens.filter(['previous.net.clearance', 'player.distance.travelled'], axis=1)\n",
    "\n",
    "# y matrix (target / dependent variable) will be: T_degC\n",
    "y_fe_women_plot = df_womens['outcome']"
   ]
  },
  {
   "cell_type": "code",
   "execution_count": 34,
   "metadata": {},
   "outputs": [],
   "source": [
    "clf_women = LinearSVC()"
   ]
  },
  {
   "cell_type": "code",
   "execution_count": 35,
   "metadata": {},
   "outputs": [
    {
     "name": "stderr",
     "output_type": "stream",
     "text": [
      "C:\\Users\\Stevan\\Anaconda3\\lib\\site-packages\\sklearn\\svm\\base.py:931: ConvergenceWarning: Liblinear failed to converge, increase the number of iterations.\n",
      "  \"the number of iterations.\", ConvergenceWarning)\n"
     ]
    },
    {
     "data": {
      "text/plain": [
       "LinearSVC(C=1.0, class_weight=None, dual=True, fit_intercept=True,\n",
       "     intercept_scaling=1, loss='squared_hinge', max_iter=1000,\n",
       "     multi_class='ovr', penalty='l2', random_state=None, tol=0.0001,\n",
       "     verbose=0)"
      ]
     },
     "execution_count": 35,
     "metadata": {},
     "output_type": "execute_result"
    }
   ],
   "source": [
    "clf_women.fit(X_fe_women_plot, y_fe_women_plot)"
   ]
  },
  {
   "cell_type": "code",
   "execution_count": 36,
   "metadata": {},
   "outputs": [],
   "source": [
    "df['fe_women_error_differentiation'] = pd.DataFrame(clf_women.predict(X_fe_women_plot))"
   ]
  },
  {
   "cell_type": "code",
   "execution_count": 39,
   "metadata": {},
   "outputs": [],
   "source": [
    "df_womens['outcome'].to_excel(\"women_outcome.xlsx\")"
   ]
  },
  {
   "cell_type": "code",
   "execution_count": 40,
   "metadata": {},
   "outputs": [],
   "source": [
    "df['fe_women_error_differentiation'].to_excel(\"women_error.xlsx\")"
   ]
  },
  {
   "cell_type": "code",
   "execution_count": null,
   "metadata": {},
   "outputs": [],
   "source": []
  },
  {
   "cell_type": "code",
   "execution_count": null,
   "metadata": {},
   "outputs": [],
   "source": []
  },
  {
   "cell_type": "code",
   "execution_count": null,
   "metadata": {},
   "outputs": [],
   "source": []
  },
  {
   "cell_type": "code",
   "execution_count": null,
   "metadata": {},
   "outputs": [],
   "source": [
    "df.columns"
   ]
  },
  {
   "cell_type": "code",
   "execution_count": null,
   "metadata": {},
   "outputs": [],
   "source": [
    "a = df.loc[(df['gender'] == 'womens') & ((df['fe_net.in'] == 1) | (df['fe_net.out'] == 1) | (df['fe_over.out'] == 1))].copy()\n",
    "a['speed'] = a['speed'] * -1\n",
    "a['opponent.depth'] = a['opponent.depth'] * -1\n",
    "a['previous.distance.from.sideline'] = a['previous.distance.from.sideline'] * -1\n",
    "a['player.distance.travelled'] = a['player.distance.travelled'] * -1\n",
    "a['fe_player.distance.start'] = a['fe_player.distance.start'] * -1\n",
    "a['depth'] = a['depth'] * -1\n",
    "a['player.distance.from.center'] = a['player.distance.from.center'] * -1\n",
    "df.update(a)\n",
    "df[(df['gender'] == 'womens')]['speed']"
   ]
  },
  {
   "cell_type": "code",
   "execution_count": null,
   "metadata": {},
   "outputs": [],
   "source": [
    "df[(df['gender'] == 'womens')]['outcome']"
   ]
  },
  {
   "cell_type": "code",
   "execution_count": null,
   "metadata": {},
   "outputs": [],
   "source": [
    "df[(df['gender'] == 'womens')]['fe_over.out']"
   ]
  },
  {
   "cell_type": "markdown",
   "metadata": {},
   "source": [
    "### Pipeline for StandardScaler, OneHotEncoder"
   ]
  },
  {
   "cell_type": "code",
   "execution_count": null,
   "metadata": {},
   "outputs": [],
   "source": [
    "# X matrix (features / independent variables)\n",
    "X = df.drop(['outcome', 'id'], axis=1)\n",
    "\n",
    "# y matrix (target / dependent variable) will be: T_degC\n",
    "y = df['outcome']\n",
    "\n",
    "# verify the shapes\n",
    "print('Shape of X:', X.shape)\n",
    "print('Shape of y:', y.shape)"
   ]
  },
  {
   "cell_type": "markdown",
   "metadata": {},
   "source": [
    "### Define categorical variables <a name=\"1b\"></a>\n",
    "Define certain features / independent variables as categorical by Using One-Hot-Encoding\n",
    "<br>Define target / dependent variable as categorical\n",
    "\n",
    "[return to top](#home01)"
   ]
  },
  {
   "cell_type": "markdown",
   "metadata": {},
   "source": [
    "**Define certain features / independent variables as categorical**"
   ]
  },
  {
   "cell_type": "code",
   "execution_count": null,
   "metadata": {},
   "outputs": [],
   "source": [
    "# one-hot encoding using pandas built-in method .get_dummies()\n",
    "X_encoded = pd.get_dummies(X)\n",
    "\n",
    "print('Shape of X_encoded:', X_encoded.shape)"
   ]
  },
  {
   "cell_type": "code",
   "execution_count": null,
   "metadata": {},
   "outputs": [],
   "source": [
    "X_encoded.dtypes"
   ]
  },
  {
   "cell_type": "code",
   "execution_count": null,
   "metadata": {},
   "outputs": [],
   "source": [
    "X_encoded.columns"
   ]
  },
  {
   "cell_type": "markdown",
   "metadata": {},
   "source": [
    "**Define target / dependent variable as categorical**"
   ]
  },
  {
   "cell_type": "code",
   "execution_count": null,
   "metadata": {},
   "outputs": [],
   "source": [
    "print(y.unique())"
   ]
  },
  {
   "cell_type": "markdown",
   "metadata": {},
   "source": [
    "### Create 2nd Order Interactions for X DataFrame<a name=\"1c\"></a>\n",
    "\n",
    "<b>Note:</b> Still determining how to do properly.\n",
    "\n",
    "[return to top](#home01)"
   ]
  },
  {
   "cell_type": "code",
   "execution_count": null,
   "metadata": {},
   "outputs": [],
   "source": [
    "# import library\n",
    "from sklearn.preprocessing import PolynomialFeatures\n",
    "from sklearn_pandas import DataFrameMapper\n",
    "\n",
    "# interaction_only parameter let the function know we only want the interaction features, i.e. 1, x1, x2 and x1x2\n",
    "poly = PolynomialFeatures(degree=2, interaction_only=True)\n",
    "\n",
    "X_encoded_poly = poly.fit_transform(X_encoded)"
   ]
  },
  {
   "cell_type": "code",
   "execution_count": null,
   "metadata": {},
   "outputs": [],
   "source": [
    "print('Shape of X_poly:', X_encoded_poly.shape) "
   ]
  },
  {
   "cell_type": "markdown",
   "metadata": {},
   "source": [
    "https://stackoverflow.com/questions/36728287/sklearn-preprocessing-polynomialfeatures-how-to-keep-column-names-headers-of"
   ]
  },
  {
   "cell_type": "markdown",
   "metadata": {},
   "source": [
    "### Split data into train / test set <a name=\"1d\"></a>\n",
    "\n",
    "[return to top](#home01)"
   ]
  },
  {
   "cell_type": "code",
   "execution_count": null,
   "metadata": {},
   "outputs": [],
   "source": [
    "# import library\n",
    "from sklearn.model_selection import train_test_split\n",
    "\n",
    "# adding a seed called random_state in train_test_split so that split is reproducible\n",
    "random_state = 1\n",
    "\n",
    "# build out the following: X_train, X_test, y_train, y_test\n",
    "X_train, X_test, y_train, y_test = train_test_split(X_encoded_poly, y, test_size=0.20, random_state=random_state)"
   ]
  },
  {
   "cell_type": "markdown",
   "metadata": {},
   "source": [
    "### Scale X_train and X_test set <a name=\"1e\"></a>\n",
    "\n",
    "For use in Models x, x, and x.\n",
    "\n",
    "[return to top](#home0e)"
   ]
  },
  {
   "cell_type": "code",
   "execution_count": null,
   "metadata": {},
   "outputs": [],
   "source": [
    "# import library\n",
    "from sklearn import preprocessing\n",
    "\n",
    "# scaling requires a float dtype; when ‘ignore’, suppress exceptions. On error return original object but would get\n",
    "# warning from scaler processing in sklearn\n",
    "#X_train = X_train.astype('float64', errors='ignore')\n",
    "#X_test = X_test.astype('float64', errors='ignore')\n",
    "\n",
    "# https://scikit-learn.org/stable/modules/preprocessing.html\n",
    "# compute the mean and standard deviation on a training set so as to be able to later \n",
    "# reapply the same transformation on the testing set\n",
    "scaler = preprocessing.StandardScaler().fit(X_train)\n",
    "\n",
    "X_train = preprocessing.scale(X_train)\n",
    "X_test = scaler.transform(X_test)"
   ]
  },
  {
   "cell_type": "code",
   "execution_count": null,
   "metadata": {},
   "outputs": [],
   "source": [
    "print('Shape of X_train:', X_train.shape)\n",
    "print('Shape of X_test:', X_test.shape)\n",
    "print('Shape of y_train:', y_train.shape)\n",
    "print('Shape of y_test:', y_test.shape)"
   ]
  },
  {
   "cell_type": "code",
   "execution_count": null,
   "metadata": {},
   "outputs": [],
   "source": [
    "df.outcome.value_counts()"
   ]
  },
  {
   "cell_type": "markdown",
   "metadata": {},
   "source": [
    "## 2. Random Forest Classifier + GridSearchCV - Model 1: <a name=\"2\"></a>\n",
    "\n",
    "Create a Random Forest Model.\n",
    "\n",
    "[return to top](#home02)"
   ]
  },
  {
   "cell_type": "markdown",
   "metadata": {},
   "source": [
    "### Model 1 using RandomForestClassifier in sklearn.<a name=\"2a\"></a>\n",
    "\n",
    "[return to top](#home02)"
   ]
  },
  {
   "cell_type": "code",
   "execution_count": null,
   "metadata": {
    "scrolled": true
   },
   "outputs": [],
   "source": [
    "# import library\n",
    "from sklearn.ensemble import RandomForestClassifier\n",
    "from sklearn.model_selection import GridSearchCV\n",
    "\n",
    "# create a dictionary of parameters \n",
    "param_grid = {'n_estimators':list(range(100, 1100, 100)),\n",
    "              'max_depth': [2,3,4],\n",
    "              'max_features': ['auto','sqrt','log2'],\n",
    "              'min_samples_split':[2, 4, 8], \n",
    "             }\n",
    "\n",
    "# create Random Forest model\n",
    "rf_obj = RandomForestClassifier(random_state=random_state)\n",
    "\n",
    "# create gridsearch object with various combinations of parameters\n",
    "model1_rnd_clf = GridSearchCV(rf_obj, param_grid, cv = 5, refit = True,\n",
    "                       n_jobs=-1, verbose = 5)\n",
    "\n",
    "%time model1_rnd_clf.fit(X_train, y_train)"
   ]
  },
  {
   "cell_type": "code",
   "execution_count": null,
   "metadata": {},
   "outputs": [],
   "source": [
    "# best params_ used to extract the best hyper-parameters identified by the grid search\n",
    "model1_rnd_clf.best_params_"
   ]
  },
  {
   "cell_type": "code",
   "execution_count": null,
   "metadata": {},
   "outputs": [],
   "source": [
    "# best_estimator_ to find the 'best' combination of given parameters from the param_grid\n",
    "model1_rnd_clf.best_estimator_"
   ]
  },
  {
   "cell_type": "code",
   "execution_count": null,
   "metadata": {
    "scrolled": true
   },
   "outputs": [],
   "source": [
    "# predict probabilities\n",
    "y_pred_proba_model1_test = model1_rnd_clf.best_estimator_.predict_proba(X_test)\n",
    "\n",
    "# predict classes\n",
    "y_pred_model1_test = model1_rnd_clf.best_estimator_.predict(X_test)\n",
    "\n",
    "print('First 5 predicted probabilities:\\n', y_pred_proba_model1_test[0:5])\n",
    "print('\\nFirst 5 predictions:\\n',y_pred_model1_test[0:5])"
   ]
  },
  {
   "cell_type": "markdown",
   "metadata": {},
   "source": [
    "### Confusion matrix and Classification report for the test data <a name=\"2b\"></a>\n",
    "\n",
    "[return to top](#home02)"
   ]
  },
  {
   "cell_type": "code",
   "execution_count": null,
   "metadata": {},
   "outputs": [],
   "source": [
    "# import library\n",
    "import matplotlib.pyplot as plt\n",
    "import seaborn as sns\n",
    "from sklearn import metrics\n",
    "\n",
    "# mean error evaluation using the .score() method\n",
    "model1_rdn_clf_score_test = model1_rnd_clf.best_estimator_.score(X_test, y_test)\n",
    "\n",
    "model1_rdn_clf_confusion_matrix_test = metrics.confusion_matrix(y_test, y_pred_model1_test)\n",
    "\n",
    "df_cm = pd.DataFrame(model1_rdn_clf_confusion_matrix_test, range(3), range(3))\n",
    "\n",
    "sns.heatmap (df_cm, fmt='d',\n",
    "             cmap='Blues_r', annot=True, square = True)\n",
    "\n",
    "plt.xlabel('Predicted Class')\n",
    "plt.ylabel('Actual Class')\n",
    "\n",
    "model1_test_title = 'RandomForestClassifier - Confussion Matrix on Test Data\\nMean Accuracy Score: {0:2f}'.format(model1_rdn_clf_score_test)\n",
    "plt.title(model1_test_title, size = 14)\n",
    "plt.show;"
   ]
  },
  {
   "cell_type": "code",
   "execution_count": null,
   "metadata": {},
   "outputs": [],
   "source": [
    "# import library\n",
    "from sklearn.metrics import classification_report\n",
    "\n",
    "model1_rnd_clf_classification_report_test = classification_report(y_test, y_pred_model1_test)\n",
    "print('\\033[1m'+'  RandomForestClassifier - Classification Report on Test Data\\n'+'\\033[0m', model1_rnd_clf_classification_report_test)"
   ]
  },
  {
   "cell_type": "markdown",
   "metadata": {},
   "source": [
    "### Confusion matrix and Classification report for the train data <a name=\"2c\"></a>\n",
    "\n",
    "[return to top](#home02)"
   ]
  },
  {
   "cell_type": "code",
   "execution_count": null,
   "metadata": {},
   "outputs": [],
   "source": [
    "# import library\n",
    "import matplotlib.pyplot as plt\n",
    "import seaborn as sns\n",
    "from sklearn import metrics\n",
    "\n",
    "# predict classes\n",
    "y_pred_model1_train = model1_rnd_clf.best_estimator_.predict(X_train)\n",
    "\n",
    "# mean error evaluation using the .score() method\n",
    "model1_rdn_clf_score_train = model1_rnd_clf.score(X_train, y_train)\n",
    "\n",
    "model1_rdn_clf_confusion_matrix_train = metrics.confusion_matrix(y_train, y_pred_model1_train)\n",
    "\n",
    "df_cm = pd.DataFrame(model1_rdn_clf_confusion_matrix_train, range(3), range(3))\n",
    "\n",
    "sns.heatmap (df_cm, fmt='d',\n",
    "             cmap='Oranges_r', annot=True, square = True)\n",
    "\n",
    "plt.xlabel('Predicted Class')\n",
    "plt.ylabel('Actual Class')\n",
    "\n",
    "model1_train_title = 'RandomForestClassifier - Confussion Matrix on Train Data \\nMean Accuracy Score: {0:2f}'.format(model1_rdn_clf_score_train)\n",
    "plt.title(model1_train_title, size = 14)\n",
    "plt.show;"
   ]
  },
  {
   "cell_type": "code",
   "execution_count": null,
   "metadata": {},
   "outputs": [],
   "source": [
    "# import library\n",
    "from sklearn.metrics import classification_report\n",
    "\n",
    "model1_rnd_clf_classification_report_train = classification_report(y_train, y_pred_model1_train)\n",
    "print('\\033[1m'+'  RandomForestClassifier - Classification Report on Train Data\\n'+'\\033[0m', model1_rnd_clf_classification_report_train)"
   ]
  },
  {
   "cell_type": "markdown",
   "metadata": {},
   "source": [
    "### Top 5 features<a name=\"2d\"></a>\n",
    "\n",
    "[return to top](#home02)"
   ]
  },
  {
   "cell_type": "code",
   "execution_count": null,
   "metadata": {},
   "outputs": [],
   "source": [
    "# calculate feature importance\n",
    "model1_rnd_clf_importances = model1_rnd_clf.best_estimator_.feature_importances_\n",
    "\n",
    "# Sort feature importances in descending order\n",
    "model1_rnd_clf_indices = np.argsort(model1_rnd_clf_importances)[::-1]\n",
    "\n",
    "# Rearrange feature names so they match the sort feature importance\n",
    "model1_rnd_clf_names = [poly.get_feature_names(X_encoded.columns)[i] for i in model1_rnd_clf_indices]\n",
    "\n",
    "# Create plot\n",
    "plt.figure()\n",
    "\n",
    "# Create plot title\n",
    "plt.title(\" RandomForestClassifier - Model 1 Feature Importance (Top 5)\",\n",
    "          fontsize=14)\n",
    "\n",
    "# Add bars for first 5\n",
    "plt.bar(range(5), model1_rnd_clf_importances[model1_rnd_clf_indices][0:5])\n",
    "\n",
    "# Add feature names as x-axis labels\n",
    "plt.xticks(range(5), model1_rnd_clf_names[0:5], rotation = 90)\n",
    "\n",
    "# Show plot\n",
    "plt.show()"
   ]
  },
  {
   "cell_type": "markdown",
   "metadata": {},
   "source": [
    "### Pickle Model<a name=\"2e\"></a>\n",
    "\n",
    "[return to top](#home02)"
   ]
  },
  {
   "cell_type": "code",
   "execution_count": null,
   "metadata": {},
   "outputs": [],
   "source": [
    "import pickle\n",
    "\n",
    "with open('model1_rnd_clf', 'wb') as f:\n",
    "    pickle.dump(model1_rnd_clf.best_estimator_, f)"
   ]
  },
  {
   "cell_type": "markdown",
   "metadata": {},
   "source": [
    "#### Test pickle"
   ]
  },
  {
   "cell_type": "code",
   "execution_count": null,
   "metadata": {},
   "outputs": [],
   "source": [
    "with open('model1_rnd_clf', 'rb') as f:\n",
    "    test = pickle.load(f)"
   ]
  },
  {
   "cell_type": "code",
   "execution_count": null,
   "metadata": {},
   "outputs": [],
   "source": [
    "y_pred = test.predict(X_test)\n",
    "print('\\nFirst 5 predictions:\\n',y_pred[0:5])"
   ]
  },
  {
   "cell_type": "markdown",
   "metadata": {},
   "source": [
    "## 3. AdaBoost Classifier + GridSearchCV - Model 2: <a name=\"3\"></a>\n",
    "\n",
    "Create a AdaBoostClassifier Model. \n",
    "\n",
    "[return to top](#home03)"
   ]
  },
  {
   "cell_type": "markdown",
   "metadata": {},
   "source": [
    "### Model 2 using AdaBoostClassifier in sklearn<a name=\"3a\"></a>\n",
    "\n",
    "[return to top](#home03)"
   ]
  },
  {
   "cell_type": "code",
   "execution_count": null,
   "metadata": {},
   "outputs": [],
   "source": [
    "# import library\n",
    "from sklearn.model_selection import GridSearchCV\n",
    "from sklearn.ensemble import AdaBoostClassifier\n",
    "\n",
    "# create a dictionary of parameters \n",
    "param_grid = {'n_estimators':list(range(100, 1100, 100)),\n",
    "              'learning_rate':[i/10.0 for i in range(1,10)]\n",
    "             }\n",
    "\n",
    "# create AdaBoostClassifier model\n",
    "ada_clf_obj = AdaBoostClassifier(algorithm='SAMME.R', random_state=random_state)\n",
    "\n",
    "# create gridsearch object with various combinations of parameters\n",
    "model2_ada_clf= GridSearchCV(ada_clf_obj, param_grid, cv = 5, \n",
    "                            refit = True,\n",
    "                            n_jobs=-1, verbose = 5)\n",
    "\n",
    "%time model2_ada_clf.fit(X_train, y_train)"
   ]
  },
  {
   "cell_type": "code",
   "execution_count": null,
   "metadata": {},
   "outputs": [],
   "source": [
    "# best params_ used to extract the best hyper-parameters identified by the grid search\n",
    "model2_ada_clf.best_params_"
   ]
  },
  {
   "cell_type": "code",
   "execution_count": null,
   "metadata": {},
   "outputs": [],
   "source": [
    "# best_estimator_ to find the 'best' combination of given parameters from the param_grid\n",
    "model2_ada_clf.best_estimator_"
   ]
  },
  {
   "cell_type": "code",
   "execution_count": null,
   "metadata": {},
   "outputs": [],
   "source": [
    "# predict probabilities\n",
    "y_pred_proba_model2_ada_clf_test = model2_ada_clf.best_estimator_.predict_proba(X_test)\n",
    "\n",
    "# predict classes\n",
    "y_pred_model2_ada_clf_test = model2_ada_clf.best_estimator_.predict(X_test)\n",
    "\n",
    "print('First 5 predicted probabilities:\\n', y_pred_proba_model2_ada_clf_test[0:5])\n",
    "print('\\nFirst 5 predictions:\\n', y_pred_model2_ada_clf_test[0:5])"
   ]
  },
  {
   "cell_type": "markdown",
   "metadata": {},
   "source": [
    "### Confusion matrix and Classification report for the test data <a name=\"3b\"></a>\n",
    "\n",
    "[return to top](#home03)"
   ]
  },
  {
   "cell_type": "code",
   "execution_count": null,
   "metadata": {},
   "outputs": [],
   "source": [
    "# import library\n",
    "import matplotlib.pyplot as plt\n",
    "import seaborn as sns\n",
    "from sklearn import metrics\n",
    "\n",
    "# mean error evaluation using the .score() method\n",
    "model2_ada_clf_score_test = model2_ada_clf.best_estimator_.score(X_test, y_test)\n",
    "\n",
    "model2_ada_clf_confusion_matrix_test = metrics.confusion_matrix(y_test, y_pred_model2_ada_clf_test)\n",
    "\n",
    "df_cm = pd.DataFrame(model2_ada_clf_confusion_matrix_test, range(3), range(3))\n",
    "\n",
    "sns.heatmap (df_cm, fmt='d',\n",
    "             cmap='Blues_r', annot=True, square = True)\n",
    "\n",
    "plt.xlabel('Predicted Class')\n",
    "plt.ylabel('Actual Class')\n",
    "\n",
    "model2_ada_clf_test_title = 'AdaBoostClassifier - Confussion Matrix on Test Data \\nMean Accuracy Score: {0:2f}'.format(model2_ada_clf_score_test)\n",
    "plt.title(model2_ada_clf_test_title, size = 14)\n",
    "plt.show;"
   ]
  },
  {
   "cell_type": "code",
   "execution_count": null,
   "metadata": {},
   "outputs": [],
   "source": [
    "# import library\n",
    "from sklearn.metrics import classification_report\n",
    "\n",
    "model2_ada_clf_classification_report_test = classification_report(y_test, y_pred_model2_ada_clf_test)\n",
    "print('\\033[1m'+'  AdaBoostClassifier - Classification Report on Test Data\\n'+'\\033[0m', model2_ada_clf_classification_report_test)"
   ]
  },
  {
   "cell_type": "markdown",
   "metadata": {},
   "source": [
    "### Confusion matrix and Classification report for the train data <a name=\"3c\"></a>\n",
    "\n",
    "[return to top](#home03)"
   ]
  },
  {
   "cell_type": "code",
   "execution_count": null,
   "metadata": {},
   "outputs": [],
   "source": [
    "# import library\n",
    "import matplotlib.pyplot as plt\n",
    "import seaborn as sns\n",
    "from sklearn import metrics\n",
    "\n",
    "y_pred_model2_ada_clf_train = model2_ada_clf.best_estimator_.predict(X_train)\n",
    "\n",
    "# mean error evaluation using the .score() method\n",
    "model2_ada_clf_score_train = model2_ada_clf.best_estimator_.score(X_train, y_train)\n",
    "\n",
    "model2_ada_clf_confusion_matrix_train = metrics.confusion_matrix(y_train, y_pred_model2_ada_clf_train)\n",
    "\n",
    "df_cm = pd.DataFrame(model2_ada_clf_confusion_matrix_train, range(3), range(3))\n",
    "\n",
    "sns.heatmap (df_cm, fmt='d',\n",
    "             cmap='Oranges_r', annot=True, square = True)\n",
    "\n",
    "plt.xlabel('Predicted Class')\n",
    "plt.ylabel('Actual Class')\n",
    "\n",
    "model2_ada_clf_test_title = 'AdaBoostClassifier - Confussion Matrix on Train Data\\nMean Accuracy Score: {0:2f}'.format(model2_ada_clf_score_train)\n",
    "plt.title(model2_ada_clf_test_title, size = 14)\n",
    "plt.show;"
   ]
  },
  {
   "cell_type": "code",
   "execution_count": null,
   "metadata": {},
   "outputs": [],
   "source": [
    "# import library\n",
    "from sklearn.metrics import classification_report\n",
    "\n",
    "model2_ada_clf_classification_report_train = classification_report(y_train, y_pred_model2_ada_clf_train)\n",
    "print('\\033[1m'+'  AdaBoostClassifier - Classification Report on Train Data\\n'+'\\033[0m', model2_ada_clf_classification_report_train)"
   ]
  },
  {
   "cell_type": "markdown",
   "metadata": {},
   "source": [
    "### Top 5 features<a name=\"3d\"></a>\n",
    "\n",
    "[return to top](#home03)"
   ]
  },
  {
   "cell_type": "code",
   "execution_count": null,
   "metadata": {},
   "outputs": [],
   "source": [
    "# calculate feature importance\n",
    "model2_ada_clf_importances = model2_ada_clf.best_estimator_.feature_importances_\n",
    "\n",
    "# Sort feature importances in descending order\n",
    "model2_ada_clf_indices = np.argsort(model2_ada_clf_importances)[::-1]\n",
    "\n",
    "# Rearrange feature names so they match the sort feature importance\n",
    "model2_ada_clf_names = [poly.get_feature_names(X_encoded.columns)[i] for i in model2_ada_clf_indices]\n",
    "\n",
    "# Create plot\n",
    "plt.figure()\n",
    "\n",
    "# Create plot title\n",
    "plt.title(\" AdaBoostClassifier- Model 2 Feature Importance (Top 5)\",\n",
    "          fontsize=14)\n",
    "\n",
    "# Add bars for first 5\n",
    "plt.bar(range(5), model2_ada_clf_importances[model2_ada_clf_indices][0:5])\n",
    "\n",
    "# Add feature names as x-axis labels\n",
    "plt.xticks(range(5), model2_ada_clf_names[0:5], rotation = 90)\n",
    "\n",
    "# Show plot\n",
    "plt.show()"
   ]
  },
  {
   "cell_type": "markdown",
   "metadata": {},
   "source": [
    "### Pickle Model<a name=\"3e\"></a>\n",
    "\n",
    "[return to top](#home03)"
   ]
  },
  {
   "cell_type": "code",
   "execution_count": null,
   "metadata": {},
   "outputs": [],
   "source": [
    "import pickle\n",
    "\n",
    "with open('model2_ada_clf', 'wb') as f:\n",
    "    pickle.dump(model2_ada_clf.best_estimator_, f)"
   ]
  },
  {
   "cell_type": "markdown",
   "metadata": {},
   "source": [
    "#### Test Pickle"
   ]
  },
  {
   "cell_type": "code",
   "execution_count": null,
   "metadata": {},
   "outputs": [],
   "source": [
    "with open('model2_ada_clf', 'rb') as f:\n",
    "    test2 = pickle.load(f)"
   ]
  },
  {
   "cell_type": "code",
   "execution_count": null,
   "metadata": {},
   "outputs": [],
   "source": [
    "y_pred = test2.predict(X_test)\n",
    "print('\\nFirst 5 predictions:\\n',y_pred[0:5])"
   ]
  },
  {
   "cell_type": "markdown",
   "metadata": {},
   "source": [
    "## 4. Gradient Boosting Classifier + RandomizedSearchCV - Model 3: <a name=\"4\"></a>\n",
    "\n",
    "Create a GradientBoostingClassifier Model. \n",
    "\n",
    "[return to top](#home04)"
   ]
  },
  {
   "cell_type": "markdown",
   "metadata": {},
   "source": [
    "### Model 3 using GradientBoostingClassifier in sklearn <a name=\"4a\"></a>\n",
    "\n",
    "[return to top](#home04)"
   ]
  },
  {
   "cell_type": "code",
   "execution_count": null,
   "metadata": {},
   "outputs": [],
   "source": [
    "# import library\n",
    "from sklearn.model_selection import RandomizedSearchCV\n",
    "from sklearn.ensemble import GradientBoostingClassifier\n",
    "\n",
    "# create a dictionary of parameters \n",
    "param_grid = {'n_estimators':list(range(100, 1100, 100)),\n",
    "              'learning_rate':[i/10.0 for i in range(1,11)],\n",
    "              'max_depth':[1,2,3]\n",
    "              }\n",
    "\n",
    "# create AdaBoostClassifier model\n",
    "gbrt_obj = GradientBoostingClassifier(random_state=random_state)\n",
    "\n",
    "# create gridsearch object with various combinations of parameters\n",
    "model3_gbrt_clf = RandomizedSearchCV(gbrt_obj, param_grid, cv = 5,\n",
    "                                     refit = True,\n",
    "                                     n_jobs=-1, verbose = 5)\n",
    "\n",
    "%time model3_gbrt_clf.fit(X_train, y_train)"
   ]
  },
  {
   "cell_type": "code",
   "execution_count": null,
   "metadata": {},
   "outputs": [],
   "source": [
    "# best params_ used to extract the best hyper-parameters identified by the grid search\n",
    "model3_gbrt_clf.best_params_"
   ]
  },
  {
   "cell_type": "code",
   "execution_count": null,
   "metadata": {},
   "outputs": [],
   "source": [
    "# best_estimator_ to find the 'best' combination of given parameters from the param_grid\n",
    "model3_gbrt_clf.best_estimator_"
   ]
  },
  {
   "cell_type": "code",
   "execution_count": null,
   "metadata": {},
   "outputs": [],
   "source": [
    "# predict probabilities\n",
    "y_pred_proba_model3_gbrt_clf_test = model3_gbrt_clf.best_estimator_.predict_proba(X_test)\n",
    "\n",
    "# predict classes\n",
    "y_pred_model3_gbrt_clf_test = model3_gbrt_clf.best_estimator_.predict(X_test)\n",
    "\n",
    "print('First 5 predicted probabilities:\\n', y_pred_proba_model3_gbrt_clf_test[0:5])\n",
    "print('\\nFirst 5 predictions:\\n', y_pred_model3_gbrt_clf_test[0:5])"
   ]
  },
  {
   "cell_type": "markdown",
   "metadata": {},
   "source": [
    "### Confusion matrix and Classification report for the test data <a name=\"4b\"></a>\n",
    "\n",
    "[return to top](#home04)"
   ]
  },
  {
   "cell_type": "code",
   "execution_count": null,
   "metadata": {},
   "outputs": [],
   "source": [
    "# import library\n",
    "import matplotlib.pyplot as plt\n",
    "import seaborn as sns\n",
    "from sklearn import metrics\n",
    "\n",
    "# mean error evaluation using the .score() method\n",
    "model3_gbrt_clf_score_test = model3_gbrt_clf.best_estimator_.score(X_test, y_test)\n",
    "\n",
    "model3_gbrt_clf_confusion_matrix_test = metrics.confusion_matrix(y_test, y_pred_model3_gbrt_clf_test)\n",
    "\n",
    "df_cm = pd.DataFrame(model3_gbrt_clf_confusion_matrix_test, range(3), range(3))\n",
    "\n",
    "sns.heatmap (df_cm, fmt='d',\n",
    "             cmap='Blues_r', annot=True, square = True)\n",
    "\n",
    "plt.xlabel('Predicted Class')\n",
    "plt.ylabel('Actual Class')\n",
    "\n",
    "model3_gbrt_clf_test_title = 'GradientBoostingClassifier - Confussion Matrix on Test Data \\nMean Accuracy Score: {0:2f}'.format(model3_gbrt_clf_score_test)\n",
    "plt.title(model3_gbrt_clf_test_title, size = 14)\n",
    "plt.show;"
   ]
  },
  {
   "cell_type": "code",
   "execution_count": null,
   "metadata": {},
   "outputs": [],
   "source": [
    "# import library\n",
    "from sklearn.metrics import classification_report\n",
    "\n",
    "model3_gbrt_clf_classification_report_test = classification_report(y_test, y_pred_model3_gbrt_clf_test)\n",
    "print('\\033[1m'+'  GradientBoostingClassifier - Classification Report on Test Data\\n'+'\\033[0m', model3_gbrt_clf_classification_report_test)"
   ]
  },
  {
   "cell_type": "markdown",
   "metadata": {},
   "source": [
    "### Confusion matrix and Classification report for the train data <a name=\"4c\"></a>\n",
    "\n",
    "[return to top](#home04)"
   ]
  },
  {
   "cell_type": "code",
   "execution_count": null,
   "metadata": {},
   "outputs": [],
   "source": [
    "# import library\n",
    "import matplotlib.pyplot as plt\n",
    "import seaborn as sns\n",
    "from sklearn import metrics\n",
    "\n",
    "y_pred_model3_gbrt_clf_train = model3_gbrt_clf.best_estimator_.predict(X_train)\n",
    "\n",
    "# mean error evaluation using the .score() method\n",
    "model3_gbrt_clf_score_train = model3_gbrt_clf.best_estimator_.score(X_train, y_train)\n",
    "\n",
    "model3_gbrt_clf_confusion_matrix_train = metrics.confusion_matrix(y_train, y_pred_model3_gbrt_clf_train)\n",
    "\n",
    "df_cm = pd.DataFrame(model3_gbrt_clf_confusion_matrix_train, range(3), range(3))\n",
    "\n",
    "sns.heatmap (df_cm, fmt='d',\n",
    "             cmap='Oranges_r', annot=True, square = True)\n",
    "\n",
    "plt.xlabel('Predicted Class')\n",
    "plt.ylabel('Actual Class')\n",
    "\n",
    "model3_gbrt_clf_test_title = 'GradientBoostingClassifier - Confussion Matrix on Train Data\\nMean Accuracy Score: {0:2f}'.format(model3_gbrt_clf_score_train)\n",
    "plt.title(model3_gbrt_clf_test_title, size = 14)\n",
    "plt.show;"
   ]
  },
  {
   "cell_type": "code",
   "execution_count": null,
   "metadata": {},
   "outputs": [],
   "source": [
    "# import library\n",
    "from sklearn.metrics import classification_report\n",
    "\n",
    "model3_gbrt_clf_classification_report_train = classification_report(y_train, y_pred_model3_gbrt_clf_train)\n",
    "print('\\033[1m'+'  GradientBoostingClassifier - Classification Report on Train Data\\n'+'\\033[0m', model3_gbrt_clf_classification_report_train)"
   ]
  },
  {
   "cell_type": "markdown",
   "metadata": {},
   "source": [
    "### Top 5 features<a name=\"4d\"></a>\n",
    "\n",
    "[return to top](#home04)"
   ]
  },
  {
   "cell_type": "code",
   "execution_count": null,
   "metadata": {},
   "outputs": [],
   "source": [
    "# calculate feature importance\n",
    "model3_gbrt_clf_importances = model3_gbrt_clf.best_estimator_.feature_importances_\n",
    "\n",
    "# Sort feature importances in descending order\n",
    "model3_gbrt_clf_indices = np.argsort(model3_gbrt_clf_importances)[::-1]\n",
    "\n",
    "# Rearrange feature names so they match the sort feature importance\n",
    "model3_gbrt_clf_names = [poly.get_feature_names(X_encoded.columns)[i] for i in model3_gbrt_clf_indices]\n",
    "\n",
    "# Create plot\n",
    "plt.figure()\n",
    "\n",
    "# Create plot title\n",
    "plt.title(\" GradientBoostingClassifier - Model 3 Feature Importance (Top 5)\",\n",
    "          fontsize=14)\n",
    "\n",
    "# Add bars for first 5\n",
    "plt.bar(range(5), model3_gbrt_clf_importances[model3_gbrt_clf_indices][0:5])\n",
    "\n",
    "# Add feature names as x-axis labels\n",
    "plt.xticks(range(5), model3_gbrt_clf_names[0:5], rotation = 90)\n",
    "\n",
    "# Show plot\n",
    "plt.show()"
   ]
  },
  {
   "cell_type": "markdown",
   "metadata": {},
   "source": [
    "### Pickle Model<a name=\"4e\"></a>\n",
    "\n",
    "[return to top](#home04)"
   ]
  },
  {
   "cell_type": "code",
   "execution_count": null,
   "metadata": {},
   "outputs": [],
   "source": [
    "import pickle\n",
    "\n",
    "with open('model3_gbrt_clf', 'wb') as f:\n",
    "    pickle.dump(model3_gbrt_clf.best_estimator_, f)"
   ]
  },
  {
   "cell_type": "markdown",
   "metadata": {},
   "source": [
    "#### Test Pickle"
   ]
  },
  {
   "cell_type": "code",
   "execution_count": null,
   "metadata": {},
   "outputs": [],
   "source": [
    "with open('model3_gbrt_clf', 'rb') as f:\n",
    "    test3 = pickle.load(f)"
   ]
  },
  {
   "cell_type": "code",
   "execution_count": null,
   "metadata": {},
   "outputs": [],
   "source": [
    "y_pred = test3.predict(X_test)\n",
    "print('\\nFirst 5 predictions:\\n',y_pred[0:5])"
   ]
  },
  {
   "cell_type": "markdown",
   "metadata": {},
   "source": [
    "## 5. XGBoost Classifier + RandomizedSearchCV - Model 4:  <a name=\"5\"></a>\n",
    "\n",
    "Create a XGBClassifier Model.  \n",
    "\n",
    "[return to top](#home05)"
   ]
  },
  {
   "cell_type": "markdown",
   "metadata": {},
   "source": [
    "### Model 4 using XGBClassifier in XGBoost <a name=\"5a\"></a>\n",
    "\n",
    "[return to top](#home05)"
   ]
  },
  {
   "cell_type": "code",
   "execution_count": null,
   "metadata": {},
   "outputs": [],
   "source": [
    "# import library\n",
    "from sklearn.model_selection import RandomizedSearchCV\n",
    "# direct xgboost library and possibly use \"cv\" from library\n",
    "import xgboost as xgb\n",
    "# sklearn wrapper for XGBoost. Allows Grid Search parellel processing like GBM\n",
    "from xgboost.sklearn import XGBClassifier\n",
    "\n",
    "# create a dictionary of parameters using range(start, stop but not including, step) \n",
    "param_grid = {'n_estimators': list(range(100, 1100, 100)),\n",
    "              'learning_rate':[i/10.0 for i in range(1,11)],\n",
    "              'max_depth':[1,2,3],\n",
    "              'gamma': [i/4 for i in range(0,21)]\n",
    "              }\n",
    "\n",
    "# create XGBoost model\n",
    "gxbt_obj = XGBClassifier(random_state = random_state)\n",
    "\n",
    "# create randomizedsearchCV object with various combinations of parameters\n",
    "model4_gxbt_clf = RandomizedSearchCV(gxbt_obj, param_grid, cv = 5\n",
    "                                     , refit = True,\n",
    "                                     n_jobs=-1, verbose = 5)\n",
    "\n",
    "%time model4_gxbt_clf.fit(X_train, y_train)"
   ]
  },
  {
   "cell_type": "code",
   "execution_count": null,
   "metadata": {},
   "outputs": [],
   "source": [
    "# best params_ used to extract the best hyper-parameters identified by the grid search\n",
    "model4_gxbt_clf.best_params_"
   ]
  },
  {
   "cell_type": "code",
   "execution_count": null,
   "metadata": {},
   "outputs": [],
   "source": [
    "# best_estimator_ to find the 'best' combination of given parameters from the param_grid\n",
    "model4_gxbt_clf.best_estimator_"
   ]
  },
  {
   "cell_type": "code",
   "execution_count": null,
   "metadata": {},
   "outputs": [],
   "source": [
    "# predict probabilities\n",
    "y_pred_proba_model4_gxbt_clf_test = model4_gxbt_clf.best_estimator_.predict_proba(X_test)\n",
    "\n",
    "# predict classes\n",
    "y_pred_model4_gxbt_clf_test = model4_gxbt_clf.best_estimator_.predict(X_test)\n",
    "\n",
    "print('First 5 predicted probabilities:\\n', y_pred_proba_model4_gxbt_clf_test[0:5])\n",
    "print('\\nFirst 5 predictions:\\n', y_pred_model4_gxbt_clf_test[0:5])"
   ]
  },
  {
   "cell_type": "markdown",
   "metadata": {},
   "source": [
    "### Confusion matrix and Classification report for the test data <a name=\"5b\"></a>\n",
    "\n",
    "[return to top](#home05)"
   ]
  },
  {
   "cell_type": "code",
   "execution_count": null,
   "metadata": {},
   "outputs": [],
   "source": [
    "# import library\n",
    "import matplotlib.pyplot as plt\n",
    "import seaborn as sns\n",
    "from sklearn import metrics\n",
    "\n",
    "# mean error evaluation using the .score() method\n",
    "model4_gxbt_clf_score_test = model4_gxbt_clf.best_estimator_.score(X_test, y_test)\n",
    "\n",
    "model4_gxbt_clf_confusion_matrix_test = metrics.confusion_matrix(y_test, y_pred_model4_gxbt_clf_test)\n",
    "\n",
    "df_cm = pd.DataFrame(model4_gxbt_clf_confusion_matrix_test, range(3), range(3))\n",
    "\n",
    "sns.heatmap (df_cm, fmt='d',\n",
    "             cmap='Blues_r', annot=True, square = True)\n",
    "\n",
    "plt.xlabel('Predicted Class')\n",
    "plt.ylabel('Actual Class')\n",
    "\n",
    "model4_gxbt_clf_test_title = 'XGBoost Classifier - Confussion Matrix on Test Data \\nMean Accuracy Score: {0:2f}'.format(model4_gxbt_clf_score_test)\n",
    "plt.title(model4_gxbt_clf_test_title, size = 14)\n",
    "plt.show;"
   ]
  },
  {
   "cell_type": "code",
   "execution_count": null,
   "metadata": {},
   "outputs": [],
   "source": [
    "# import library\n",
    "from sklearn.metrics import classification_report\n",
    "\n",
    "model4_gxbt_clf_classification_report_test = classification_report(y_test, y_pred_model4_gxbt_clf_test)\n",
    "print('\\033[1m'+'  XGBoost Classifier - Classification Report on Test Data\\n'+'\\033[0m', model4_gxbt_clf_classification_report_test)"
   ]
  },
  {
   "cell_type": "markdown",
   "metadata": {},
   "source": [
    "### Confusion matrix and Classification report for the train data <a name=\"5c\"></a>\n",
    "\n",
    "[return to top](#home05)"
   ]
  },
  {
   "cell_type": "code",
   "execution_count": null,
   "metadata": {},
   "outputs": [],
   "source": [
    "# import library\n",
    "import matplotlib.pyplot as plt\n",
    "import seaborn as sns\n",
    "from sklearn import metrics\n",
    "\n",
    "y_pred_model4_gxbt_clf_train = model4_gxbt_clf.best_estimator_.predict(X_train)\n",
    "\n",
    "# mean error evaluation using the .score() method\n",
    "model4_gxbt_clf_score_train = model4_gxbt_clf.best_estimator_.score(X_train, y_train)\n",
    "\n",
    "model4_gxbt_clf_confusion_matrix_train = metrics.confusion_matrix(y_train, y_pred_model4_gxbt_clf_train)\n",
    "\n",
    "df_cm = pd.DataFrame(model4_gxbt_clf_confusion_matrix_train, range(3), range(3))\n",
    "\n",
    "sns.heatmap (df_cm, fmt='d',\n",
    "             cmap='Oranges_r', annot=True, square = True)\n",
    "\n",
    "plt.xlabel('Predicted Class')\n",
    "plt.ylabel('Actual Class')\n",
    "\n",
    "model4_gxbt_clf_test_title = 'XGBoost Classifier - Confussion Matrix on Train Data\\nMean Accuracy Score: {0:2f}'.format(model4_gxbt_clf_score_train)\n",
    "plt.title(model4_gxbt_clf_test_title, size = 14)\n",
    "plt.show;"
   ]
  },
  {
   "cell_type": "code",
   "execution_count": null,
   "metadata": {},
   "outputs": [],
   "source": [
    "# import library\n",
    "from sklearn.metrics import classification_report\n",
    "\n",
    "model4_gxbt_clf_classification_report_train = classification_report(y_train, y_pred_model4_gxbt_clf_train)\n",
    "print('\\033[1m'+'  XGBoost Classifier - Classification Report on Train Data\\n'+'\\033[0m', model4_gxbt_clf_classification_report_train)"
   ]
  },
  {
   "cell_type": "markdown",
   "metadata": {},
   "source": [
    "### Top 5 features<a name=\"5d\"></a>\n",
    "\n",
    "[return to top](#home05)"
   ]
  },
  {
   "cell_type": "code",
   "execution_count": null,
   "metadata": {
    "scrolled": true
   },
   "outputs": [],
   "source": [
    "# calculate feature importance\n",
    "model4_gxbt_clf_importances = model4_gxbt_clf.best_estimator_.feature_importances_\n",
    "\n",
    "# Sort feature importances in descending order\n",
    "model4_gxbt_clf_indices = np.argsort(model4_gxbt_clf_importances)[::-1]\n",
    "\n",
    "# Rearrange feature names so they match the sort feature importance\n",
    "model4_gxbt_clf_names = [poly.get_feature_names(X_encoded.columns)[i] for i in model4_gxbt_clf_indices]\n",
    "#model4_gxbt_clf_names = [X_train.columns.values[i] for i in model4_gxbt_clf_indices]\n",
    "\n",
    "# Create plot\n",
    "plt.figure()\n",
    "\n",
    "# Create plot title\n",
    "plt.title(\" GradientBoostingClassifier - Model 4 Feature Importance (Top 5)\",\n",
    "          fontsize=14)\n",
    "\n",
    "# Add bars for first 5\n",
    "plt.bar(range(10), model4_gxbt_clf_importances[model4_gxbt_clf_indices][0:10])\n",
    "\n",
    "# Add feature names as x-axis labels\n",
    "plt.xticks(range(10), model4_gxbt_clf_names[0:10], rotation = 90)\n",
    "\n",
    "# Show plot\n",
    "plt.show()"
   ]
  },
  {
   "cell_type": "markdown",
   "metadata": {},
   "source": [
    "### Pickle Model<a name=\"5e\"></a>\n",
    "\n",
    "[return to top](#home05)"
   ]
  },
  {
   "cell_type": "code",
   "execution_count": null,
   "metadata": {},
   "outputs": [],
   "source": [
    "import pickle\n",
    "\n",
    "with open('model4_gxbt_clf', 'wb') as f:\n",
    "    pickle.dump(model4_gxbt_clf.best_estimator_, f)"
   ]
  },
  {
   "cell_type": "markdown",
   "metadata": {},
   "source": [
    "#### Test Pickle"
   ]
  },
  {
   "cell_type": "code",
   "execution_count": null,
   "metadata": {},
   "outputs": [],
   "source": [
    "with open('model4_gxbt_clf', 'rb') as f:\n",
    "    test4 = pickle.load(f)"
   ]
  },
  {
   "cell_type": "code",
   "execution_count": null,
   "metadata": {},
   "outputs": [],
   "source": [
    "y_pred = test4.predict(X_test)\n",
    "print('\\nFirst 5 predictions:\\n',y_pred[0:5])"
   ]
  },
  {
   "cell_type": "markdown",
   "metadata": {},
   "source": [
    "## 6. Support Vector Machine Classifier + Polynomial Kernel + GridSearchCV  - Model 5:  <a name=\"6\"></a>\n",
    "\n",
    " Create a SVM with a polynomial kernel.  \n",
    "\n",
    "[return to top](#home06)"
   ]
  },
  {
   "cell_type": "markdown",
   "metadata": {},
   "source": [
    "### Model 5 using SVM in sklearn  <a name=\"6a\"></a>\n",
    "\n",
    "[return to top](#home06)"
   ]
  },
  {
   "cell_type": "code",
   "execution_count": null,
   "metadata": {},
   "outputs": [],
   "source": [
    "# import library\n",
    "from sklearn.model_selection import GridSearchCV\n",
    "from sklearn.svm import SVC\n",
    "\n",
    "# create a dictionary of parameters \n",
    "param_grid = {'C':list(np.arange(0.01,10.00+0.20,0.20)),\n",
    "              'degree': [2,3,4,5]\n",
    "             }\n",
    "\n",
    "# create SVC model\n",
    "svcpol_clf_obj = SVC(kernel = 'poly', probability=True, random_state=random_state)\n",
    "\n",
    "# create gridsearch object with various combinations of parameters\n",
    "model5_svcpol_clf = GridSearchCV(svcpol_clf_obj, param_grid, cv = 5,\n",
    "                            refit = True,\n",
    "                            n_jobs = -1, verbose = 5)\n",
    "\n",
    "%time model5_svcpol_clf.fit(X_train, y_train)"
   ]
  },
  {
   "cell_type": "code",
   "execution_count": null,
   "metadata": {},
   "outputs": [],
   "source": [
    "# best params_ used to extract the best hyper-parameters identified by the grid search\n",
    "model5_svcpol_clf.best_params_"
   ]
  },
  {
   "cell_type": "code",
   "execution_count": null,
   "metadata": {},
   "outputs": [],
   "source": [
    "# best_estimator_ to find the 'best' combination of given parameters from the param_grid\n",
    "model5_svcpol_clf.best_estimator_"
   ]
  },
  {
   "cell_type": "code",
   "execution_count": null,
   "metadata": {},
   "outputs": [],
   "source": [
    "# predict classes\n",
    "y_pred_model5_svcpol_clf_test = model5_svcpol_clf.best_estimator_.predict(X_test)\n",
    "\n",
    "print('First 5 predictions:\\n',y_pred_model5_svcpol_clf_test[0:5])"
   ]
  },
  {
   "cell_type": "markdown",
   "metadata": {},
   "source": [
    "### Confusion matrix and Classification report for the test data <a name=\"6b\"></a>\n",
    "\n",
    "[return to top](#home06)"
   ]
  },
  {
   "cell_type": "code",
   "execution_count": null,
   "metadata": {},
   "outputs": [],
   "source": [
    "# import library\n",
    "import matplotlib.pyplot as plt\n",
    "import seaborn as sns\n",
    "from sklearn import metrics\n",
    "\n",
    "# mean error evaluation using the .score() method\n",
    "model5_svcpol_clf_score_test = model5_svcpol_clf.best_estimator_.score(X_test, y_test)\n",
    "\n",
    "model5_svcpol_clf_confusion_matrix_test = metrics.confusion_matrix(y_test, y_pred_model5_svcpol_clf_test)\n",
    "\n",
    "df_cm = pd.DataFrame(model5_svcpol_clf_confusion_matrix_test, range(3), range(3))\n",
    "\n",
    "sns.heatmap (df_cm, fmt='d',\n",
    "             cmap='Blues_r', annot=True, square = True)\n",
    "\n",
    "plt.xlabel('Predicted Class')\n",
    "plt.ylabel('Actual Class')\n",
    "\n",
    "model5_svcpol_clf_test_title = 'SVC w/ kernel = \"poly\" - Confussion Matrix on Test Data \\nMean Accuracy Score: {0:2f}'.format(model5_svcpol_clf_score_test)\n",
    "plt.title(model5_svcpol_clf_test_title, size = 14)\n",
    "plt.show;"
   ]
  },
  {
   "cell_type": "code",
   "execution_count": null,
   "metadata": {},
   "outputs": [],
   "source": [
    "# import library\n",
    "from sklearn.metrics import classification_report\n",
    "\n",
    "model5_svcpol_clf_classification_report_test = classification_report(y_test, y_pred_model5_svcpol_clf_test)\n",
    "print('\\033[1m'+'SVC w/ kernel = \"poly\" - Classification Report on Test Data\\n'+'\\033[0m', model5_svcpol_clf_classification_report_test)"
   ]
  },
  {
   "cell_type": "markdown",
   "metadata": {},
   "source": [
    "### Confusion matrix and Classification report for the train data <a name=\"6c\"></a>\n",
    "\n",
    "[return to top](#home06)"
   ]
  },
  {
   "cell_type": "code",
   "execution_count": null,
   "metadata": {},
   "outputs": [],
   "source": [
    "# import library\n",
    "import matplotlib.pyplot as plt\n",
    "import seaborn as sns\n",
    "from sklearn import metrics\n",
    "\n",
    "# predict classes\n",
    "y_pred_model5_svcpol_clf_train = model5_svcpol_clf.predict(X_train)\n",
    "\n",
    "# mean error evaluation using the .score() method\n",
    "model5_svcpol_clf_score_train = model5_svcpol_clf.score(X_train, y_train)\n",
    "\n",
    "model5_svcpol_clf_confusion_matrix_train = metrics.confusion_matrix(y_train, y_pred_model5_svcpol_clf_train)\n",
    "\n",
    "df_cm = pd.DataFrame(model5_svcpol_clf_confusion_matrix_train, range(3), range(3))\n",
    "\n",
    "sns.heatmap (df_cm, fmt='d',\n",
    "             cmap='Oranges_r', annot=True, square = True)\n",
    "\n",
    "plt.xlabel('Predicted Class')\n",
    "plt.ylabel('Actual Class')\n",
    "\n",
    "model5_svcpol_clf_train_title = 'SVC w/ kernel = \"poly\" - Confussion Matrix on Train Data\\nMean Accuracy Score: {0:2f}'.format(model5_svcpol_clf_score_train)\n",
    "plt.title(model5_svcpol_clf_train_title, size = 14)\n",
    "plt.show;"
   ]
  },
  {
   "cell_type": "code",
   "execution_count": null,
   "metadata": {},
   "outputs": [],
   "source": [
    "# import library\n",
    "from sklearn.metrics import classification_report\n",
    "\n",
    "model5_svcpol_clf_classification_report_train = classification_report(y_train, y_pred_model5_svcpol_clf_train)\n",
    "print('\\033[1m'+'SVC w/ kernel = \"poly\" - Classification Report on Train Data\\n'+'\\033[0m', model5_svcpol_clf_classification_report_train)"
   ]
  },
  {
   "cell_type": "markdown",
   "metadata": {},
   "source": [
    "### Top 5 features<a name=\"6d\"></a>\n",
    "\n",
    "[return to top](#home06)"
   ]
  },
  {
   "cell_type": "markdown",
   "metadata": {},
   "source": [
    "### Pickle Model<a name=\"6e\"></a>\n",
    "\n",
    "[return to top](#home06)"
   ]
  },
  {
   "cell_type": "code",
   "execution_count": null,
   "metadata": {},
   "outputs": [],
   "source": [
    "import pickle\n",
    "\n",
    "with open('model5_svcpol_clf', 'wb') as f:\n",
    "    pickle.dump(model5_svcpol_clf.best_estimator_, f)"
   ]
  },
  {
   "cell_type": "markdown",
   "metadata": {},
   "source": [
    "#### Test Pickle"
   ]
  },
  {
   "cell_type": "code",
   "execution_count": null,
   "metadata": {},
   "outputs": [],
   "source": [
    "with open('model5_svcpol_clf', 'rb') as f:\n",
    "    test5 = pickle.load(f)"
   ]
  },
  {
   "cell_type": "code",
   "execution_count": null,
   "metadata": {},
   "outputs": [],
   "source": [
    "y_pred = test5.predict(X_test)\n",
    "print('\\nFirst 5 predictions:\\n',y_pred[0:5])"
   ]
  },
  {
   "cell_type": "markdown",
   "metadata": {},
   "source": [
    "## 7. Support Vector Machine Classifier + RBF Kernel + Grid Search - Model 6:  <a name=\"7\"></a>\n",
    "\n",
    " Create a SVM with a RBF kernel.  \n",
    "\n",
    "[return to top](#home07)"
   ]
  },
  {
   "cell_type": "markdown",
   "metadata": {},
   "source": [
    "### Model 6 using SVM in sklearn  <a name=\"7a\"></a>\n",
    "\n",
    "[return to top](#home07)"
   ]
  },
  {
   "cell_type": "code",
   "execution_count": null,
   "metadata": {},
   "outputs": [],
   "source": [
    "# import library\n",
    "from sklearn.model_selection import GridSearchCV\n",
    "from sklearn.svm import SVC\n",
    "\n",
    "# create a dictionary of parameters \n",
    "param_grid = {'C':list(np.arange(0.01,6.00+0.20,0.20)),\n",
    "              'gamma': [0.01,0.1,1,10,100],\n",
    "             }\n",
    "\n",
    "# create SVC model\n",
    "svcrbf_clf_obj = SVC(kernel = 'rbf', probability=True, random_state=random_state)\n",
    "\n",
    "# create gridsearch object with various combinations of parameters\n",
    "model6_svcrbf_clf = GridSearchCV(svcrbf_clf_obj, param_grid, cv = 5,\n",
    "                                 refit = True,\n",
    "                                 n_jobs = -1, verbose = 5)\n",
    "\n",
    "%time model6_svcrbf_clf.fit(X_train, y_train)"
   ]
  },
  {
   "cell_type": "code",
   "execution_count": null,
   "metadata": {},
   "outputs": [],
   "source": [
    "# best params_ used to extract the best hyper-parameters identified by the grid search\n",
    "model6_svcrbf_clf.best_params_"
   ]
  },
  {
   "cell_type": "code",
   "execution_count": null,
   "metadata": {},
   "outputs": [],
   "source": [
    "# best_estimator_ to find the 'best' combination of given parameters from the param_grid\n",
    "model6_svcrbf_clf.best_estimator_"
   ]
  },
  {
   "cell_type": "code",
   "execution_count": null,
   "metadata": {},
   "outputs": [],
   "source": [
    "# predict classes\n",
    "y_pred_model6_svcrbf_clf_test = model6_svcrbf_clf.best_estimator_.predict(X_test)\n",
    "\n",
    "print('First 5 predictions:\\n',y_pred_model6_svcrbf_clf_test[0:5])"
   ]
  },
  {
   "cell_type": "markdown",
   "metadata": {},
   "source": [
    "### Confusion matrix and Classification report for the test data <a name=\"7b\"></a>\n",
    "\n",
    "[return to top](#home07)"
   ]
  },
  {
   "cell_type": "code",
   "execution_count": null,
   "metadata": {},
   "outputs": [],
   "source": [
    "# import library\n",
    "import matplotlib.pyplot as plt\n",
    "import seaborn as sns\n",
    "from sklearn import metrics\n",
    "\n",
    "# mean error evaluation using the .score() method\n",
    "model6_svcrbf_clf_score_test = model6_svcrbf_clf.best_estimator_.score(X_test, y_test)\n",
    "\n",
    "model6_svcrbf_clf_confusion_matrix_test = metrics.confusion_matrix(y_test, y_pred_model6_svcrbf_clf_test)\n",
    "\n",
    "df_cm = pd.DataFrame(model6_svcrbf_clf_confusion_matrix_test, range(3), range(3))\n",
    "\n",
    "sns.heatmap (df_cm, fmt='d',\n",
    "             cmap='Blues_r', annot=True, square = True)\n",
    "\n",
    "plt.xlabel('Predicted Class')\n",
    "plt.ylabel('Actual Class')\n",
    "\n",
    "model6_svcrbf_clf_test_title = 'SVC w/ kernel = \"rbf\" - Confussion Matrix on Test Data \\nMean Accuracy Score: {0:2f}'.format(model6_svcrbf_clf_score_test)\n",
    "plt.title(model6_svcrbf_clf_test_title, size = 14)\n",
    "plt.show;"
   ]
  },
  {
   "cell_type": "code",
   "execution_count": null,
   "metadata": {},
   "outputs": [],
   "source": [
    "# import library\n",
    "from sklearn.metrics import classification_report\n",
    "\n",
    "model6_svcrbf_clf_classification_report_test = classification_report(y_test, y_pred_model6_svcrbf_clf_test)\n",
    "print('\\033[1m'+'SVC w/ kernel = \"rbf\" - Classification Report on Test Data\\n'+'\\033[0m', model6_svcrbf_clf_classification_report_test)"
   ]
  },
  {
   "cell_type": "markdown",
   "metadata": {},
   "source": [
    "### Confusion matrix and Classification report for the train data <a name=\"7c\"></a>\n",
    "\n",
    "[return to top](#home07)"
   ]
  },
  {
   "cell_type": "code",
   "execution_count": null,
   "metadata": {},
   "outputs": [],
   "source": [
    "# import library\n",
    "import matplotlib.pyplot as plt\n",
    "import seaborn as sns\n",
    "from sklearn import metrics\n",
    "\n",
    "# predict classes\n",
    "y_pred_model6_svcrbf_clf_train = model6_svcrbf_clf.best_estimator_.predict(X_train)\n",
    "\n",
    "# mean error evaluation using the .score() method\n",
    "model6_svcrbf_clf_score_train = model6_svcrbf_clf.score(X_train, y_train)\n",
    "\n",
    "model6_svcrbf_clf_confusion_matrix_train = metrics.confusion_matrix(y_train, y_pred_model6_svcrbf_clf_train)\n",
    "\n",
    "df_cm = pd.DataFrame(model6_svcrbf_clf_confusion_matrix_train, range(3), range(3))\n",
    "\n",
    "sns.heatmap (df_cm, fmt='d',\n",
    "             cmap='Oranges_r', annot=True, square = True)\n",
    "\n",
    "plt.xlabel('Predicted Class')\n",
    "plt.ylabel('Actual Class')\n",
    "\n",
    "model6_svcrbf_clf_train_title = 'SVC w/ kernel = \"rbf\" - Confussion Matrix on Train Data\\nMean Accuracy Score: {0:2f}'.format(model6_svcrbf_clf_score_train)\n",
    "plt.title(model6_svcrbf_clf_train_title, size = 14)\n",
    "plt.show;"
   ]
  },
  {
   "cell_type": "code",
   "execution_count": null,
   "metadata": {},
   "outputs": [],
   "source": [
    "# import library\n",
    "from sklearn.metrics import classification_report\n",
    "\n",
    "model6_svcrbf_clf_classification_report_train = classification_report(y_train, y_pred_model6_svcrbf_clf_train)\n",
    "print('\\033[1m'+'SVC w/ kernel = \"rbf\" - Classification Report on Train Data\\n'+'\\033[0m', model6_svcrbf_clf_classification_report_train)"
   ]
  },
  {
   "cell_type": "markdown",
   "metadata": {},
   "source": [
    "### Top 5 features<a name=\"7d\"></a>\n",
    "\n",
    "[return to top](#home07)"
   ]
  },
  {
   "cell_type": "markdown",
   "metadata": {},
   "source": [
    "### Pickle Model<a name=\"7e\"></a>\n",
    "\n",
    "[return to top](#home07)"
   ]
  },
  {
   "cell_type": "code",
   "execution_count": null,
   "metadata": {},
   "outputs": [],
   "source": [
    "import pickle\n",
    "\n",
    "with open('model6_svcrbf_clf', 'wb') as f:\n",
    "    pickle.dump(model6_svcrbf_clf.best_estimator_, f)"
   ]
  },
  {
   "cell_type": "markdown",
   "metadata": {},
   "source": [
    "#### Test Pickle"
   ]
  },
  {
   "cell_type": "code",
   "execution_count": null,
   "metadata": {},
   "outputs": [],
   "source": [
    "with open('model6_svcrbf_clf', 'rb') as f:\n",
    "    test6 = pickle.load(f)"
   ]
  },
  {
   "cell_type": "code",
   "execution_count": null,
   "metadata": {},
   "outputs": [],
   "source": [
    "y_pred = test6.predict(X_test)\n",
    "print('\\nFirst 5 predictions:\\n',y_pred[0:5])"
   ]
  },
  {
   "cell_type": "markdown",
   "metadata": {},
   "source": [
    "## 8. KNeighbors Classifier - Model 7:  <a name=\"8\"></a>\n",
    "\n",
    "[return to top](#home08)"
   ]
  },
  {
   "cell_type": "markdown",
   "metadata": {},
   "source": [
    "### Model 7 using KNeighbors Classifier in sklearn<a name=\"8a\"></a>\n",
    "\n",
    "[return to top](#home8)"
   ]
  },
  {
   "cell_type": "code",
   "execution_count": null,
   "metadata": {},
   "outputs": [],
   "source": [
    "# import library\n",
    "from sklearn.model_selection import GridSearchCV\n",
    "from sklearn.neighbors import KNeighborsClassifier\n",
    "\n",
    "# create a dictionary of parameters \n",
    "param_grid = {'n_neighbors': list(np.arange(2,24+2,2)),\n",
    "              'n_jobs': list(np.arange(10,30+10,10)),\n",
    "              'weights': ['uniform', 'distance'],\n",
    "              'metric': ['euclidean', 'manhattan'],\n",
    "              'leaf_size': list(np.arange(5,40+10,5))\n",
    "             }\n",
    "\n",
    "# create KernelDensity model\n",
    "model7_knn_obj = KNeighborsClassifier()\n",
    "\n",
    "# create gridsearch object with various combinations of parameters\n",
    "model7_knn = GridSearchCV(model7_knn_obj,\n",
    "                          param_grid, cv=5,\n",
    "                          refit = True,\n",
    "                          n_jobs = -1, verbose = 5)\n",
    "\n",
    "%time model7_knn.fit(X_train, y_train);"
   ]
  },
  {
   "cell_type": "code",
   "execution_count": null,
   "metadata": {},
   "outputs": [],
   "source": [
    "# best params_ used to extract the best hyper-parameters identified by the grid search\n",
    "model7_knn.best_params_"
   ]
  },
  {
   "cell_type": "code",
   "execution_count": null,
   "metadata": {},
   "outputs": [],
   "source": [
    "# best_estimator_ to find the 'best' combination of given parameters from the param_grid\n",
    "model7_knn.best_estimator_"
   ]
  },
  {
   "cell_type": "code",
   "execution_count": null,
   "metadata": {},
   "outputs": [],
   "source": [
    "# predict classes\n",
    "y_pred_model7_knn_test = model7_knn.best_estimator_.predict(X_test)\n",
    "\n",
    "print('First 5 predictions:\\n',y_pred_model7_knn_test[0:5])"
   ]
  },
  {
   "cell_type": "markdown",
   "metadata": {},
   "source": [
    "### Confusion matrix and Classification report for the test data <a name=\"8b\"></a>\n",
    "\n",
    "[return to top](#home8)"
   ]
  },
  {
   "cell_type": "code",
   "execution_count": null,
   "metadata": {},
   "outputs": [],
   "source": [
    "# import library\n",
    "import matplotlib.pyplot as plt\n",
    "import seaborn as sns\n",
    "from sklearn import metrics\n",
    "\n",
    "# mean error evaluation using the .score() method\n",
    "model7_knn_score_test = model7_knn.best_estimator_.score(X_test, y_test)\n",
    "\n",
    "model7_knn_confusion_matrix_test = metrics.confusion_matrix(y_test, y_pred_model7_knn_test)\n",
    "\n",
    "df_cm = pd.DataFrame(model7_knn_confusion_matrix_test, range(3), range(3))\n",
    "\n",
    "sns.heatmap (df_cm, fmt='d',\n",
    "             cmap='Blues_r', annot=True, square = True)\n",
    "\n",
    "plt.xlabel('Predicted Class')\n",
    "plt.ylabel('Actual Class')\n",
    "\n",
    "model7_knn_test_title = 'KNeighbors Classifier - Confussion Matrix on Test Data \\nMean Accuracy Score: {0:2f}'.format(model7_knn_score_test)\n",
    "plt.title(model7_knn_test_title, size = 14)\n",
    "plt.show;"
   ]
  },
  {
   "cell_type": "code",
   "execution_count": null,
   "metadata": {},
   "outputs": [],
   "source": [
    "# import library\n",
    "from sklearn.metrics import classification_report\n",
    "\n",
    "model7_knn_classification_report_test = classification_report(y_test, y_pred_model7_knn_test)\n",
    "print('\\033[1m'+'KNeighbors Classifier - Classification Report on Test Data\\n'+'\\033[0m', model7_knn_classification_report_test)"
   ]
  },
  {
   "cell_type": "markdown",
   "metadata": {},
   "source": [
    "### Confusion matrix and Classification report for the train data <a name=\"8c\"></a>\n",
    "\n",
    "[return to top](#home8)"
   ]
  },
  {
   "cell_type": "code",
   "execution_count": null,
   "metadata": {},
   "outputs": [],
   "source": [
    "# import library\n",
    "import matplotlib.pyplot as plt\n",
    "import seaborn as sns\n",
    "from sklearn import metrics\n",
    "\n",
    "# predict classes\n",
    "y_pred_model7_knn_train = model7_knn.best_estimator_.predict(X_train)\n",
    "\n",
    "# mean error evaluation using the .score() method\n",
    "model7_knn_score_train = model7_knn.score(X_train, y_train)\n",
    "\n",
    "model7_knn_confusion_matrix_train = metrics.confusion_matrix(y_train, y_pred_model7_knn_train)\n",
    "\n",
    "df_cm = pd.DataFrame(model7_knn_confusion_matrix_train, range(3), range(3))\n",
    "\n",
    "sns.heatmap (df_cm, fmt='d',\n",
    "             cmap='Oranges_r', annot=True, square = True)\n",
    "\n",
    "plt.xlabel('Predicted Class')\n",
    "plt.ylabel('Actual Class')\n",
    "\n",
    "model7_knn_train_title = 'KNeighbors Classifier - Confussion Matrix on Train Data\\nMean Accuracy Score: {0:2f}'.format(model7_knn_score_train)\n",
    "plt.title(model7_knn_train_title, size = 14)\n",
    "plt.show;"
   ]
  },
  {
   "cell_type": "markdown",
   "metadata": {},
   "source": [
    "### Top 5 features<a name=\"8d\"></a>\n",
    "\n",
    "[return to top](#home08)"
   ]
  },
  {
   "cell_type": "markdown",
   "metadata": {},
   "source": [
    "### Pickle Model<a name=\"7e\"></a>\n",
    "\n",
    "[return to top](#home07)"
   ]
  },
  {
   "cell_type": "code",
   "execution_count": null,
   "metadata": {},
   "outputs": [],
   "source": [
    "import pickle\n",
    "\n",
    "with open('model7_knn', 'wb') as f:\n",
    "    pickle.dump(model7_knn.best_estimator_, f)"
   ]
  },
  {
   "cell_type": "markdown",
   "metadata": {},
   "source": [
    "#### Test Pickle"
   ]
  },
  {
   "cell_type": "code",
   "execution_count": null,
   "metadata": {},
   "outputs": [],
   "source": [
    "with open('model7_knn', 'rb') as f:\n",
    "    test7 = pickle.load(f)"
   ]
  },
  {
   "cell_type": "code",
   "execution_count": null,
   "metadata": {},
   "outputs": [],
   "source": [
    "y_pred = test7.predict(X_test)\n",
    "print('\\nFirst 5 predictions:\\n',y_pred[0:5])"
   ]
  },
  {
   "cell_type": "markdown",
   "metadata": {},
   "source": [
    "## 11. Voting Classifier - Models 9a and 9b:  <a name=\"11\"></a>\n",
    "\n",
    "Create a Hord Voting Classifier\n",
    "<br>Create a Soft Voting Classifier\n",
    "\n",
    "[return to top](#home09)"
   ]
  },
  {
   "cell_type": "markdown",
   "metadata": {},
   "source": [
    "### Model 9a and 9b using VotingClassifier in sklearn<a name=\"11a\"></a>\n",
    "\n",
    "[return to top](#home11)"
   ]
  },
  {
   "cell_type": "code",
   "execution_count": null,
   "metadata": {},
   "outputs": [],
   "source": [
    "pool_classifiers = [model1_rnd_clf.best_estimator_,\n",
    "                    model2_ada_clf.best_estimator_,\n",
    "                    model3_gbrt_clf.best_estimator_,\n",
    "                    model4_gxbt_clf.best_estimator_,\n",
    "                    model5_svcpol_clf.best_estimator_,\n",
    "                    model6_svcrbf_clf.best_estimator_,\n",
    "                    model7_knn.best_estimator_]\n",
    "\n",
    "voting_classifiers = [('rnd', model1_rnd_clf.best_estimator_),\n",
    "                      ('ada', model2_ada_clf.best_estimator_),\n",
    "                      ('gbrt', model3_gbrt_clf.best_estimator_),\n",
    "                      ('gxbt', model4_gxbt_clf.best_estimator_),\n",
    "                      ('svcpol', model5_svcpol_clf.best_estimator_),\n",
    "                      ('svcrbf', model6_svcrbf_clf.best_estimator_),\n",
    "                      ('knn', model7_knn.best_estimator_)]"
   ]
  },
  {
   "cell_type": "markdown",
   "metadata": {},
   "source": [
    "**Hard Voting Classifier**"
   ]
  },
  {
   "cell_type": "code",
   "execution_count": null,
   "metadata": {},
   "outputs": [],
   "source": [
    "# import library\n",
    "from sklearn.ensemble import VotingClassifier\n",
    "\n",
    "model8_voting_hard_clf = VotingClassifier(estimators = voting_classifiers,\n",
    "                                          voting = 'hard')\n",
    "\n",
    "%time model8_voting_hard_clf.fit(X_train, y_train)"
   ]
  },
  {
   "cell_type": "code",
   "execution_count": null,
   "metadata": {},
   "outputs": [],
   "source": [
    "# predict classes\n",
    "y_pred_model8_voting_hard_clf_test = model8_voting_hard_clf.predict(X_test)\n",
    "\n",
    "print('\\nFirst 5 predictions:\\n', y_pred_model8_voting_hard_clf_test[0:5])"
   ]
  },
  {
   "cell_type": "markdown",
   "metadata": {},
   "source": [
    "**Soft Voting Classifier**"
   ]
  },
  {
   "cell_type": "code",
   "execution_count": null,
   "metadata": {},
   "outputs": [],
   "source": [
    "# import library\n",
    "from sklearn.ensemble import VotingClassifier\n",
    "\n",
    "model8_voting_soft_clf = VotingClassifier(estimators = voting_classifiers,\n",
    "                                          voting = 'soft')\n",
    "\n",
    "%time model8_voting_soft_clf.fit(X_train, y_train)"
   ]
  },
  {
   "cell_type": "code",
   "execution_count": null,
   "metadata": {},
   "outputs": [],
   "source": [
    "# predict classes\n",
    "y_pred_model8_voting_soft_clf_test = model8_voting_soft_clf.predict(X_test)\n",
    "\n",
    "print('\\nFirst 5 predictions:\\n', y_pred_model8_voting_soft_clf_test[0:5])"
   ]
  },
  {
   "cell_type": "markdown",
   "metadata": {},
   "source": [
    "### Confusion matrix and Classification report for the test data <a name=\"11b\"></a>\n",
    "\n",
    "[return to top](#home11)"
   ]
  },
  {
   "cell_type": "markdown",
   "metadata": {},
   "source": [
    "**Hard Voting Classifier**"
   ]
  },
  {
   "cell_type": "code",
   "execution_count": null,
   "metadata": {},
   "outputs": [],
   "source": [
    "# import library\n",
    "import matplotlib.pyplot as plt\n",
    "import seaborn as sns\n",
    "from sklearn import metrics\n",
    "\n",
    "# mean error evaluation using the .score() method\n",
    "model8_voting_hard_clf_score_test = model8_voting_hard_clf.score(X_test, y_test)\n",
    "\n",
    "model8_voting_hard_clf_confusion_matrix_test = metrics.confusion_matrix(y_test, y_pred_model8_voting_hard_clf_test)\n",
    "\n",
    "df_cm = pd.DataFrame(model8_voting_hard_clf_confusion_matrix_test, range(3), range(3))\n",
    "\n",
    "sns.heatmap (df_cm, fmt='d',\n",
    "             cmap='Blues_r', annot=True, square = True)\n",
    "\n",
    "plt.xlabel('Predicted Class')\n",
    "plt.ylabel('Actual Class')\n",
    "\n",
    "model8_voting_hard_clf_test_title = 'Voting Classifier (Hard) - Confussion Matrix on Test Data \\nMean Accuracy Score: {0:2f}'.format(model8_voting_hard_clf_score_test)\n",
    "plt.title(model8_voting_hard_clf_test_title, size = 14)\n",
    "plt.show;"
   ]
  },
  {
   "cell_type": "code",
   "execution_count": null,
   "metadata": {},
   "outputs": [],
   "source": [
    "# import library\n",
    "from sklearn.metrics import classification_report\n",
    "\n",
    "model8_voting_hard_clf_classification_report_test = classification_report(y_test, y_pred_model8_voting_hard_clf_test)\n",
    "print('\\033[1m'+'  Voting Classifier (Hard) - Classification Report on Test Data\\n'+'\\033[0m', model8_voting_hard_clf_classification_report_test)"
   ]
  },
  {
   "cell_type": "markdown",
   "metadata": {},
   "source": [
    "**Soft Voting Classifier**"
   ]
  },
  {
   "cell_type": "code",
   "execution_count": null,
   "metadata": {},
   "outputs": [],
   "source": [
    "# import library\n",
    "import matplotlib.pyplot as plt\n",
    "import seaborn as sns\n",
    "from sklearn import metrics\n",
    "\n",
    "# mean error evaluation using the .score() method\n",
    "model8_voting_soft_clf_score_test = model8_voting_soft_clf.score(X_test, y_test)\n",
    "\n",
    "model8_voting_soft_clf_confusion_matrix_test = metrics.confusion_matrix(y_test, y_pred_model8_voting_soft_clf_test)\n",
    "\n",
    "df_cm = pd.DataFrame(model8_voting_soft_clf_confusion_matrix_test, range(3), range(3))\n",
    "\n",
    "sns.heatmap (df_cm, fmt='d',\n",
    "             cmap='Blues_r', annot=True, square = True)\n",
    "\n",
    "plt.xlabel('Predicted Class')\n",
    "plt.ylabel('Actual Class')\n",
    "\n",
    "model8_voting_soft_clf_test_title = 'Voting Classifier (Soft) - Confussion Matrix on Test Data \\nMean Accuracy Score: {0:2f}'.format(model8_voting_soft_clf_score_test)\n",
    "plt.title(model8_voting_soft_clf_test_title, size = 14)\n",
    "plt.show;"
   ]
  },
  {
   "cell_type": "code",
   "execution_count": null,
   "metadata": {},
   "outputs": [],
   "source": [
    "# import library\n",
    "from sklearn.metrics import classification_report\n",
    "\n",
    "model8_voting_soft_clf_classification_report_test = classification_report(y_test, y_pred_model8_voting_soft_clf_test)\n",
    "print('\\033[1m'+'  Voting Classifier (Soft) - Classification Report on Test Data\\n'+'\\033[0m', model8_voting_soft_clf_classification_report_test)"
   ]
  },
  {
   "cell_type": "markdown",
   "metadata": {},
   "source": [
    "### Confusion matrix and Classification report for the train data <a name=\"11c\"></a>\n",
    "\n",
    "[return to top](#home11)"
   ]
  },
  {
   "cell_type": "markdown",
   "metadata": {},
   "source": [
    "**Hard Voting Classifier**"
   ]
  },
  {
   "cell_type": "code",
   "execution_count": null,
   "metadata": {},
   "outputs": [],
   "source": [
    "# import library\n",
    "import matplotlib.pyplot as plt\n",
    "import seaborn as sns\n",
    "from sklearn import metrics\n",
    "\n",
    "y_pred_model8_voting_hard_clf_train = model8_voting_hard_clf.predict(X_train)\n",
    "\n",
    "# mean error evaluation using the .score() method\n",
    "model8_voting_hard_clf_score_train = model8_voting_hard_clf.score(X_train, y_train)\n",
    "\n",
    "model8_voting_hard_clf_confusion_matrix_train = metrics.confusion_matrix(y_train, y_pred_model8_voting_hard_clf_train)\n",
    "\n",
    "df_cm = pd.DataFrame(model8_voting_hard_clf_confusion_matrix_train, range(3), range(3))\n",
    "\n",
    "sns.heatmap (df_cm, fmt='d',\n",
    "             cmap='Oranges_r', annot=True, square = True)\n",
    "\n",
    "plt.xlabel('Predicted Class')\n",
    "plt.ylabel('Actual Class')\n",
    "\n",
    "model8_voting_hard_clf_test_title = 'Voting Classifier (Hard) - Confussion Matrix on Train Data\\nMean Accuracy Score: {0:2f}'.format(model8_voting_hard_clf_score_train)\n",
    "plt.title(model8_voting_hard_clf_test_title, size = 14)\n",
    "plt.show;"
   ]
  },
  {
   "cell_type": "code",
   "execution_count": null,
   "metadata": {},
   "outputs": [],
   "source": [
    "# import library\n",
    "from sklearn.metrics import classification_report\n",
    "\n",
    "model8_voting_hard_clf_classification_report_train = classification_report(y_train, y_pred_model8_voting_hard_clf_train)\n",
    "print('\\033[1m'+'  Voting Classifier (Hard) - Classification Report on Train Data\\n'+'\\033[0m', model8_voting_hard_clf_classification_report_train)"
   ]
  },
  {
   "cell_type": "markdown",
   "metadata": {},
   "source": [
    "**Soft Voting Classifier**"
   ]
  },
  {
   "cell_type": "code",
   "execution_count": null,
   "metadata": {},
   "outputs": [],
   "source": [
    "# import library\n",
    "import matplotlib.pyplot as plt\n",
    "import seaborn as sns\n",
    "from sklearn import metrics\n",
    "\n",
    "y_pred_model8_voting_soft_clf_train = model8_voting_soft_clf.predict(X_train)\n",
    "\n",
    "# mean error evaluation using the .score() method\n",
    "model8_voting_soft_clf_score_train = model8_voting_soft_clf.score(X_train, y_train)\n",
    "\n",
    "model8_voting_soft_clf_confusion_matrix_train = metrics.confusion_matrix(y_train, y_pred_model8_voting_soft_clf_train)\n",
    "\n",
    "df_cm = pd.DataFrame(model8_voting_soft_clf_confusion_matrix_train, range(3), range(3))\n",
    "\n",
    "sns.heatmap (df_cm, fmt='d',\n",
    "             cmap='Oranges_r', annot=True, square = True)\n",
    "\n",
    "plt.xlabel('Predicted Class')\n",
    "plt.ylabel('Actual Class')\n",
    "\n",
    "model8_voting_soft_clf_test_title = 'Voting Classifier (Soft) - Confussion Matrix on Train Data\\nMean Accuracy Score: {0:2f}'.format(model8_voting_soft_clf_score_train)\n",
    "plt.title(model8_voting_soft_clf_test_title, size = 14)\n",
    "plt.show;"
   ]
  },
  {
   "cell_type": "code",
   "execution_count": null,
   "metadata": {},
   "outputs": [],
   "source": [
    "# import library\n",
    "from sklearn.metrics import classification_report\n",
    "\n",
    "model8_voting_soft_clf_classification_report_train = classification_report(y_train, y_pred_model8_voting_soft_clf_train)\n",
    "print('\\033[1m'+'  Voting Classifier (Soft) - Classification Report on Train Data\\n'+'\\033[0m', model8_voting_soft_clf_classification_report_train)"
   ]
  },
  {
   "cell_type": "markdown",
   "metadata": {},
   "source": [
    "### Pickle Model<a name=\"8e\"></a>\n",
    "\n",
    "[return to top](#home08)"
   ]
  },
  {
   "cell_type": "code",
   "execution_count": null,
   "metadata": {},
   "outputs": [],
   "source": [
    "import pickle\n",
    "\n",
    "with open('model8_voting_soft_clf', 'wb') as f:\n",
    "    pickle.dump(model8_voting_soft_clf, f)"
   ]
  },
  {
   "cell_type": "markdown",
   "metadata": {},
   "source": [
    "#### Test Pickle"
   ]
  },
  {
   "cell_type": "code",
   "execution_count": null,
   "metadata": {},
   "outputs": [],
   "source": [
    "with open('model8_voting_soft_clf', 'rb') as f:\n",
    "    test8 = pickle.load(f)"
   ]
  },
  {
   "cell_type": "code",
   "execution_count": null,
   "metadata": {},
   "outputs": [],
   "source": [
    "y_pred = test8.predict(X_test)\n",
    "print('\\nFirst 5 predictions:\\n',y_pred[0:5])"
   ]
  },
  {
   "cell_type": "code",
   "execution_count": null,
   "metadata": {},
   "outputs": [],
   "source": []
  }
 ],
 "metadata": {
  "@webio": {
   "lastCommId": null,
   "lastKernelId": null
  },
  "kernelspec": {
   "display_name": "Python 3",
   "language": "python",
   "name": "python3"
  },
  "language_info": {
   "codemirror_mode": {
    "name": "ipython",
    "version": 3
   },
   "file_extension": ".py",
   "mimetype": "text/x-python",
   "name": "python",
   "nbconvert_exporter": "python",
   "pygments_lexer": "ipython3",
   "version": "3.7.4"
  }
 },
 "nbformat": 4,
 "nbformat_minor": 2
}
