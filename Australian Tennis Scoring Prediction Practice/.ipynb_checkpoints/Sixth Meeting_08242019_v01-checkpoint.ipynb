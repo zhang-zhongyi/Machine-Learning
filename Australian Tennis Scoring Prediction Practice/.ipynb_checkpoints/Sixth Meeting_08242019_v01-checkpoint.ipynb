{
 "cells": [
  {
   "cell_type": "markdown",
   "metadata": {},
   "source": [
    "<div style=\"text-align: center; font-size:1.25em;\"> Jonathan Williams, Zhongyi Zhang, Stevan Zlojutro</div>\n",
    "<div style=\"text-align: center\"> MSCA 31009 </div>\n",
    "<div style=\"text-align: center\"> Final Project </div>"
   ]
  },
  {
   "cell_type": "markdown",
   "metadata": {},
   "source": [
    "### Notebook using One Hot Encoding"
   ]
  },
  {
   "cell_type": "markdown",
   "metadata": {},
   "source": [
    "### Table of Contents\n",
    "<br>\n",
    "<div class=\"toc\">\n",
    "  <ol>\n",
    "      <a id='home01'></a>\n",
    "      <li><a href=\"#1\"><span style=\"font-size:1.15em;\"><b>Data Processing:</b></span></a>\n",
    "          <br>&ensp;&ensp;<a href=\"#1a\">Import the data</a>\n",
    "          <br>&ensp;&ensp;<a href=\"#1b\">Define categorical variables</a>\n",
    "          <br>&ensp;&ensp;<a href=\"#1c\">Create 2nd Order Interactions for X DataFrame</a>\n",
    "          <br>&ensp;&ensp;<a href=\"#1d\">Split data into train / test set.</a>\n",
    "      </li><br>\n",
    "      <a id='home02'></a>\n",
    "      <li><a href=\"#2\"><span style=\"font-size:1.15em;\"><b>Random Forest Classifier + GridSearchCV - Model 1:</b></span></a>\n",
    "          <br>&ensp;&ensp;$~~~$ Create a Random Forest.\n",
    "          <br>&ensp;&ensp;<a href=\"#2a\">Model 1 using RandomForestClassifier in sklearn</a>\n",
    "          <br>&ensp;&ensp;<a href=\"#2b\">Confusion matrix and Classification report for the test data</a>\n",
    "          <br>&ensp;&ensp;<a href=\"#2c\">Confusion matrix and Classification report for the train data</a>\n",
    "          <br>&ensp;&ensp;<a href=\"#2d\">Top 5 features</a>\n",
    "      </li><br>\n",
    "      <a id='home03'></a>\n",
    "      <li><a href=\"#3\"><span style=\"font-size:1.15em;\"><b>AdaBoost Classifier + GridSearchCV - Model 2:</b></span></a>\n",
    "          <br>&ensp;&ensp;$~~~$ Create a AdaBoostClassifier Model.\n",
    "          <br>&ensp;&ensp;<a href=\"#3a\">Model 2 using AdaBoostClassifier in sklearn</a>\n",
    "          <br>&ensp;&ensp;<a href=\"#3b\">Confusion matrix and Classification report for the test data</a>\n",
    "          <br>&ensp;&ensp;<a href=\"#3c\">Confusion matrix and Classification report for the train data</a>\n",
    "          <br>&ensp;&ensp;<a href=\"#3d\">Top 5 features</a>\n",
    "      </li><br>\n",
    "      <a id='home04'></a>\n",
    "      <li><a href=\"#4\"><span style=\"font-size:1.15em;\"><b>Gradient Boosting Classifier + GridSearchCV - Model 3:</b></span></a>\n",
    "          <br>&ensp;&ensp;$~~~$ Create a GradientBoostingClassifier Model.\n",
    "          <br>&ensp;&ensp;<a href=\"#4a\">Model 3 using GradientBoostingClassifier in sklearn</a>\n",
    "          <br>&ensp;&ensp;<a href=\"#4b\">Confusion matrix and Classification report for the test data</a>\n",
    "          <br>&ensp;&ensp;<a href=\"#4c\">Confusion matrix and Classification report for the train data</a>\n",
    "          <br>&ensp;&ensp;<a href=\"#4d\">Top 5 features</a>\n",
    "      </li><br>\n",
    "      <a id='home05'></a>\n",
    "      <li><a href=\"#5\"><span style=\"font-size:1.15em;\"><b>XGBoost Classifier + RandomizedSearchCV - Model 4:</b></span></a>\n",
    "          <br>&ensp;&ensp;$~~~$ Create a XGBClassifier Model.\n",
    "          <br>&ensp;&ensp;<a href=\"#5a\">Model 4 using XGBClassifier in XGBoost</a>\n",
    "          <br>&ensp;&ensp;<a href=\"#5b\">Confusion matrix and Classification report for the test data</a>\n",
    "          <br>&ensp;&ensp;<a href=\"#5c\">Confusion matrix and Classification report for the train data</a>\n",
    "          <br>&ensp;&ensp;<a href=\"#5d\">Top 5 features</a>\n",
    "      </li><br>\n",
    "      <a id='home06'></a>\n",
    "      <li><a href=\"#6\"><span style=\"font-size:1.15em;\"><b>Support Vector Machine Classifier + Polynomial Kernel + GridSearch - Model 5:</b></span></a>\n",
    "          <br>&ensp;&ensp;$~~~$ Create a SVM with a polynomial kernel. \n",
    "          <br>&ensp;&ensp;<a href=\"#6a\">Model 5 using SVM in sklearn</a>\n",
    "          <br>&ensp;&ensp;<a href=\"#6b\">Confusion matrix and Classification report for the test data</a>\n",
    "          <br>&ensp;&ensp;<a href=\"#6c\">Confusion matrix and Classification report for the train data</a>\n",
    "          <br>&ensp;&ensp;<a href=\"#5d\">Top 5 features</a>\n",
    "      </li><br>\n",
    "      <a id='home07'></a>\n",
    "      <li><a href=\"#7\"><span style=\"font-size:1.15em;\"><b>Support Vector Machine Classifier + RBF Kernel + Grid Search - Model 6: </b></span></a>\n",
    "          <br>&ensp;&ensp;$~~~$ Create a SVM with a RBF kernel.\n",
    "          <br>&ensp;&ensp;<a href=\"#7a\">Model 6 using VotingClassifier in sklearn</a>\n",
    "          <br>&ensp;&ensp;<a href=\"#7b\">Confusion matrix and Classification report for the test data</a>\n",
    "          <br>&ensp;&ensp;<a href=\"#7c\">Confusion matrix and Classification report for the train data</a>\n",
    "          <br>&ensp;&ensp;<a href=\"#5d\">Top 5 features</a>\n",
    "      </li><br>\n",
    "      <a id='home08'></a>\n",
    "      <li><a href=\"#8\"><span style=\"font-size:1.15em;\"><b>kNN -Model 7:</b></span></a>\n",
    "          <br>&ensp;&ensp;$~~~$ Blah, blah, blah\n",
    "          <br>&ensp;&ensp;<a href=\"#8a\">Model 7 using KNeighborsClassifier in sklearn</a>\n",
    "          <br>&ensp;&ensp;<a href=\"#8b\">Confusion matrix and Classification report for the test data</a>\n",
    "          <br>&ensp;&ensp;<a href=\"#8c\">Confusion matrix and Classification report for the train data</a>\n",
    "          <br>&ensp;&ensp;<a href=\"#5d\">Top 5 features</a>\n",
    "      </li><br>      \n",
    "      <a id='home09'></a>\n",
    "      <li><a href=\"#9\"><span style=\"font-size:1.15em;\"><b>Kernel Density Classification - Model 8:</b></span></a>\n",
    "          <br>&ensp;&ensp;$~~~$ Create a Kernel Density Estimation \n",
    "          <br>&ensp;&ensp;<a href=\"#9a\">Model 8 using KernelDensity in sklearn</a>\n",
    "          <br>&ensp;&ensp;<a href=\"#9b\">Confusion matrix and Classification report for the test data</a>\n",
    "          <br>&ensp;&ensp;<a href=\"#9c\">Confusion matrix and Classification report for the train data</a>\n",
    "          <br>&ensp;&ensp;<a href=\"#5d\">Top 5 features</a>\n",
    "      </li><br>      \n",
    "      <a id='home10'></a>\n",
    "      <li><a href=\"#10\"><span style=\"font-size:1.15em;\"><b>Stacking - Model 9::</b></span></a>\n",
    "          <br>&ensp;&ensp;$~~~$ Blah, blah, blah\n",
    "          <br>&ensp;&ensp;<a href=\"#11a\">Model 9 using DESlib</a>\n",
    "          <br>&ensp;&ensp;<a href=\"#11b\">Confusion matrix and Classification report for the test data</a>\n",
    "          <br>&ensp;&ensp;<a href=\"#11c\">Confusion matrix and Classification report for the train data</a>\n",
    "          <br>&ensp;&ensp;<a href=\"#5d\">Top 5 features</a>\n",
    "      </li><br>      \n",
    "      <a id='home11'></a>\n",
    "      <li><a href=\"#11\"><span style=\"font-size:1.15em;\"><b>Voting Classifier - Models 11a and 11b:</b></span></a>\n",
    "          <br>&ensp;&ensp;$~~~$ Create a Hord Voting Classifier\n",
    "          <br>&ensp;&ensp;$~~~$ Create a Soft Voting Classifier.\n",
    "          <br>&ensp;&ensp;<a href=\"#11a\">Model 5 and 6 using VotingClassifier in sklearn</a>\n",
    "          <br>&ensp;&ensp;<a href=\"#11b\">Confusion matrix and Classification report for the test data</a>\n",
    "          <br>&ensp;&ensp;<a href=\"#11c\">Confusion matrix and Classification report for the train data</a>\n",
    "      </li><br>\n",
    "    </ol>\n",
    "</div>"
   ]
  },
  {
   "cell_type": "markdown",
   "metadata": {},
   "source": [
    "## 1. Data Processing: <a name=\"1\"></a>\n",
    "[return to top](#home01)"
   ]
  },
  {
   "cell_type": "markdown",
   "metadata": {},
   "source": [
    "### Import the data <a name=\"1a\"></a>\n",
    "Combine mens and womens data into single dataset\n",
    "\n",
    "[return to top](#home01)"
   ]
  },
  {
   "cell_type": "code",
   "execution_count": 1,
   "metadata": {},
   "outputs": [
    {
     "name": "stdout",
     "output_type": "stream",
     "text": [
      "Shape of men_data: (5000, 27)\n",
      "Shape of women_data: (5000, 27)\n"
     ]
    }
   ],
   "source": [
    "# import library\n",
    "import pandas as pd\n",
    "import numpy as np\n",
    "\n",
    "# import mean train data set using pd\n",
    "men_data = pd.read_excel('mens_train_file.xlsx')\n",
    "\n",
    "# import womean train data set using pd\n",
    "women_data = pd.read_excel('womens_train_file.xlsx')\n",
    "\n",
    "# append gender\n",
    "men_data['gender'] = 'mens'\n",
    "women_data['gender'] = 'womens'\n",
    "\n",
    "# verify the shapes\n",
    "print('Shape of men_data:', men_data.shape)\n",
    "print('Shape of women_data:', women_data.shape)"
   ]
  },
  {
   "cell_type": "code",
   "execution_count": 2,
   "metadata": {},
   "outputs": [
    {
     "name": "stdout",
     "output_type": "stream",
     "text": [
      "Shape of new df (10000, 27)\n"
     ]
    }
   ],
   "source": [
    "df = pd.concat([men_data, women_data])\n",
    "\n",
    "# verify the shapes\n",
    "print('Shape of new df', df.shape)"
   ]
  },
  {
   "cell_type": "code",
   "execution_count": 3,
   "metadata": {},
   "outputs": [
    {
     "data": {
      "text/html": [
       "<div>\n",
       "<style scoped>\n",
       "    .dataframe tbody tr th:only-of-type {\n",
       "        vertical-align: middle;\n",
       "    }\n",
       "\n",
       "    .dataframe tbody tr th {\n",
       "        vertical-align: top;\n",
       "    }\n",
       "\n",
       "    .dataframe thead th {\n",
       "        text-align: right;\n",
       "    }\n",
       "</style>\n",
       "<table border=\"1\" class=\"dataframe\">\n",
       "  <thead>\n",
       "    <tr style=\"text-align: right;\">\n",
       "      <th></th>\n",
       "      <th>id</th>\n",
       "      <th>outcome</th>\n",
       "      <th>serve</th>\n",
       "      <th>rally</th>\n",
       "      <th>hitpoint</th>\n",
       "      <th>speed</th>\n",
       "      <th>net.clearance</th>\n",
       "      <th>distance.from.sideline</th>\n",
       "      <th>depth</th>\n",
       "      <th>outside.sideline</th>\n",
       "      <th>...</th>\n",
       "      <th>previous.net.clearance</th>\n",
       "      <th>previous.distance.from.sideline</th>\n",
       "      <th>previous.depth</th>\n",
       "      <th>opponent.depth</th>\n",
       "      <th>opponent.distance.from.center</th>\n",
       "      <th>same.side</th>\n",
       "      <th>previous.hitpoint</th>\n",
       "      <th>previous.time.to.net</th>\n",
       "      <th>server.is.impact.player</th>\n",
       "      <th>gender</th>\n",
       "    </tr>\n",
       "  </thead>\n",
       "  <tbody>\n",
       "    <tr>\n",
       "      <th>0</th>\n",
       "      <td>5718</td>\n",
       "      <td>UE</td>\n",
       "      <td>1</td>\n",
       "      <td>4</td>\n",
       "      <td>B</td>\n",
       "      <td>35.515042</td>\n",
       "      <td>-0.021725</td>\n",
       "      <td>3.474766</td>\n",
       "      <td>6.797621</td>\n",
       "      <td>0</td>\n",
       "      <td>...</td>\n",
       "      <td>1.350533</td>\n",
       "      <td>2.449182</td>\n",
       "      <td>0.705435</td>\n",
       "      <td>12.5628</td>\n",
       "      <td>2.0724</td>\n",
       "      <td>1</td>\n",
       "      <td>F</td>\n",
       "      <td>0.445318</td>\n",
       "      <td>0</td>\n",
       "      <td>mens</td>\n",
       "    </tr>\n",
       "    <tr>\n",
       "      <th>1</th>\n",
       "      <td>371</td>\n",
       "      <td>FE</td>\n",
       "      <td>2</td>\n",
       "      <td>4</td>\n",
       "      <td>B</td>\n",
       "      <td>33.382640</td>\n",
       "      <td>1.114202</td>\n",
       "      <td>2.540801</td>\n",
       "      <td>2.608708</td>\n",
       "      <td>0</td>\n",
       "      <td>...</td>\n",
       "      <td>0.760499</td>\n",
       "      <td>0.583291</td>\n",
       "      <td>3.856600</td>\n",
       "      <td>12.3544</td>\n",
       "      <td>5.1124</td>\n",
       "      <td>0</td>\n",
       "      <td>B</td>\n",
       "      <td>0.432434</td>\n",
       "      <td>0</td>\n",
       "      <td>mens</td>\n",
       "    </tr>\n",
       "    <tr>\n",
       "      <th>2</th>\n",
       "      <td>7948</td>\n",
       "      <td>FE</td>\n",
       "      <td>1</td>\n",
       "      <td>23</td>\n",
       "      <td>B</td>\n",
       "      <td>22.316690</td>\n",
       "      <td>-0.254046</td>\n",
       "      <td>3.533166</td>\n",
       "      <td>9.435749</td>\n",
       "      <td>0</td>\n",
       "      <td>...</td>\n",
       "      <td>0.377732</td>\n",
       "      <td>1.115250</td>\n",
       "      <td>2.908892</td>\n",
       "      <td>13.8620</td>\n",
       "      <td>1.6564</td>\n",
       "      <td>0</td>\n",
       "      <td>F</td>\n",
       "      <td>0.397538</td>\n",
       "      <td>1</td>\n",
       "      <td>mens</td>\n",
       "    </tr>\n",
       "    <tr>\n",
       "      <th>3</th>\n",
       "      <td>9312</td>\n",
       "      <td>UE</td>\n",
       "      <td>1</td>\n",
       "      <td>9</td>\n",
       "      <td>F</td>\n",
       "      <td>36.837309</td>\n",
       "      <td>0.766694</td>\n",
       "      <td>0.586885</td>\n",
       "      <td>3.342180</td>\n",
       "      <td>1</td>\n",
       "      <td>...</td>\n",
       "      <td>1.239033</td>\n",
       "      <td>3.256695</td>\n",
       "      <td>0.557554</td>\n",
       "      <td>14.2596</td>\n",
       "      <td>0.1606</td>\n",
       "      <td>1</td>\n",
       "      <td>B</td>\n",
       "      <td>0.671984</td>\n",
       "      <td>1</td>\n",
       "      <td>mens</td>\n",
       "    </tr>\n",
       "    <tr>\n",
       "      <th>4</th>\n",
       "      <td>7667</td>\n",
       "      <td>W</td>\n",
       "      <td>1</td>\n",
       "      <td>4</td>\n",
       "      <td>B</td>\n",
       "      <td>35.544208</td>\n",
       "      <td>0.116162</td>\n",
       "      <td>0.918725</td>\n",
       "      <td>5.499119</td>\n",
       "      <td>0</td>\n",
       "      <td>...</td>\n",
       "      <td>0.165731</td>\n",
       "      <td>1.431146</td>\n",
       "      <td>3.945317</td>\n",
       "      <td>11.3658</td>\n",
       "      <td>1.1082</td>\n",
       "      <td>0</td>\n",
       "      <td>F</td>\n",
       "      <td>0.340411</td>\n",
       "      <td>0</td>\n",
       "      <td>mens</td>\n",
       "    </tr>\n",
       "  </tbody>\n",
       "</table>\n",
       "<p>5 rows × 27 columns</p>\n",
       "</div>"
      ],
      "text/plain": [
       "     id outcome  serve  rally hitpoint      speed  net.clearance  \\\n",
       "0  5718      UE      1      4        B  35.515042      -0.021725   \n",
       "1   371      FE      2      4        B  33.382640       1.114202   \n",
       "2  7948      FE      1     23        B  22.316690      -0.254046   \n",
       "3  9312      UE      1      9        F  36.837309       0.766694   \n",
       "4  7667       W      1      4        B  35.544208       0.116162   \n",
       "\n",
       "   distance.from.sideline     depth  outside.sideline  ...  \\\n",
       "0                3.474766  6.797621                 0  ...   \n",
       "1                2.540801  2.608708                 0  ...   \n",
       "2                3.533166  9.435749                 0  ...   \n",
       "3                0.586885  3.342180                 1  ...   \n",
       "4                0.918725  5.499119                 0  ...   \n",
       "\n",
       "   previous.net.clearance  previous.distance.from.sideline  previous.depth  \\\n",
       "0                1.350533                         2.449182        0.705435   \n",
       "1                0.760499                         0.583291        3.856600   \n",
       "2                0.377732                         1.115250        2.908892   \n",
       "3                1.239033                         3.256695        0.557554   \n",
       "4                0.165731                         1.431146        3.945317   \n",
       "\n",
       "   opponent.depth  opponent.distance.from.center  same.side  \\\n",
       "0         12.5628                         2.0724          1   \n",
       "1         12.3544                         5.1124          0   \n",
       "2         13.8620                         1.6564          0   \n",
       "3         14.2596                         0.1606          1   \n",
       "4         11.3658                         1.1082          0   \n",
       "\n",
       "   previous.hitpoint  previous.time.to.net  server.is.impact.player  gender  \n",
       "0                  F              0.445318                        0    mens  \n",
       "1                  B              0.432434                        0    mens  \n",
       "2                  F              0.397538                        1    mens  \n",
       "3                  B              0.671984                        1    mens  \n",
       "4                  F              0.340411                        0    mens  \n",
       "\n",
       "[5 rows x 27 columns]"
      ]
     },
     "execution_count": 3,
     "metadata": {},
     "output_type": "execute_result"
    }
   ],
   "source": [
    "df.head()"
   ]
  },
  {
   "cell_type": "code",
   "execution_count": 4,
   "metadata": {},
   "outputs": [],
   "source": [
    "# reset index values and not include old index as a column\n",
    "df = df.reset_index(drop=True)"
   ]
  },
  {
   "cell_type": "code",
   "execution_count": 5,
   "metadata": {},
   "outputs": [
    {
     "data": {
      "text/plain": [
       "Index(['id', 'outcome', 'serve', 'rally', 'hitpoint', 'speed', 'net.clearance',\n",
       "       'distance.from.sideline', 'depth', 'outside.sideline',\n",
       "       'outside.baseline', 'player.distance.travelled', 'player.impact.depth',\n",
       "       'player.impact.distance.from.center', 'player.depth',\n",
       "       'player.distance.from.center', 'previous.speed',\n",
       "       'previous.net.clearance', 'previous.distance.from.sideline',\n",
       "       'previous.depth', 'opponent.depth', 'opponent.distance.from.center',\n",
       "       'same.side', 'previous.hitpoint', 'previous.time.to.net',\n",
       "       'server.is.impact.player', 'gender'],\n",
       "      dtype='object')"
      ]
     },
     "execution_count": 5,
     "metadata": {},
     "output_type": "execute_result"
    }
   ],
   "source": [
    "df.columns"
   ]
  },
  {
   "cell_type": "code",
   "execution_count": 6,
   "metadata": {},
   "outputs": [
    {
     "data": {
      "text/plain": [
       "id                                      int64\n",
       "outcome                                object\n",
       "serve                                   int64\n",
       "rally                                   int64\n",
       "hitpoint                               object\n",
       "speed                                 float64\n",
       "net.clearance                         float64\n",
       "distance.from.sideline                float64\n",
       "depth                                 float64\n",
       "outside.sideline                        int64\n",
       "outside.baseline                        int64\n",
       "player.distance.travelled             float64\n",
       "player.impact.depth                   float64\n",
       "player.impact.distance.from.center    float64\n",
       "player.depth                          float64\n",
       "player.distance.from.center           float64\n",
       "previous.speed                        float64\n",
       "previous.net.clearance                float64\n",
       "previous.distance.from.sideline       float64\n",
       "previous.depth                        float64\n",
       "opponent.depth                        float64\n",
       "opponent.distance.from.center         float64\n",
       "same.side                               int64\n",
       "previous.hitpoint                      object\n",
       "previous.time.to.net                  float64\n",
       "server.is.impact.player                 int64\n",
       "gender                                 object\n",
       "dtype: object"
      ]
     },
     "execution_count": 6,
     "metadata": {},
     "output_type": "execute_result"
    }
   ],
   "source": [
    "df.dtypes"
   ]
  },
  {
   "cell_type": "markdown",
   "metadata": {},
   "source": [
    "**May need to change certain columns into type category**"
   ]
  },
  {
   "cell_type": "markdown",
   "metadata": {},
   "source": [
    "### Engineer New Features"
   ]
  },
  {
   "cell_type": "code",
   "execution_count": 7,
   "metadata": {},
   "outputs": [
    {
     "name": "stdout",
     "output_type": "stream",
     "text": [
      "             W    FE    UE    Counts\n",
      "--------  ----  ----  ----  --------\n",
      "Over/In   3263   266   245      3774\n",
      "Over/Out    28  1803  1630      3461\n",
      "Net/In      58  1306  1245      2609\n",
      "Net/Out      3    81    72       156\n"
     ]
    }
   ],
   "source": [
    "from tabulate import tabulate\n",
    "\n",
    "print(tabulate([['Over/In', df[(df['outcome']=='W')&(df['net.clearance']>0)&\n",
    "                               (df['outside.sideline']==0)&(df['outside.baseline']==0)].groupby(['outcome']).size(), \n",
    "                            df[(df['outcome']=='FE')&(df['net.clearance']>0)&\n",
    "                               (df['outside.sideline']==0)&(df['outside.baseline']==0)].groupby(['outcome']).size(),\n",
    "                            df[(df['outcome']=='UE')&(df['net.clearance']>0)&\n",
    "                               (df['outside.sideline']==0)&(df['outside.baseline']==0)].groupby(['outcome']).size(),\n",
    "                            sum(df[(df['net.clearance']>0)&\n",
    "                               (df['outside.sideline']==0)&(df['outside.baseline']==0)].groupby(['outcome']).size())], \n",
    "                ['Over/Out', df[(df['outcome']=='W')&(df['net.clearance']>0)&\n",
    "                                ((df['outside.sideline']==1)|(df['outside.baseline']==1))].groupby(['outcome']).size(), \n",
    "                             df[(df['outcome']=='FE')&(df['net.clearance']>0)&\n",
    "                                ((df['outside.sideline']==1)|(df['outside.baseline']==1))].groupby(['outcome']).size(),\n",
    "                             df[(df['outcome']=='UE')&(df['net.clearance']>0)&\n",
    "                                ((df['outside.sideline']==1)|(df['outside.baseline']==1))].groupby(['outcome']).size(),\n",
    "                             sum(df[(df['net.clearance']>0)&\n",
    "                                ((df['outside.sideline']==1)|(df['outside.baseline']==1))].groupby(['outcome']).size())], \n",
    "                ['Net/In', df[(df['outcome']=='W')&(df['net.clearance']<0)&\n",
    "                              (df['outside.sideline']==0)&(df['outside.baseline']==0)].groupby(['outcome']).size(),\n",
    "                           df[(df['outcome']=='FE')&(df['net.clearance']<0)&\n",
    "                              (df['outside.sideline']==0)&(df['outside.baseline']==0)].groupby(['outcome']).size(),\n",
    "                           df[(df['outcome']=='UE')&(df['net.clearance']<0)&\n",
    "                              (df['outside.sideline']==0)&(df['outside.baseline']==0)].groupby(['outcome']).size(),\n",
    "                           sum(df[(df['net.clearance']<0)&\n",
    "                              (df['outside.sideline']==0)&(df['outside.baseline']==0)].groupby(['outcome']).size())], \n",
    "               ['Net/Out', df[(df['outcome']=='W')&(df['net.clearance']<0)&\n",
    "                              ((df['outside.sideline']==1)|(df['outside.baseline']==1))].groupby(['outcome']).size(),\n",
    "                           df[(df['outcome']=='FE')&(df['net.clearance']<0)&\n",
    "                              ((df['outside.sideline']==1)|(df['outside.baseline']==1))].groupby(['outcome']).size(),\n",
    "                           df[(df['outcome']=='UE')&(df['net.clearance']<0)&\n",
    "                              ((df['outside.sideline']==1)|(df['outside.baseline']==1))].groupby(['outcome']).size(),\n",
    "                           sum(df[(df['net.clearance']<0)&\n",
    "                              ((df['outside.sideline']==1)|(df['outside.baseline']==1))].groupby(['outcome']).size())]], \n",
    "               headers=['W', 'FE','UE','Counts']))\n"
   ]
  },
  {
   "cell_type": "code",
   "execution_count": 8,
   "metadata": {},
   "outputs": [],
   "source": [
    "# distance between players\n",
    "def player_distances_start(df):\n",
    "    if df['same.side'] == 1:\n",
    "        return ((df['opponent.distance.from.center']-df['player.distance.from.center'])**2+\n",
    "                (df['opponent.depth']+df['player.depth'])**2)**(1/2)\n",
    "    elif df['same.side'] == 0:\n",
    "        return ((df['opponent.distance.from.center']+df['player.distance.from.center'])**2+\n",
    "                (df['opponent.depth']+df['player.depth'])**2)**(1/2)\n",
    "def player_distances_end(df):\n",
    "    if df['same.side'] == 1:\n",
    "        return ((df['opponent.distance.from.center']-df['player.impact.distance.from.center'])**2+\n",
    "                (df['opponent.depth']+df['player.impact.depth'])**2)**(1/2)\n",
    "    elif df['same.side'] == 0:\n",
    "        return ((df['opponent.distance.from.center']+df['player.impact.distance.from.center'])**2+\n",
    "                (df['opponent.depth']+df['player.impact.depth'])**2)**(1/2)\n",
    "    \n",
    "df['fe_player.distance.start'] = df.apply (lambda df: player_distances_start(df), axis=1)\n",
    "df['fe_player.distances.end'] = df.apply (lambda df: player_distances_end(df), axis=1)"
   ]
  },
  {
   "cell_type": "markdown",
   "metadata": {},
   "source": [
    "Still need to keep 'opponent.distance.from.center', 'opponent.depth', 'player.distance.from.center', and 'player.impact.depth' since it is the only way to capture player position on the court."
   ]
  },
  {
   "cell_type": "markdown",
   "metadata": {},
   "source": [
    "If over net and landed in court, should always be a winner"
   ]
  },
  {
   "cell_type": "code",
   "execution_count": 12,
   "metadata": {},
   "outputs": [],
   "source": [
    "# net clearance > 0 for over and outsidebaseline AND outsidesideline = 0\n",
    "df['fe_over.in'] = (df[\"net.clearance\"] >= 0.00) & ((df[\"outside.baseline\"] == 0) & (df[\"outside.sideline\"] == 0))\n",
    "\n",
    "# replace values with 0, 1\n",
    "df['fe_over.in'] = df['fe_over.in'].replace({False: 0, True: 1})"
   ]
  },
  {
   "cell_type": "markdown",
   "metadata": {},
   "source": [
    "If over net and landed out, should be either FE or UE"
   ]
  },
  {
   "cell_type": "code",
   "execution_count": 13,
   "metadata": {},
   "outputs": [],
   "source": [
    "# net clearance > 0 for over and outsidebaseline Or outsidesideline = 1\n",
    "df['fe_over.out'] = ((df['net.clearance'] > 0.00) & ((df[\"outside.baseline\"] == 1) | (df[\"outside.sideline\"] == 1))) | ((df['net.clearance'] > 0) & ((df[\"outside.baseline\"] == 1) & (df[\"outside.sideline\"] == 1)))\n",
    "\n",
    "# replace values with 0, 1 \n",
    "df['fe_over.out'] = df['fe_over.out'].replace({False: 0, True: 1})"
   ]
  },
  {
   "cell_type": "markdown",
   "metadata": {},
   "source": [
    "If hits net (by data dict), then should be either FE or UE"
   ]
  },
  {
   "cell_type": "code",
   "execution_count": 14,
   "metadata": {},
   "outputs": [],
   "source": [
    "df['fe_net.in'] = (df[\"net.clearance\"] < 0.00) & ((df[\"outside.baseline\"] == 0) & (df[\"outside.sideline\"] == 0))\n",
    "\n",
    "# replace values with 0, 1\n",
    "df['fe_net.in'] = df['fe_net.in'].replace({False: 0, True: 1})"
   ]
  },
  {
   "cell_type": "markdown",
   "metadata": {},
   "source": [
    "If hits net (by data dict), then should be either FE or UE"
   ]
  },
  {
   "cell_type": "code",
   "execution_count": 15,
   "metadata": {},
   "outputs": [],
   "source": [
    "# net clearance > 0 for over and outsidebaseline Or outsidesideline = 1\n",
    "df['fe_net.out'] = ((df[\"net.clearance\"] < 0.00) & ((df[\"outside.baseline\"] == 1) | (df[\"outside.sideline\"] == 1))) | ((df[\"net.clearance\"] < 0) & ((df[\"outside.baseline\"] == 1) & (df[\"outside.sideline\"] == 1)))\n",
    "\n",
    "# replace values with 0, 1 \n",
    "df['fe_net.out'] = df['fe_net.out'].replace({False: 0, True: 1})"
   ]
  },
  {
   "cell_type": "code",
   "execution_count": 16,
   "metadata": {},
   "outputs": [
    {
     "data": {
      "text/plain": [
       "10000"
      ]
     },
     "execution_count": 16,
     "metadata": {},
     "output_type": "execute_result"
    }
   ],
   "source": [
    "df['fe_over.in'].sum()+df['fe_over.out'].sum()+df['fe_net.in'].sum()+df['fe_net.out'].sum()"
   ]
  },
  {
   "cell_type": "markdown",
   "metadata": {},
   "source": [
    "Since outside.baseline and outside.sideline are captured in newly engineered features, they can be droped. We still need net.clearance since that contains continous data."
   ]
  },
  {
   "cell_type": "code",
   "execution_count": 17,
   "metadata": {},
   "outputs": [],
   "source": [
    "df = df.drop(columns=['outside.baseline', 'outside.sideline'])"
   ]
  },
  {
   "cell_type": "code",
   "execution_count": 18,
   "metadata": {},
   "outputs": [
    {
     "data": {
      "text/plain": [
       "(10000,)"
      ]
     },
     "execution_count": 18,
     "metadata": {},
     "output_type": "execute_result"
    }
   ],
   "source": [
    "df['fe_net.out'].shape"
   ]
  },
  {
   "cell_type": "markdown",
   "metadata": {},
   "source": [
    "A negative  value represents where the ball hit the net, where positive values mean that the ball went over the net. Model should only be consider with values where the ball went over the net. "
   ]
  },
  {
   "cell_type": "code",
   "execution_count": 19,
   "metadata": {},
   "outputs": [],
   "source": [
    "#df['net.clearance'] = df['net.clearance'].clip(lower=0)"
   ]
  },
  {
   "cell_type": "markdown",
   "metadata": {},
   "source": [
    "If a player travels a long distance for a fast incoming return and loses a point, it should identify whether it is a forced error."
   ]
  },
  {
   "cell_type": "code",
   "execution_count": 20,
   "metadata": {},
   "outputs": [],
   "source": [
    "df['fe_rush.shot'] = df['player.distance.travelled']*df['previous.speed']*(df['fe_over.out']+df['fe_net.in']+df['fe_net.out'])"
   ]
  },
  {
   "cell_type": "markdown",
   "metadata": {},
   "source": [
    "In the below, row 0 is a UE, row 1 is a FE, row 2 is a FE, row 3 is a UE, and row 4 is a W. The FE errors have much higher values per the new feature, fe_rush.shot."
   ]
  },
  {
   "cell_type": "code",
   "execution_count": 21,
   "metadata": {},
   "outputs": [
    {
     "data": {
      "text/plain": [
       "0     47.422461\n",
       "1     78.746204\n",
       "2    155.394255\n",
       "3     14.604617\n",
       "4      0.000000\n",
       "Name: fe_rush.shot, dtype: float64"
      ]
     },
     "execution_count": 21,
     "metadata": {},
     "output_type": "execute_result"
    }
   ],
   "source": [
    "df['fe_rush.shot'].head()"
   ]
  },
  {
   "cell_type": "code",
   "execution_count": 22,
   "metadata": {},
   "outputs": [],
   "source": [
    "df['fe_flop.shot'] = df['player.distance.travelled']*df['speed']*(df['fe_over.out']+df['fe_net.in']+df['fe_net.out'])"
   ]
  },
  {
   "cell_type": "code",
   "execution_count": 23,
   "metadata": {},
   "outputs": [
    {
     "data": {
      "text/plain": [
       "0    52.120814\n",
       "1    77.178372\n",
       "2    87.118291\n",
       "3    21.503605\n",
       "4     0.000000\n",
       "Name: fe_flop.shot, dtype: float64"
      ]
     },
     "execution_count": 23,
     "metadata": {},
     "output_type": "execute_result"
    }
   ],
   "source": [
    "df['fe_flop.shot'].head()"
   ]
  },
  {
   "cell_type": "code",
   "execution_count": 24,
   "metadata": {},
   "outputs": [],
   "source": [
    "# remove all rows where column value is > 200 based on visually looking at the 3b scatter plot from HW #1\n",
    "#full_data.drop(full_data[full_data.STheta > 200].index, inplace=True)"
   ]
  },
  {
   "cell_type": "markdown",
   "metadata": {},
   "source": [
    "When evaluating gender as it relates to forced errors (fe) we see nearly opposite relationships with certain features."
   ]
  },
  {
   "cell_type": "code",
   "execution_count": 25,
   "metadata": {},
   "outputs": [
    {
     "data": {
      "text/plain": [
       "speed                             -0.324038\n",
       "opponent.depth                    -0.238831\n",
       "previous.distance.from.sideline   -0.347894\n",
       "player.distance.travelled          0.217453\n",
       "fe_player.distance.start          -0.081946\n",
       "depth                              0.166616\n",
       "player.distance.from.center        0.124476\n",
       "outcome                            1.000000\n",
       "Name: outcome, dtype: float64"
      ]
     },
     "execution_count": 25,
     "metadata": {},
     "output_type": "execute_result"
    }
   ],
   "source": [
    "df_mens = df.loc[(df['gender'] == 'mens')].copy()\n",
    "df_mens['outcome'] = df_mens['outcome'].replace({'W': 0, 'UE': 0, 'FE': 1})\n",
    "df_mens[['speed', 'opponent.depth', 'previous.distance.from.sideline', 'player.distance.travelled',\n",
    "        'fe_player.distance.start', 'depth', 'player.distance.from.center','outcome']].corr()['outcome'][:]"
   ]
  },
  {
   "cell_type": "code",
   "execution_count": 26,
   "metadata": {},
   "outputs": [
    {
     "data": {
      "text/plain": [
       "speed                              0.184405\n",
       "opponent.depth                     0.211865\n",
       "previous.distance.from.sideline    0.142693\n",
       "player.distance.travelled         -0.226663\n",
       "fe_player.distance.start           0.246675\n",
       "depth                             -0.026475\n",
       "player.distance.from.center       -0.071725\n",
       "outcome                            1.000000\n",
       "Name: outcome, dtype: float64"
      ]
     },
     "execution_count": 26,
     "metadata": {},
     "output_type": "execute_result"
    }
   ],
   "source": [
    "df_womens = df.loc[(df['gender'] == 'womens')].copy()\n",
    "df_womens['outcome'] = df_womens['outcome'].replace({'W': 0, 'UE': 0, 'FE': 1})\n",
    "\n",
    "df_womens[['speed', 'opponent.depth', 'previous.distance.from.sideline', 'player.distance.travelled',\n",
    "        'fe_player.distance.start', 'depth', 'player.distance.from.center','outcome']].corr()['outcome'][:]"
   ]
  },
  {
   "cell_type": "code",
   "execution_count": 28,
   "metadata": {},
   "outputs": [
    {
     "data": {
      "text/plain": [
       "Index(['id', 'outcome', 'serve', 'rally', 'hitpoint', 'speed', 'net.clearance',\n",
       "       'distance.from.sideline', 'depth', 'player.distance.travelled',\n",
       "       'player.impact.depth', 'player.impact.distance.from.center',\n",
       "       'player.depth', 'player.distance.from.center', 'previous.speed',\n",
       "       'previous.net.clearance', 'previous.distance.from.sideline',\n",
       "       'previous.depth', 'opponent.depth', 'opponent.distance.from.center',\n",
       "       'same.side', 'previous.hitpoint', 'previous.time.to.net',\n",
       "       'server.is.impact.player', 'gender', 'fe_player.distance.start',\n",
       "       'fe_player.distances.end', 'fe_over.in', 'fe_over.out', 'fe_net.in',\n",
       "       'fe_net.out', 'fe_rush.shot', 'fe_flop.shot'],\n",
       "      dtype='object')"
      ]
     },
     "execution_count": 28,
     "metadata": {},
     "output_type": "execute_result"
    }
   ],
   "source": [
    "df.columns"
   ]
  },
  {
   "cell_type": "code",
   "execution_count": 33,
   "metadata": {},
   "outputs": [
    {
     "data": {
      "text/plain": [
       "5000   -30.940461\n",
       "5001    29.510526\n",
       "5002    30.851879\n",
       "5003   -21.386176\n",
       "5004    33.227040\n",
       "          ...    \n",
       "9995    36.693201\n",
       "9996   -33.505322\n",
       "9997    16.906289\n",
       "9998    15.199713\n",
       "9999   -30.679540\n",
       "Name: speed, Length: 5000, dtype: float64"
      ]
     },
     "execution_count": 33,
     "metadata": {},
     "output_type": "execute_result"
    }
   ],
   "source": [
    "a = df.loc[(df['gender'] == 'womens') & ((df['fe_net.in'] == 1) | (df['fe_net.out'] == 1) | (df['fe_over.out'] == 1))].copy()\n",
    "a['speed'] = a['speed'] * -1\n",
    "a['opponent.depth'] = a['opponent.depth'] * -1\n",
    "a['previous.distance.from.sideline'] = a['previous.distance.from.sideline'] * -1\n",
    "a['player.distance.travelled'] = a['player.distance.travelled'] * -1\n",
    "a['fe_player.distance.start'] = a['fe_player.distance.start'] * -1\n",
    "a['depth'] = a['depth'] * -1\n",
    "a['player.distance.from.center'] = a['player.distance.from.center'] * -1\n",
    "df.update(a)\n",
    "df[(df['gender'] == 'womens')]['speed']"
   ]
  },
  {
   "cell_type": "code",
   "execution_count": 36,
   "metadata": {},
   "outputs": [
    {
     "data": {
      "text/plain": [
       "5000    FE\n",
       "5001     W\n",
       "5002    FE\n",
       "5003    FE\n",
       "5004     W\n",
       "        ..\n",
       "9995     W\n",
       "9996    FE\n",
       "9997     W\n",
       "9998     W\n",
       "9999    FE\n",
       "Name: outcome, Length: 5000, dtype: object"
      ]
     },
     "execution_count": 36,
     "metadata": {},
     "output_type": "execute_result"
    }
   ],
   "source": [
    "df[(df['gender'] == 'womens')]['outcome']"
   ]
  },
  {
   "cell_type": "code",
   "execution_count": 39,
   "metadata": {},
   "outputs": [
    {
     "data": {
      "text/plain": [
       "5000    0.0\n",
       "5001    0.0\n",
       "5002    0.0\n",
       "5003    1.0\n",
       "5004    0.0\n",
       "       ... \n",
       "9995    0.0\n",
       "9996    1.0\n",
       "9997    0.0\n",
       "9998    0.0\n",
       "9999    0.0\n",
       "Name: fe_over.out, Length: 5000, dtype: float64"
      ]
     },
     "execution_count": 39,
     "metadata": {},
     "output_type": "execute_result"
    }
   ],
   "source": [
    "df[(df['gender'] == 'womens')]['fe_over.out']"
   ]
  },
  {
   "cell_type": "markdown",
   "metadata": {},
   "source": [
    "### Pipeline for StandardScaler, OneHotEncoder"
   ]
  },
  {
   "cell_type": "code",
   "execution_count": 40,
   "metadata": {},
   "outputs": [
    {
     "name": "stdout",
     "output_type": "stream",
     "text": [
      "Shape of X: (10000, 31)\n",
      "Shape of y: (10000,)\n"
     ]
    }
   ],
   "source": [
    "# X matrix (features / independent variables)\n",
    "X = df.drop(['outcome', 'id'], axis=1)\n",
    "\n",
    "# y matrix (target / dependent variable) will be: T_degC\n",
    "y = df['outcome']\n",
    "\n",
    "# verify the shapes\n",
    "print('Shape of X:', X.shape)\n",
    "print('Shape of y:', y.shape)"
   ]
  },
  {
   "cell_type": "markdown",
   "metadata": {},
   "source": [
    "### Define categorical variables <a name=\"1b\"></a>\n",
    "Define certain features / independent variables as categorical by Using One-Hot-Encoding\n",
    "<br>Define target / dependent variable as categorical\n",
    "\n",
    "[return to top](#home01)"
   ]
  },
  {
   "cell_type": "markdown",
   "metadata": {},
   "source": [
    "**Define certain features / independent variables as categorical**"
   ]
  },
  {
   "cell_type": "code",
   "execution_count": 41,
   "metadata": {},
   "outputs": [
    {
     "name": "stdout",
     "output_type": "stream",
     "text": [
      "Shape of X_encoded: (10000, 38)\n"
     ]
    }
   ],
   "source": [
    "# one-hot encoding using pandas built-in method .get_dummies()\n",
    "X_encoded = pd.get_dummies(X)\n",
    "\n",
    "print('Shape of X_encoded:', X_encoded.shape) "
   ]
  },
  {
   "cell_type": "code",
   "execution_count": 42,
   "metadata": {},
   "outputs": [
    {
     "data": {
      "text/plain": [
       "serve                                 float64\n",
       "rally                                 float64\n",
       "speed                                 float64\n",
       "net.clearance                         float64\n",
       "distance.from.sideline                float64\n",
       "depth                                 float64\n",
       "player.distance.travelled             float64\n",
       "player.impact.depth                   float64\n",
       "player.impact.distance.from.center    float64\n",
       "player.depth                          float64\n",
       "player.distance.from.center           float64\n",
       "previous.speed                        float64\n",
       "previous.net.clearance                float64\n",
       "previous.distance.from.sideline       float64\n",
       "previous.depth                        float64\n",
       "opponent.depth                        float64\n",
       "opponent.distance.from.center         float64\n",
       "same.side                             float64\n",
       "previous.time.to.net                  float64\n",
       "server.is.impact.player               float64\n",
       "fe_player.distance.start              float64\n",
       "fe_player.distances.end               float64\n",
       "fe_over.in                            float64\n",
       "fe_over.out                           float64\n",
       "fe_net.in                             float64\n",
       "fe_net.out                            float64\n",
       "fe_rush.shot                          float64\n",
       "fe_flop.shot                          float64\n",
       "hitpoint_B                              uint8\n",
       "hitpoint_F                              uint8\n",
       "hitpoint_U                              uint8\n",
       "hitpoint_V                              uint8\n",
       "previous.hitpoint_B                     uint8\n",
       "previous.hitpoint_F                     uint8\n",
       "previous.hitpoint_U                     uint8\n",
       "previous.hitpoint_V                     uint8\n",
       "gender_mens                             uint8\n",
       "gender_womens                           uint8\n",
       "dtype: object"
      ]
     },
     "execution_count": 42,
     "metadata": {},
     "output_type": "execute_result"
    }
   ],
   "source": [
    "X_encoded.dtypes"
   ]
  },
  {
   "cell_type": "code",
   "execution_count": 43,
   "metadata": {},
   "outputs": [
    {
     "data": {
      "text/plain": [
       "Index(['serve', 'rally', 'speed', 'net.clearance', 'distance.from.sideline',\n",
       "       'depth', 'player.distance.travelled', 'player.impact.depth',\n",
       "       'player.impact.distance.from.center', 'player.depth',\n",
       "       'player.distance.from.center', 'previous.speed',\n",
       "       'previous.net.clearance', 'previous.distance.from.sideline',\n",
       "       'previous.depth', 'opponent.depth', 'opponent.distance.from.center',\n",
       "       'same.side', 'previous.time.to.net', 'server.is.impact.player',\n",
       "       'fe_player.distance.start', 'fe_player.distances.end', 'fe_over.in',\n",
       "       'fe_over.out', 'fe_net.in', 'fe_net.out', 'fe_rush.shot',\n",
       "       'fe_flop.shot', 'hitpoint_B', 'hitpoint_F', 'hitpoint_U', 'hitpoint_V',\n",
       "       'previous.hitpoint_B', 'previous.hitpoint_F', 'previous.hitpoint_U',\n",
       "       'previous.hitpoint_V', 'gender_mens', 'gender_womens'],\n",
       "      dtype='object')"
      ]
     },
     "execution_count": 43,
     "metadata": {},
     "output_type": "execute_result"
    }
   ],
   "source": [
    "X_encoded.columns"
   ]
  },
  {
   "cell_type": "markdown",
   "metadata": {},
   "source": [
    "**Define target / dependent variable as categorical**"
   ]
  },
  {
   "cell_type": "code",
   "execution_count": 44,
   "metadata": {},
   "outputs": [
    {
     "name": "stdout",
     "output_type": "stream",
     "text": [
      "['UE' 'FE' 'W']\n"
     ]
    }
   ],
   "source": [
    "print(y.unique())"
   ]
  },
  {
   "cell_type": "markdown",
   "metadata": {},
   "source": [
    "### Create 2nd Order Interactions for X DataFrame<a name=\"1c\"></a>\n",
    "\n",
    "<b>Note:</b> Still determining how to do properly.\n",
    "\n",
    "[return to top](#home01)"
   ]
  },
  {
   "cell_type": "code",
   "execution_count": 45,
   "metadata": {},
   "outputs": [],
   "source": [
    "# import library\n",
    "from sklearn.preprocessing import PolynomialFeatures\n",
    "from sklearn_pandas import DataFrameMapper\n",
    "\n",
    "# interaction_only parameter let the function know we only want the interaction features, i.e. 1, x1, x2 and x1x2\n",
    "poly = PolynomialFeatures(degree=2, interaction_only=True)\n",
    "\n",
    "X_encoded_poly = poly.fit_transform(X_encoded)"
   ]
  },
  {
   "cell_type": "code",
   "execution_count": 46,
   "metadata": {},
   "outputs": [
    {
     "name": "stdout",
     "output_type": "stream",
     "text": [
      "Shape of X_poly: (10000, 742)\n"
     ]
    }
   ],
   "source": [
    "print('Shape of X_poly:', X_encoded_poly.shape) "
   ]
  },
  {
   "cell_type": "markdown",
   "metadata": {},
   "source": [
    "https://stackoverflow.com/questions/36728287/sklearn-preprocessing-polynomialfeatures-how-to-keep-column-names-headers-of"
   ]
  },
  {
   "cell_type": "markdown",
   "metadata": {},
   "source": [
    "### Split data into train / test set <a name=\"1d\"></a>\n",
    "\n",
    "[return to top](#home01)"
   ]
  },
  {
   "cell_type": "code",
   "execution_count": 47,
   "metadata": {},
   "outputs": [],
   "source": [
    "# import library\n",
    "from sklearn.model_selection import train_test_split\n",
    "\n",
    "# adding a seed called random_state in train_test_split so that split is reproducible\n",
    "random_state = 1\n",
    "\n",
    "# build out the following: X_train, X_test, y_train, y_test\n",
    "X_train, X_test, y_train, y_test = train_test_split(X_encoded_poly, y, test_size=0.20, random_state=random_state)"
   ]
  },
  {
   "cell_type": "markdown",
   "metadata": {},
   "source": [
    "### Scale X_train and X_test set <a name=\"1e\"></a>\n",
    "\n",
    "For use in Models x, x, and x.\n",
    "\n",
    "[return to top](#home0e)"
   ]
  },
  {
   "cell_type": "code",
   "execution_count": 48,
   "metadata": {},
   "outputs": [],
   "source": [
    "# import library\n",
    "from sklearn import preprocessing\n",
    "\n",
    "# scaling requires a float dtype; when ‘ignore’, suppress exceptions. On error return original object but would get\n",
    "# warning from scaler processing in sklearn\n",
    "#X_train = X_train.astype('float64', errors='ignore')\n",
    "#X_test = X_test.astype('float64', errors='ignore')\n",
    "\n",
    "# https://scikit-learn.org/stable/modules/preprocessing.html\n",
    "# compute the mean and standard deviation on a training set so as to be able to later \n",
    "# reapply the same transformation on the testing set\n",
    "scaler = preprocessing.StandardScaler().fit(X_train)\n",
    "\n",
    "X_train = preprocessing.scale(X_train)\n",
    "X_test = scaler.transform(X_test)"
   ]
  },
  {
   "cell_type": "code",
   "execution_count": 49,
   "metadata": {},
   "outputs": [
    {
     "name": "stdout",
     "output_type": "stream",
     "text": [
      "Shape of X_train: (8000, 742)\n",
      "Shape of X_test: (2000, 742)\n",
      "Shape of y_train: (8000,)\n",
      "Shape of y_test: (2000,)\n"
     ]
    }
   ],
   "source": [
    "print('Shape of X_train:', X_train.shape)\n",
    "print('Shape of X_test:', X_test.shape)\n",
    "print('Shape of y_train:', y_train.shape)\n",
    "print('Shape of y_test:', y_test.shape)"
   ]
  },
  {
   "cell_type": "code",
   "execution_count": 50,
   "metadata": {},
   "outputs": [
    {
     "data": {
      "text/plain": [
       "FE    3456\n",
       "W     3352\n",
       "UE    3192\n",
       "Name: outcome, dtype: int64"
      ]
     },
     "execution_count": 50,
     "metadata": {},
     "output_type": "execute_result"
    }
   ],
   "source": [
    "df.outcome.value_counts()"
   ]
  },
  {
   "cell_type": "markdown",
   "metadata": {},
   "source": [
    "## 2. Random Forest Classifier + GridSearchCV - Model 1: <a name=\"2\"></a>\n",
    "\n",
    "Create a Random Forest Model.\n",
    "\n",
    "[return to top](#home02)"
   ]
  },
  {
   "cell_type": "markdown",
   "metadata": {},
   "source": [
    "### Model 1 using RandomForestClassifier in sklearn.<a name=\"2a\"></a>\n",
    "\n",
    "[return to top](#home02)"
   ]
  },
  {
   "cell_type": "code",
   "execution_count": 12,
   "metadata": {
    "scrolled": true
   },
   "outputs": [
    {
     "name": "stdout",
     "output_type": "stream",
     "text": [
      "Fitting 5 folds for each of 270 candidates, totalling 1350 fits\n"
     ]
    },
    {
     "name": "stderr",
     "output_type": "stream",
     "text": [
      "[Parallel(n_jobs=-1)]: Using backend LokyBackend with 12 concurrent workers.\n",
      "[Parallel(n_jobs=-1)]: Done  48 tasks      | elapsed:   12.3s\n",
      "[Parallel(n_jobs=-1)]: Done 138 tasks      | elapsed:   32.7s\n",
      "[Parallel(n_jobs=-1)]: Done 264 tasks      | elapsed:  1.0min\n",
      "[Parallel(n_jobs=-1)]: Done 426 tasks      | elapsed:  1.7min\n",
      "[Parallel(n_jobs=-1)]: Done 624 tasks      | elapsed:  2.6min\n",
      "[Parallel(n_jobs=-1)]: Done 858 tasks      | elapsed:  3.8min\n",
      "[Parallel(n_jobs=-1)]: Done 1128 tasks      | elapsed:  5.5min\n",
      "[Parallel(n_jobs=-1)]: Done 1350 out of 1350 | elapsed:  6.9min finished\n"
     ]
    },
    {
     "name": "stdout",
     "output_type": "stream",
     "text": [
      "Wall time: 6min 52s\n"
     ]
    },
    {
     "data": {
      "text/plain": [
       "GridSearchCV(cv=5, error_score='raise-deprecating',\n",
       "             estimator=RandomForestClassifier(bootstrap=True, class_weight=None,\n",
       "                                              criterion='gini', max_depth=None,\n",
       "                                              max_features='auto',\n",
       "                                              max_leaf_nodes=None,\n",
       "                                              min_impurity_decrease=0.0,\n",
       "                                              min_impurity_split=None,\n",
       "                                              min_samples_leaf=1,\n",
       "                                              min_samples_split=2,\n",
       "                                              min_weight_fraction_leaf=0.0,\n",
       "                                              n_estimators='warn', n_jobs=None,\n",
       "                                              oob_score=False, random_state=1,\n",
       "                                              verbose=0, warm_start=False),\n",
       "             iid='warn', n_jobs=-1,\n",
       "             param_grid={'max_depth': [2, 3, 4],\n",
       "                         'max_features': ['auto', 'sqrt', 'log2'],\n",
       "                         'min_samples_split': [2, 4, 8],\n",
       "                         'n_estimators': [100, 200, 300, 400, 500, 600, 700,\n",
       "                                          800, 900, 1000]},\n",
       "             pre_dispatch='2*n_jobs', refit=True, return_train_score=False,\n",
       "             scoring=None, verbose=5)"
      ]
     },
     "execution_count": 12,
     "metadata": {},
     "output_type": "execute_result"
    }
   ],
   "source": [
    "# import library\n",
    "from sklearn.ensemble import RandomForestClassifier\n",
    "from sklearn.model_selection import GridSearchCV\n",
    "\n",
    "# create a dictionary of parameters \n",
    "param_grid = {'n_estimators':list(range(100, 1100, 100)),\n",
    "              'max_depth': [2,3,4],\n",
    "              'max_features': ['auto','sqrt','log2'],\n",
    "              'min_samples_split':[2, 4, 8], \n",
    "             }\n",
    "\n",
    "# create Random Forest model\n",
    "rf_obj = RandomForestClassifier(random_state=random_state)\n",
    "\n",
    "# create gridsearch object with various combinations of parameters\n",
    "model1_rnd_clf = GridSearchCV(rf_obj, param_grid, cv = 5, refit = True,\n",
    "                       n_jobs=-1, verbose = 5)\n",
    "\n",
    "%time model1_rnd_clf.fit(X_train, y_train)"
   ]
  },
  {
   "cell_type": "code",
   "execution_count": 13,
   "metadata": {},
   "outputs": [
    {
     "data": {
      "text/plain": [
       "{'max_depth': 4,\n",
       " 'max_features': 'auto',\n",
       " 'min_samples_split': 2,\n",
       " 'n_estimators': 200}"
      ]
     },
     "execution_count": 13,
     "metadata": {},
     "output_type": "execute_result"
    }
   ],
   "source": [
    "# best params_ used to extract the best hyper-parameters identified by the grid search\n",
    "model1_rnd_clf.best_params_"
   ]
  },
  {
   "cell_type": "code",
   "execution_count": 14,
   "metadata": {},
   "outputs": [
    {
     "data": {
      "text/plain": [
       "RandomForestClassifier(bootstrap=True, class_weight=None, criterion='gini',\n",
       "                       max_depth=4, max_features='auto', max_leaf_nodes=None,\n",
       "                       min_impurity_decrease=0.0, min_impurity_split=None,\n",
       "                       min_samples_leaf=1, min_samples_split=2,\n",
       "                       min_weight_fraction_leaf=0.0, n_estimators=200,\n",
       "                       n_jobs=None, oob_score=False, random_state=1, verbose=0,\n",
       "                       warm_start=False)"
      ]
     },
     "execution_count": 14,
     "metadata": {},
     "output_type": "execute_result"
    }
   ],
   "source": [
    "# best_estimator_ to find the 'best' combination of given parameters from the param_grid\n",
    "model1_rnd_clf.best_estimator_"
   ]
  },
  {
   "cell_type": "code",
   "execution_count": 15,
   "metadata": {
    "scrolled": true
   },
   "outputs": [
    {
     "name": "stdout",
     "output_type": "stream",
     "text": [
      "First 5 predicted probabilities:\n",
      " [[0.52419942 0.28253827 0.19326231]\n",
      " [0.25138198 0.31881553 0.42980249]\n",
      " [0.21482335 0.30663215 0.4785445 ]\n",
      " [0.20437938 0.32062955 0.47499107]\n",
      " [0.47908529 0.29647936 0.22443535]]\n",
      "\n",
      "First 5 predictions:\n",
      " ['FE' 'W' 'W' 'W' 'FE']\n"
     ]
    }
   ],
   "source": [
    "# predict probabilities\n",
    "y_pred_proba_model1_test = model1_rnd_clf.best_estimator_.predict_proba(X_test)\n",
    "\n",
    "# predict classes\n",
    "y_pred_model1_test = model1_rnd_clf.best_estimator_.predict(X_test)\n",
    "\n",
    "print('First 5 predicted probabilities:\\n', y_pred_proba_model1_test[0:5])\n",
    "print('\\nFirst 5 predictions:\\n',y_pred_model1_test[0:5])"
   ]
  },
  {
   "cell_type": "markdown",
   "metadata": {},
   "source": [
    "### Confusion matrix and Classification report for the test data <a name=\"2b\"></a>\n",
    "\n",
    "[return to top](#home02)"
   ]
  },
  {
   "cell_type": "code",
   "execution_count": 17,
   "metadata": {},
   "outputs": [
    {
     "data": {
      "image/png": "[encoded data removed]",
      "text/plain": [
       "<Figure size 432x288 with 2 Axes>"
      ]
     },
     "metadata": {
      "needs_background": "light"
     },
     "output_type": "display_data"
    }
   ],
   "source": [
    "# import library\n",
    "import matplotlib.pyplot as plt\n",
    "import seaborn as sns\n",
    "from sklearn import metrics\n",
    "\n",
    "# mean error evaluation using the .score() method\n",
    "model1_rdn_clf_score_test = model1_rnd_clf.best_estimator_.score(X_test, y_test)\n",
    "\n",
    "model1_rdn_clf_confusion_matrix_test = metrics.confusion_matrix(y_test, y_pred_model1_test)\n",
    "\n",
    "df_cm = pd.DataFrame(model1_rdn_clf_confusion_matrix_test, range(3), range(3))\n",
    "\n",
    "sns.heatmap (df_cm, fmt='d',\n",
    "             cmap='Blues_r', annot=True, square = True)\n",
    "\n",
    "plt.xlabel('Predicted Class')\n",
    "plt.ylabel('Actual Class')\n",
    "\n",
    "model1_test_title = 'RandomForestClassifier - Confussion Matrix on Test Data\\nMean Accuracy Score: {0:2f}'.format(model1_rdn_clf_score_test)\n",
    "plt.title(model1_test_title, size = 14)\n",
    "plt.show;"
   ]
  },
  {
   "cell_type": "code",
   "execution_count": 18,
   "metadata": {},
   "outputs": [
    {
     "name": "stdout",
     "output_type": "stream",
     "text": [
      "\u001b[1m  RandomForestClassifier - Classification Report on Test Data\n",
      "\u001b[0m               precision    recall  f1-score   support\n",
      "\n",
      "          FE       0.73      0.71      0.72       703\n",
      "          UE       0.73      0.63      0.68       652\n",
      "           W       0.83      0.97      0.90       645\n",
      "\n",
      "    accuracy                           0.77      2000\n",
      "   macro avg       0.77      0.77      0.77      2000\n",
      "weighted avg       0.76      0.77      0.76      2000\n",
      "\n"
     ]
    }
   ],
   "source": [
    "# import library\n",
    "from sklearn.metrics import classification_report\n",
    "\n",
    "model1_rnd_clf_classification_report_test = classification_report(y_test, y_pred_model1_test)\n",
    "print('\\033[1m'+'  RandomForestClassifier - Classification Report on Test Data\\n'+'\\033[0m', model1_rnd_clf_classification_report_test)"
   ]
  },
  {
   "cell_type": "markdown",
   "metadata": {},
   "source": [
    "### Confusion matrix and Classification report for the train data <a name=\"2c\"></a>\n",
    "\n",
    "[return to top](#home02)"
   ]
  },
  {
   "cell_type": "code",
   "execution_count": 19,
   "metadata": {},
   "outputs": [
    {
     "data": {
      "image/png": "[encoded data removed]",
      "text/plain": [
       "<Figure size 432x288 with 2 Axes>"
      ]
     },
     "metadata": {
      "needs_background": "light"
     },
     "output_type": "display_data"
    }
   ],
   "source": [
    "# import library\n",
    "import matplotlib.pyplot as plt\n",
    "import seaborn as sns\n",
    "from sklearn import metrics\n",
    "\n",
    "# predict classes\n",
    "y_pred_model1_train = model1_rnd_clf.best_estimator_.predict(X_train)\n",
    "\n",
    "# mean error evaluation using the .score() method\n",
    "model1_rdn_clf_score_train = model1_rnd_clf.score(X_train, y_train)\n",
    "\n",
    "model1_rdn_clf_confusion_matrix_train = metrics.confusion_matrix(y_train, y_pred_model1_train)\n",
    "\n",
    "df_cm = pd.DataFrame(model1_rdn_clf_confusion_matrix_train, range(3), range(3))\n",
    "\n",
    "sns.heatmap (df_cm, fmt='d',\n",
    "             cmap='Oranges_r', annot=True, square = True)\n",
    "\n",
    "plt.xlabel('Predicted Class')\n",
    "plt.ylabel('Actual Class')\n",
    "\n",
    "model1_train_title = 'RandomForestClassifier - Confussion Matrix on Train Data \\nMean Accuracy Score: {0:2f}'.format(model1_rdn_clf_score_train)\n",
    "plt.title(model1_train_title, size = 14)\n",
    "plt.show;"
   ]
  },
  {
   "cell_type": "code",
   "execution_count": 20,
   "metadata": {},
   "outputs": [
    {
     "name": "stdout",
     "output_type": "stream",
     "text": [
      "\u001b[1m  RandomForestClassifier - Classification Report on Train Data\n",
      "\u001b[0m               precision    recall  f1-score   support\n",
      "\n",
      "          FE       0.72      0.75      0.73      2753\n",
      "          UE       0.75      0.62      0.68      2540\n",
      "           W       0.86      0.96      0.91      2707\n",
      "\n",
      "    accuracy                           0.78      8000\n",
      "   macro avg       0.78      0.78      0.77      8000\n",
      "weighted avg       0.78      0.78      0.77      8000\n",
      "\n"
     ]
    }
   ],
   "source": [
    "# import library\n",
    "from sklearn.metrics import classification_report\n",
    "\n",
    "model1_rnd_clf_classification_report_train = classification_report(y_train, y_pred_model1_train)\n",
    "print('\\033[1m'+'  RandomForestClassifier - Classification Report on Train Data\\n'+'\\033[0m', model1_rnd_clf_classification_report_train)"
   ]
  },
  {
   "cell_type": "markdown",
   "metadata": {},
   "source": [
    "### Top 5 features<a name=\"2d\"></a>\n",
    "\n",
    "[return to top](#home02)"
   ]
  },
  {
   "cell_type": "code",
   "execution_count": 21,
   "metadata": {},
   "outputs": [
    {
     "data": {
      "image/png": "[encoded data removed]",
      "text/plain": [
       "<Figure size 432x288 with 1 Axes>"
      ]
     },
     "metadata": {
      "needs_background": "light"
     },
     "output_type": "display_data"
    }
   ],
   "source": [
    "# calculate feature importance\n",
    "model1_rnd_clf_importances = model1_rnd_clf.best_estimator_.feature_importances_\n",
    "\n",
    "# Sort feature importances in descending order\n",
    "model1_rnd_clf_indices = np.argsort(model1_rnd_clf_importances)[::-1]\n",
    "\n",
    "# Rearrange feature names so they match the sort feature importance\n",
    "model1_rnd_clf_names = [poly.get_feature_names(X_encoded.columns)[i] for i in model1_rnd_clf_indices]\n",
    "\n",
    "# Create plot\n",
    "plt.figure()\n",
    "\n",
    "# Create plot title\n",
    "plt.title(\" RandomForestClassifier - Model 1 Feature Importance (Top 5)\",\n",
    "          fontsize=14)\n",
    "\n",
    "# Add bars for first 5\n",
    "plt.bar(range(5), model1_rnd_clf_importances[model1_rnd_clf_indices][0:5])\n",
    "\n",
    "# Add feature names as x-axis labels\n",
    "plt.xticks(range(5), model1_rnd_clf_names[0:5], rotation = 90)\n",
    "\n",
    "# Show plot\n",
    "plt.show()"
   ]
  },
  {
   "cell_type": "markdown",
   "metadata": {},
   "source": [
    "### Pickle Model<a name=\"2e\"></a>\n",
    "\n",
    "[return to top](#home02)"
   ]
  },
  {
   "cell_type": "code",
   "execution_count": 24,
   "metadata": {},
   "outputs": [],
   "source": [
    "import pickle\n",
    "\n",
    "with open('model1_rnd_clf', 'wb') as f:\n",
    "    pickle.dump(model1_rnd_clf.best_estimator_, f)"
   ]
  },
  {
   "cell_type": "markdown",
   "metadata": {},
   "source": [
    "#### Test pickle"
   ]
  },
  {
   "cell_type": "code",
   "execution_count": 25,
   "metadata": {},
   "outputs": [],
   "source": [
    "with open('model1_rnd_clf', 'rb') as f:\n",
    "    test = pickle.load(f)"
   ]
  },
  {
   "cell_type": "code",
   "execution_count": 27,
   "metadata": {},
   "outputs": [
    {
     "name": "stdout",
     "output_type": "stream",
     "text": [
      "\n",
      "First 5 predictions:\n",
      " ['FE' 'W' 'W' 'W' 'FE']\n"
     ]
    }
   ],
   "source": [
    "y_pred = test.predict(X_test)\n",
    "print('\\nFirst 5 predictions:\\n',y_pred[0:5])"
   ]
  },
  {
   "cell_type": "markdown",
   "metadata": {},
   "source": [
    "## 3. AdaBoost Classifier + GridSearchCV - Model 2: <a name=\"3\"></a>\n",
    "\n",
    "Create a AdaBoostClassifier Model. \n",
    "\n",
    "[return to top](#home03)"
   ]
  },
  {
   "cell_type": "markdown",
   "metadata": {},
   "source": [
    "### Model 2 using AdaBoostClassifier in sklearn<a name=\"3a\"></a>\n",
    "\n",
    "[return to top](#home03)"
   ]
  },
  {
   "cell_type": "code",
   "execution_count": 28,
   "metadata": {},
   "outputs": [
    {
     "name": "stdout",
     "output_type": "stream",
     "text": [
      "Fitting 5 folds for each of 90 candidates, totalling 450 fits\n"
     ]
    },
    {
     "name": "stderr",
     "output_type": "stream",
     "text": [
      "[Parallel(n_jobs=-1)]: Using backend LokyBackend with 12 concurrent workers.\n",
      "[Parallel(n_jobs=-1)]: Done  48 tasks      | elapsed:  1.1min\n",
      "[Parallel(n_jobs=-1)]: Done 138 tasks      | elapsed:  3.0min\n",
      "[Parallel(n_jobs=-1)]: Done 264 tasks      | elapsed:  5.8min\n",
      "[Parallel(n_jobs=-1)]: Done 426 tasks      | elapsed:  9.4min\n",
      "[Parallel(n_jobs=-1)]: Done 450 out of 450 | elapsed: 10.2min finished\n"
     ]
    },
    {
     "name": "stdout",
     "output_type": "stream",
     "text": [
      "Wall time: 10min 15s\n"
     ]
    },
    {
     "data": {
      "text/plain": [
       "GridSearchCV(cv=5, error_score='raise-deprecating',\n",
       "             estimator=AdaBoostClassifier(algorithm='SAMME.R',\n",
       "                                          base_estimator=None,\n",
       "                                          learning_rate=1.0, n_estimators=50,\n",
       "                                          random_state=1),\n",
       "             iid='warn', n_jobs=-1,\n",
       "             param_grid={'learning_rate': [0.1, 0.2, 0.3, 0.4, 0.5, 0.6, 0.7,\n",
       "                                           0.8, 0.9],\n",
       "                         'n_estimators': [100, 200, 300, 400, 500, 600, 700,\n",
       "                                          800, 900, 1000]},\n",
       "             pre_dispatch='2*n_jobs', refit=True, return_train_score=False,\n",
       "             scoring=None, verbose=5)"
      ]
     },
     "execution_count": 28,
     "metadata": {},
     "output_type": "execute_result"
    }
   ],
   "source": [
    "# import library\n",
    "from sklearn.model_selection import GridSearchCV\n",
    "from sklearn.ensemble import AdaBoostClassifier\n",
    "\n",
    "# create a dictionary of parameters \n",
    "param_grid = {'n_estimators':list(range(100, 1100, 100)),\n",
    "              'learning_rate':[i/10.0 for i in range(1,10)]\n",
    "             }\n",
    "\n",
    "# create AdaBoostClassifier model\n",
    "ada_clf_obj = AdaBoostClassifier(algorithm='SAMME.R', random_state=random_state)\n",
    "\n",
    "# create gridsearch object with various combinations of parameters\n",
    "model2_ada_clf= GridSearchCV(ada_clf_obj, param_grid, cv = 5, \n",
    "                            refit = True,\n",
    "                            n_jobs=-1, verbose = 5)\n",
    "\n",
    "%time model2_ada_clf.fit(X_train, y_train)"
   ]
  },
  {
   "cell_type": "code",
   "execution_count": 29,
   "metadata": {},
   "outputs": [
    {
     "data": {
      "text/plain": [
       "{'learning_rate': 0.5, 'n_estimators': 400}"
      ]
     },
     "execution_count": 29,
     "metadata": {},
     "output_type": "execute_result"
    }
   ],
   "source": [
    "# best params_ used to extract the best hyper-parameters identified by the grid search\n",
    "model2_ada_clf.best_params_"
   ]
  },
  {
   "cell_type": "code",
   "execution_count": 30,
   "metadata": {},
   "outputs": [
    {
     "data": {
      "text/plain": [
       "AdaBoostClassifier(algorithm='SAMME.R', base_estimator=None, learning_rate=0.5,\n",
       "                   n_estimators=400, random_state=1)"
      ]
     },
     "execution_count": 30,
     "metadata": {},
     "output_type": "execute_result"
    }
   ],
   "source": [
    "# best_estimator_ to find the 'best' combination of given parameters from the param_grid\n",
    "model2_ada_clf.best_estimator_"
   ]
  },
  {
   "cell_type": "code",
   "execution_count": 31,
   "metadata": {},
   "outputs": [
    {
     "name": "stdout",
     "output_type": "stream",
     "text": [
      "First 5 predicted probabilities:\n",
      " [[0.33750979 0.33448647 0.32800373]\n",
      " [0.33441711 0.33331951 0.33226338]\n",
      " [0.32977267 0.33124737 0.33897996]\n",
      " [0.32827812 0.33411436 0.33760752]\n",
      " [0.33810694 0.33705255 0.32484051]]\n",
      "\n",
      "First 5 predictions:\n",
      " ['FE' 'FE' 'W' 'W' 'FE']\n"
     ]
    }
   ],
   "source": [
    "# predict probabilities\n",
    "y_pred_proba_model2_ada_clf_test = model2_ada_clf.best_estimator_.predict_proba(X_test)\n",
    "\n",
    "# predict classes\n",
    "y_pred_model2_ada_clf_test = model2_ada_clf.best_estimator_.predict(X_test)\n",
    "\n",
    "print('First 5 predicted probabilities:\\n', y_pred_proba_model2_ada_clf_test[0:5])\n",
    "print('\\nFirst 5 predictions:\\n', y_pred_model2_ada_clf_test[0:5])"
   ]
  },
  {
   "cell_type": "markdown",
   "metadata": {},
   "source": [
    "### Confusion matrix and Classification report for the test data <a name=\"3b\"></a>\n",
    "\n",
    "[return to top](#home03)"
   ]
  },
  {
   "cell_type": "code",
   "execution_count": 32,
   "metadata": {},
   "outputs": [
    {
     "data": {
      "image/png": "[encoded data removed]",
      "text/plain": [
       "<Figure size 432x288 with 2 Axes>"
      ]
     },
     "metadata": {
      "needs_background": "light"
     },
     "output_type": "display_data"
    }
   ],
   "source": [
    "# import library\n",
    "import matplotlib.pyplot as plt\n",
    "import seaborn as sns\n",
    "from sklearn import metrics\n",
    "\n",
    "# mean error evaluation using the .score() method\n",
    "model2_ada_clf_score_test = model2_ada_clf.best_estimator_.score(X_test, y_test)\n",
    "\n",
    "model2_ada_clf_confusion_matrix_test = metrics.confusion_matrix(y_test, y_pred_model2_ada_clf_test)\n",
    "\n",
    "df_cm = pd.DataFrame(model2_ada_clf_confusion_matrix_test, range(3), range(3))\n",
    "\n",
    "sns.heatmap (df_cm, fmt='d',\n",
    "             cmap='Blues_r', annot=True, square = True)\n",
    "\n",
    "plt.xlabel('Predicted Class')\n",
    "plt.ylabel('Actual Class')\n",
    "\n",
    "model2_ada_clf_test_title = 'AdaBoostClassifier - Confussion Matrix on Test Data \\nMean Accuracy Score: {0:2f}'.format(model2_ada_clf_score_test)\n",
    "plt.title(model2_ada_clf_test_title, size = 14)\n",
    "plt.show;"
   ]
  },
  {
   "cell_type": "code",
   "execution_count": 33,
   "metadata": {},
   "outputs": [
    {
     "name": "stdout",
     "output_type": "stream",
     "text": [
      "\u001b[1m  AdaBoostClassifier - Classification Report on Test Data\n",
      "\u001b[0m               precision    recall  f1-score   support\n",
      "\n",
      "          FE       0.69      0.68      0.69       703\n",
      "          UE       0.68      0.66      0.67       652\n",
      "           W       0.92      0.97      0.94       645\n",
      "\n",
      "    accuracy                           0.77      2000\n",
      "   macro avg       0.77      0.77      0.77      2000\n",
      "weighted avg       0.76      0.77      0.76      2000\n",
      "\n"
     ]
    }
   ],
   "source": [
    "# import library\n",
    "from sklearn.metrics import classification_report\n",
    "\n",
    "model2_ada_clf_classification_report_test = classification_report(y_test, y_pred_model2_ada_clf_test)\n",
    "print('\\033[1m'+'  AdaBoostClassifier - Classification Report on Test Data\\n'+'\\033[0m', model2_ada_clf_classification_report_test)"
   ]
  },
  {
   "cell_type": "markdown",
   "metadata": {},
   "source": [
    "### Confusion matrix and Classification report for the train data <a name=\"3c\"></a>\n",
    "\n",
    "[return to top](#home03)"
   ]
  },
  {
   "cell_type": "code",
   "execution_count": 34,
   "metadata": {},
   "outputs": [
    {
     "data": {
      "image/png": "[encoded data removed]",
      "text/plain": [
       "<Figure size 432x288 with 2 Axes>"
      ]
     },
     "metadata": {
      "needs_background": "light"
     },
     "output_type": "display_data"
    }
   ],
   "source": [
    "# import library\n",
    "import matplotlib.pyplot as plt\n",
    "import seaborn as sns\n",
    "from sklearn import metrics\n",
    "\n",
    "y_pred_model2_ada_clf_train = model2_ada_clf.best_estimator_.predict(X_train)\n",
    "\n",
    "# mean error evaluation using the .score() method\n",
    "model2_ada_clf_score_train = model2_ada_clf.best_estimator_.score(X_train, y_train)\n",
    "\n",
    "model2_ada_clf_confusion_matrix_train = metrics.confusion_matrix(y_train, y_pred_model2_ada_clf_train)\n",
    "\n",
    "df_cm = pd.DataFrame(model2_ada_clf_confusion_matrix_train, range(3), range(3))\n",
    "\n",
    "sns.heatmap (df_cm, fmt='d',\n",
    "             cmap='Oranges_r', annot=True, square = True)\n",
    "\n",
    "plt.xlabel('Predicted Class')\n",
    "plt.ylabel('Actual Class')\n",
    "\n",
    "model2_ada_clf_test_title = 'AdaBoostClassifier - Confussion Matrix on Train Data\\nMean Accuracy Score: {0:2f}'.format(model2_ada_clf_score_train)\n",
    "plt.title(model2_ada_clf_test_title, size = 14)\n",
    "plt.show;"
   ]
  },
  {
   "cell_type": "code",
   "execution_count": 35,
   "metadata": {},
   "outputs": [
    {
     "name": "stdout",
     "output_type": "stream",
     "text": [
      "\u001b[1m  AdaBoostClassifier - Classification Report on Train Data\n",
      "\u001b[0m               precision    recall  f1-score   support\n",
      "\n",
      "          FE       0.68      0.69      0.69      2753\n",
      "          UE       0.67      0.64      0.66      2540\n",
      "           W       0.93      0.96      0.94      2707\n",
      "\n",
      "    accuracy                           0.77      8000\n",
      "   macro avg       0.76      0.76      0.76      8000\n",
      "weighted avg       0.76      0.77      0.76      8000\n",
      "\n"
     ]
    }
   ],
   "source": [
    "# import library\n",
    "from sklearn.metrics import classification_report\n",
    "\n",
    "model2_ada_clf_classification_report_train = classification_report(y_train, y_pred_model2_ada_clf_train)\n",
    "print('\\033[1m'+'  AdaBoostClassifier - Classification Report on Train Data\\n'+'\\033[0m', model2_ada_clf_classification_report_train)"
   ]
  },
  {
   "cell_type": "markdown",
   "metadata": {},
   "source": [
    "### Top 5 features<a name=\"3d\"></a>\n",
    "\n",
    "[return to top](#home03)"
   ]
  },
  {
   "cell_type": "code",
   "execution_count": 36,
   "metadata": {},
   "outputs": [
    {
     "data": {
      "image/png": "[encoded data removed]",
      "text/plain": [
       "<Figure size 432x288 with 1 Axes>"
      ]
     },
     "metadata": {
      "needs_background": "light"
     },
     "output_type": "display_data"
    }
   ],
   "source": [
    "# calculate feature importance\n",
    "model2_ada_clf_importances = model2_ada_clf.best_estimator_.feature_importances_\n",
    "\n",
    "# Sort feature importances in descending order\n",
    "model2_ada_clf_indices = np.argsort(model2_ada_clf_importances)[::-1]\n",
    "\n",
    "# Rearrange feature names so they match the sort feature importance\n",
    "model2_ada_clf_names = [poly.get_feature_names(X_encoded.columns)[i] for i in model2_ada_clf_indices]\n",
    "\n",
    "# Create plot\n",
    "plt.figure()\n",
    "\n",
    "# Create plot title\n",
    "plt.title(\" AdaBoostClassifier- Model 2 Feature Importance (Top 5)\",\n",
    "          fontsize=14)\n",
    "\n",
    "# Add bars for first 5\n",
    "plt.bar(range(5), model2_ada_clf_importances[model2_ada_clf_indices][0:5])\n",
    "\n",
    "# Add feature names as x-axis labels\n",
    "plt.xticks(range(5), model2_ada_clf_names[0:5], rotation = 90)\n",
    "\n",
    "# Show plot\n",
    "plt.show()"
   ]
  },
  {
   "cell_type": "markdown",
   "metadata": {},
   "source": [
    "### Pickle Model<a name=\"3e\"></a>\n",
    "\n",
    "[return to top](#home03)"
   ]
  },
  {
   "cell_type": "code",
   "execution_count": 37,
   "metadata": {},
   "outputs": [],
   "source": [
    "import pickle\n",
    "\n",
    "with open('model2_ada_clf', 'wb') as f:\n",
    "    pickle.dump(model2_ada_clf.best_estimator_, f)"
   ]
  },
  {
   "cell_type": "markdown",
   "metadata": {},
   "source": [
    "#### Test Pickle"
   ]
  },
  {
   "cell_type": "code",
   "execution_count": 38,
   "metadata": {},
   "outputs": [],
   "source": [
    "with open('model2_ada_clf', 'rb') as f:\n",
    "    test2 = pickle.load(f)"
   ]
  },
  {
   "cell_type": "code",
   "execution_count": 39,
   "metadata": {},
   "outputs": [
    {
     "name": "stdout",
     "output_type": "stream",
     "text": [
      "\n",
      "First 5 predictions:\n",
      " ['FE' 'FE' 'W' 'W' 'FE']\n"
     ]
    }
   ],
   "source": [
    "y_pred = test2.predict(X_test)\n",
    "print('\\nFirst 5 predictions:\\n',y_pred[0:5])"
   ]
  },
  {
   "cell_type": "markdown",
   "metadata": {},
   "source": [
    "## 4. Gradient Boosting Classifier + RandomizedSearchCV - Model 3: <a name=\"4\"></a>\n",
    "\n",
    "Create a GradientBoostingClassifier Model. \n",
    "\n",
    "[return to top](#home04)"
   ]
  },
  {
   "cell_type": "markdown",
   "metadata": {},
   "source": [
    "### Model 3 using GradientBoostingClassifier in sklearn <a name=\"4a\"></a>\n",
    "\n",
    "[return to top](#home04)"
   ]
  },
  {
   "cell_type": "code",
   "execution_count": 40,
   "metadata": {},
   "outputs": [
    {
     "name": "stdout",
     "output_type": "stream",
     "text": [
      "Fitting 5 folds for each of 10 candidates, totalling 50 fits\n"
     ]
    },
    {
     "name": "stderr",
     "output_type": "stream",
     "text": [
      "[Parallel(n_jobs=-1)]: Using backend LokyBackend with 12 concurrent workers.\n",
      "[Parallel(n_jobs=-1)]: Done  38 out of  50 | elapsed:  1.4min remaining:   26.2s\n",
      "[Parallel(n_jobs=-1)]: Done  50 out of  50 | elapsed:  1.5min finished\n"
     ]
    },
    {
     "name": "stdout",
     "output_type": "stream",
     "text": [
      "Wall time: 1min 44s\n"
     ]
    },
    {
     "data": {
      "text/plain": [
       "RandomizedSearchCV(cv=5, error_score='raise-deprecating',\n",
       "                   estimator=GradientBoostingClassifier(criterion='friedman_mse',\n",
       "                                                        init=None,\n",
       "                                                        learning_rate=0.1,\n",
       "                                                        loss='deviance',\n",
       "                                                        max_depth=3,\n",
       "                                                        max_features=None,\n",
       "                                                        max_leaf_nodes=None,\n",
       "                                                        min_impurity_decrease=0.0,\n",
       "                                                        min_impurity_split=None,\n",
       "                                                        min_samples_leaf=1,\n",
       "                                                        min_samples_split=2,\n",
       "                                                        min_weight_fraction_leaf=0.0,\n",
       "                                                        n_estimators=100,\n",
       "                                                        n_i...\n",
       "                                                        tol=0.0001,\n",
       "                                                        validation_fraction=0.1,\n",
       "                                                        verbose=0,\n",
       "                                                        warm_start=False),\n",
       "                   iid='warn', n_iter=10, n_jobs=-1,\n",
       "                   param_distributions={'learning_rate': [0.1, 0.2, 0.3, 0.4,\n",
       "                                                          0.5, 0.6, 0.7, 0.8,\n",
       "                                                          0.9, 1.0],\n",
       "                                        'max_depth': [1, 2, 3],\n",
       "                                        'n_estimators': [100, 200, 300, 400,\n",
       "                                                         500, 600, 700, 800,\n",
       "                                                         900, 1000]},\n",
       "                   pre_dispatch='2*n_jobs', random_state=None, refit=True,\n",
       "                   return_train_score=False, scoring=None, verbose=5)"
      ]
     },
     "execution_count": 40,
     "metadata": {},
     "output_type": "execute_result"
    }
   ],
   "source": [
    "# import library\n",
    "from sklearn.model_selection import RandomizedSearchCV\n",
    "from sklearn.ensemble import GradientBoostingClassifier\n",
    "\n",
    "# create a dictionary of parameters \n",
    "param_grid = {'n_estimators':list(range(100, 1100, 100)),\n",
    "              'learning_rate':[i/10.0 for i in range(1,11)],\n",
    "              'max_depth':[1,2,3]\n",
    "              }\n",
    "\n",
    "# create AdaBoostClassifier model\n",
    "gbrt_obj = GradientBoostingClassifier(random_state=random_state)\n",
    "\n",
    "# create gridsearch object with various combinations of parameters\n",
    "model3_gbrt_clf = RandomizedSearchCV(gbrt_obj, param_grid, cv = 5,\n",
    "                                     refit = True,\n",
    "                                     n_jobs=-1, verbose = 5)\n",
    "\n",
    "%time model3_gbrt_clf.fit(X_train, y_train)"
   ]
  },
  {
   "cell_type": "code",
   "execution_count": 37,
   "metadata": {},
   "outputs": [
    {
     "ename": "NameError",
     "evalue": "name 'model3_gbrt_clf' is not defined",
     "output_type": "error",
     "traceback": [
      "\u001b[1;31m---------------------------------------------------------------------------\u001b[0m",
      "\u001b[1;31mNameError\u001b[0m                                 Traceback (most recent call last)",
      "\u001b[1;32m<ipython-input-37-0cfc2e83ca74>\u001b[0m in \u001b[0;36m<module>\u001b[1;34m\u001b[0m\n\u001b[0;32m      1\u001b[0m \u001b[1;31m# best params_ used to extract the best hyper-parameters identified by the grid search\u001b[0m\u001b[1;33m\u001b[0m\u001b[1;33m\u001b[0m\u001b[1;33m\u001b[0m\u001b[0m\n\u001b[1;32m----> 2\u001b[1;33m \u001b[0mmodel3_gbrt_clf\u001b[0m\u001b[1;33m.\u001b[0m\u001b[0mbest_params_\u001b[0m\u001b[1;33m\u001b[0m\u001b[1;33m\u001b[0m\u001b[0m\n\u001b[0m",
      "\u001b[1;31mNameError\u001b[0m: name 'model3_gbrt_clf' is not defined"
     ]
    }
   ],
   "source": [
    "# best params_ used to extract the best hyper-parameters identified by the grid search\n",
    "model3_gbrt_clf.best_params_"
   ]
  },
  {
   "cell_type": "code",
   "execution_count": 38,
   "metadata": {},
   "outputs": [
    {
     "ename": "NameError",
     "evalue": "name 'model3_gbrt_clf' is not defined",
     "output_type": "error",
     "traceback": [
      "\u001b[1;31m---------------------------------------------------------------------------\u001b[0m",
      "\u001b[1;31mNameError\u001b[0m                                 Traceback (most recent call last)",
      "\u001b[1;32m<ipython-input-38-340db64e0a27>\u001b[0m in \u001b[0;36m<module>\u001b[1;34m\u001b[0m\n\u001b[0;32m      1\u001b[0m \u001b[1;31m# best_estimator_ to find the 'best' combination of given parameters from the param_grid\u001b[0m\u001b[1;33m\u001b[0m\u001b[1;33m\u001b[0m\u001b[1;33m\u001b[0m\u001b[0m\n\u001b[1;32m----> 2\u001b[1;33m \u001b[0mmodel3_gbrt_clf\u001b[0m\u001b[1;33m.\u001b[0m\u001b[0mbest_estimator_\u001b[0m\u001b[1;33m\u001b[0m\u001b[1;33m\u001b[0m\u001b[0m\n\u001b[0m",
      "\u001b[1;31mNameError\u001b[0m: name 'model3_gbrt_clf' is not defined"
     ]
    }
   ],
   "source": [
    "# best_estimator_ to find the 'best' combination of given parameters from the param_grid\n",
    "model3_gbrt_clf.best_estimator_"
   ]
  },
  {
   "cell_type": "code",
   "execution_count": 43,
   "metadata": {},
   "outputs": [
    {
     "name": "stdout",
     "output_type": "stream",
     "text": [
      "First 5 predicted probabilities:\n",
      " [[9.94752596e-01 5.17077150e-03 7.66323371e-05]\n",
      " [5.32359275e-01 4.66818229e-01 8.22495984e-04]\n",
      " [5.65432235e-05 1.54388430e-02 9.84504614e-01]\n",
      " [1.56683016e-04 3.17859377e-02 9.68057379e-01]\n",
      " [9.91932102e-01 8.03763223e-03 3.02656521e-05]]\n",
      "\n",
      "First 5 predictions:\n",
      " ['FE' 'FE' 'W' 'W' 'FE']\n"
     ]
    }
   ],
   "source": [
    "# predict probabilities\n",
    "y_pred_proba_model3_gbrt_clf_test = model3_gbrt_clf.best_estimator_.predict_proba(X_test)\n",
    "\n",
    "# predict classes\n",
    "y_pred_model3_gbrt_clf_test = model3_gbrt_clf.best_estimator_.predict(X_test)\n",
    "\n",
    "print('First 5 predicted probabilities:\\n', y_pred_proba_model3_gbrt_clf_test[0:5])\n",
    "print('\\nFirst 5 predictions:\\n', y_pred_model3_gbrt_clf_test[0:5])"
   ]
  },
  {
   "cell_type": "markdown",
   "metadata": {},
   "source": [
    "### Confusion matrix and Classification report for the test data <a name=\"4b\"></a>\n",
    "\n",
    "[return to top](#home04)"
   ]
  },
  {
   "cell_type": "code",
   "execution_count": 44,
   "metadata": {},
   "outputs": [
    {
     "data": {
      "image/png": "[encoded data removed]",
      "text/plain": [
       "<Figure size 432x288 with 2 Axes>"
      ]
     },
     "metadata": {
      "needs_background": "light"
     },
     "output_type": "display_data"
    }
   ],
   "source": [
    "# import library\n",
    "import matplotlib.pyplot as plt\n",
    "import seaborn as sns\n",
    "from sklearn import metrics\n",
    "\n",
    "# mean error evaluation using the .score() method\n",
    "model3_gbrt_clf_score_test = model3_gbrt_clf.best_estimator_.score(X_test, y_test)\n",
    "\n",
    "model3_gbrt_clf_confusion_matrix_test = metrics.confusion_matrix(y_test, y_pred_model3_gbrt_clf_test)\n",
    "\n",
    "df_cm = pd.DataFrame(model3_gbrt_clf_confusion_matrix_test, range(3), range(3))\n",
    "\n",
    "sns.heatmap (df_cm, fmt='d',\n",
    "             cmap='Blues_r', annot=True, square = True)\n",
    "\n",
    "plt.xlabel('Predicted Class')\n",
    "plt.ylabel('Actual Class')\n",
    "\n",
    "model3_gbrt_clf_test_title = 'GradientBoostingClassifier - Confussion Matrix on Test Data \\nMean Accuracy Score: {0:2f}'.format(model3_gbrt_clf_score_test)\n",
    "plt.title(model3_gbrt_clf_test_title, size = 14)\n",
    "plt.show;"
   ]
  },
  {
   "cell_type": "code",
   "execution_count": 45,
   "metadata": {},
   "outputs": [
    {
     "name": "stdout",
     "output_type": "stream",
     "text": [
      "\u001b[1m  GradientBoostingClassifier - Classification Report on Test Data\n",
      "\u001b[0m               precision    recall  f1-score   support\n",
      "\n",
      "          FE       0.84      0.82      0.83       703\n",
      "          UE       0.82      0.82      0.82       652\n",
      "           W       0.94      0.97      0.95       645\n",
      "\n",
      "    accuracy                           0.87      2000\n",
      "   macro avg       0.87      0.87      0.87      2000\n",
      "weighted avg       0.87      0.87      0.87      2000\n",
      "\n"
     ]
    }
   ],
   "source": [
    "# import library\n",
    "from sklearn.metrics import classification_report\n",
    "\n",
    "model3_gbrt_clf_classification_report_test = classification_report(y_test, y_pred_model3_gbrt_clf_test)\n",
    "print('\\033[1m'+'  GradientBoostingClassifier - Classification Report on Test Data\\n'+'\\033[0m', model3_gbrt_clf_classification_report_test)"
   ]
  },
  {
   "cell_type": "markdown",
   "metadata": {},
   "source": [
    "### Confusion matrix and Classification report for the train data <a name=\"4c\"></a>\n",
    "\n",
    "[return to top](#home04)"
   ]
  },
  {
   "cell_type": "code",
   "execution_count": 46,
   "metadata": {},
   "outputs": [
    {
     "data": {
      "image/png": "[encoded data removed]",
      "text/plain": [
       "<Figure size 432x288 with 2 Axes>"
      ]
     },
     "metadata": {
      "needs_background": "light"
     },
     "output_type": "display_data"
    }
   ],
   "source": [
    "# import library\n",
    "import matplotlib.pyplot as plt\n",
    "import seaborn as sns\n",
    "from sklearn import metrics\n",
    "\n",
    "y_pred_model3_gbrt_clf_train = model3_gbrt_clf.best_estimator_.predict(X_train)\n",
    "\n",
    "# mean error evaluation using the .score() method\n",
    "model3_gbrt_clf_score_train = model3_gbrt_clf.best_estimator_.score(X_train, y_train)\n",
    "\n",
    "model3_gbrt_clf_confusion_matrix_train = metrics.confusion_matrix(y_train, y_pred_model3_gbrt_clf_train)\n",
    "\n",
    "df_cm = pd.DataFrame(model3_gbrt_clf_confusion_matrix_train, range(3), range(3))\n",
    "\n",
    "sns.heatmap (df_cm, fmt='d',\n",
    "             cmap='Oranges_r', annot=True, square = True)\n",
    "\n",
    "plt.xlabel('Predicted Class')\n",
    "plt.ylabel('Actual Class')\n",
    "\n",
    "model3_gbrt_clf_test_title = 'GradientBoostingClassifier - Confussion Matrix on Train Data\\nMean Accuracy Score: {0:2f}'.format(model3_gbrt_clf_score_train)\n",
    "plt.title(model3_gbrt_clf_test_title, size = 14)\n",
    "plt.show;"
   ]
  },
  {
   "cell_type": "code",
   "execution_count": 47,
   "metadata": {},
   "outputs": [
    {
     "name": "stdout",
     "output_type": "stream",
     "text": [
      "\u001b[1m  GradientBoostingClassifier - Classification Report on Train Data\n",
      "\u001b[0m               precision    recall  f1-score   support\n",
      "\n",
      "          FE       1.00      1.00      1.00      2753\n",
      "          UE       1.00      1.00      1.00      2540\n",
      "           W       1.00      1.00      1.00      2707\n",
      "\n",
      "    accuracy                           1.00      8000\n",
      "   macro avg       1.00      1.00      1.00      8000\n",
      "weighted avg       1.00      1.00      1.00      8000\n",
      "\n"
     ]
    }
   ],
   "source": [
    "# import library\n",
    "from sklearn.metrics import classification_report\n",
    "\n",
    "model3_gbrt_clf_classification_report_train = classification_report(y_train, y_pred_model3_gbrt_clf_train)\n",
    "print('\\033[1m'+'  GradientBoostingClassifier - Classification Report on Train Data\\n'+'\\033[0m', model3_gbrt_clf_classification_report_train)"
   ]
  },
  {
   "cell_type": "markdown",
   "metadata": {},
   "source": [
    "### Top 5 features<a name=\"4d\"></a>\n",
    "\n",
    "[return to top](#home04)"
   ]
  },
  {
   "cell_type": "code",
   "execution_count": 48,
   "metadata": {},
   "outputs": [
    {
     "data": {
      "image/png": "[encoded data removed]",
      "text/plain": [
       "<Figure size 432x288 with 1 Axes>"
      ]
     },
     "metadata": {
      "needs_background": "light"
     },
     "output_type": "display_data"
    }
   ],
   "source": [
    "# calculate feature importance\n",
    "model3_gbrt_clf_importances = model3_gbrt_clf.best_estimator_.feature_importances_\n",
    "\n",
    "# Sort feature importances in descending order\n",
    "model3_gbrt_clf_indices = np.argsort(model3_gbrt_clf_importances)[::-1]\n",
    "\n",
    "# Rearrange feature names so they match the sort feature importance\n",
    "model3_gbrt_clf_names = [poly.get_feature_names(X_encoded.columns)[i] for i in model3_gbrt_clf_indices]\n",
    "\n",
    "# Create plot\n",
    "plt.figure()\n",
    "\n",
    "# Create plot title\n",
    "plt.title(\" GradientBoostingClassifier - Model 3 Feature Importance (Top 5)\",\n",
    "          fontsize=14)\n",
    "\n",
    "# Add bars for first 5\n",
    "plt.bar(range(5), model3_gbrt_clf_importances[model3_gbrt_clf_indices][0:5])\n",
    "\n",
    "# Add feature names as x-axis labels\n",
    "plt.xticks(range(5), model3_gbrt_clf_names[0:5], rotation = 90)\n",
    "\n",
    "# Show plot\n",
    "plt.show()"
   ]
  },
  {
   "cell_type": "markdown",
   "metadata": {},
   "source": [
    "### Pickle Model<a name=\"4e\"></a>\n",
    "\n",
    "[return to top](#home04)"
   ]
  },
  {
   "cell_type": "code",
   "execution_count": 61,
   "metadata": {},
   "outputs": [],
   "source": [
    "import pickle\n",
    "\n",
    "with open('model3_gbrt_clf', 'wb') as f:\n",
    "    pickle.dump(model3_gbrt_clf.best_estimator_, f)"
   ]
  },
  {
   "cell_type": "markdown",
   "metadata": {},
   "source": [
    "#### Test Pickle"
   ]
  },
  {
   "cell_type": "code",
   "execution_count": 50,
   "metadata": {},
   "outputs": [],
   "source": [
    "with open('model3_gbrt_clf', 'rb') as f:\n",
    "    test3 = pickle.load(f)"
   ]
  },
  {
   "cell_type": "code",
   "execution_count": 51,
   "metadata": {},
   "outputs": [
    {
     "name": "stdout",
     "output_type": "stream",
     "text": [
      "\n",
      "First 5 predictions:\n",
      " ['FE' 'FE' 'W' 'W' 'FE']\n"
     ]
    }
   ],
   "source": [
    "y_pred = test3.predict(X_test)\n",
    "print('\\nFirst 5 predictions:\\n',y_pred[0:5])"
   ]
  },
  {
   "cell_type": "markdown",
   "metadata": {},
   "source": [
    "## 5. XGBoost Classifier + RandomizedSearchCV - Model 4:  <a name=\"5\"></a>\n",
    "\n",
    "Create a XGBClassifier Model.  \n",
    "\n",
    "[return to top](#home05)"
   ]
  },
  {
   "cell_type": "markdown",
   "metadata": {},
   "source": [
    "### Model 4 using XGBClassifier in XGBoost <a name=\"5a\"></a>\n",
    "\n",
    "[return to top](#home05)"
   ]
  },
  {
   "cell_type": "code",
   "execution_count": 52,
   "metadata": {},
   "outputs": [
    {
     "name": "stdout",
     "output_type": "stream",
     "text": [
      "Fitting 5 folds for each of 10 candidates, totalling 50 fits\n"
     ]
    },
    {
     "name": "stderr",
     "output_type": "stream",
     "text": [
      "[Parallel(n_jobs=-1)]: Using backend LokyBackend with 12 concurrent workers.\n",
      "[Parallel(n_jobs=-1)]: Done  38 out of  50 | elapsed: 14.0min remaining:  4.4min\n",
      "[Parallel(n_jobs=-1)]: Done  50 out of  50 | elapsed: 16.3min finished\n"
     ]
    },
    {
     "name": "stdout",
     "output_type": "stream",
     "text": [
      "Wall time: 23min 16s\n"
     ]
    },
    {
     "data": {
      "text/plain": [
       "RandomizedSearchCV(cv=5, error_score='raise-deprecating',\n",
       "                   estimator=XGBClassifier(base_score=0.5, booster='gbtree',\n",
       "                                           colsample_bylevel=1,\n",
       "                                           colsample_bynode=1,\n",
       "                                           colsample_bytree=1, gamma=0,\n",
       "                                           learning_rate=0.1, max_delta_step=0,\n",
       "                                           max_depth=3, min_child_weight=1,\n",
       "                                           missing=None, n_estimators=100,\n",
       "                                           n_jobs=1, nthread=None,\n",
       "                                           objective='binary:logistic',\n",
       "                                           random_state=1, reg_alpha=0...\n",
       "                   param_distributions={'gamma': [0.0, 0.25, 0.5, 0.75, 1.0,\n",
       "                                                  1.25, 1.5, 1.75, 2.0, 2.25,\n",
       "                                                  2.5, 2.75, 3.0, 3.25, 3.5,\n",
       "                                                  3.75, 4.0, 4.25, 4.5, 4.75,\n",
       "                                                  5.0],\n",
       "                                        'learning_rate': [0.1, 0.2, 0.3, 0.4,\n",
       "                                                          0.5, 0.6, 0.7, 0.8,\n",
       "                                                          0.9, 1.0],\n",
       "                                        'max_depth': [1, 2, 3],\n",
       "                                        'n_estimators': [100, 200, 300, 400,\n",
       "                                                         500, 600, 700, 800,\n",
       "                                                         900, 1000]},\n",
       "                   pre_dispatch='2*n_jobs', random_state=None, refit=True,\n",
       "                   return_train_score=False, scoring=None, verbose=5)"
      ]
     },
     "execution_count": 52,
     "metadata": {},
     "output_type": "execute_result"
    }
   ],
   "source": [
    "# import library\n",
    "from sklearn.model_selection import RandomizedSearchCV\n",
    "# direct xgboost library and possibly use \"cv\" from library\n",
    "import xgboost as xgb\n",
    "# sklearn wrapper for XGBoost. Allows Grid Search parellel processing like GBM\n",
    "from xgboost.sklearn import XGBClassifier\n",
    "\n",
    "# create a dictionary of parameters using range(start, stop but not including, step) \n",
    "param_grid = {'n_estimators': list(range(100, 1100, 100)),\n",
    "              'learning_rate':[i/10.0 for i in range(1,11)],\n",
    "              'max_depth':[1,2,3],\n",
    "              'gamma': [i/4 for i in range(0,21)]\n",
    "              }\n",
    "\n",
    "# create XGBoost model\n",
    "gxbt_obj = XGBClassifier(random_state = random_state)\n",
    "\n",
    "# create randomizedsearchCV object with various combinations of parameters\n",
    "model4_gxbt_clf = RandomizedSearchCV(gxbt_obj, param_grid, cv = 5\n",
    "                                     , refit = True,\n",
    "                                     n_jobs=-1, verbose = 5)\n",
    "\n",
    "%time model4_gxbt_clf.fit(X_train, y_train)"
   ]
  },
  {
   "cell_type": "code",
   "execution_count": 53,
   "metadata": {},
   "outputs": [
    {
     "data": {
      "text/plain": [
       "{'n_estimators': 1000, 'max_depth': 3, 'learning_rate': 0.4, 'gamma': 1.0}"
      ]
     },
     "execution_count": 53,
     "metadata": {},
     "output_type": "execute_result"
    }
   ],
   "source": [
    "# best params_ used to extract the best hyper-parameters identified by the grid search\n",
    "model4_gxbt_clf.best_params_"
   ]
  },
  {
   "cell_type": "code",
   "execution_count": 54,
   "metadata": {},
   "outputs": [
    {
     "data": {
      "text/plain": [
       "XGBClassifier(base_score=0.5, booster='gbtree', colsample_bylevel=1,\n",
       "              colsample_bynode=1, colsample_bytree=1, gamma=1.0,\n",
       "              learning_rate=0.4, max_delta_step=0, max_depth=3,\n",
       "              min_child_weight=1, missing=None, n_estimators=1000, n_jobs=1,\n",
       "              nthread=None, objective='multi:softprob', random_state=1,\n",
       "              reg_alpha=0, reg_lambda=1, scale_pos_weight=1, seed=None,\n",
       "              silent=None, subsample=1, verbosity=1)"
      ]
     },
     "execution_count": 54,
     "metadata": {},
     "output_type": "execute_result"
    }
   ],
   "source": [
    "# best_estimator_ to find the 'best' combination of given parameters from the param_grid\n",
    "model4_gxbt_clf.best_estimator_"
   ]
  },
  {
   "cell_type": "code",
   "execution_count": 55,
   "metadata": {},
   "outputs": [
    {
     "name": "stdout",
     "output_type": "stream",
     "text": [
      "First 5 predicted probabilities:\n",
      " [[9.9016678e-01 7.2692670e-03 2.5639276e-03]\n",
      " [8.9229882e-01 1.0355277e-01 4.1484153e-03]\n",
      " [4.2561297e-03 5.1599067e-02 9.4414485e-01]\n",
      " [1.4336311e-03 2.2526028e-02 9.7604036e-01]\n",
      " [9.9792010e-01 1.7824603e-03 2.9745800e-04]]\n",
      "\n",
      "First 5 predictions:\n",
      " ['FE' 'FE' 'W' 'W' 'FE']\n"
     ]
    }
   ],
   "source": [
    "# predict probabilities\n",
    "y_pred_proba_model4_gxbt_clf_test = model4_gxbt_clf.best_estimator_.predict_proba(X_test)\n",
    "\n",
    "# predict classes\n",
    "y_pred_model4_gxbt_clf_test = model4_gxbt_clf.best_estimator_.predict(X_test)\n",
    "\n",
    "print('First 5 predicted probabilities:\\n', y_pred_proba_model4_gxbt_clf_test[0:5])\n",
    "print('\\nFirst 5 predictions:\\n', y_pred_model4_gxbt_clf_test[0:5])"
   ]
  },
  {
   "cell_type": "markdown",
   "metadata": {},
   "source": [
    "### Confusion matrix and Classification report for the test data <a name=\"5b\"></a>\n",
    "\n",
    "[return to top](#home05)"
   ]
  },
  {
   "cell_type": "code",
   "execution_count": 57,
   "metadata": {},
   "outputs": [
    {
     "data": {
      "image/png": "[encoded data removed]",
      "text/plain": [
       "<Figure size 432x288 with 2 Axes>"
      ]
     },
     "metadata": {
      "needs_background": "light"
     },
     "output_type": "display_data"
    }
   ],
   "source": [
    "# import library\n",
    "import matplotlib.pyplot as plt\n",
    "import seaborn as sns\n",
    "from sklearn import metrics\n",
    "\n",
    "# mean error evaluation using the .score() method\n",
    "model4_gxbt_clf_score_test = model4_gxbt_clf.best_estimator_.score(X_test, y_test)\n",
    "\n",
    "model4_gxbt_clf_confusion_matrix_test = metrics.confusion_matrix(y_test, y_pred_model4_gxbt_clf_test)\n",
    "\n",
    "df_cm = pd.DataFrame(model4_gxbt_clf_confusion_matrix_test, range(3), range(3))\n",
    "\n",
    "sns.heatmap (df_cm, fmt='d',\n",
    "             cmap='Blues_r', annot=True, square = True)\n",
    "\n",
    "plt.xlabel('Predicted Class')\n",
    "plt.ylabel('Actual Class')\n",
    "\n",
    "model4_gxbt_clf_test_title = 'XGBoost Classifier - Confussion Matrix on Test Data \\nMean Accuracy Score: {0:2f}'.format(model4_gxbt_clf_score_test)\n",
    "plt.title(model4_gxbt_clf_test_title, size = 14)\n",
    "plt.show;"
   ]
  },
  {
   "cell_type": "code",
   "execution_count": 58,
   "metadata": {},
   "outputs": [
    {
     "name": "stdout",
     "output_type": "stream",
     "text": [
      "\u001b[1m  XGBoost Classifier - Classification Report on Test Data\n",
      "\u001b[0m               precision    recall  f1-score   support\n",
      "\n",
      "          FE       0.85      0.82      0.83       703\n",
      "          UE       0.83      0.83      0.83       652\n",
      "           W       0.93      0.97      0.95       645\n",
      "\n",
      "    accuracy                           0.87      2000\n",
      "   macro avg       0.87      0.87      0.87      2000\n",
      "weighted avg       0.87      0.87      0.87      2000\n",
      "\n"
     ]
    }
   ],
   "source": [
    "# import library\n",
    "from sklearn.metrics import classification_report\n",
    "\n",
    "model4_gxbt_clf_classification_report_test = classification_report(y_test, y_pred_model4_gxbt_clf_test)\n",
    "print('\\033[1m'+'  XGBoost Classifier - Classification Report on Test Data\\n'+'\\033[0m', model4_gxbt_clf_classification_report_test)"
   ]
  },
  {
   "cell_type": "markdown",
   "metadata": {},
   "source": [
    "### Confusion matrix and Classification report for the train data <a name=\"5c\"></a>\n",
    "\n",
    "[return to top](#home05)"
   ]
  },
  {
   "cell_type": "code",
   "execution_count": 59,
   "metadata": {},
   "outputs": [
    {
     "data": {
      "image/png": "[encoded data removed]",
      "text/plain": [
       "<Figure size 432x288 with 2 Axes>"
      ]
     },
     "metadata": {
      "needs_background": "light"
     },
     "output_type": "display_data"
    }
   ],
   "source": [
    "# import library\n",
    "import matplotlib.pyplot as plt\n",
    "import seaborn as sns\n",
    "from sklearn import metrics\n",
    "\n",
    "y_pred_model4_gxbt_clf_train = model4_gxbt_clf.best_estimator_.predict(X_train)\n",
    "\n",
    "# mean error evaluation using the .score() method\n",
    "model4_gxbt_clf_score_train = model4_gxbt_clf.best_estimator_.score(X_train, y_train)\n",
    "\n",
    "model4_gxbt_clf_confusion_matrix_train = metrics.confusion_matrix(y_train, y_pred_model4_gxbt_clf_train)\n",
    "\n",
    "df_cm = pd.DataFrame(model4_gxbt_clf_confusion_matrix_train, range(3), range(3))\n",
    "\n",
    "sns.heatmap (df_cm, fmt='d',\n",
    "             cmap='Oranges_r', annot=True, square = True)\n",
    "\n",
    "plt.xlabel('Predicted Class')\n",
    "plt.ylabel('Actual Class')\n",
    "\n",
    "model4_gxbt_clf_test_title = 'XGBoost Classifier - Confussion Matrix on Train Data\\nMean Accuracy Score: {0:2f}'.format(model4_gxbt_clf_score_train)\n",
    "plt.title(model4_gxbt_clf_test_title, size = 14)\n",
    "plt.show;"
   ]
  },
  {
   "cell_type": "code",
   "execution_count": 60,
   "metadata": {},
   "outputs": [
    {
     "name": "stdout",
     "output_type": "stream",
     "text": [
      "\u001b[1m  XGBoost Classifier - Classification Report on Train Data\n",
      "\u001b[0m               precision    recall  f1-score   support\n",
      "\n",
      "          FE       0.98      0.98      0.98      2753\n",
      "          UE       0.98      0.98      0.98      2540\n",
      "           W       0.99      1.00      0.99      2707\n",
      "\n",
      "    accuracy                           0.99      8000\n",
      "   macro avg       0.99      0.99      0.99      8000\n",
      "weighted avg       0.99      0.99      0.99      8000\n",
      "\n"
     ]
    }
   ],
   "source": [
    "# import library\n",
    "from sklearn.metrics import classification_report\n",
    "\n",
    "model4_gxbt_clf_classification_report_train = classification_report(y_train, y_pred_model4_gxbt_clf_train)\n",
    "print('\\033[1m'+'  XGBoost Classifier - Classification Report on Train Data\\n'+'\\033[0m', model4_gxbt_clf_classification_report_train)"
   ]
  },
  {
   "cell_type": "markdown",
   "metadata": {},
   "source": [
    "### Top 5 features<a name=\"5d\"></a>\n",
    "\n",
    "[return to top](#home05)"
   ]
  },
  {
   "cell_type": "code",
   "execution_count": 61,
   "metadata": {
    "scrolled": true
   },
   "outputs": [
    {
     "data": {
      "image/png": "[encoded data removed]",
      "text/plain": [
       "<Figure size 432x288 with 1 Axes>"
      ]
     },
     "metadata": {
      "needs_background": "light"
     },
     "output_type": "display_data"
    }
   ],
   "source": [
    "# calculate feature importance\n",
    "model4_gxbt_clf_importances = model4_gxbt_clf.best_estimator_.feature_importances_\n",
    "\n",
    "# Sort feature importances in descending order\n",
    "model4_gxbt_clf_indices = np.argsort(model4_gxbt_clf_importances)[::-1]\n",
    "\n",
    "# Rearrange feature names so they match the sort feature importance\n",
    "model4_gxbt_clf_names = [poly.get_feature_names(X_encoded.columns)[i] for i in model4_gxbt_clf_indices]\n",
    "#model4_gxbt_clf_names = [X_train.columns.values[i] for i in model4_gxbt_clf_indices]\n",
    "\n",
    "# Create plot\n",
    "plt.figure()\n",
    "\n",
    "# Create plot title\n",
    "plt.title(\" GradientBoostingClassifier - Model 4 Feature Importance (Top 5)\",\n",
    "          fontsize=14)\n",
    "\n",
    "# Add bars for first 5\n",
    "plt.bar(range(10), model4_gxbt_clf_importances[model4_gxbt_clf_indices][0:10])\n",
    "\n",
    "# Add feature names as x-axis labels\n",
    "plt.xticks(range(10), model4_gxbt_clf_names[0:10], rotation = 90)\n",
    "\n",
    "# Show plot\n",
    "plt.show()"
   ]
  },
  {
   "cell_type": "markdown",
   "metadata": {},
   "source": [
    "### Pickle Model<a name=\"5e\"></a>\n",
    "\n",
    "[return to top](#home05)"
   ]
  },
  {
   "cell_type": "code",
   "execution_count": 64,
   "metadata": {},
   "outputs": [],
   "source": [
    "import pickle\n",
    "\n",
    "with open('model4_gxbt_clf', 'wb') as f:\n",
    "    pickle.dump(model4_gxbt_clf.best_estimator_, f)"
   ]
  },
  {
   "cell_type": "markdown",
   "metadata": {},
   "source": [
    "#### Test Pickle"
   ]
  },
  {
   "cell_type": "code",
   "execution_count": 65,
   "metadata": {},
   "outputs": [],
   "source": [
    "with open('model4_gxbt_clf', 'rb') as f:\n",
    "    test4 = pickle.load(f)"
   ]
  },
  {
   "cell_type": "code",
   "execution_count": 66,
   "metadata": {},
   "outputs": [
    {
     "name": "stdout",
     "output_type": "stream",
     "text": [
      "\n",
      "First 5 predictions:\n",
      " ['FE' 'UE' 'W' 'W' 'FE']\n"
     ]
    }
   ],
   "source": [
    "y_pred = test4.predict(X_test)\n",
    "print('\\nFirst 5 predictions:\\n',y_pred[0:5])"
   ]
  },
  {
   "cell_type": "markdown",
   "metadata": {},
   "source": [
    "## 6. Support Vector Machine Classifier + Polynomial Kernel + GridSearchCV  - Model 5:  <a name=\"6\"></a>\n",
    "\n",
    " Create a SVM with a polynomial kernel.  \n",
    "\n",
    "[return to top](#home06)"
   ]
  },
  {
   "cell_type": "markdown",
   "metadata": {},
   "source": [
    "### Model 5 using SVM in sklearn  <a name=\"6a\"></a>\n",
    "\n",
    "[return to top](#home06)"
   ]
  },
  {
   "cell_type": "code",
   "execution_count": 67,
   "metadata": {},
   "outputs": [
    {
     "name": "stdout",
     "output_type": "stream",
     "text": [
      "Fitting 5 folds for each of 204 candidates, totalling 1020 fits\n"
     ]
    },
    {
     "name": "stderr",
     "output_type": "stream",
     "text": [
      "[Parallel(n_jobs=-1)]: Using backend LokyBackend with 12 concurrent workers.\n",
      "[Parallel(n_jobs=-1)]: Done  48 tasks      | elapsed:  2.7min\n",
      "[Parallel(n_jobs=-1)]: Done 138 tasks      | elapsed:  6.6min\n",
      "[Parallel(n_jobs=-1)]: Done 264 tasks      | elapsed: 11.1min\n",
      "[Parallel(n_jobs=-1)]: Done 426 tasks      | elapsed: 16.6min\n",
      "[Parallel(n_jobs=-1)]: Done 624 tasks      | elapsed: 23.0min\n",
      "[Parallel(n_jobs=-1)]: Done 858 tasks      | elapsed: 30.6min\n",
      "[Parallel(n_jobs=-1)]: Done 1020 out of 1020 | elapsed: 35.6min finished\n"
     ]
    },
    {
     "name": "stdout",
     "output_type": "stream",
     "text": [
      "Wall time: 35min 47s\n"
     ]
    },
    {
     "data": {
      "text/plain": [
       "GridSearchCV(cv=5, error_score='raise-deprecating',\n",
       "             estimator=SVC(C=1.0, cache_size=200, class_weight=None, coef0=0.0,\n",
       "                           decision_function_shape='ovr', degree=3,\n",
       "                           gamma='auto_deprecated', kernel='poly', max_iter=-1,\n",
       "                           probability=True, random_state=1, shrinking=True,\n",
       "                           tol=0.001, verbose=False),\n",
       "             iid='warn', n_jobs=-1,\n",
       "             param_grid={'C': [0.01, 0.21000000000000002, 0.41000000000000003,\n",
       "                               0.6100000000000001, 0.81, 1.01,\n",
       "                               1.2100000000000002, 1.4100000000000001, 1.61,\n",
       "                               1.81, 2.01, 2.21, 2.41, 2.61, 2.81, 3.01, 3.21,\n",
       "                               3.41, 3.61, 3.81, 4.01, 4.21, 4.41, 4.61,\n",
       "                               4.8100000000000005, 5.01, 5.21, 5.41, 5.61,\n",
       "                               5.8100000000000005, ...],\n",
       "                         'degree': [2, 3, 4, 5]},\n",
       "             pre_dispatch='2*n_jobs', refit=True, return_train_score=False,\n",
       "             scoring=None, verbose=5)"
      ]
     },
     "execution_count": 67,
     "metadata": {},
     "output_type": "execute_result"
    }
   ],
   "source": [
    "# import library\n",
    "from sklearn.model_selection import GridSearchCV\n",
    "from sklearn.svm import SVC\n",
    "\n",
    "# create a dictionary of parameters \n",
    "param_grid = {'C':list(np.arange(0.01,10.00+0.20,0.20)),\n",
    "              'degree': [2,3,4,5]\n",
    "             }\n",
    "\n",
    "# create SVC model\n",
    "svcpol_clf_obj = SVC(kernel = 'poly', probability=True, random_state=random_state)\n",
    "\n",
    "# create gridsearch object with various combinations of parameters\n",
    "model5_svcpol_clf = GridSearchCV(svcpol_clf_obj, param_grid, cv = 5,\n",
    "                            refit = True,\n",
    "                            n_jobs = -1, verbose = 5)\n",
    "\n",
    "%time model5_svcpol_clf.fit(X_train, y_train)"
   ]
  },
  {
   "cell_type": "code",
   "execution_count": 68,
   "metadata": {},
   "outputs": [
    {
     "data": {
      "text/plain": [
       "{'C': 5.21, 'degree': 2}"
      ]
     },
     "execution_count": 68,
     "metadata": {},
     "output_type": "execute_result"
    }
   ],
   "source": [
    "# best params_ used to extract the best hyper-parameters identified by the grid search\n",
    "model5_svcpol_clf.best_params_"
   ]
  },
  {
   "cell_type": "code",
   "execution_count": 69,
   "metadata": {},
   "outputs": [
    {
     "data": {
      "text/plain": [
       "SVC(C=5.21, cache_size=200, class_weight=None, coef0=0.0,\n",
       "    decision_function_shape='ovr', degree=2, gamma='auto_deprecated',\n",
       "    kernel='poly', max_iter=-1, probability=True, random_state=1,\n",
       "    shrinking=True, tol=0.001, verbose=False)"
      ]
     },
     "execution_count": 69,
     "metadata": {},
     "output_type": "execute_result"
    }
   ],
   "source": [
    "# best_estimator_ to find the 'best' combination of given parameters from the param_grid\n",
    "model5_svcpol_clf.best_estimator_"
   ]
  },
  {
   "cell_type": "code",
   "execution_count": 70,
   "metadata": {},
   "outputs": [
    {
     "name": "stdout",
     "output_type": "stream",
     "text": [
      "First 5 predictions:\n",
      " ['FE' 'FE' 'W' 'W' 'FE']\n"
     ]
    }
   ],
   "source": [
    "# predict classes\n",
    "y_pred_model5_svcpol_clf_test = model5_svcpol_clf.best_estimator_.predict(X_test)\n",
    "\n",
    "print('First 5 predictions:\\n',y_pred_model5_svcpol_clf_test[0:5])"
   ]
  },
  {
   "cell_type": "markdown",
   "metadata": {},
   "source": [
    "### Confusion matrix and Classification report for the test data <a name=\"6b\"></a>\n",
    "\n",
    "[return to top](#home06)"
   ]
  },
  {
   "cell_type": "code",
   "execution_count": 71,
   "metadata": {},
   "outputs": [
    {
     "data": {
      "image/png": "[encoded data removed]",
      "text/plain": [
       "<Figure size 432x288 with 2 Axes>"
      ]
     },
     "metadata": {
      "needs_background": "light"
     },
     "output_type": "display_data"
    }
   ],
   "source": [
    "# import library\n",
    "import matplotlib.pyplot as plt\n",
    "import seaborn as sns\n",
    "from sklearn import metrics\n",
    "\n",
    "# mean error evaluation using the .score() method\n",
    "model5_svcpol_clf_score_test = model5_svcpol_clf.best_estimator_.score(X_test, y_test)\n",
    "\n",
    "model5_svcpol_clf_confusion_matrix_test = metrics.confusion_matrix(y_test, y_pred_model5_svcpol_clf_test)\n",
    "\n",
    "df_cm = pd.DataFrame(model5_svcpol_clf_confusion_matrix_test, range(3), range(3))\n",
    "\n",
    "sns.heatmap (df_cm, fmt='d',\n",
    "             cmap='Blues_r', annot=True, square = True)\n",
    "\n",
    "plt.xlabel('Predicted Class')\n",
    "plt.ylabel('Actual Class')\n",
    "\n",
    "model5_svcpol_clf_test_title = 'SVC w/ kernel = \"poly\" - Confussion Matrix on Test Data \\nMean Accuracy Score: {0:2f}'.format(model5_svcpol_clf_score_test)\n",
    "plt.title(model5_svcpol_clf_test_title, size = 14)\n",
    "plt.show;"
   ]
  },
  {
   "cell_type": "code",
   "execution_count": 72,
   "metadata": {},
   "outputs": [
    {
     "name": "stdout",
     "output_type": "stream",
     "text": [
      "\u001b[1mSVC w/ kernel = \"poly\" - Classification Report on Test Data\n",
      "\u001b[0m               precision    recall  f1-score   support\n",
      "\n",
      "          FE       0.78      0.79      0.78       703\n",
      "          UE       0.80      0.74      0.77       652\n",
      "           W       0.87      0.94      0.91       645\n",
      "\n",
      "    accuracy                           0.82      2000\n",
      "   macro avg       0.82      0.82      0.82      2000\n",
      "weighted avg       0.82      0.82      0.82      2000\n",
      "\n"
     ]
    }
   ],
   "source": [
    "# import library\n",
    "from sklearn.metrics import classification_report\n",
    "\n",
    "model5_svcpol_clf_classification_report_test = classification_report(y_test, y_pred_model5_svcpol_clf_test)\n",
    "print('\\033[1m'+'SVC w/ kernel = \"poly\" - Classification Report on Test Data\\n'+'\\033[0m', model5_svcpol_clf_classification_report_test)"
   ]
  },
  {
   "cell_type": "markdown",
   "metadata": {},
   "source": [
    "### Confusion matrix and Classification report for the train data <a name=\"6c\"></a>\n",
    "\n",
    "[return to top](#home06)"
   ]
  },
  {
   "cell_type": "code",
   "execution_count": 73,
   "metadata": {},
   "outputs": [
    {
     "data": {
      "image/png": "[encoded data removed]",
      "text/plain": [
       "<Figure size 432x288 with 2 Axes>"
      ]
     },
     "metadata": {
      "needs_background": "light"
     },
     "output_type": "display_data"
    }
   ],
   "source": [
    "# import library\n",
    "import matplotlib.pyplot as plt\n",
    "import seaborn as sns\n",
    "from sklearn import metrics\n",
    "\n",
    "# predict classes\n",
    "y_pred_model5_svcpol_clf_train = model5_svcpol_clf.predict(X_train)\n",
    "\n",
    "# mean error evaluation using the .score() method\n",
    "model5_svcpol_clf_score_train = model5_svcpol_clf.score(X_train, y_train)\n",
    "\n",
    "model5_svcpol_clf_confusion_matrix_train = metrics.confusion_matrix(y_train, y_pred_model5_svcpol_clf_train)\n",
    "\n",
    "df_cm = pd.DataFrame(model5_svcpol_clf_confusion_matrix_train, range(3), range(3))\n",
    "\n",
    "sns.heatmap (df_cm, fmt='d',\n",
    "             cmap='Oranges_r', annot=True, square = True)\n",
    "\n",
    "plt.xlabel('Predicted Class')\n",
    "plt.ylabel('Actual Class')\n",
    "\n",
    "model5_svcpol_clf_train_title = 'SVC w/ kernel = \"poly\" - Confussion Matrix on Train Data\\nMean Accuracy Score: {0:2f}'.format(model5_svcpol_clf_score_train)\n",
    "plt.title(model5_svcpol_clf_train_title, size = 14)\n",
    "plt.show;"
   ]
  },
  {
   "cell_type": "code",
   "execution_count": 74,
   "metadata": {},
   "outputs": [
    {
     "name": "stdout",
     "output_type": "stream",
     "text": [
      "\u001b[1mSVC w/ kernel = \"poly\" - Classification Report on Train Data\n",
      "\u001b[0m               precision    recall  f1-score   support\n",
      "\n",
      "          FE       0.83      0.83      0.83      2753\n",
      "          UE       0.85      0.79      0.82      2540\n",
      "           W       0.90      0.95      0.93      2707\n",
      "\n",
      "    accuracy                           0.86      8000\n",
      "   macro avg       0.86      0.86      0.86      8000\n",
      "weighted avg       0.86      0.86      0.86      8000\n",
      "\n"
     ]
    }
   ],
   "source": [
    "# import library\n",
    "from sklearn.metrics import classification_report\n",
    "\n",
    "model5_svcpol_clf_classification_report_train = classification_report(y_train, y_pred_model5_svcpol_clf_train)\n",
    "print('\\033[1m'+'SVC w/ kernel = \"poly\" - Classification Report on Train Data\\n'+'\\033[0m', model5_svcpol_clf_classification_report_train)"
   ]
  },
  {
   "cell_type": "markdown",
   "metadata": {},
   "source": [
    "### Top 5 features<a name=\"6d\"></a>\n",
    "\n",
    "[return to top](#home06)"
   ]
  },
  {
   "cell_type": "markdown",
   "metadata": {},
   "source": [
    "### Pickle Model<a name=\"6e\"></a>\n",
    "\n",
    "[return to top](#home06)"
   ]
  },
  {
   "cell_type": "code",
   "execution_count": 75,
   "metadata": {},
   "outputs": [],
   "source": [
    "import pickle\n",
    "\n",
    "with open('model5_svcpol_clf', 'wb') as f:\n",
    "    pickle.dump(model5_svcpol_clf.best_estimator_, f)"
   ]
  },
  {
   "cell_type": "markdown",
   "metadata": {},
   "source": [
    "#### Test Pickle"
   ]
  },
  {
   "cell_type": "code",
   "execution_count": 76,
   "metadata": {},
   "outputs": [],
   "source": [
    "with open('model5_svcpol_clf', 'rb') as f:\n",
    "    test5 = pickle.load(f)"
   ]
  },
  {
   "cell_type": "code",
   "execution_count": 77,
   "metadata": {},
   "outputs": [
    {
     "name": "stdout",
     "output_type": "stream",
     "text": [
      "\n",
      "First 5 predictions:\n",
      " ['FE' 'FE' 'W' 'W' 'FE']\n"
     ]
    }
   ],
   "source": [
    "y_pred = test5.predict(X_test)\n",
    "print('\\nFirst 5 predictions:\\n',y_pred[0:5])"
   ]
  },
  {
   "cell_type": "markdown",
   "metadata": {},
   "source": [
    "## 7. Support Vector Machine Classifier + RBF Kernel + Grid Search - Model 6:  <a name=\"7\"></a>\n",
    "\n",
    " Create a SVM with a RBF kernel.  \n",
    "\n",
    "[return to top](#home07)"
   ]
  },
  {
   "cell_type": "markdown",
   "metadata": {},
   "source": [
    "### Model 6 using SVM in sklearn  <a name=\"7a\"></a>\n",
    "\n",
    "[return to top](#home07)"
   ]
  },
  {
   "cell_type": "code",
   "execution_count": 80,
   "metadata": {},
   "outputs": [
    {
     "name": "stdout",
     "output_type": "stream",
     "text": [
      "Fitting 5 folds for each of 155 candidates, totalling 775 fits\n"
     ]
    },
    {
     "name": "stderr",
     "output_type": "stream",
     "text": [
      "[Parallel(n_jobs=-1)]: Using backend LokyBackend with 12 concurrent workers.\n",
      "[Parallel(n_jobs=-1)]: Done  48 tasks      | elapsed:  3.6min\n",
      "[Parallel(n_jobs=-1)]: Done 138 tasks      | elapsed:  9.2min\n",
      "[Parallel(n_jobs=-1)]: Done 264 tasks      | elapsed: 16.8min\n",
      "[Parallel(n_jobs=-1)]: Done 426 tasks      | elapsed: 26.7min\n",
      "[Parallel(n_jobs=-1)]: Done 624 tasks      | elapsed: 39.0min\n",
      "[Parallel(n_jobs=-1)]: Done 775 out of 775 | elapsed: 48.7min finished\n"
     ]
    },
    {
     "name": "stdout",
     "output_type": "stream",
     "text": [
      "Wall time: 48min 50s\n"
     ]
    },
    {
     "data": {
      "text/plain": [
       "GridSearchCV(cv=5, error_score='raise-deprecating',\n",
       "             estimator=SVC(C=1.0, cache_size=200, class_weight=None, coef0=0.0,\n",
       "                           decision_function_shape='ovr', degree=3,\n",
       "                           gamma='auto_deprecated', kernel='rbf', max_iter=-1,\n",
       "                           probability=True, random_state=1, shrinking=True,\n",
       "                           tol=0.001, verbose=False),\n",
       "             iid='warn', n_jobs=-1,\n",
       "             param_grid={'C': [0.01, 0.21000000000000002, 0.41000000000000003,\n",
       "                               0.6100000000000001, 0.81, 1.01,\n",
       "                               1.2100000000000002, 1.4100000000000001, 1.61,\n",
       "                               1.81, 2.01, 2.21, 2.41, 2.61, 2.81, 3.01, 3.21,\n",
       "                               3.41, 3.61, 3.81, 4.01, 4.21, 4.41, 4.61,\n",
       "                               4.8100000000000005, 5.01, 5.21, 5.41, 5.61,\n",
       "                               5.8100000000000005, ...],\n",
       "                         'gamma': [0.01, 0.1, 1, 10, 100]},\n",
       "             pre_dispatch='2*n_jobs', refit=True, return_train_score=False,\n",
       "             scoring=None, verbose=5)"
      ]
     },
     "execution_count": 80,
     "metadata": {},
     "output_type": "execute_result"
    }
   ],
   "source": [
    "# import library\n",
    "from sklearn.model_selection import GridSearchCV\n",
    "from sklearn.svm import SVC\n",
    "\n",
    "# create a dictionary of parameters \n",
    "param_grid = {'C':list(np.arange(0.01,6.00+0.20,0.20)),\n",
    "              'gamma': [0.01,0.1,1,10,100],\n",
    "             }\n",
    "\n",
    "# create SVC model\n",
    "svcrbf_clf_obj = SVC(kernel = 'rbf', probability=True, random_state=random_state)\n",
    "\n",
    "# create gridsearch object with various combinations of parameters\n",
    "model6_svcrbf_clf = GridSearchCV(svcrbf_clf_obj, param_grid, cv = 5,\n",
    "                                 refit = True,\n",
    "                                 n_jobs = -1, verbose = 5)\n",
    "\n",
    "%time model6_svcrbf_clf.fit(X_train, y_train)"
   ]
  },
  {
   "cell_type": "code",
   "execution_count": 81,
   "metadata": {},
   "outputs": [
    {
     "data": {
      "text/plain": [
       "{'C': 5.8100000000000005, 'gamma': 0.01}"
      ]
     },
     "execution_count": 81,
     "metadata": {},
     "output_type": "execute_result"
    }
   ],
   "source": [
    "# best params_ used to extract the best hyper-parameters identified by the grid search\n",
    "model6_svcrbf_clf.best_params_"
   ]
  },
  {
   "cell_type": "code",
   "execution_count": 82,
   "metadata": {},
   "outputs": [
    {
     "data": {
      "text/plain": [
       "SVC(C=5.8100000000000005, cache_size=200, class_weight=None, coef0=0.0,\n",
       "    decision_function_shape='ovr', degree=3, gamma=0.01, kernel='rbf',\n",
       "    max_iter=-1, probability=True, random_state=1, shrinking=True, tol=0.001,\n",
       "    verbose=False)"
      ]
     },
     "execution_count": 82,
     "metadata": {},
     "output_type": "execute_result"
    }
   ],
   "source": [
    "# best_estimator_ to find the 'best' combination of given parameters from the param_grid\n",
    "model6_svcrbf_clf.best_estimator_"
   ]
  },
  {
   "cell_type": "code",
   "execution_count": 83,
   "metadata": {},
   "outputs": [
    {
     "name": "stdout",
     "output_type": "stream",
     "text": [
      "First 5 predictions:\n",
      " ['FE' 'FE' 'W' 'W' 'FE']\n"
     ]
    }
   ],
   "source": [
    "# predict classes\n",
    "y_pred_model6_svcrbf_clf_test = model6_svcrbf_clf.best_estimator_.predict(X_test)\n",
    "\n",
    "print('First 5 predictions:\\n',y_pred_model6_svcrbf_clf_test[0:5])"
   ]
  },
  {
   "cell_type": "markdown",
   "metadata": {},
   "source": [
    "### Confusion matrix and Classification report for the test data <a name=\"7b\"></a>\n",
    "\n",
    "[return to top](#home07)"
   ]
  },
  {
   "cell_type": "code",
   "execution_count": 84,
   "metadata": {},
   "outputs": [
    {
     "data": {
      "image/png": "[encoded data removed]",
      "text/plain": [
       "<Figure size 432x288 with 2 Axes>"
      ]
     },
     "metadata": {
      "needs_background": "light"
     },
     "output_type": "display_data"
    }
   ],
   "source": [
    "# import library\n",
    "import matplotlib.pyplot as plt\n",
    "import seaborn as sns\n",
    "from sklearn import metrics\n",
    "\n",
    "# mean error evaluation using the .score() method\n",
    "model6_svcrbf_clf_score_test = model6_svcrbf_clf.best_estimator_.score(X_test, y_test)\n",
    "\n",
    "model6_svcrbf_clf_confusion_matrix_test = metrics.confusion_matrix(y_test, y_pred_model6_svcrbf_clf_test)\n",
    "\n",
    "df_cm = pd.DataFrame(model6_svcrbf_clf_confusion_matrix_test, range(3), range(3))\n",
    "\n",
    "sns.heatmap (df_cm, fmt='d',\n",
    "             cmap='Blues_r', annot=True, square = True)\n",
    "\n",
    "plt.xlabel('Predicted Class')\n",
    "plt.ylabel('Actual Class')\n",
    "\n",
    "model6_svcrbf_clf_test_title = 'SVC w/ kernel = \"rbf\" - Confussion Matrix on Test Data \\nMean Accuracy Score: {0:2f}'.format(model6_svcrbf_clf_score_test)\n",
    "plt.title(model6_svcrbf_clf_test_title, size = 14)\n",
    "plt.show;"
   ]
  },
  {
   "cell_type": "code",
   "execution_count": 85,
   "metadata": {},
   "outputs": [
    {
     "name": "stdout",
     "output_type": "stream",
     "text": [
      "\u001b[1mSVC w/ kernel = \"rbf\" - Classification Report on Test Data\n",
      "\u001b[0m               precision    recall  f1-score   support\n",
      "\n",
      "          FE       0.82      0.80      0.81       703\n",
      "          UE       0.81      0.78      0.79       652\n",
      "           W       0.87      0.94      0.91       645\n",
      "\n",
      "    accuracy                           0.84      2000\n",
      "   macro avg       0.84      0.84      0.84      2000\n",
      "weighted avg       0.84      0.84      0.84      2000\n",
      "\n"
     ]
    }
   ],
   "source": [
    "# import library\n",
    "from sklearn.metrics import classification_report\n",
    "\n",
    "model6_svcrbf_clf_classification_report_test = classification_report(y_test, y_pred_model6_svcrbf_clf_test)\n",
    "print('\\033[1m'+'SVC w/ kernel = \"rbf\" - Classification Report on Test Data\\n'+'\\033[0m', model6_svcrbf_clf_classification_report_test)"
   ]
  },
  {
   "cell_type": "markdown",
   "metadata": {},
   "source": [
    "### Confusion matrix and Classification report for the train data <a name=\"7c\"></a>\n",
    "\n",
    "[return to top](#home07)"
   ]
  },
  {
   "cell_type": "code",
   "execution_count": 86,
   "metadata": {},
   "outputs": [
    {
     "data": {
      "image/png": "[encoded data removed]",
      "text/plain": [
       "<Figure size 432x288 with 2 Axes>"
      ]
     },
     "metadata": {
      "needs_background": "light"
     },
     "output_type": "display_data"
    }
   ],
   "source": [
    "# import library\n",
    "import matplotlib.pyplot as plt\n",
    "import seaborn as sns\n",
    "from sklearn import metrics\n",
    "\n",
    "# predict classes\n",
    "y_pred_model6_svcrbf_clf_train = model6_svcrbf_clf.best_estimator_.predict(X_train)\n",
    "\n",
    "# mean error evaluation using the .score() method\n",
    "model6_svcrbf_clf_score_train = model6_svcrbf_clf.score(X_train, y_train)\n",
    "\n",
    "model6_svcrbf_clf_confusion_matrix_train = metrics.confusion_matrix(y_train, y_pred_model6_svcrbf_clf_train)\n",
    "\n",
    "df_cm = pd.DataFrame(model6_svcrbf_clf_confusion_matrix_train, range(3), range(3))\n",
    "\n",
    "sns.heatmap (df_cm, fmt='d',\n",
    "             cmap='Oranges_r', annot=True, square = True)\n",
    "\n",
    "plt.xlabel('Predicted Class')\n",
    "plt.ylabel('Actual Class')\n",
    "\n",
    "model6_svcrbf_clf_train_title = 'SVC w/ kernel = \"rbf\" - Confussion Matrix on Train Data\\nMean Accuracy Score: {0:2f}'.format(model6_svcrbf_clf_score_train)\n",
    "plt.title(model6_svcrbf_clf_train_title, size = 14)\n",
    "plt.show;"
   ]
  },
  {
   "cell_type": "code",
   "execution_count": 87,
   "metadata": {},
   "outputs": [
    {
     "name": "stdout",
     "output_type": "stream",
     "text": [
      "\u001b[1mSVC w/ kernel = \"rbf\" - Classification Report on Train Data\n",
      "\u001b[0m               precision    recall  f1-score   support\n",
      "\n",
      "          FE       0.86      0.85      0.85      2753\n",
      "          UE       0.87      0.83      0.85      2540\n",
      "           W       0.90      0.95      0.92      2707\n",
      "\n",
      "    accuracy                           0.88      8000\n",
      "   macro avg       0.88      0.88      0.88      8000\n",
      "weighted avg       0.88      0.88      0.88      8000\n",
      "\n"
     ]
    }
   ],
   "source": [
    "# import library\n",
    "from sklearn.metrics import classification_report\n",
    "\n",
    "model6_svcrbf_clf_classification_report_train = classification_report(y_train, y_pred_model6_svcrbf_clf_train)\n",
    "print('\\033[1m'+'SVC w/ kernel = \"rbf\" - Classification Report on Train Data\\n'+'\\033[0m', model6_svcrbf_clf_classification_report_train)"
   ]
  },
  {
   "cell_type": "markdown",
   "metadata": {},
   "source": [
    "### Top 5 features<a name=\"7d\"></a>\n",
    "\n",
    "[return to top](#home07)"
   ]
  },
  {
   "cell_type": "markdown",
   "metadata": {},
   "source": [
    "### Pickle Model<a name=\"7e\"></a>\n",
    "\n",
    "[return to top](#home07)"
   ]
  },
  {
   "cell_type": "code",
   "execution_count": 89,
   "metadata": {},
   "outputs": [],
   "source": [
    "import pickle\n",
    "\n",
    "with open('model6_svcrbf_clf', 'wb') as f:\n",
    "    pickle.dump(model6_svcrbf_clf.best_estimator_, f)"
   ]
  },
  {
   "cell_type": "markdown",
   "metadata": {},
   "source": [
    "#### Test Pickle"
   ]
  },
  {
   "cell_type": "code",
   "execution_count": 90,
   "metadata": {},
   "outputs": [],
   "source": [
    "with open('model6_svcrbf_clf', 'rb') as f:\n",
    "    test6 = pickle.load(f)"
   ]
  },
  {
   "cell_type": "code",
   "execution_count": 91,
   "metadata": {},
   "outputs": [
    {
     "name": "stdout",
     "output_type": "stream",
     "text": [
      "\n",
      "First 5 predictions:\n",
      " ['FE' 'FE' 'W' 'W' 'FE']\n"
     ]
    }
   ],
   "source": [
    "y_pred = test6.predict(X_test)\n",
    "print('\\nFirst 5 predictions:\\n',y_pred[0:5])"
   ]
  },
  {
   "cell_type": "markdown",
   "metadata": {},
   "source": [
    "## 8. KNeighbors Classifier - Model 7:  <a name=\"8\"></a>\n",
    "\n",
    "[return to top](#home08)"
   ]
  },
  {
   "cell_type": "markdown",
   "metadata": {},
   "source": [
    "### Model 7 using KNeighbors Classifier in sklearn<a name=\"8a\"></a>\n",
    "\n",
    "[return to top](#home8)"
   ]
  },
  {
   "cell_type": "code",
   "execution_count": 92,
   "metadata": {},
   "outputs": [
    {
     "name": "stdout",
     "output_type": "stream",
     "text": [
      "Fitting 5 folds for each of 1296 candidates, totalling 6480 fits\n"
     ]
    },
    {
     "name": "stderr",
     "output_type": "stream",
     "text": [
      "[Parallel(n_jobs=-1)]: Using backend LokyBackend with 12 concurrent workers.\n",
      "[Parallel(n_jobs=-1)]: Done  48 tasks      | elapsed:   11.6s\n",
      "[Parallel(n_jobs=-1)]: Done 138 tasks      | elapsed:   33.4s\n",
      "[Parallel(n_jobs=-1)]: Done 264 tasks      | elapsed:  1.1min\n",
      "[Parallel(n_jobs=-1)]: Done 426 tasks      | elapsed:  1.8min\n",
      "[Parallel(n_jobs=-1)]: Done 624 tasks      | elapsed:  2.4min\n",
      "[Parallel(n_jobs=-1)]: Done 858 tasks      | elapsed:  3.1min\n",
      "[Parallel(n_jobs=-1)]: Done 1128 tasks      | elapsed:  3.8min\n",
      "[Parallel(n_jobs=-1)]: Done 1434 tasks      | elapsed:  4.6min\n",
      "[Parallel(n_jobs=-1)]: Done 1776 tasks      | elapsed:  5.4min\n",
      "[Parallel(n_jobs=-1)]: Done 2154 tasks      | elapsed:  6.2min\n",
      "[Parallel(n_jobs=-1)]: Done 2568 tasks      | elapsed:  7.1min\n",
      "[Parallel(n_jobs=-1)]: Done 3018 tasks      | elapsed:  8.0min\n",
      "[Parallel(n_jobs=-1)]: Done 3504 tasks      | elapsed:  9.0min\n",
      "[Parallel(n_jobs=-1)]: Done 4026 tasks      | elapsed: 10.0min\n",
      "[Parallel(n_jobs=-1)]: Done 4584 tasks      | elapsed: 11.0min\n",
      "[Parallel(n_jobs=-1)]: Done 5178 tasks      | elapsed: 12.1min\n",
      "[Parallel(n_jobs=-1)]: Done 5808 tasks      | elapsed: 13.3min\n"
     ]
    },
    {
     "name": "stdout",
     "output_type": "stream",
     "text": [
      "Wall time: 14min 35s\n"
     ]
    },
    {
     "name": "stderr",
     "output_type": "stream",
     "text": [
      "[Parallel(n_jobs=-1)]: Done 6480 out of 6480 | elapsed: 14.6min finished\n"
     ]
    },
    {
     "data": {
      "text/plain": [
       "GridSearchCV(cv=5, error_score='raise-deprecating',\n",
       "             estimator=KNeighborsClassifier(algorithm='auto', leaf_size=30,\n",
       "                                            metric='minkowski',\n",
       "                                            metric_params=None, n_jobs=None,\n",
       "                                            n_neighbors=5, p=2,\n",
       "                                            weights='uniform'),\n",
       "             iid='warn', n_jobs=-1,\n",
       "             param_grid={'leaf_size': [5, 10, 15, 20, 25, 30, 35, 40, 45],\n",
       "                         'metric': ['euclidean', 'manhattan'],\n",
       "                         'n_jobs': [10, 20, 30],\n",
       "                         'n_neighbors': [2, 4, 6, 8, 10, 12, 14, 16, 18, 20, 22,\n",
       "                                         24],\n",
       "                         'weights': ['uniform', 'distance']},\n",
       "             pre_dispatch='2*n_jobs', refit=True, return_train_score=False,\n",
       "             scoring=None, verbose=5)"
      ]
     },
     "execution_count": 92,
     "metadata": {},
     "output_type": "execute_result"
    }
   ],
   "source": [
    "# import library\n",
    "from sklearn.model_selection import GridSearchCV\n",
    "from sklearn.neighbors import KNeighborsClassifier\n",
    "\n",
    "# create a dictionary of parameters \n",
    "param_grid = {'n_neighbors': list(np.arange(2,24+2,2)),\n",
    "              'n_jobs': list(np.arange(10,30+10,10)),\n",
    "              'weights': ['uniform', 'distance'],\n",
    "              'metric': ['euclidean', 'manhattan'],\n",
    "              'leaf_size': list(np.arange(5,40+10,5))\n",
    "             }\n",
    "\n",
    "# create KernelDensity model\n",
    "model7_knn_obj = KNeighborsClassifier()\n",
    "\n",
    "# create gridsearch object with various combinations of parameters\n",
    "model7_knn = GridSearchCV(model7_knn_obj,\n",
    "                          param_grid, cv=5,\n",
    "                          refit = True,\n",
    "                          n_jobs = -1, verbose = 5)\n",
    "\n",
    "%time model7_knn.fit(X_train, y_train);"
   ]
  },
  {
   "cell_type": "code",
   "execution_count": 93,
   "metadata": {},
   "outputs": [
    {
     "data": {
      "text/plain": [
       "{'leaf_size': 5,\n",
       " 'metric': 'manhattan',\n",
       " 'n_jobs': 10,\n",
       " 'n_neighbors': 18,\n",
       " 'weights': 'distance'}"
      ]
     },
     "execution_count": 93,
     "metadata": {},
     "output_type": "execute_result"
    }
   ],
   "source": [
    "# best params_ used to extract the best hyper-parameters identified by the grid search\n",
    "model7_knn.best_params_"
   ]
  },
  {
   "cell_type": "code",
   "execution_count": 94,
   "metadata": {},
   "outputs": [
    {
     "data": {
      "text/plain": [
       "KNeighborsClassifier(algorithm='auto', leaf_size=5, metric='manhattan',\n",
       "                     metric_params=None, n_jobs=10, n_neighbors=18, p=2,\n",
       "                     weights='distance')"
      ]
     },
     "execution_count": 94,
     "metadata": {},
     "output_type": "execute_result"
    }
   ],
   "source": [
    "# best_estimator_ to find the 'best' combination of given parameters from the param_grid\n",
    "model7_knn.best_estimator_"
   ]
  },
  {
   "cell_type": "code",
   "execution_count": 95,
   "metadata": {},
   "outputs": [
    {
     "name": "stdout",
     "output_type": "stream",
     "text": [
      "First 5 predictions:\n",
      " ['FE' 'W' 'W' 'W' 'FE']\n"
     ]
    }
   ],
   "source": [
    "# predict classes\n",
    "y_pred_model7_knn_test = model7_knn.best_estimator_.predict(X_test)\n",
    "\n",
    "print('First 5 predictions:\\n',y_pred_model7_knn_test[0:5])"
   ]
  },
  {
   "cell_type": "markdown",
   "metadata": {},
   "source": [
    "### Confusion matrix and Classification report for the test data <a name=\"8b\"></a>\n",
    "\n",
    "[return to top](#home8)"
   ]
  },
  {
   "cell_type": "code",
   "execution_count": 96,
   "metadata": {},
   "outputs": [
    {
     "data": {
      "image/png": "[encoded data removed]",
      "text/plain": [
       "<Figure size 432x288 with 2 Axes>"
      ]
     },
     "metadata": {
      "needs_background": "light"
     },
     "output_type": "display_data"
    }
   ],
   "source": [
    "# import library\n",
    "import matplotlib.pyplot as plt\n",
    "import seaborn as sns\n",
    "from sklearn import metrics\n",
    "\n",
    "# mean error evaluation using the .score() method\n",
    "model7_knn_score_test = model7_knn.best_estimator_.score(X_test, y_test)\n",
    "\n",
    "model7_knn_confusion_matrix_test = metrics.confusion_matrix(y_test, y_pred_model7_knn_test)\n",
    "\n",
    "df_cm = pd.DataFrame(model7_knn_confusion_matrix_test, range(3), range(3))\n",
    "\n",
    "sns.heatmap (df_cm, fmt='d',\n",
    "             cmap='Blues_r', annot=True, square = True)\n",
    "\n",
    "plt.xlabel('Predicted Class')\n",
    "plt.ylabel('Actual Class')\n",
    "\n",
    "model7_knn_test_title = 'KNeighbors Classifier - Confussion Matrix on Test Data \\nMean Accuracy Score: {0:2f}'.format(model7_knn_score_test)\n",
    "plt.title(model7_knn_test_title, size = 14)\n",
    "plt.show;"
   ]
  },
  {
   "cell_type": "code",
   "execution_count": 97,
   "metadata": {},
   "outputs": [
    {
     "name": "stdout",
     "output_type": "stream",
     "text": [
      "\u001b[1mKNeighbors Classifier - Classification Report on Test Data\n",
      "\u001b[0m               precision    recall  f1-score   support\n",
      "\n",
      "          FE       0.77      0.72      0.74       703\n",
      "          UE       0.75      0.70      0.72       652\n",
      "           W       0.78      0.89      0.83       645\n",
      "\n",
      "    accuracy                           0.77      2000\n",
      "   macro avg       0.77      0.77      0.77      2000\n",
      "weighted avg       0.77      0.77      0.76      2000\n",
      "\n"
     ]
    }
   ],
   "source": [
    "# import library\n",
    "from sklearn.metrics import classification_report\n",
    "\n",
    "model7_knn_classification_report_test = classification_report(y_test, y_pred_model7_knn_test)\n",
    "print('\\033[1m'+'KNeighbors Classifier - Classification Report on Test Data\\n'+'\\033[0m', model7_knn_classification_report_test)"
   ]
  },
  {
   "cell_type": "markdown",
   "metadata": {},
   "source": [
    "### Confusion matrix and Classification report for the train data <a name=\"8c\"></a>\n",
    "\n",
    "[return to top](#home8)"
   ]
  },
  {
   "cell_type": "code",
   "execution_count": 98,
   "metadata": {},
   "outputs": [
    {
     "data": {
      "image/png": "[encoded data removed]",
      "text/plain": [
       "<Figure size 432x288 with 2 Axes>"
      ]
     },
     "metadata": {
      "needs_background": "light"
     },
     "output_type": "display_data"
    }
   ],
   "source": [
    "# import library\n",
    "import matplotlib.pyplot as plt\n",
    "import seaborn as sns\n",
    "from sklearn import metrics\n",
    "\n",
    "# predict classes\n",
    "y_pred_model7_knn_train = model7_knn.best_estimator_.predict(X_train)\n",
    "\n",
    "# mean error evaluation using the .score() method\n",
    "model7_knn_score_train = model7_knn.score(X_train, y_train)\n",
    "\n",
    "model7_knn_confusion_matrix_train = metrics.confusion_matrix(y_train, y_pred_model7_knn_train)\n",
    "\n",
    "df_cm = pd.DataFrame(model7_knn_confusion_matrix_train, range(3), range(3))\n",
    "\n",
    "sns.heatmap (df_cm, fmt='d',\n",
    "             cmap='Oranges_r', annot=True, square = True)\n",
    "\n",
    "plt.xlabel('Predicted Class')\n",
    "plt.ylabel('Actual Class')\n",
    "\n",
    "model7_knn_train_title = 'KNeighbors Classifier - Confussion Matrix on Train Data\\nMean Accuracy Score: {0:2f}'.format(model7_knn_score_train)\n",
    "plt.title(model7_knn_train_title, size = 14)\n",
    "plt.show;"
   ]
  },
  {
   "cell_type": "markdown",
   "metadata": {},
   "source": [
    "### Top 5 features<a name=\"8d\"></a>\n",
    "\n",
    "[return to top](#home08)"
   ]
  },
  {
   "cell_type": "markdown",
   "metadata": {},
   "source": [
    "### Pickle Model<a name=\"7e\"></a>\n",
    "\n",
    "[return to top](#home07)"
   ]
  },
  {
   "cell_type": "code",
   "execution_count": 99,
   "metadata": {},
   "outputs": [],
   "source": [
    "import pickle\n",
    "\n",
    "with open('model7_knn', 'wb') as f:\n",
    "    pickle.dump(model7_knn.best_estimator_, f)"
   ]
  },
  {
   "cell_type": "markdown",
   "metadata": {},
   "source": [
    "#### Test Pickle"
   ]
  },
  {
   "cell_type": "code",
   "execution_count": 100,
   "metadata": {},
   "outputs": [],
   "source": [
    "with open('model7_knn', 'rb') as f:\n",
    "    test7 = pickle.load(f)"
   ]
  },
  {
   "cell_type": "code",
   "execution_count": 101,
   "metadata": {},
   "outputs": [
    {
     "name": "stdout",
     "output_type": "stream",
     "text": [
      "\n",
      "First 5 predictions:\n",
      " ['FE' 'W' 'W' 'W' 'FE']\n"
     ]
    }
   ],
   "source": [
    "y_pred = test7.predict(X_test)\n",
    "print('\\nFirst 5 predictions:\\n',y_pred[0:5])"
   ]
  },
  {
   "cell_type": "markdown",
   "metadata": {},
   "source": [
    "## 11. Voting Classifier - Models 9a and 9b:  <a name=\"11\"></a>\n",
    "\n",
    "Create a Hord Voting Classifier\n",
    "<br>Create a Soft Voting Classifier\n",
    "\n",
    "[return to top](#home09)"
   ]
  },
  {
   "cell_type": "markdown",
   "metadata": {},
   "source": [
    "### Model 9a and 9b using VotingClassifier in sklearn<a name=\"11a\"></a>\n",
    "\n",
    "[return to top](#home11)"
   ]
  },
  {
   "cell_type": "code",
   "execution_count": 102,
   "metadata": {},
   "outputs": [],
   "source": [
    "pool_classifiers = [model1_rnd_clf.best_estimator_,\n",
    "                    model2_ada_clf.best_estimator_,\n",
    "                    model3_gbrt_clf.best_estimator_,\n",
    "                    model4_gxbt_clf.best_estimator_,\n",
    "                    model5_svcpol_clf.best_estimator_,\n",
    "                    model6_svcrbf_clf.best_estimator_,\n",
    "                    model7_knn.best_estimator_]\n",
    "\n",
    "voting_classifiers = [('rnd', model1_rnd_clf.best_estimator_),\n",
    "                      ('ada', model2_ada_clf.best_estimator_),\n",
    "                      ('gbrt', model3_gbrt_clf.best_estimator_),\n",
    "                      ('gxbt', model4_gxbt_clf.best_estimator_),\n",
    "                      ('svcpol', model5_svcpol_clf.best_estimator_),\n",
    "                      ('svcrbf', model6_svcrbf_clf.best_estimator_),\n",
    "                      ('knn', model7_knn.best_estimator_)]"
   ]
  },
  {
   "cell_type": "markdown",
   "metadata": {},
   "source": [
    "**Hard Voting Classifier**"
   ]
  },
  {
   "cell_type": "code",
   "execution_count": 103,
   "metadata": {},
   "outputs": [
    {
     "name": "stdout",
     "output_type": "stream",
     "text": [
      "Wall time: 49.2 s\n"
     ]
    },
    {
     "data": {
      "text/plain": [
       "VotingClassifier(estimators=[('rnd',\n",
       "                              RandomForestClassifier(bootstrap=True,\n",
       "                                                     class_weight=None,\n",
       "                                                     criterion='gini',\n",
       "                                                     max_depth=4,\n",
       "                                                     max_features='auto',\n",
       "                                                     max_leaf_nodes=None,\n",
       "                                                     min_impurity_decrease=0.0,\n",
       "                                                     min_impurity_split=None,\n",
       "                                                     min_samples_leaf=1,\n",
       "                                                     min_samples_split=2,\n",
       "                                                     min_weight_fraction_leaf=0.0,\n",
       "                                                     n_estimators=200,\n",
       "                                                     n_jobs=None,\n",
       "                                                     oob_score=False,\n",
       "                                                     random_state=1, verbose=0,\n",
       "                                                     w...\n",
       "                                  decision_function_shape='ovr', degree=3,\n",
       "                                  gamma=0.01, kernel='rbf', max_iter=-1,\n",
       "                                  probability=True, random_state=1,\n",
       "                                  shrinking=True, tol=0.001, verbose=False)),\n",
       "                             ('knn',\n",
       "                              KNeighborsClassifier(algorithm='auto',\n",
       "                                                   leaf_size=5,\n",
       "                                                   metric='manhattan',\n",
       "                                                   metric_params=None,\n",
       "                                                   n_jobs=10, n_neighbors=18,\n",
       "                                                   p=2, weights='distance'))],\n",
       "                 flatten_transform=True, n_jobs=None, voting='hard',\n",
       "                 weights=None)"
      ]
     },
     "execution_count": 103,
     "metadata": {},
     "output_type": "execute_result"
    }
   ],
   "source": [
    "# import library\n",
    "from sklearn.ensemble import VotingClassifier\n",
    "\n",
    "model8_voting_hard_clf = VotingClassifier(estimators = voting_classifiers,\n",
    "                                          voting = 'hard')\n",
    "\n",
    "%time model8_voting_hard_clf.fit(X_train, y_train)"
   ]
  },
  {
   "cell_type": "code",
   "execution_count": 104,
   "metadata": {},
   "outputs": [
    {
     "name": "stdout",
     "output_type": "stream",
     "text": [
      "\n",
      "First 5 predictions:\n",
      " ['FE' 'FE' 'W' 'W' 'FE']\n"
     ]
    }
   ],
   "source": [
    "# predict classes\n",
    "y_pred_model8_voting_hard_clf_test = model8_voting_hard_clf.predict(X_test)\n",
    "\n",
    "print('\\nFirst 5 predictions:\\n', y_pred_model8_voting_hard_clf_test[0:5])"
   ]
  },
  {
   "cell_type": "markdown",
   "metadata": {},
   "source": [
    "**Soft Voting Classifier**"
   ]
  },
  {
   "cell_type": "code",
   "execution_count": 105,
   "metadata": {},
   "outputs": [
    {
     "name": "stdout",
     "output_type": "stream",
     "text": [
      "Wall time: 48.9 s\n"
     ]
    },
    {
     "data": {
      "text/plain": [
       "VotingClassifier(estimators=[('rnd',\n",
       "                              RandomForestClassifier(bootstrap=True,\n",
       "                                                     class_weight=None,\n",
       "                                                     criterion='gini',\n",
       "                                                     max_depth=4,\n",
       "                                                     max_features='auto',\n",
       "                                                     max_leaf_nodes=None,\n",
       "                                                     min_impurity_decrease=0.0,\n",
       "                                                     min_impurity_split=None,\n",
       "                                                     min_samples_leaf=1,\n",
       "                                                     min_samples_split=2,\n",
       "                                                     min_weight_fraction_leaf=0.0,\n",
       "                                                     n_estimators=200,\n",
       "                                                     n_jobs=None,\n",
       "                                                     oob_score=False,\n",
       "                                                     random_state=1, verbose=0,\n",
       "                                                     w...\n",
       "                                  decision_function_shape='ovr', degree=3,\n",
       "                                  gamma=0.01, kernel='rbf', max_iter=-1,\n",
       "                                  probability=True, random_state=1,\n",
       "                                  shrinking=True, tol=0.001, verbose=False)),\n",
       "                             ('knn',\n",
       "                              KNeighborsClassifier(algorithm='auto',\n",
       "                                                   leaf_size=5,\n",
       "                                                   metric='manhattan',\n",
       "                                                   metric_params=None,\n",
       "                                                   n_jobs=10, n_neighbors=18,\n",
       "                                                   p=2, weights='distance'))],\n",
       "                 flatten_transform=True, n_jobs=None, voting='soft',\n",
       "                 weights=None)"
      ]
     },
     "execution_count": 105,
     "metadata": {},
     "output_type": "execute_result"
    }
   ],
   "source": [
    "# import library\n",
    "from sklearn.ensemble import VotingClassifier\n",
    "\n",
    "model8_voting_soft_clf = VotingClassifier(estimators = voting_classifiers,\n",
    "                                          voting = 'soft')\n",
    "\n",
    "%time model8_voting_soft_clf.fit(X_train, y_train)"
   ]
  },
  {
   "cell_type": "code",
   "execution_count": 106,
   "metadata": {},
   "outputs": [
    {
     "name": "stdout",
     "output_type": "stream",
     "text": [
      "\n",
      "First 5 predictions:\n",
      " ['FE' 'FE' 'W' 'W' 'FE']\n"
     ]
    }
   ],
   "source": [
    "# predict classes\n",
    "y_pred_model8_voting_soft_clf_test = model8_voting_soft_clf.predict(X_test)\n",
    "\n",
    "print('\\nFirst 5 predictions:\\n', y_pred_model8_voting_soft_clf_test[0:5])"
   ]
  },
  {
   "cell_type": "markdown",
   "metadata": {},
   "source": [
    "### Confusion matrix and Classification report for the test data <a name=\"11b\"></a>\n",
    "\n",
    "[return to top](#home11)"
   ]
  },
  {
   "cell_type": "markdown",
   "metadata": {},
   "source": [
    "**Hard Voting Classifier**"
   ]
  },
  {
   "cell_type": "code",
   "execution_count": 107,
   "metadata": {},
   "outputs": [
    {
     "data": {
      "image/png": "[encoded data removed]",
      "text/plain": [
       "<Figure size 432x288 with 2 Axes>"
      ]
     },
     "metadata": {
      "needs_background": "light"
     },
     "output_type": "display_data"
    }
   ],
   "source": [
    "# import library\n",
    "import matplotlib.pyplot as plt\n",
    "import seaborn as sns\n",
    "from sklearn import metrics\n",
    "\n",
    "# mean error evaluation using the .score() method\n",
    "model8_voting_hard_clf_score_test = model8_voting_hard_clf.score(X_test, y_test)\n",
    "\n",
    "model8_voting_hard_clf_confusion_matrix_test = metrics.confusion_matrix(y_test, y_pred_model8_voting_hard_clf_test)\n",
    "\n",
    "df_cm = pd.DataFrame(model8_voting_hard_clf_confusion_matrix_test, range(3), range(3))\n",
    "\n",
    "sns.heatmap (df_cm, fmt='d',\n",
    "             cmap='Blues_r', annot=True, square = True)\n",
    "\n",
    "plt.xlabel('Predicted Class')\n",
    "plt.ylabel('Actual Class')\n",
    "\n",
    "model8_voting_hard_clf_test_title = 'Voting Classifier (Hard) - Confussion Matrix on Test Data \\nMean Accuracy Score: {0:2f}'.format(model8_voting_hard_clf_score_test)\n",
    "plt.title(model8_voting_hard_clf_test_title, size = 14)\n",
    "plt.show;"
   ]
  },
  {
   "cell_type": "code",
   "execution_count": 108,
   "metadata": {},
   "outputs": [
    {
     "name": "stdout",
     "output_type": "stream",
     "text": [
      "\u001b[1m  Voting Classifier (Hard) - Classification Report on Test Data\n",
      "\u001b[0m               precision    recall  f1-score   support\n",
      "\n",
      "          FE       0.83      0.81      0.82       703\n",
      "          UE       0.82      0.80      0.81       652\n",
      "           W       0.92      0.97      0.95       645\n",
      "\n",
      "    accuracy                           0.86      2000\n",
      "   macro avg       0.86      0.86      0.86      2000\n",
      "weighted avg       0.86      0.86      0.86      2000\n",
      "\n"
     ]
    }
   ],
   "source": [
    "# import library\n",
    "from sklearn.metrics import classification_report\n",
    "\n",
    "model8_voting_hard_clf_classification_report_test = classification_report(y_test, y_pred_model8_voting_hard_clf_test)\n",
    "print('\\033[1m'+'  Voting Classifier (Hard) - Classification Report on Test Data\\n'+'\\033[0m', model8_voting_hard_clf_classification_report_test)"
   ]
  },
  {
   "cell_type": "markdown",
   "metadata": {},
   "source": [
    "**Soft Voting Classifier**"
   ]
  },
  {
   "cell_type": "code",
   "execution_count": 109,
   "metadata": {},
   "outputs": [
    {
     "data": {
      "image/png": "[encoded data removed]",
      "text/plain": [
       "<Figure size 432x288 with 2 Axes>"
      ]
     },
     "metadata": {
      "needs_background": "light"
     },
     "output_type": "display_data"
    }
   ],
   "source": [
    "# import library\n",
    "import matplotlib.pyplot as plt\n",
    "import seaborn as sns\n",
    "from sklearn import metrics\n",
    "\n",
    "# mean error evaluation using the .score() method\n",
    "model8_voting_soft_clf_score_test = model8_voting_soft_clf.score(X_test, y_test)\n",
    "\n",
    "model8_voting_soft_clf_confusion_matrix_test = metrics.confusion_matrix(y_test, y_pred_model8_voting_soft_clf_test)\n",
    "\n",
    "df_cm = pd.DataFrame(model8_voting_soft_clf_confusion_matrix_test, range(3), range(3))\n",
    "\n",
    "sns.heatmap (df_cm, fmt='d',\n",
    "             cmap='Blues_r', annot=True, square = True)\n",
    "\n",
    "plt.xlabel('Predicted Class')\n",
    "plt.ylabel('Actual Class')\n",
    "\n",
    "model8_voting_soft_clf_test_title = 'Voting Classifier (Soft) - Confussion Matrix on Test Data \\nMean Accuracy Score: {0:2f}'.format(model8_voting_soft_clf_score_test)\n",
    "plt.title(model8_voting_soft_clf_test_title, size = 14)\n",
    "plt.show;"
   ]
  },
  {
   "cell_type": "code",
   "execution_count": 110,
   "metadata": {},
   "outputs": [
    {
     "name": "stdout",
     "output_type": "stream",
     "text": [
      "\u001b[1m  Voting Classifier (Soft) - Classification Report on Test Data\n",
      "\u001b[0m               precision    recall  f1-score   support\n",
      "\n",
      "          FE       0.86      0.83      0.84       703\n",
      "          UE       0.84      0.82      0.83       652\n",
      "           W       0.91      0.97      0.94       645\n",
      "\n",
      "    accuracy                           0.87      2000\n",
      "   macro avg       0.87      0.87      0.87      2000\n",
      "weighted avg       0.87      0.87      0.87      2000\n",
      "\n"
     ]
    }
   ],
   "source": [
    "# import library\n",
    "from sklearn.metrics import classification_report\n",
    "\n",
    "model8_voting_soft_clf_classification_report_test = classification_report(y_test, y_pred_model8_voting_soft_clf_test)\n",
    "print('\\033[1m'+'  Voting Classifier (Soft) - Classification Report on Test Data\\n'+'\\033[0m', model8_voting_soft_clf_classification_report_test)"
   ]
  },
  {
   "cell_type": "markdown",
   "metadata": {},
   "source": [
    "### Confusion matrix and Classification report for the train data <a name=\"11c\"></a>\n",
    "\n",
    "[return to top](#home11)"
   ]
  },
  {
   "cell_type": "markdown",
   "metadata": {},
   "source": [
    "**Hard Voting Classifier**"
   ]
  },
  {
   "cell_type": "code",
   "execution_count": 111,
   "metadata": {},
   "outputs": [
    {
     "data": {
      "image/png": "[encoded data removed]",
      "text/plain": [
       "<Figure size 432x288 with 2 Axes>"
      ]
     },
     "metadata": {
      "needs_background": "light"
     },
     "output_type": "display_data"
    }
   ],
   "source": [
    "# import library\n",
    "import matplotlib.pyplot as plt\n",
    "import seaborn as sns\n",
    "from sklearn import metrics\n",
    "\n",
    "y_pred_model8_voting_hard_clf_train = model8_voting_hard_clf.predict(X_train)\n",
    "\n",
    "# mean error evaluation using the .score() method\n",
    "model8_voting_hard_clf_score_train = model8_voting_hard_clf.score(X_train, y_train)\n",
    "\n",
    "model8_voting_hard_clf_confusion_matrix_train = metrics.confusion_matrix(y_train, y_pred_model8_voting_hard_clf_train)\n",
    "\n",
    "df_cm = pd.DataFrame(model8_voting_hard_clf_confusion_matrix_train, range(3), range(3))\n",
    "\n",
    "sns.heatmap (df_cm, fmt='d',\n",
    "             cmap='Oranges_r', annot=True, square = True)\n",
    "\n",
    "plt.xlabel('Predicted Class')\n",
    "plt.ylabel('Actual Class')\n",
    "\n",
    "model8_voting_hard_clf_test_title = 'Voting Classifier (Hard) - Confussion Matrix on Train Data\\nMean Accuracy Score: {0:2f}'.format(model8_voting_hard_clf_score_train)\n",
    "plt.title(model8_voting_hard_clf_test_title, size = 14)\n",
    "plt.show;"
   ]
  },
  {
   "cell_type": "code",
   "execution_count": 112,
   "metadata": {},
   "outputs": [
    {
     "name": "stdout",
     "output_type": "stream",
     "text": [
      "\u001b[1m  Voting Classifier (Hard) - Classification Report on Train Data\n",
      "\u001b[0m               precision    recall  f1-score   support\n",
      "\n",
      "          FE       0.91      0.92      0.92      2753\n",
      "          UE       0.93      0.89      0.91      2540\n",
      "           W       0.95      0.98      0.97      2707\n",
      "\n",
      "    accuracy                           0.93      8000\n",
      "   macro avg       0.93      0.93      0.93      8000\n",
      "weighted avg       0.93      0.93      0.93      8000\n",
      "\n"
     ]
    }
   ],
   "source": [
    "# import library\n",
    "from sklearn.metrics import classification_report\n",
    "\n",
    "model8_voting_hard_clf_classification_report_train = classification_report(y_train, y_pred_model8_voting_hard_clf_train)\n",
    "print('\\033[1m'+'  Voting Classifier (Hard) - Classification Report on Train Data\\n'+'\\033[0m', model8_voting_hard_clf_classification_report_train)"
   ]
  },
  {
   "cell_type": "markdown",
   "metadata": {},
   "source": [
    "**Soft Voting Classifier**"
   ]
  },
  {
   "cell_type": "code",
   "execution_count": 113,
   "metadata": {},
   "outputs": [
    {
     "data": {
      "image/png": "[encoded data removed]",
      "text/plain": [
       "<Figure size 432x288 with 2 Axes>"
      ]
     },
     "metadata": {
      "needs_background": "light"
     },
     "output_type": "display_data"
    }
   ],
   "source": [
    "# import library\n",
    "import matplotlib.pyplot as plt\n",
    "import seaborn as sns\n",
    "from sklearn import metrics\n",
    "\n",
    "y_pred_model8_voting_soft_clf_train = model8_voting_soft_clf.predict(X_train)\n",
    "\n",
    "# mean error evaluation using the .score() method\n",
    "model8_voting_soft_clf_score_train = model8_voting_soft_clf.score(X_train, y_train)\n",
    "\n",
    "model8_voting_soft_clf_confusion_matrix_train = metrics.confusion_matrix(y_train, y_pred_model8_voting_soft_clf_train)\n",
    "\n",
    "df_cm = pd.DataFrame(model8_voting_soft_clf_confusion_matrix_train, range(3), range(3))\n",
    "\n",
    "sns.heatmap (df_cm, fmt='d',\n",
    "             cmap='Oranges_r', annot=True, square = True)\n",
    "\n",
    "plt.xlabel('Predicted Class')\n",
    "plt.ylabel('Actual Class')\n",
    "\n",
    "model8_voting_soft_clf_test_title = 'Voting Classifier (Soft) - Confussion Matrix on Train Data\\nMean Accuracy Score: {0:2f}'.format(model8_voting_soft_clf_score_train)\n",
    "plt.title(model8_voting_soft_clf_test_title, size = 14)\n",
    "plt.show;"
   ]
  },
  {
   "cell_type": "code",
   "execution_count": 114,
   "metadata": {},
   "outputs": [
    {
     "name": "stdout",
     "output_type": "stream",
     "text": [
      "\u001b[1m  Voting Classifier (Soft) - Classification Report on Train Data\n",
      "\u001b[0m               precision    recall  f1-score   support\n",
      "\n",
      "          FE       0.98      0.97      0.97      2753\n",
      "          UE       0.98      0.97      0.97      2540\n",
      "           W       0.97      0.99      0.98      2707\n",
      "\n",
      "    accuracy                           0.98      8000\n",
      "   macro avg       0.98      0.98      0.98      8000\n",
      "weighted avg       0.98      0.98      0.98      8000\n",
      "\n"
     ]
    }
   ],
   "source": [
    "# import library\n",
    "from sklearn.metrics import classification_report\n",
    "\n",
    "model8_voting_soft_clf_classification_report_train = classification_report(y_train, y_pred_model8_voting_soft_clf_train)\n",
    "print('\\033[1m'+'  Voting Classifier (Soft) - Classification Report on Train Data\\n'+'\\033[0m', model8_voting_soft_clf_classification_report_train)"
   ]
  },
  {
   "cell_type": "markdown",
   "metadata": {},
   "source": [
    "### Pickle Model<a name=\"8e\"></a>\n",
    "\n",
    "[return to top](#home08)"
   ]
  },
  {
   "cell_type": "code",
   "execution_count": 116,
   "metadata": {},
   "outputs": [],
   "source": [
    "import pickle\n",
    "\n",
    "with open('model8_voting_soft_clf', 'wb') as f:\n",
    "    pickle.dump(model8_voting_soft_clf, f)"
   ]
  },
  {
   "cell_type": "markdown",
   "metadata": {},
   "source": [
    "#### Test Pickle"
   ]
  },
  {
   "cell_type": "code",
   "execution_count": 117,
   "metadata": {},
   "outputs": [],
   "source": [
    "with open('model8_voting_soft_clf', 'rb') as f:\n",
    "    test8 = pickle.load(f)"
   ]
  },
  {
   "cell_type": "code",
   "execution_count": 118,
   "metadata": {},
   "outputs": [
    {
     "name": "stdout",
     "output_type": "stream",
     "text": [
      "\n",
      "First 5 predictions:\n",
      " ['FE' 'FE' 'W' 'W' 'FE']\n"
     ]
    }
   ],
   "source": [
    "y_pred = test8.predict(X_test)\n",
    "print('\\nFirst 5 predictions:\\n',y_pred[0:5])"
   ]
  },
  {
   "cell_type": "code",
   "execution_count": null,
   "metadata": {},
   "outputs": [],
   "source": []
  }
 ],
 "metadata": {
  "@webio": {
   "lastCommId": null,
   "lastKernelId": null
  },
  "kernelspec": {
   "display_name": "Python 3",
   "language": "python",
   "name": "python3"
  },
  "language_info": {
   "codemirror_mode": {
    "name": "ipython",
    "version": 3
   },
   "file_extension": ".py",
   "mimetype": "text/x-python",
   "name": "python",
   "nbconvert_exporter": "python",
   "pygments_lexer": "ipython3",
   "version": "3.6.7"
  }
 },
 "nbformat": 4,
 "nbformat_minor": 2
}
