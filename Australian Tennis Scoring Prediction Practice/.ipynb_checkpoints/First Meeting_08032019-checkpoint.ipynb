{
 "cells": [
  {
   "cell_type": "code",
   "execution_count": 1,
   "metadata": {},
   "outputs": [],
   "source": [
    "## Import the "
   ]
  },
  {
   "cell_type": "code",
   "execution_count": 2,
   "metadata": {},
   "outputs": [
    {
     "name": "stdout",
     "output_type": "stream",
     "text": [
      "(5000, 27)\n",
      "(5000, 27)\n"
     ]
    }
   ],
   "source": [
    "# import library\n",
    "import pandas as pd\n",
    "import numpy as np\n",
    "\n",
    "# import mean train data set using pd\n",
    "men_data = pd.read_csv('mens_train_file.csv', low_memory=False)\n",
    "\n",
    "# import womean train data set using pd\n",
    "women_data = pd.read_csv('womens_train_file.csv', low_memory=False)\n",
    "\n",
    "# append gender\n",
    "men_data['gender'] = 'mens'\n",
    "women_data['gender'] = 'womens'\n",
    "\n",
    "# verify the shapes\n",
    "print(men_data.shape)\n",
    "print(women_data.shape)"
   ]
  },
  {
   "cell_type": "code",
   "execution_count": 3,
   "metadata": {},
   "outputs": [],
   "source": [
    "df = pd.concat([men_data, women_data])"
   ]
  },
  {
   "cell_type": "code",
   "execution_count": 4,
   "metadata": {},
   "outputs": [
    {
     "data": {
      "text/plain": [
       "(10000, 27)"
      ]
     },
     "execution_count": 4,
     "metadata": {},
     "output_type": "execute_result"
    }
   ],
   "source": [
    "df.shape"
   ]
  },
  {
   "cell_type": "code",
   "execution_count": 5,
   "metadata": {},
   "outputs": [
    {
     "data": {
      "text/html": [
       "<div>\n",
       "<style scoped>\n",
       "    .dataframe tbody tr th:only-of-type {\n",
       "        vertical-align: middle;\n",
       "    }\n",
       "\n",
       "    .dataframe tbody tr th {\n",
       "        vertical-align: top;\n",
       "    }\n",
       "\n",
       "    .dataframe thead th {\n",
       "        text-align: right;\n",
       "    }\n",
       "</style>\n",
       "<table border=\"1\" class=\"dataframe\">\n",
       "  <thead>\n",
       "    <tr style=\"text-align: right;\">\n",
       "      <th></th>\n",
       "      <th>id</th>\n",
       "      <th>outcome</th>\n",
       "      <th>serve</th>\n",
       "      <th>rally</th>\n",
       "      <th>hitpoint</th>\n",
       "      <th>speed</th>\n",
       "      <th>net.clearance</th>\n",
       "      <th>distance.from.sideline</th>\n",
       "      <th>depth</th>\n",
       "      <th>outside.sideline</th>\n",
       "      <th>...</th>\n",
       "      <th>previous.net.clearance</th>\n",
       "      <th>previous.distance.from.sideline</th>\n",
       "      <th>previous.depth</th>\n",
       "      <th>opponent.depth</th>\n",
       "      <th>opponent.distance.from.center</th>\n",
       "      <th>same.side</th>\n",
       "      <th>previous.hitpoint</th>\n",
       "      <th>previous.time.to.net</th>\n",
       "      <th>server.is.impact.player</th>\n",
       "      <th>gender</th>\n",
       "    </tr>\n",
       "  </thead>\n",
       "  <tbody>\n",
       "    <tr>\n",
       "      <th>0</th>\n",
       "      <td>5718</td>\n",
       "      <td>UE</td>\n",
       "      <td>1</td>\n",
       "      <td>4</td>\n",
       "      <td>B</td>\n",
       "      <td>35.52</td>\n",
       "      <td>-0.02</td>\n",
       "      <td>3.47</td>\n",
       "      <td>6.80</td>\n",
       "      <td>0</td>\n",
       "      <td>...</td>\n",
       "      <td>1.35</td>\n",
       "      <td>2.45</td>\n",
       "      <td>0.71</td>\n",
       "      <td>12.56</td>\n",
       "      <td>2.07</td>\n",
       "      <td>1</td>\n",
       "      <td>F</td>\n",
       "      <td>0.45</td>\n",
       "      <td>0</td>\n",
       "      <td>mens</td>\n",
       "    </tr>\n",
       "    <tr>\n",
       "      <th>1</th>\n",
       "      <td>371</td>\n",
       "      <td>FE</td>\n",
       "      <td>2</td>\n",
       "      <td>4</td>\n",
       "      <td>B</td>\n",
       "      <td>33.38</td>\n",
       "      <td>1.11</td>\n",
       "      <td>2.54</td>\n",
       "      <td>2.61</td>\n",
       "      <td>0</td>\n",
       "      <td>...</td>\n",
       "      <td>0.76</td>\n",
       "      <td>0.58</td>\n",
       "      <td>3.86</td>\n",
       "      <td>12.35</td>\n",
       "      <td>5.11</td>\n",
       "      <td>0</td>\n",
       "      <td>B</td>\n",
       "      <td>0.43</td>\n",
       "      <td>0</td>\n",
       "      <td>mens</td>\n",
       "    </tr>\n",
       "    <tr>\n",
       "      <th>2</th>\n",
       "      <td>7948</td>\n",
       "      <td>FE</td>\n",
       "      <td>1</td>\n",
       "      <td>23</td>\n",
       "      <td>B</td>\n",
       "      <td>22.32</td>\n",
       "      <td>-0.25</td>\n",
       "      <td>3.53</td>\n",
       "      <td>9.44</td>\n",
       "      <td>0</td>\n",
       "      <td>...</td>\n",
       "      <td>0.38</td>\n",
       "      <td>1.12</td>\n",
       "      <td>2.91</td>\n",
       "      <td>13.86</td>\n",
       "      <td>1.66</td>\n",
       "      <td>0</td>\n",
       "      <td>F</td>\n",
       "      <td>0.40</td>\n",
       "      <td>1</td>\n",
       "      <td>mens</td>\n",
       "    </tr>\n",
       "    <tr>\n",
       "      <th>3</th>\n",
       "      <td>9312</td>\n",
       "      <td>UE</td>\n",
       "      <td>1</td>\n",
       "      <td>9</td>\n",
       "      <td>F</td>\n",
       "      <td>36.84</td>\n",
       "      <td>0.77</td>\n",
       "      <td>0.59</td>\n",
       "      <td>3.34</td>\n",
       "      <td>1</td>\n",
       "      <td>...</td>\n",
       "      <td>1.24</td>\n",
       "      <td>3.26</td>\n",
       "      <td>0.56</td>\n",
       "      <td>14.26</td>\n",
       "      <td>0.16</td>\n",
       "      <td>1</td>\n",
       "      <td>B</td>\n",
       "      <td>0.67</td>\n",
       "      <td>1</td>\n",
       "      <td>mens</td>\n",
       "    </tr>\n",
       "    <tr>\n",
       "      <th>4</th>\n",
       "      <td>7667</td>\n",
       "      <td>W</td>\n",
       "      <td>1</td>\n",
       "      <td>4</td>\n",
       "      <td>B</td>\n",
       "      <td>35.54</td>\n",
       "      <td>0.12</td>\n",
       "      <td>0.92</td>\n",
       "      <td>5.50</td>\n",
       "      <td>0</td>\n",
       "      <td>...</td>\n",
       "      <td>0.17</td>\n",
       "      <td>1.43</td>\n",
       "      <td>3.95</td>\n",
       "      <td>11.37</td>\n",
       "      <td>1.11</td>\n",
       "      <td>0</td>\n",
       "      <td>F</td>\n",
       "      <td>0.34</td>\n",
       "      <td>0</td>\n",
       "      <td>mens</td>\n",
       "    </tr>\n",
       "  </tbody>\n",
       "</table>\n",
       "<p>5 rows × 27 columns</p>\n",
       "</div>"
      ],
      "text/plain": [
       "     id outcome  serve  rally hitpoint  speed  net.clearance  \\\n",
       "0  5718      UE      1      4        B  35.52          -0.02   \n",
       "1   371      FE      2      4        B  33.38           1.11   \n",
       "2  7948      FE      1     23        B  22.32          -0.25   \n",
       "3  9312      UE      1      9        F  36.84           0.77   \n",
       "4  7667       W      1      4        B  35.54           0.12   \n",
       "\n",
       "   distance.from.sideline  depth  outside.sideline  ...  \\\n",
       "0                    3.47   6.80                 0  ...   \n",
       "1                    2.54   2.61                 0  ...   \n",
       "2                    3.53   9.44                 0  ...   \n",
       "3                    0.59   3.34                 1  ...   \n",
       "4                    0.92   5.50                 0  ...   \n",
       "\n",
       "   previous.net.clearance  previous.distance.from.sideline  previous.depth  \\\n",
       "0                    1.35                             2.45            0.71   \n",
       "1                    0.76                             0.58            3.86   \n",
       "2                    0.38                             1.12            2.91   \n",
       "3                    1.24                             3.26            0.56   \n",
       "4                    0.17                             1.43            3.95   \n",
       "\n",
       "   opponent.depth  opponent.distance.from.center  same.side  \\\n",
       "0           12.56                           2.07          1   \n",
       "1           12.35                           5.11          0   \n",
       "2           13.86                           1.66          0   \n",
       "3           14.26                           0.16          1   \n",
       "4           11.37                           1.11          0   \n",
       "\n",
       "   previous.hitpoint  previous.time.to.net  server.is.impact.player  gender  \n",
       "0                  F                  0.45                        0    mens  \n",
       "1                  B                  0.43                        0    mens  \n",
       "2                  F                  0.40                        1    mens  \n",
       "3                  B                  0.67                        1    mens  \n",
       "4                  F                  0.34                        0    mens  \n",
       "\n",
       "[5 rows x 27 columns]"
      ]
     },
     "execution_count": 5,
     "metadata": {},
     "output_type": "execute_result"
    }
   ],
   "source": [
    "df.head()"
   ]
  },
  {
   "cell_type": "code",
   "execution_count": 6,
   "metadata": {},
   "outputs": [
    {
     "name": "stdout",
     "output_type": "stream",
     "text": [
      "['B' 'F' 'U' 'V']\n",
      "['F' 'B' 'V' 'U']\n"
     ]
    }
   ],
   "source": [
    "print(df.hitpoint.unique())\n",
    "print(df['previous.hitpoint'].unique())"
   ]
  },
  {
   "cell_type": "code",
   "execution_count": 7,
   "metadata": {},
   "outputs": [],
   "source": [
    "df['previous.hitpoint'] = df['previous.hitpoint'].replace(['U'], '0')\n",
    "df['previous.hitpoint'] = df['previous.hitpoint'].replace(['F'], '1')\n",
    "df['previous.hitpoint'] = df['previous.hitpoint'].replace(['B'], '2')\n",
    "df['previous.hitpoint'] = df['previous.hitpoint'].replace(['V'], '3')\n",
    "\n",
    "df['hitpoint'] = df['hitpoint'].replace(['U'], '0')\n",
    "df['hitpoint'] = df['hitpoint'].replace(['F'], '1')\n",
    "df['hitpoint'] = df['hitpoint'].replace(['B'], '2')\n",
    "df['hitpoint'] = df['hitpoint'].replace(['V'], '3')\n",
    "\n",
    "df['gender'] = df['gender'].replace(['mens'], '0')\n",
    "df['gender'] = df['gender'].replace(['womens'], '1')\n",
    "\n",
    "df['previous.hitpoint'] = df['previous.hitpoint'].astype('category').cat.codes\n",
    "df['hitpoint'] = df['hitpoint'].astype('category').cat.codes\n",
    "df['gender'] = df['gender'].astype('category').cat.codes"
   ]
  },
  {
   "cell_type": "code",
   "execution_count": 8,
   "metadata": {},
   "outputs": [
    {
     "data": {
      "text/plain": [
       "id                                      int64\n",
       "outcome                                object\n",
       "serve                                   int64\n",
       "rally                                   int64\n",
       "hitpoint                                 int8\n",
       "speed                                 float64\n",
       "net.clearance                         float64\n",
       "distance.from.sideline                float64\n",
       "depth                                 float64\n",
       "outside.sideline                        int64\n",
       "outside.baseline                        int64\n",
       "player.distance.travelled             float64\n",
       "player.impact.depth                   float64\n",
       "player.impact.distance.from.center    float64\n",
       "player.depth                          float64\n",
       "player.distance.from.center           float64\n",
       "previous.speed                        float64\n",
       "previous.net.clearance                float64\n",
       "previous.distance.from.sideline       float64\n",
       "previous.depth                        float64\n",
       "opponent.depth                        float64\n",
       "opponent.distance.from.center         float64\n",
       "same.side                               int64\n",
       "previous.hitpoint                        int8\n",
       "previous.time.to.net                  float64\n",
       "server.is.impact.player                 int64\n",
       "gender                                   int8\n",
       "dtype: object"
      ]
     },
     "execution_count": 8,
     "metadata": {},
     "output_type": "execute_result"
    }
   ],
   "source": [
    "df.dtypes"
   ]
  },
  {
   "cell_type": "code",
   "execution_count": 9,
   "metadata": {},
   "outputs": [],
   "source": [
    "# import library\n",
    "from sklearn.model_selection import train_test_split\n",
    "\n",
    "# adding a seed called random_state in train_test_split so that split is reproducible\n",
    "random_state = 1\n",
    "\n",
    "# X matrix (features / independent variables)\n",
    "X = df.drop(['outcome', 'id'], axis=1)\n",
    "\n",
    "# y matrix (target / dependent variable) will be: T_degC\n",
    "y = df['outcome']\n",
    "\n",
    "# build out the following: X_train, X_test, y_train, y_test\n",
    "X_train, X_test, y_train, y_test = train_test_split(X, y, test_size=0.20, random_state=random_state)"
   ]
  },
  {
   "cell_type": "markdown",
   "metadata": {},
   "source": [
    "## Create the Model"
   ]
  },
  {
   "cell_type": "code",
   "execution_count": 10,
   "metadata": {},
   "outputs": [
    {
     "data": {
      "text/plain": [
       "RandomForestClassifier(bootstrap=True, class_weight=None, criterion='gini',\n",
       "                       max_depth=10, max_features='log2', max_leaf_nodes=None,\n",
       "                       min_impurity_decrease=0.0, min_impurity_split=None,\n",
       "                       min_samples_leaf=1, min_samples_split=2,\n",
       "                       min_weight_fraction_leaf=0.0, n_estimators=500,\n",
       "                       n_jobs=-1, oob_score=False, random_state=0, verbose=0,\n",
       "                       warm_start=False)"
      ]
     },
     "execution_count": 10,
     "metadata": {},
     "output_type": "execute_result"
    }
   ],
   "source": [
    "# import library\n",
    "from sklearn.ensemble import RandomForestClassifier\n",
    "from sklearn.model_selection import GridSearchCV\n",
    "\n",
    "# setting n_jobs=-1 selects all physical cores and maximises its use\n",
    "base_model_rnd_clf = RandomForestClassifier(n_jobs = -1, n_estimators = 500, \n",
    "                                            max_depth = 10, \n",
    "                                            max_features = 'log2',\n",
    "                                            random_state=0)\n",
    "\n",
    "\n",
    "base_model_rnd_clf.fit(X_train, y_train)"
   ]
  },
  {
   "cell_type": "code",
   "execution_count": 11,
   "metadata": {},
   "outputs": [
    {
     "name": "stdout",
     "output_type": "stream",
     "text": [
      "First 5 predicted probabilities:\n",
      " [[0.77433166 0.1786196  0.04704874]\n",
      " [0.39519916 0.35341562 0.25138522]\n",
      " [0.08371657 0.21832833 0.6979551 ]\n",
      " [0.05740873 0.1635805  0.77901077]\n",
      " [0.71931145 0.18099716 0.09969139]]\n",
      "\n",
      "First 5 predictions:\n",
      " ['FE' 'FE' 'W' 'W' 'FE']\n"
     ]
    }
   ],
   "source": [
    "# predict probabilities\n",
    "y_pred_proba_base_model_test = base_model_rnd_clf.predict_proba(X_test)\n",
    "\n",
    "# predict classes\n",
    "y_pred_base_model_test = base_model_rnd_clf.predict(X_test)\n",
    "\n",
    "print('First 5 predicted probabilities:\\n', y_pred_proba_base_model_test[0:5])\n",
    "print('\\nFirst 5 predictions:\\n',y_pred_base_model_test[0:5])"
   ]
  },
  {
   "cell_type": "markdown",
   "metadata": {},
   "source": [
    "## Check out the model generalization with test data"
   ]
  },
  {
   "cell_type": "code",
   "execution_count": 12,
   "metadata": {},
   "outputs": [],
   "source": [
    "# import library\n",
    "import matplotlib.pyplot as plt\n",
    "import seaborn as sns\n",
    "from sklearn import metrics\n",
    "\n",
    "# mean error evaluation using the .score() method\n",
    "base_model_rdn_clf_score_test = base_model_rnd_clf.score(X_test, y_test)\n",
    "\n",
    "base_model_rdn_clf_confusion_matrix_test = metrics.confusion_matrix(y_test, y_pred_base_model_test)\n",
    "\n",
    "df_cm = pd.DataFrame(base_model_rdn_clf_confusion_matrix_test, range(3), range(3))\n",
    "\n",
    "sns.heatmap (df_cm, fmt='d',\n",
    "             cmap='Blues_r', annot=True, square = True)\n",
    "\n",
    "plt.xlabel('Predicted Class')\n",
    "plt.ylabel('Actual Class')\n",
    "\n",
    "base_model_test_title = 'Base Model - Test Confussion Matrix\\nMean Accuracy Score: {0:2f}'.format(base_model_rdn_clf_score_test)\n",
    "plt.title(base_model_test_title, size = 14)\n",
    "plt.show;"
   ]
  },
  {
   "cell_type": "code",
   "execution_count": 13,
   "metadata": {},
   "outputs": [
    {
     "name": "stdout",
     "output_type": "stream",
     "text": [
      "              precision    recall  f1-score   support\n",
      "\n",
      "          FE       0.83      0.81      0.82       703\n",
      "          UE       0.82      0.80      0.81       652\n",
      "           W       0.92      0.97      0.94       645\n",
      "\n",
      "    accuracy                           0.86      2000\n",
      "   macro avg       0.86      0.86      0.86      2000\n",
      "weighted avg       0.85      0.86      0.86      2000\n",
      "\n"
     ]
    }
   ],
   "source": [
    "# import library\n",
    "from sklearn.metrics import classification_report\n",
    "\n",
    "base_model_rnd_clf_classification_report_test = classification_report(y_test, y_pred_base_model_test)\n",
    "print(base_model_rnd_clf_classification_report_test)"
   ]
  },
  {
   "cell_type": "markdown",
   "metadata": {},
   "source": [
    "## See how the model overfits on train"
   ]
  },
  {
   "cell_type": "code",
   "execution_count": 14,
   "metadata": {},
   "outputs": [
    {
     "data": {
      "image/png": "[encoded data removed]",
      "text/plain": [
       "<Figure size 432x288 with 2 Axes>"
      ]
     },
     "metadata": {
      "needs_background": "light"
     },
     "output_type": "display_data"
    }
   ],
   "source": [
    "# import library\n",
    "import matplotlib.pyplot as plt\n",
    "import seaborn as sns\n",
    "from sklearn import metrics\n",
    "\n",
    "# predict classes\n",
    "y_pred_base_model_train = base_model_rnd_clf.predict(X_train)\n",
    "\n",
    "# mean error evaluation using the .score() method\n",
    "base_model_rdn_clf_score_train = base_model_rnd_clf.score(X_train, y_train)\n",
    "\n",
    "base_model_rdn_clf_confusion_matrix_train = metrics.confusion_matrix(y_train, y_pred_base_model_train)\n",
    "\n",
    "df_cm = pd.DataFrame(base_model_rdn_clf_confusion_matrix_train, range(3), range(3))\n",
    "\n",
    "sns.heatmap (df_cm, fmt='d',\n",
    "             cmap='Oranges_r', annot=True, square = True)\n",
    "\n",
    "plt.xlabel('Predicted Class')\n",
    "plt.ylabel('Actual Class')\n",
    "\n",
    "base_model_train_title = 'Base Model - Train Confussion Matrix\\nMean Accuracy Score: {0:2f}'.format(base_model_rdn_clf_score_train)\n",
    "plt.title(base_model_train_title, size = 14)\n",
    "plt.show;"
   ]
  },
  {
   "cell_type": "code",
   "execution_count": 15,
   "metadata": {},
   "outputs": [
    {
     "name": "stdout",
     "output_type": "stream",
     "text": [
      "              precision    recall  f1-score   support\n",
      "\n",
      "          FE       0.95      0.94      0.94      2753\n",
      "          UE       0.95      0.94      0.94      2540\n",
      "           W       0.95      0.98      0.97      2707\n",
      "\n",
      "    accuracy                           0.95      8000\n",
      "   macro avg       0.95      0.95      0.95      8000\n",
      "weighted avg       0.95      0.95      0.95      8000\n",
      "\n"
     ]
    }
   ],
   "source": [
    "# import library\n",
    "from sklearn.metrics import classification_report\n",
    "\n",
    "base_model_rnd_clf_classification_report_train = classification_report(y_train, y_pred_base_model_train)\n",
    "print(base_model_rnd_clf_classification_report_train)"
   ]
  },
  {
   "cell_type": "markdown",
   "metadata": {},
   "source": [
    "## Gradient Boost Classifier"
   ]
  },
  {
   "cell_type": "code",
   "execution_count": 16,
   "metadata": {},
   "outputs": [
    {
     "data": {
      "text/plain": [
       "GradientBoostingClassifier(criterion='friedman_mse', init=None,\n",
       "                           learning_rate=1.0, loss='deviance', max_depth=20,\n",
       "                           max_features=None, max_leaf_nodes=None,\n",
       "                           min_impurity_decrease=0.0, min_impurity_split=None,\n",
       "                           min_samples_leaf=1, min_samples_split=2,\n",
       "                           min_weight_fraction_leaf=0.0, n_estimators=500,\n",
       "                           n_iter_no_change=None, presort='auto',\n",
       "                           random_state=None, subsample=1.0, tol=0.0001,\n",
       "                           validation_fraction=0.1, verbose=0,\n",
       "                           warm_start=False)"
      ]
     },
     "execution_count": 16,
     "metadata": {},
     "output_type": "execute_result"
    }
   ],
   "source": [
    "from sklearn.ensemble import GradientBoostingClassifier\n",
    "\n",
    "gbrt = GradientBoostingClassifier(max_depth = 20, \n",
    "                                 n_estimators = 500, \n",
    "                                 learning_rate = 1.0)\n",
    "\n",
    "gbrt.fit (X_train , y_train)"
   ]
  },
  {
   "cell_type": "code",
   "execution_count": 17,
   "metadata": {},
   "outputs": [
    {
     "name": "stdout",
     "output_type": "stream",
     "text": [
      "First 5 predicted probabilities:\n",
      " [[9.99915410e-01 6.69920397e-05 1.75984136e-05]\n",
      " [9.96755934e-01 2.69132281e-03 5.52743109e-04]\n",
      " [1.64408984e-05 1.59490546e-02 9.84034504e-01]\n",
      " [3.71711757e-05 4.97152990e-05 9.99913114e-01]\n",
      " [9.99918561e-01 6.70379437e-05 1.44013421e-05]]\n",
      "\n",
      "First 5 predictions:\n",
      " ['FE' 'FE' 'W' 'W' 'FE']\n"
     ]
    }
   ],
   "source": [
    "# predict probabilities\n",
    "y_pred_proba_gbrt_test = gbrt.predict_proba(X_test)\n",
    "\n",
    "# predict classes\n",
    "y_pred_gbrt_test = gbrt.predict(X_test)\n",
    "\n",
    "print('First 5 predicted probabilities:\\n', y_pred_proba_gbrt_test[0:5])\n",
    "print('\\nFirst 5 predictions:\\n',y_pred_gbrt_test [0:5])"
   ]
  },
  {
   "cell_type": "code",
   "execution_count": 18,
   "metadata": {},
   "outputs": [
    {
     "data": {
      "image/png": "[encoded data removed]",
      "text/plain": [
       "<Figure size 432x288 with 2 Axes>"
      ]
     },
     "metadata": {
      "needs_background": "light"
     },
     "output_type": "display_data"
    }
   ],
   "source": [
    "# import library\n",
    "import matplotlib.pyplot as plt\n",
    "import seaborn as sns\n",
    "from sklearn import metrics\n",
    "\n",
    "# mean error evaluation using the .score() method\n",
    "gbrt_score_test = gbrt.score(X_test, y_test)\n",
    "\n",
    "gbrt_confusion_matrix_test = metrics.confusion_matrix(y_test, y_pred_gbrt_test)\n",
    "\n",
    "df_cm = pd.DataFrame(gbrt_confusion_matrix_test, range(3), range(3))\n",
    "\n",
    "sns.heatmap (df_cm, fmt='d',\n",
    "             cmap='Blues_r', annot=True, square = True)\n",
    "\n",
    "plt.xlabel('Predicted Class')\n",
    "plt.ylabel('Actual Class')\n",
    "\n",
    "gbrt_test_title = 'Base Model - Test Confussion Matrix\\nMean Accuracy Score: {0:2f}'.format(gbrt_score_test)\n",
    "plt.title(gbrt_test_title, size = 14)\n",
    "plt.show;"
   ]
  },
  {
   "cell_type": "code",
   "execution_count": 19,
   "metadata": {},
   "outputs": [
    {
     "data": {
      "image/png": "[encoded data removed]",
      "text/plain": [
       "<Figure size 432x288 with 2 Axes>"
      ]
     },
     "metadata": {
      "needs_background": "light"
     },
     "output_type": "display_data"
    }
   ],
   "source": [
    "# import library\n",
    "import matplotlib.pyplot as plt\n",
    "import seaborn as sns\n",
    "from sklearn import metrics\n",
    "\n",
    "\n",
    "y_pred_gbrt_train = gbrt.predict(X_train)\n",
    "\n",
    "# mean error evaluation using the .score() method\n",
    "gbrt_score_train = gbrt.score(X_train, y_train)\n",
    "\n",
    "gbrt_confusion_matrix_train = metrics.confusion_matrix(y_train, y_pred_gbrt_train)\n",
    "\n",
    "df_cm = pd.DataFrame(gbrt_confusion_matrix_train, range(3), range(3))\n",
    "\n",
    "sns.heatmap (df_cm, fmt='d',\n",
    "             cmap='Oranges_r', annot=True, square = True)\n",
    "\n",
    "plt.xlabel('Predicted Class')\n",
    "plt.ylabel('Actual Class')\n",
    "\n",
    "gbrt_test_title = 'Base Model - Test Confussion Matrix\\nMean Accuracy Score: {0:2f}'.format(gbrt_score_train)\n",
    "plt.title(gbrt_test_title, size = 14)\n",
    "plt.show;"
   ]
  },
  {
   "cell_type": "code",
   "execution_count": null,
   "metadata": {},
   "outputs": [],
   "source": []
  },
  {
   "cell_type": "code",
   "execution_count": null,
   "metadata": {},
   "outputs": [],
   "source": []
  },
  {
   "cell_type": "code",
   "execution_count": null,
   "metadata": {},
   "outputs": [],
   "source": []
  },
  {
   "cell_type": "code",
   "execution_count": null,
   "metadata": {},
   "outputs": [],
   "source": []
  },
  {
   "cell_type": "code",
   "execution_count": null,
   "metadata": {},
   "outputs": [],
   "source": []
  }
 ],
 "metadata": {
  "@webio": {
   "lastCommId": null,
   "lastKernelId": null
  },
  "kernelspec": {
   "display_name": "Python 3",
   "language": "python",
   "name": "python3"
  },
  "language_info": {
   "codemirror_mode": {
    "name": "ipython",
    "version": 3
   },
   "file_extension": ".py",
   "mimetype": "text/x-python",
   "name": "python",
   "nbconvert_exporter": "python",
   "pygments_lexer": "ipython3",
   "version": "3.7.4"
  }
 },
 "nbformat": 4,
 "nbformat_minor": 2
}
