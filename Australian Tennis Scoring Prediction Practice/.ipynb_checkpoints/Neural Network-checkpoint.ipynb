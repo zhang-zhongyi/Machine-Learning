{
 "cells": [
  {
   "cell_type": "code",
   "execution_count": null,
   "metadata": {},
   "outputs": [],
   "source": []
  },
  {
   "cell_type": "markdown",
   "metadata": {},
   "source": [
    "# Recurrent Neural Network"
   ]
  },
  {
   "cell_type": "code",
   "execution_count": null,
   "metadata": {},
   "outputs": [],
   "source": [
    "import sys\n",
    "import os\n",
    "import json\n",
    "import pandas\n",
    "import numpy\n",
    "import optparse\n",
    "\n",
    "from keras.callbacks import TensorBoard\n",
    "from keras.models import Sequential, load_model\n",
    "from keras.layers import LSTM, Dense, Dropout\n",
    "from keras.layers.embeddings import Embedding\n",
    "from keras.preprocessing import sequence\n",
    "from keras.preprocessing.text import Tokenizer\n",
    "from collections import OrderedDict\n",
    "import keras\n",
    "\n",
    "rnn = Sequential()\n",
    "rnn.add(Embedding(X_train.shape[1]-1, 128, input_length=742))\n",
    "rnn.add(LSTM(units = 64, recurrent_dropout = 0.5, return_sequences=True))\n",
    "#rnn.add(LSTM(64, return_sequences=True))\n",
    "rnn.add(LSTM(64)) \n",
    "rnn.add(Dense(2, input_dim=2, activation=keras.activations.sigmoid, use_bias=True))\n",
    "rnn.add(Dense(1, activation='softmax'))"
   ]
  },
  {
   "cell_type": "code",
   "execution_count": null,
   "metadata": {},
   "outputs": [],
   "source": [
    "rnn.compile(optimizer='rmsprop', loss='binary_crossentropy', metrics=['accuracy'])"
   ]
  },
  {
   "cell_type": "code",
   "execution_count": null,
   "metadata": {},
   "outputs": [],
   "source": [
    "rnn.summary()"
   ]
  },
  {
   "cell_type": "code",
   "execution_count": null,
   "metadata": {},
   "outputs": [],
   "source": [
    "y_tr = y_train.copy()\n",
    "y_tr=pd.DataFrame(y_tr)\n",
    "y_tr['outcome'] = y_tr['outcome'].replace({'UE': 0, 'FE': 1, 'W': 2})\n",
    "X_tr=X_train.copy()\n",
    "X_tr += 25\n",
    "rnn.fit(X_tr, y_tr, epochs=3, batch_size=128)"
   ]
  },
  {
   "cell_type": "code",
   "execution_count": null,
   "metadata": {},
   "outputs": [],
   "source": [
    "y_te = y_test.copy()\n",
    "X_te = X_test.copy()\n",
    "y_te=pd.DataFrame(y_te)\n",
    "y_te['outcome'] = y_te['outcome'].replace({'UE': 0, 'FE': 1, 'W': 2})"
   ]
  },
  {
   "cell_type": "code",
   "execution_count": null,
   "metadata": {},
   "outputs": [],
   "source": [
    "X_te += 25"
   ]
  },
  {
   "cell_type": "code",
   "execution_count": null,
   "metadata": {},
   "outputs": [],
   "source": [
    "score = rnn.evaluate(X_te, y_te, batch_size=128)\n",
    "print(\"\\n loss value:\",score[0], \",\\n accuracy value:\",score[1])"
   ]
  },
  {
   "cell_type": "code",
   "execution_count": null,
   "metadata": {},
   "outputs": [],
   "source": []
  },
  {
   "cell_type": "markdown",
   "metadata": {},
   "source": [
    "# Deep Neural Network using MLP Classifier"
   ]
  },
  {
   "cell_type": "code",
   "execution_count": null,
   "metadata": {},
   "outputs": [],
   "source": [
    "from sklearn.neural_network import MLPClassifier\n",
    "from sklearn.pipeline import make_pipeline\n",
    "X_tr2 = X_train.copy()\n",
    "y_tr2 = y_test.copy()\n",
    "X_te2 = X_test.copy()\n",
    "y_te2 = y_test.copy()"
   ]
  },
  {
   "cell_type": "code",
   "execution_count": null,
   "metadata": {},
   "outputs": [],
   "source": [
    "y_tr2=y_tr2.tolist()"
   ]
  },
  {
   "cell_type": "code",
   "execution_count": null,
   "metadata": {},
   "outputs": [],
   "source": [
    "model_dnn = make_pipeline(MLPClassifier(solver='adam',\n",
    "                  alpha=0.0001,\n",
    "                  activation='logistic',\n",
    "                    batch_size=150,\n",
    "                    hidden_layer_sizes=(200, 100),\n",
    "                    random_state=1))\n",
    "model_dnn.fit(X_tr2, y_tr2)\n",
    "print(\"DNN regression score: %f\" % model_dnn.score(X_te2, y_te2))"
   ]
  },
  {
   "cell_type": "code",
   "execution_count": null,
   "metadata": {},
   "outputs": [],
   "source": []
  },
  {
   "cell_type": "code",
   "execution_count": null,
   "metadata": {},
   "outputs": [],
   "source": []
  },
  {
   "cell_type": "code",
   "execution_count": null,
   "metadata": {},
   "outputs": [],
   "source": []
  }
 ],
 "metadata": {
  "kernelspec": {
   "display_name": "Python 3",
   "language": "python",
   "name": "python3"
  },
  "language_info": {
   "codemirror_mode": {
    "name": "ipython",
    "version": 3
   },
   "file_extension": ".py",
   "mimetype": "text/x-python",
   "name": "python",
   "nbconvert_exporter": "python",
   "pygments_lexer": "ipython3",
   "version": "3.7.4"
  }
 },
 "nbformat": 4,
 "nbformat_minor": 2
}
