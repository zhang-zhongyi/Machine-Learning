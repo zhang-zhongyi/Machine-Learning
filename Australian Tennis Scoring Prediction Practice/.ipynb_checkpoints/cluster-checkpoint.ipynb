{
 "cells": [
  {
   "cell_type": "code",
   "execution_count": null,
   "metadata": {},
   "outputs": [],
   "source": []
  },
  {
   "cell_type": "code",
   "execution_count": null,
   "metadata": {},
   "outputs": [],
   "source": []
  },
  {
   "cell_type": "code",
   "execution_count": null,
   "metadata": {},
   "outputs": [],
   "source": [
    "df2 = df.copy()\n",
    "df2['outcome'] = df2['outcome'].replace({'UE': 0, 'FE': 1, 'W': 2})\n",
    "df2['outcome'] = df2['outcome'].astype('category').cat.codes\n",
    "df2['hitpoint'] = df2['hitpoint'].replace({'U': 0, 'F': 1, 'B': 2})\n",
    "df2['hitpoint'] = df2['hitpoint'].astype('category').cat.codes\n",
    "df2['previous.hitpoint'] = df2['previous.hitpoint'].replace({'U': 0, 'F': 1, 'B': 2})\n",
    "df2['previous.hitpoint'] = df2['previous.hitpoint'].astype('category').cat.codes\n",
    "df2['gender'] = df2['gender'].replace({'U': 0, 'F': 1, 'B': 2})\n",
    "df2['gender'] = df2['gender'].astype('category').cat.codes\n",
    "import matplotlib.pyplot as plt\n",
    "playerids = df2['id'].values.tolist()\n",
    "import pylab\n",
    "from collections import OrderedDict\n",
    "playerids = list(OrderedDict.fromkeys(playerids))\n",
    "# outcomes = list(OrderedDict.fromkeys(outcomes))\n",
    "\n",
    "from sklearn.preprocessing import normalize\n",
    "\n",
    "dfs = df2.iloc[:,2:33].values\n",
    "normalized_df = normalize(dfs)\n",
    "\n",
    "from sklearn.manifold import TSNE\n",
    "\n",
    "plt.figure(figsize=(16,10))\n",
    "\n",
    "# Create a TSNE instance: model\n",
    "tmodel = TSNE(learning_rate=50)\n",
    "\n",
    "# Apply fit_transform to normalized_movements: tsne_features\n",
    "tsne_features = tmodel.fit_transform(normalized_df)\n",
    "\n",
    "# Select the 0th feature: xs\n",
    "x0 = tsne_features[:,0]\n",
    "\n",
    "# Select the 1th feature: ys\n",
    "y0 = tsne_features[:,1]\n",
    "\n",
    "# Scatter plot\n",
    "plt.scatter(x0, y0, alpha=0.5)\n",
    "# Annotate the players\n",
    "# for x, y, player in zip(x0, y0, playerids):\n",
    "#     plt.annotate(player, (x, y), fontsize=9, alpha=0.75)\n",
    "# Annotate the outcomes\n",
    "\n",
    "# for x, y, outcome in zip(x0, y0, outcomes):\n",
    "#     plt.annotate(outcome, (x, y), fontsize=9, alpha=0.75)\n",
    "#plt.figure(figsize=(18,20))\n",
    "plt.title('t-SNE for players',fontsize=17)\n",
    "plt.scatter(x0, y0, c=outcomes)\n",
    "plt.show()"
   ]
  },
  {
   "cell_type": "code",
   "execution_count": null,
   "metadata": {},
   "outputs": [],
   "source": []
  },
  {
   "cell_type": "code",
   "execution_count": null,
   "metadata": {},
   "outputs": [],
   "source": []
  }
 ],
 "metadata": {
  "kernelspec": {
   "display_name": "Python 3",
   "language": "python",
   "name": "python3"
  },
  "language_info": {
   "codemirror_mode": {
    "name": "ipython",
    "version": 3
   },
   "file_extension": ".py",
   "mimetype": "text/x-python",
   "name": "python",
   "nbconvert_exporter": "python",
   "pygments_lexer": "ipython3",
   "version": "3.7.4"
  }
 },
 "nbformat": 4,
 "nbformat_minor": 2
}
