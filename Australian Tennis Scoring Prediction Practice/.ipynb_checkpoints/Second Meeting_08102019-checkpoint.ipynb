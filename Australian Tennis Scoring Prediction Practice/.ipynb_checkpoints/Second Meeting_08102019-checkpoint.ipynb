{
 "cells": [
  {
   "cell_type": "markdown",
   "metadata": {},
   "source": [
    "## Import the Data and Clean up"
   ]
  },
  {
   "cell_type": "code",
   "execution_count": 16,
   "metadata": {},
   "outputs": [
    {
     "name": "stdout",
     "output_type": "stream",
     "text": [
      "(5000, 27)\n",
      "(5000, 27)\n"
     ]
    }
   ],
   "source": [
    "# import library\n",
    "import pandas as pd\n",
    "import numpy as np\n",
    "\n",
    "# import mean train data set using pd\n",
    "men_data = pd.read_csv('mens_train_file.csv', low_memory=False)\n",
    "\n",
    "# import womean train data set using pd\n",
    "women_data = pd.read_csv('womens_train_file.csv', low_memory=False)\n",
    "\n",
    "# append gender\n",
    "men_data['gender'] = 'mens'\n",
    "women_data['gender'] = 'womens'\n",
    "\n",
    "# verify the shapes\n",
    "print(men_data.shape)\n",
    "print(women_data.shape)"
   ]
  },
  {
   "cell_type": "code",
   "execution_count": 17,
   "metadata": {},
   "outputs": [],
   "source": [
    "df = pd.concat([men_data, women_data])"
   ]
  },
  {
   "cell_type": "code",
   "execution_count": 18,
   "metadata": {},
   "outputs": [
    {
     "data": {
      "text/plain": [
       "(10000, 27)"
      ]
     },
     "execution_count": 18,
     "metadata": {},
     "output_type": "execute_result"
    }
   ],
   "source": [
    "df.shape"
   ]
  },
  {
   "cell_type": "code",
   "execution_count": 19,
   "metadata": {},
   "outputs": [
    {
     "data": {
      "text/html": [
       "<div>\n",
       "<style scoped>\n",
       "    .dataframe tbody tr th:only-of-type {\n",
       "        vertical-align: middle;\n",
       "    }\n",
       "\n",
       "    .dataframe tbody tr th {\n",
       "        vertical-align: top;\n",
       "    }\n",
       "\n",
       "    .dataframe thead th {\n",
       "        text-align: right;\n",
       "    }\n",
       "</style>\n",
       "<table border=\"1\" class=\"dataframe\">\n",
       "  <thead>\n",
       "    <tr style=\"text-align: right;\">\n",
       "      <th></th>\n",
       "      <th>id</th>\n",
       "      <th>outcome</th>\n",
       "      <th>serve</th>\n",
       "      <th>rally</th>\n",
       "      <th>hitpoint</th>\n",
       "      <th>speed</th>\n",
       "      <th>net.clearance</th>\n",
       "      <th>distance.from.sideline</th>\n",
       "      <th>depth</th>\n",
       "      <th>outside.sideline</th>\n",
       "      <th>...</th>\n",
       "      <th>previous.net.clearance</th>\n",
       "      <th>previous.distance.from.sideline</th>\n",
       "      <th>previous.depth</th>\n",
       "      <th>opponent.depth</th>\n",
       "      <th>opponent.distance.from.center</th>\n",
       "      <th>same.side</th>\n",
       "      <th>previous.hitpoint</th>\n",
       "      <th>previous.time.to.net</th>\n",
       "      <th>server.is.impact.player</th>\n",
       "      <th>gender</th>\n",
       "    </tr>\n",
       "  </thead>\n",
       "  <tbody>\n",
       "    <tr>\n",
       "      <th>0</th>\n",
       "      <td>5718</td>\n",
       "      <td>UE</td>\n",
       "      <td>1</td>\n",
       "      <td>4</td>\n",
       "      <td>B</td>\n",
       "      <td>35.52</td>\n",
       "      <td>-0.02</td>\n",
       "      <td>3.47</td>\n",
       "      <td>6.80</td>\n",
       "      <td>0</td>\n",
       "      <td>...</td>\n",
       "      <td>1.35</td>\n",
       "      <td>2.45</td>\n",
       "      <td>0.71</td>\n",
       "      <td>12.56</td>\n",
       "      <td>2.07</td>\n",
       "      <td>1</td>\n",
       "      <td>F</td>\n",
       "      <td>0.45</td>\n",
       "      <td>0</td>\n",
       "      <td>mens</td>\n",
       "    </tr>\n",
       "    <tr>\n",
       "      <th>1</th>\n",
       "      <td>371</td>\n",
       "      <td>FE</td>\n",
       "      <td>2</td>\n",
       "      <td>4</td>\n",
       "      <td>B</td>\n",
       "      <td>33.38</td>\n",
       "      <td>1.11</td>\n",
       "      <td>2.54</td>\n",
       "      <td>2.61</td>\n",
       "      <td>0</td>\n",
       "      <td>...</td>\n",
       "      <td>0.76</td>\n",
       "      <td>0.58</td>\n",
       "      <td>3.86</td>\n",
       "      <td>12.35</td>\n",
       "      <td>5.11</td>\n",
       "      <td>0</td>\n",
       "      <td>B</td>\n",
       "      <td>0.43</td>\n",
       "      <td>0</td>\n",
       "      <td>mens</td>\n",
       "    </tr>\n",
       "    <tr>\n",
       "      <th>2</th>\n",
       "      <td>7948</td>\n",
       "      <td>FE</td>\n",
       "      <td>1</td>\n",
       "      <td>23</td>\n",
       "      <td>B</td>\n",
       "      <td>22.32</td>\n",
       "      <td>-0.25</td>\n",
       "      <td>3.53</td>\n",
       "      <td>9.44</td>\n",
       "      <td>0</td>\n",
       "      <td>...</td>\n",
       "      <td>0.38</td>\n",
       "      <td>1.12</td>\n",
       "      <td>2.91</td>\n",
       "      <td>13.86</td>\n",
       "      <td>1.66</td>\n",
       "      <td>0</td>\n",
       "      <td>F</td>\n",
       "      <td>0.40</td>\n",
       "      <td>1</td>\n",
       "      <td>mens</td>\n",
       "    </tr>\n",
       "    <tr>\n",
       "      <th>3</th>\n",
       "      <td>9312</td>\n",
       "      <td>UE</td>\n",
       "      <td>1</td>\n",
       "      <td>9</td>\n",
       "      <td>F</td>\n",
       "      <td>36.84</td>\n",
       "      <td>0.77</td>\n",
       "      <td>0.59</td>\n",
       "      <td>3.34</td>\n",
       "      <td>1</td>\n",
       "      <td>...</td>\n",
       "      <td>1.24</td>\n",
       "      <td>3.26</td>\n",
       "      <td>0.56</td>\n",
       "      <td>14.26</td>\n",
       "      <td>0.16</td>\n",
       "      <td>1</td>\n",
       "      <td>B</td>\n",
       "      <td>0.67</td>\n",
       "      <td>1</td>\n",
       "      <td>mens</td>\n",
       "    </tr>\n",
       "    <tr>\n",
       "      <th>4</th>\n",
       "      <td>7667</td>\n",
       "      <td>W</td>\n",
       "      <td>1</td>\n",
       "      <td>4</td>\n",
       "      <td>B</td>\n",
       "      <td>35.54</td>\n",
       "      <td>0.12</td>\n",
       "      <td>0.92</td>\n",
       "      <td>5.50</td>\n",
       "      <td>0</td>\n",
       "      <td>...</td>\n",
       "      <td>0.17</td>\n",
       "      <td>1.43</td>\n",
       "      <td>3.95</td>\n",
       "      <td>11.37</td>\n",
       "      <td>1.11</td>\n",
       "      <td>0</td>\n",
       "      <td>F</td>\n",
       "      <td>0.34</td>\n",
       "      <td>0</td>\n",
       "      <td>mens</td>\n",
       "    </tr>\n",
       "  </tbody>\n",
       "</table>\n",
       "<p>5 rows × 27 columns</p>\n",
       "</div>"
      ],
      "text/plain": [
       "     id outcome  serve  rally hitpoint  speed  net.clearance  \\\n",
       "0  5718      UE      1      4        B  35.52          -0.02   \n",
       "1   371      FE      2      4        B  33.38           1.11   \n",
       "2  7948      FE      1     23        B  22.32          -0.25   \n",
       "3  9312      UE      1      9        F  36.84           0.77   \n",
       "4  7667       W      1      4        B  35.54           0.12   \n",
       "\n",
       "   distance.from.sideline  depth  outside.sideline  ...  \\\n",
       "0                    3.47   6.80                 0  ...   \n",
       "1                    2.54   2.61                 0  ...   \n",
       "2                    3.53   9.44                 0  ...   \n",
       "3                    0.59   3.34                 1  ...   \n",
       "4                    0.92   5.50                 0  ...   \n",
       "\n",
       "   previous.net.clearance  previous.distance.from.sideline  previous.depth  \\\n",
       "0                    1.35                             2.45            0.71   \n",
       "1                    0.76                             0.58            3.86   \n",
       "2                    0.38                             1.12            2.91   \n",
       "3                    1.24                             3.26            0.56   \n",
       "4                    0.17                             1.43            3.95   \n",
       "\n",
       "   opponent.depth  opponent.distance.from.center  same.side  \\\n",
       "0           12.56                           2.07          1   \n",
       "1           12.35                           5.11          0   \n",
       "2           13.86                           1.66          0   \n",
       "3           14.26                           0.16          1   \n",
       "4           11.37                           1.11          0   \n",
       "\n",
       "   previous.hitpoint  previous.time.to.net  server.is.impact.player  gender  \n",
       "0                  F                  0.45                        0    mens  \n",
       "1                  B                  0.43                        0    mens  \n",
       "2                  F                  0.40                        1    mens  \n",
       "3                  B                  0.67                        1    mens  \n",
       "4                  F                  0.34                        0    mens  \n",
       "\n",
       "[5 rows x 27 columns]"
      ]
     },
     "execution_count": 19,
     "metadata": {},
     "output_type": "execute_result"
    }
   ],
   "source": [
    "df.head()"
   ]
  },
  {
   "cell_type": "code",
   "execution_count": 20,
   "metadata": {},
   "outputs": [
    {
     "name": "stdout",
     "output_type": "stream",
     "text": [
      "['B' 'F' 'U' 'V']\n",
      "['F' 'B' 'V' 'U']\n"
     ]
    }
   ],
   "source": [
    "print(df.hitpoint.unique())\n",
    "print(df['previous.hitpoint'].unique())"
   ]
  },
  {
   "cell_type": "code",
   "execution_count": 21,
   "metadata": {},
   "outputs": [],
   "source": [
    "# replace values with 0, 1, 2, 3 using dict for previous hitpoints\n",
    "df['previous.hitpoint'] = df['previous.hitpoint'].replace({'U': 0, 'F': 1, 'B': 2, 'V':3})\n",
    "\n",
    "# replace values with 0, 1, 2, 3 using dict for hitpoints\n",
    "df['hitpoint'] = df['hitpoint'].replace({'U': 0, 'F': 1, 'B': 2, 'V':3})\n",
    "\n",
    "# replace values with 0, 1 using dict for gender\n",
    "df['gender'] = df['gender'].replace({'mens': 0, 'womens': 1})\n",
    "\n",
    "df['previous.hitpoint'] = df['previous.hitpoint'].astype('category').cat.codes\n",
    "df['hitpoint'] = df['hitpoint'].astype('category').cat.codes\n",
    "df['gender'] = df['gender'].astype('category').cat.codes\n",
    "df['outside.sideline'] = df['outside.sideline'].astype('category').cat.codes\n",
    "df['outside.baseline'] = df['outside.baseline'].astype('category').cat.codes\n",
    "df['same.side'] = df['same.side'].astype('category').cat.codes\n",
    "df['server.is.impact.player'] = df['server.is.impact.player'].astype('category').cat.codes"
   ]
  },
  {
   "cell_type": "code",
   "execution_count": 22,
   "metadata": {},
   "outputs": [
    {
     "name": "stdout",
     "output_type": "stream",
     "text": [
      "['UE' 'FE' 'W']\n"
     ]
    }
   ],
   "source": [
    "print(df.outcome.unique())"
   ]
  },
  {
   "cell_type": "code",
   "execution_count": 23,
   "metadata": {},
   "outputs": [],
   "source": [
    "# replace values with 0, 1, 2 using dict for previous hitpoints\n",
    "df['outcome'] = df['outcome'].replace({'UE': 0, 'FE': 1, 'W': 2})\n",
    "\n",
    "df['outcome'] = df['outcome'].astype('category').cat.codes"
   ]
  },
  {
   "cell_type": "code",
   "execution_count": 24,
   "metadata": {},
   "outputs": [],
   "source": [
    "# import library\n",
    "from sklearn.model_selection import train_test_split\n",
    "\n",
    "# adding a seed called random_state in train_test_split so that split is reproducible\n",
    "random_state = 1\n",
    "\n",
    "# X matrix (features / independent variables)\n",
    "X = df.drop(['outcome', 'id'], axis=1)\n",
    "\n",
    "# y matrix (target / dependent variable) will be: T_degC\n",
    "y = df['outcome']\n",
    "\n",
    "# build out the following: X_train, X_test, y_train, y_test\n",
    "X_train, X_test, y_train, y_test = train_test_split(X, y, test_size=0.20, random_state=random_state)"
   ]
  },
  {
   "cell_type": "code",
   "execution_count": 25,
   "metadata": {},
   "outputs": [],
   "source": [
    "#y_train = pd.DataFrame(y_train)"
   ]
  },
  {
   "cell_type": "code",
   "execution_count": 26,
   "metadata": {},
   "outputs": [],
   "source": [
    "#y_test = pd.DataFrame(y_test)"
   ]
  },
  {
   "cell_type": "code",
   "execution_count": 27,
   "metadata": {},
   "outputs": [
    {
     "data": {
      "text/plain": [
       "(2000,)"
      ]
     },
     "execution_count": 27,
     "metadata": {},
     "output_type": "execute_result"
    }
   ],
   "source": [
    "y_test.shape"
   ]
  },
  {
   "cell_type": "code",
   "execution_count": 28,
   "metadata": {},
   "outputs": [
    {
     "data": {
      "text/plain": [
       "(8000, 25)"
      ]
     },
     "execution_count": 28,
     "metadata": {},
     "output_type": "execute_result"
    }
   ],
   "source": [
    "X_train.shape"
   ]
  },
  {
   "cell_type": "code",
   "execution_count": 32,
   "metadata": {},
   "outputs": [],
   "source": [
    "from sklearn.neighbors import KernelDensity\n",
    "kde = KernelDensity(kernel='gaussian')\n",
    "kde.fit(X_train)\n",
    "new_data = kde.sample(500, random_state=0)\n",
    "new_data=pd.DataFrame(new_data, columns=X_train.columns)\n",
    "data_app=X_train.append(new_data,ignore_index=True)"
   ]
  },
  {
   "cell_type": "code",
   "execution_count": 33,
   "metadata": {},
   "outputs": [
    {
     "data": {
      "text/plain": [
       "(8000, 25)"
      ]
     },
     "execution_count": 33,
     "metadata": {},
     "output_type": "execute_result"
    }
   ],
   "source": [
    "X_train.shape"
   ]
  },
  {
   "cell_type": "code",
   "execution_count": 35,
   "metadata": {},
   "outputs": [
    {
     "data": {
      "text/plain": [
       "(500, 25)"
      ]
     },
     "execution_count": 35,
     "metadata": {},
     "output_type": "execute_result"
    }
   ],
   "source": [
    "new_data.shape"
   ]
  },
  {
   "cell_type": "code",
   "execution_count": null,
   "metadata": {},
   "outputs": [],
   "source": [
    "xnew = matrix (NA_real_, nrow = (ncol (X_train)^2 - ncol (X_train)) / 2, ncol = nrow (X_train))\n",
    "for (i in 1 : nr) \n",
    "    xnew [,i] <- feature.gen (X_train[i,])"
   ]
  },
  {
   "cell_type": "markdown",
   "metadata": {},
   "source": [
    "## Create the Model"
   ]
  },
  {
   "cell_type": "code",
   "execution_count": 15,
   "metadata": {
    "scrolled": true
   },
   "outputs": [
    {
     "name": "stdout",
     "output_type": "stream",
     "text": [
      "Fitting 5 folds for each of 10 candidates, totalling 50 fits\n"
     ]
    },
    {
     "name": "stderr",
     "output_type": "stream",
     "text": [
      "[Parallel(n_jobs=-1)]: Using backend LokyBackend with 12 concurrent workers.\n",
      "[Parallel(n_jobs=-1)]: Done  38 out of  50 | elapsed:   22.3s remaining:    7.0s\n",
      "[Parallel(n_jobs=-1)]: Done  50 out of  50 | elapsed:   24.6s finished\n"
     ]
    },
    {
     "data": {
      "text/plain": [
       "RandomizedSearchCV(cv=5, error_score='raise-deprecating',\n",
       "                   estimator=RandomForestClassifier(bootstrap=True,\n",
       "                                                    class_weight=None,\n",
       "                                                    criterion='gini',\n",
       "                                                    max_depth=None,\n",
       "                                                    max_features='auto',\n",
       "                                                    max_leaf_nodes=None,\n",
       "                                                    min_impurity_decrease=0.0,\n",
       "                                                    min_impurity_split=None,\n",
       "                                                    min_samples_leaf=1,\n",
       "                                                    min_samples_split=2,\n",
       "                                                    min_weight_fraction_leaf=0.0,\n",
       "                                                    n_estimators='warn',\n",
       "                                                    n_jobs=None,\n",
       "                                                    oob_sc...\n",
       "                                                    random_state=None,\n",
       "                                                    verbose=0,\n",
       "                                                    warm_start=False),\n",
       "                   iid='warn', n_iter=10, n_jobs=-1,\n",
       "                   param_distributions={'max_depth': [1, 3, 5, 7, 9],\n",
       "                                        'max_features': ['auto', 2, 4, 'sqrt',\n",
       "                                                         'log2'],\n",
       "                                        'min_samples_split': [2, 4, 8],\n",
       "                                        'n_estimators': [100, 200, 300, 400,\n",
       "                                                         500, 600, 700, 800,\n",
       "                                                         900, 1000]},\n",
       "                   pre_dispatch='2*n_jobs', random_state=None, refit=True,\n",
       "                   return_train_score=False, scoring=None, verbose=5)"
      ]
     },
     "execution_count": 15,
     "metadata": {},
     "output_type": "execute_result"
    }
   ],
   "source": [
    "# import library\n",
    "from sklearn.ensemble import RandomForestClassifier\n",
    "from sklearn.model_selection import GridSearchCV\n",
    "from sklearn.model_selection import RandomizedSearchCV\n",
    "\n",
    "# create a dictionary of parameters \n",
    "param_grid = {'n_estimators':list(range(100, 1100, 100)),\n",
    "              'max_depth': list(range(1, 11, 2)),\n",
    "              'max_features': ['auto', 2, 4, 'sqrt', 'log2'],\n",
    "              'min_samples_split':[2, 4, 8], \n",
    "             }\n",
    "\n",
    "# create Random Forest model\n",
    "rf_obj = RandomForestClassifier()\n",
    "\n",
    "# create gridsearch object with various combinations of parameters\n",
    "base_model_rnd_clf = RandomizedSearchCV(rf_obj, param_grid, cv = 5, refit = True,\n",
    "                       n_jobs=-1, verbose = 5)\n",
    "\n",
    "base_model_rnd_clf.fit(X_train, y_train)"
   ]
  },
  {
   "cell_type": "code",
   "execution_count": 26,
   "metadata": {},
   "outputs": [
    {
     "name": "stdout",
     "output_type": "stream",
     "text": [
      "First 5 predicted probabilities:\n",
      " [[0.1851626  0.76943061 0.04540679]\n",
      " [0.4011063  0.41524907 0.18364463]\n",
      " [0.19143459 0.08976476 0.71880065]\n",
      " [0.14135016 0.06267184 0.79597801]\n",
      " [0.19105904 0.71158427 0.09735669]]\n",
      "\n",
      "First 5 predictions:\n",
      " [1 1 2 2 1]\n"
     ]
    }
   ],
   "source": [
    "# predict probabilities\n",
    "y_pred_proba_base_model_test = base_model_rnd_clf.best_estimator_.predict_proba(X_test)\n",
    "\n",
    "# predict classes\n",
    "y_pred_base_model_test = base_model_rnd_clf.best_estimator_.predict(X_test)\n",
    "\n",
    "print('First 5 predicted probabilities:\\n', y_pred_proba_base_model_test[0:5])\n",
    "print('\\nFirst 5 predictions:\\n',y_pred_base_model_test[0:5])"
   ]
  },
  {
   "cell_type": "markdown",
   "metadata": {},
   "source": [
    "## Check out the model generalization with test data"
   ]
  },
  {
   "cell_type": "code",
   "execution_count": 27,
   "metadata": {},
   "outputs": [
    {
     "data": {
      "image/png": "[encoded data removed]",
      "text/plain": [
       "<Figure size 432x288 with 2 Axes>"
      ]
     },
     "metadata": {
      "needs_background": "light"
     },
     "output_type": "display_data"
    }
   ],
   "source": [
    "# import library\n",
    "import matplotlib.pyplot as plt\n",
    "import seaborn as sns\n",
    "from sklearn import metrics\n",
    "\n",
    "# mean error evaluation using the .score() method\n",
    "base_model_rdn_clf_score_test = base_model_rnd_clf.best_estimator_.score(X_test, y_test)\n",
    "\n",
    "base_model_rdn_clf_confusion_matrix_test = metrics.confusion_matrix(y_test, y_pred_base_model_test)\n",
    "\n",
    "df_cm = pd.DataFrame(base_model_rdn_clf_confusion_matrix_test, range(3), range(3))\n",
    "\n",
    "sns.heatmap (df_cm, fmt='d',\n",
    "             cmap='Blues_r', annot=True, square = True)\n",
    "\n",
    "plt.xlabel('Predicted Class')\n",
    "plt.ylabel('Actual Class')\n",
    "\n",
    "base_model_test_title = 'Base Model - Test Confussion Matrix\\nMean Accuracy Score: {0:2f}'.format(base_model_rdn_clf_score_test)\n",
    "plt.title(base_model_test_title, size = 14)\n",
    "plt.show;"
   ]
  },
  {
   "cell_type": "code",
   "execution_count": 32,
   "metadata": {},
   "outputs": [
    {
     "name": "stdout",
     "output_type": "stream",
     "text": [
      "\u001b[1m  RandomForestClassifier - Classification Report on Test Data\n",
      "\u001b[0m               precision    recall  f1-score   support\n",
      "\n",
      "           0       0.82      0.81      0.82       652\n",
      "           1       0.84      0.80      0.82       703\n",
      "           2       0.92      0.97      0.94       645\n",
      "\n",
      "    accuracy                           0.86      2000\n",
      "   macro avg       0.86      0.86      0.86      2000\n",
      "weighted avg       0.86      0.86      0.86      2000\n",
      "\n"
     ]
    }
   ],
   "source": [
    "# import library\n",
    "from sklearn.metrics import classification_report\n",
    "\n",
    "base_model_rnd_clf_classification_report_test = classification_report(y_test, y_pred_base_model_test)\n",
    "print('\\033[1m'+'  RandomForestClassifier - Classification Report on Test Data\\n'+'\\033[0m', base_model_rnd_clf_classification_report_test)"
   ]
  },
  {
   "cell_type": "markdown",
   "metadata": {},
   "source": [
    "## See how the model overfits on train"
   ]
  },
  {
   "cell_type": "code",
   "execution_count": 29,
   "metadata": {},
   "outputs": [
    {
     "data": {
      "image/png": "[encoded data removed]",
      "text/plain": [
       "<Figure size 432x288 with 2 Axes>"
      ]
     },
     "metadata": {
      "needs_background": "light"
     },
     "output_type": "display_data"
    }
   ],
   "source": [
    "# import library\n",
    "import matplotlib.pyplot as plt\n",
    "import seaborn as sns\n",
    "from sklearn import metrics\n",
    "\n",
    "# predict classes\n",
    "y_pred_base_model_train = base_model_rnd_clf.best_estimator_.predict(X_train)\n",
    "\n",
    "# mean error evaluation using the .score() method\n",
    "base_model_rdn_clf_score_train = base_model_rnd_clf.score(X_train, y_train)\n",
    "\n",
    "base_model_rdn_clf_confusion_matrix_train = metrics.confusion_matrix(y_train, y_pred_base_model_train)\n",
    "\n",
    "df_cm = pd.DataFrame(base_model_rdn_clf_confusion_matrix_train, range(3), range(3))\n",
    "\n",
    "sns.heatmap (df_cm, fmt='d',\n",
    "             cmap='Oranges_r', annot=True, square = True)\n",
    "\n",
    "plt.xlabel('Predicted Class')\n",
    "plt.ylabel('Actual Class')\n",
    "\n",
    "base_model_train_title = 'RandomForestClassifier - Confussion Matrix on Train Data \\nMean Accuracy Score: {0:2f}'.format(base_model_rdn_clf_score_train)\n",
    "plt.title(base_model_train_title, size = 14)\n",
    "plt.show;"
   ]
  },
  {
   "cell_type": "code",
   "execution_count": 31,
   "metadata": {},
   "outputs": [
    {
     "name": "stdout",
     "output_type": "stream",
     "text": [
      "\u001b[1m  RandomForestClassifier - Classification Report on Train Data\n",
      "\u001b[0m               precision    recall  f1-score   support\n",
      "\n",
      "           0       0.93      0.91      0.92      2540\n",
      "           1       0.93      0.91      0.92      2753\n",
      "           2       0.94      0.98      0.96      2707\n",
      "\n",
      "    accuracy                           0.93      8000\n",
      "   macro avg       0.93      0.93      0.93      8000\n",
      "weighted avg       0.93      0.93      0.93      8000\n",
      "\n"
     ]
    }
   ],
   "source": [
    "# import library\n",
    "from sklearn.metrics import classification_report\n",
    "\n",
    "base_model_rnd_clf_classification_report_train = classification_report(y_train, y_pred_base_model_train)\n",
    "print('\\033[1m'+'  RandomForestClassifier - Classification Report on Train Data\\n'+'\\033[0m', base_model_rnd_clf_classification_report_train)"
   ]
  },
  {
   "cell_type": "markdown",
   "metadata": {},
   "source": [
    "## Gradient Boost Classifier"
   ]
  },
  {
   "cell_type": "code",
   "execution_count": null,
   "metadata": {},
   "outputs": [],
   "source": [
    "from sklearn.ensemble import GradientBoostingClassifier\n",
    "\n",
    "gbrt = GradientBoostingClassifier(max_depth = 20, \n",
    "                                 n_estimators = 500, \n",
    "                                 learning_rate = 1.0)\n",
    "\n",
    "gbrt.fit (X_train , y_train)"
   ]
  },
  {
   "cell_type": "code",
   "execution_count": null,
   "metadata": {},
   "outputs": [],
   "source": [
    "# predict probabilities\n",
    "y_pred_proba_gbrt_test = gbrt.predict_proba(X_test)\n",
    "\n",
    "# predict classes\n",
    "y_pred_gbrt_test = gbrt.predict(X_test)\n",
    "\n",
    "print('First 5 predicted probabilities:\\n', y_pred_proba_gbrt_test[0:5])\n",
    "print('\\nFirst 5 predictions:\\n',y_pred_gbrt_test [0:5])"
   ]
  },
  {
   "cell_type": "code",
   "execution_count": null,
   "metadata": {},
   "outputs": [],
   "source": [
    "# import library\n",
    "import matplotlib.pyplot as plt\n",
    "import seaborn as sns\n",
    "from sklearn import metrics\n",
    "\n",
    "# mean error evaluation using the .score() method\n",
    "gbrt_score_test = gbrt.score(X_test, y_test)\n",
    "\n",
    "gbrt_confusion_matrix_test = metrics.confusion_matrix(y_test, y_pred_gbrt_test)\n",
    "\n",
    "df_cm = pd.DataFrame(gbrt_confusion_matrix_test, range(3), range(3))\n",
    "\n",
    "sns.heatmap (df_cm, fmt='d',\n",
    "             cmap='Blues_r', annot=True, square = True)\n",
    "\n",
    "plt.xlabel('Predicted Class')\n",
    "plt.ylabel('Actual Class')\n",
    "\n",
    "gbrt_test_title = 'Base Model - Test Confussion Matrix\\nMean Accuracy Score: {0:2f}'.format(gbrt_score_test)\n",
    "plt.title(gbrt_test_title, size = 14)\n",
    "plt.show;"
   ]
  },
  {
   "cell_type": "code",
   "execution_count": null,
   "metadata": {},
   "outputs": [],
   "source": [
    "# import library\n",
    "import matplotlib.pyplot as plt\n",
    "import seaborn as sns\n",
    "from sklearn import metrics\n",
    "\n",
    "\n",
    "y_pred_gbrt_train = gbrt.predict(X_train)\n",
    "\n",
    "# mean error evaluation using the .score() method\n",
    "gbrt_score_train = gbrt.score(X_train, y_train)\n",
    "\n",
    "gbrt_confusion_matrix_train = metrics.confusion_matrix(y_train, y_pred_gbrt_train)\n",
    "\n",
    "df_cm = pd.DataFrame(gbrt_confusion_matrix_train, range(3), range(3))\n",
    "\n",
    "sns.heatmap (df_cm, fmt='d',\n",
    "             cmap='Oranges_r', annot=True, square = True)\n",
    "\n",
    "plt.xlabel('Predicted Class')\n",
    "plt.ylabel('Actual Class')\n",
    "\n",
    "gbrt_test_title = 'Base Model - Test Confussion Matrix\\nMean Accuracy Score: {0:2f}'.format(gbrt_score_train)\n",
    "plt.title(gbrt_test_title, size = 14)\n",
    "plt.show;"
   ]
  },
  {
   "cell_type": "code",
   "execution_count": null,
   "metadata": {},
   "outputs": [],
   "source": []
  },
  {
   "cell_type": "code",
   "execution_count": null,
   "metadata": {},
   "outputs": [],
   "source": []
  },
  {
   "cell_type": "code",
   "execution_count": null,
   "metadata": {},
   "outputs": [],
   "source": []
  },
  {
   "cell_type": "code",
   "execution_count": null,
   "metadata": {},
   "outputs": [],
   "source": []
  },
  {
   "cell_type": "code",
   "execution_count": null,
   "metadata": {},
   "outputs": [],
   "source": []
  },
  {
   "cell_type": "code",
   "execution_count": null,
   "metadata": {},
   "outputs": [],
   "source": []
  },
  {
   "cell_type": "code",
   "execution_count": null,
   "metadata": {},
   "outputs": [],
   "source": []
  },
  {
   "cell_type": "code",
   "execution_count": null,
   "metadata": {},
   "outputs": [],
   "source": []
  },
  {
   "cell_type": "code",
   "execution_count": null,
   "metadata": {},
   "outputs": [],
   "source": []
  },
  {
   "cell_type": "code",
   "execution_count": null,
   "metadata": {},
   "outputs": [],
   "source": []
  },
  {
   "cell_type": "code",
   "execution_count": null,
   "metadata": {},
   "outputs": [],
   "source": []
  }
 ],
 "metadata": {
  "@webio": {
   "lastCommId": null,
   "lastKernelId": null
  },
  "kernelspec": {
   "display_name": "Python 3",
   "language": "python",
   "name": "python3"
  },
  "language_info": {
   "codemirror_mode": {
    "name": "ipython",
    "version": 3
   },
   "file_extension": ".py",
   "mimetype": "text/x-python",
   "name": "python",
   "nbconvert_exporter": "python",
   "pygments_lexer": "ipython3",
   "version": "3.7.4"
  }
 },
 "nbformat": 4,
 "nbformat_minor": 2
}
