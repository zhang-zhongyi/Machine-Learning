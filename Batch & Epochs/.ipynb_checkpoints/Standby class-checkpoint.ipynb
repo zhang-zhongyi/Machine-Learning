{
 "cells": [
  {
   "cell_type": "code",
   "execution_count": null,
   "metadata": {},
   "outputs": [],
   "source": []
  },
  {
   "cell_type": "code",
   "execution_count": null,
   "metadata": {},
   "outputs": [],
   "source": [
    "from sklearn.linear_model import LinearRegression as linreg\n",
    "class lin_reg(linreg):\n",
    "    \n",
    "    def __init__(self, X_train, y_train):\n",
    "        linreg.__init__(self)\n",
    "        self.X_train = X_train\n",
    "        self.y_train = y_train\n",
    "    \n",
    "    def fitt(self):\n",
    "        self.fit(self.X_train, self.y_train)\n",
    "\n",
    "p1 = lin_reg(X_train_scaled, y_train)\n",
    "p1.fitt()"
   ]
  },
  {
   "cell_type": "code",
   "execution_count": null,
   "metadata": {},
   "outputs": [],
   "source": [
    "from sklearn.linear_model import LinearRegression as linreg\n",
    "class lin_reg(linreg):\n",
    "    \n",
    "    def __init__(self):\n",
    "        linreg.__init__(self)\n",
    "\n",
    "    \n",
    "lin_reg().fit(X_train_scaled, y_train)"
   ]
  },
  {
   "cell_type": "code",
   "execution_count": null,
   "metadata": {},
   "outputs": [],
   "source": []
  }
 ],
 "metadata": {
  "kernelspec": {
   "display_name": "Python 3",
   "language": "python",
   "name": "python3"
  },
  "language_info": {
   "codemirror_mode": {
    "name": "ipython",
    "version": 3
   },
   "file_extension": ".py",
   "mimetype": "text/x-python",
   "name": "python",
   "nbconvert_exporter": "python",
   "pygments_lexer": "ipython3",
   "version": "3.6.5"
  }
 },
 "nbformat": 4,
 "nbformat_minor": 2
}
