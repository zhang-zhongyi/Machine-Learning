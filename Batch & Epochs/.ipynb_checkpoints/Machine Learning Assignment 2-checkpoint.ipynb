{
 "cells": [
  {
   "cell_type": "markdown",
   "metadata": {},
   "source": [
    "# Machine Learning and Predictive Analytics"
   ]
  },
  {
   "cell_type": "markdown",
   "metadata": {},
   "source": [
    "## Assignment 2"
   ]
  },
  {
   "cell_type": "markdown",
   "metadata": {},
   "source": [
    "Name: Troy Zhongyi Zhang    \n",
    "Netid: zhongyiz@uchicago.edu   "
   ]
  },
  {
   "cell_type": "markdown",
   "metadata": {},
   "source": [
    "### Part A: Data Cleaning & Exploratory Analysis"
   ]
  },
  {
   "cell_type": "code",
   "execution_count": 1,
   "metadata": {},
   "outputs": [],
   "source": [
    "#!pip install matplotlib\n",
    "#!pip install seaborn"
   ]
  },
  {
   "cell_type": "code",
   "execution_count": 2,
   "metadata": {},
   "outputs": [],
   "source": [
    "import matplotlib"
   ]
  },
  {
   "cell_type": "code",
   "execution_count": 3,
   "metadata": {},
   "outputs": [
    {
     "name": "stderr",
     "output_type": "stream",
     "text": [
      "/Users/zhongyizhang/env/lib/python3.7/site-packages/IPython/core/interactiveshell.py:3057: DtypeWarning: Columns (47,73) have mixed types. Specify dtype option on import or set low_memory=False.\n",
      "  interactivity=interactivity, compiler=compiler, result=result)\n"
     ]
    },
    {
     "data": {
      "text/plain": [
       "(864863, 74)"
      ]
     },
     "execution_count": 3,
     "metadata": {},
     "output_type": "execute_result"
    }
   ],
   "source": [
    "import numpy as np, pandas as pd, matplotlib.pyplot as plt, seaborn as sns\n",
    "df = pd.read_csv('bottle.csv')\n",
    "df.shape"
   ]
  },
  {
   "cell_type": "code",
   "execution_count": 4,
   "metadata": {},
   "outputs": [
    {
     "data": {
      "text/plain": [
       "(661268, 5)"
      ]
     },
     "execution_count": 4,
     "metadata": {},
     "output_type": "execute_result"
    }
   ],
   "source": [
    "df = df[['T_degC','Salnty','STheta','O2ml_L','Depthm']].dropna()\n",
    "df.shape"
   ]
  },
  {
   "cell_type": "code",
   "execution_count": 5,
   "metadata": {},
   "outputs": [
    {
     "data": {
      "image/png": "[encoded data removed]",
      "text/plain": [
       "<Figure size 432x288 with 1 Axes>"
      ]
     },
     "metadata": {
      "needs_background": "light"
     },
     "output_type": "display_data"
    }
   ],
   "source": [
    "x2 = df[['STheta']]\n",
    "y2 = df[['T_degC']]\n",
    "plt.scatter(x2, y2, alpha=0.5, color = 'blue')\n",
    "plt.title('Scatter plot STheta vs T_degC')\n",
    "plt.xlabel('STheta')\n",
    "plt.ylabel('T_degC')\n",
    "plt.show()"
   ]
  },
  {
   "cell_type": "code",
   "execution_count": 6,
   "metadata": {},
   "outputs": [
    {
     "data": {
      "text/plain": [
       "(661268, 5)"
      ]
     },
     "execution_count": 6,
     "metadata": {},
     "output_type": "execute_result"
    }
   ],
   "source": [
    "df = df[df['STheta'] < 100]\n",
    "df.shape"
   ]
  },
  {
   "cell_type": "markdown",
   "metadata": {},
   "source": [
    "Both dimensions are (661268, 5). I verified that the outliers for STheta have been removed due to NAs in new features."
   ]
  },
  {
   "cell_type": "code",
   "execution_count": null,
   "metadata": {},
   "outputs": [],
   "source": []
  },
  {
   "cell_type": "markdown",
   "metadata": {},
   "source": [
    "### Part B: Train / Test Split & Scaling"
   ]
  },
  {
   "cell_type": "code",
   "execution_count": 7,
   "metadata": {},
   "outputs": [],
   "source": [
    "#pip install sklearn"
   ]
  },
  {
   "cell_type": "code",
   "execution_count": 8,
   "metadata": {},
   "outputs": [],
   "source": [
    "from sklearn.metrics import classification_report\n",
    "from sklearn.model_selection import cross_val_score\n",
    "import sklearn.model_selection as cv\n",
    "from sklearn.model_selection import train_test_split\n",
    "\n",
    "y = df.iloc[:,0:1]\n",
    "X = df.iloc[:,1:5]\n",
    "\n",
    "(X_train, X_test, y_train, y_test) = train_test_split(X, y, test_size=.20, random_state=42)"
   ]
  },
  {
   "cell_type": "code",
   "execution_count": 9,
   "metadata": {},
   "outputs": [],
   "source": [
    "from sklearn.preprocessing import StandardScaler\n",
    "scaler = StandardScaler()\n",
    "scaler.fit(X_train)\n",
    "scaler.fit(X_test)\n",
    "X_train_scaled = scaler.transform(X_train)\n",
    "X_test_scaled = scaler.transform(X_test)"
   ]
  },
  {
   "cell_type": "code",
   "execution_count": 10,
   "metadata": {},
   "outputs": [],
   "source": [
    "X_train_scaled = pd.DataFrame(X_train_scaled)\n",
    "X_test_scaled = pd.DataFrame(X_test_scaled)"
   ]
  },
  {
   "cell_type": "code",
   "execution_count": null,
   "metadata": {},
   "outputs": [],
   "source": []
  },
  {
   "cell_type": "markdown",
   "metadata": {},
   "source": [
    "### Part C: Linear Regression with sklearn"
   ]
  },
  {
   "cell_type": "code",
   "execution_count": 11,
   "metadata": {},
   "outputs": [
    {
     "data": {
      "text/plain": [
       "(array([10.9244478]),\n",
       " array([[ 1.62781447, -4.62560648,  0.3015621 , -0.4721252 ]]))"
      ]
     },
     "execution_count": 11,
     "metadata": {},
     "output_type": "execute_result"
    }
   ],
   "source": [
    "from sklearn.linear_model import LinearRegression\n",
    "lin_reg = LinearRegression()\n",
    "lin_reg.fit(X_train_scaled, y_train)\n",
    "lin_reg.intercept_, lin_reg.coef_"
   ]
  },
  {
   "cell_type": "code",
   "execution_count": 12,
   "metadata": {},
   "outputs": [
    {
     "data": {
      "text/plain": [
       "(529014, 4)"
      ]
     },
     "execution_count": 12,
     "metadata": {},
     "output_type": "execute_result"
    }
   ],
   "source": [
    "X_train_scaled.shape"
   ]
  },
  {
   "cell_type": "code",
   "execution_count": 13,
   "metadata": {},
   "outputs": [
    {
     "data": {
      "text/plain": [
       "array([[10.9244478 ],\n",
       "       [ 1.62781447],\n",
       "       [-4.62560648],\n",
       "       [ 0.3015621 ],\n",
       "       [-0.4721252 ]])"
      ]
     },
     "execution_count": 13,
     "metadata": {},
     "output_type": "execute_result"
    }
   ],
   "source": [
    "X_b = np.c_[np.ones((529014, 1)), X_train_scaled]  # add x0 = 1 to each instance\n",
    "theta_best = np.linalg.inv(X_b.T.dot(X_b)).dot(X_b.T).dot(y_train)\n",
    "theta_best"
   ]
  },
  {
   "cell_type": "code",
   "execution_count": 14,
   "metadata": {},
   "outputs": [
    {
     "data": {
      "text/plain": [
       "array([[16.68352894],\n",
       "       [ 8.63573844],\n",
       "       [10.70717149],\n",
       "       ...,\n",
       "       [ 6.18878341],\n",
       "       [10.95304487],\n",
       "       [16.36582647]])"
      ]
     },
     "execution_count": 14,
     "metadata": {},
     "output_type": "execute_result"
    }
   ],
   "source": [
    "y_pred_sklearn = lin_reg.predict(X_test_scaled)\n",
    "y_pred_sklearn"
   ]
  },
  {
   "cell_type": "code",
   "execution_count": 15,
   "metadata": {},
   "outputs": [
    {
     "name": "stdout",
     "output_type": "stream",
     "text": [
      "Mean squared error: 0.11101117205433629\n"
     ]
    }
   ],
   "source": [
    "import sklearn.metrics as metrics\n",
    "msel = metrics.mean_squared_error(y_test, y_pred_sklearn)\n",
    "print(\"Mean squared error:\", msel)"
   ]
  },
  {
   "cell_type": "code",
   "execution_count": 16,
   "metadata": {},
   "outputs": [
    {
     "name": "stdout",
     "output_type": "stream",
     "text": [
      "r-squared: 0.9937682503632342\n"
     ]
    }
   ],
   "source": [
    "r2_l = metrics.r2_score(y_test, y_pred_sklearn)\n",
    "print(\"r-squared:\", r2_l)"
   ]
  },
  {
   "cell_type": "code",
   "execution_count": 17,
   "metadata": {},
   "outputs": [
    {
     "name": "stdout",
     "output_type": "stream",
     "text": [
      "Explained variance: 0.9937684088237414\n"
     ]
    }
   ],
   "source": [
    "evl = metrics.explained_variance_score(y_test, y_pred_sklearn)\n",
    "print(\"Explained variance:\", evl)"
   ]
  },
  {
   "cell_type": "code",
   "execution_count": 18,
   "metadata": {},
   "outputs": [
    {
     "data": {
      "text/plain": [
       "pandas.core.frame.DataFrame"
      ]
     },
     "execution_count": 18,
     "metadata": {},
     "output_type": "execute_result"
    }
   ],
   "source": [
    "y_pred_sklearn = pd.DataFrame(y_pred_sklearn)\n",
    "type(y_pred_sklearn)"
   ]
  },
  {
   "cell_type": "code",
   "execution_count": 19,
   "metadata": {},
   "outputs": [
    {
     "data": {
      "image/png": "[encoded data removed]",
      "text/plain": [
       "<Figure size 432x288 with 1 Axes>"
      ]
     },
     "metadata": {
      "needs_background": "light"
     },
     "output_type": "display_data"
    }
   ],
   "source": [
    "plt.scatter(y_test, y_pred_sklearn, alpha=0.5, color = 'blue')\n",
    "plt.title('Scatter plot for Actual T_degC vs. Predicted T_degC')\n",
    "plt.xlabel('Actual T_degC')\n",
    "plt.ylabel('Predicted T_degC')\n",
    "plt.show()"
   ]
  },
  {
   "cell_type": "code",
   "execution_count": null,
   "metadata": {},
   "outputs": [],
   "source": []
  },
  {
   "cell_type": "markdown",
   "metadata": {},
   "source": [
    "### Part D: Gradient Descent Mini-Batch"
   ]
  },
  {
   "cell_type": "code",
   "execution_count": 20,
   "metadata": {},
   "outputs": [],
   "source": [
    "X_train_g = np.c_[np.ones((529014, 1)), X_train_scaled]\n",
    "X_test_g = np.c_[np.ones((132254, 1)), X_test_scaled]\n"
   ]
  },
  {
   "cell_type": "code",
   "execution_count": 21,
   "metadata": {},
   "outputs": [],
   "source": [
    "X_train_g = pd.DataFrame(X_train_g)\n",
    "m = len(X_train_g.index)\n",
    "X_train_g = X_train_g.to_numpy()\n",
    "y_train = y_train.to_numpy()"
   ]
  },
  {
   "cell_type": "code",
   "execution_count": 22,
   "metadata": {},
   "outputs": [],
   "source": [
    "def mini_batch_gradient_descent(minibatch_size):\n",
    "    eta = 0.1\n",
    "    n_iterations = 100\n",
    "    np.random.seed(42)\n",
    "    theta = np.random.randn(5, 1)\n",
    "    for epoch in range(n_iterations):\n",
    "        shuffled_indices = np.random.permutation(m)\n",
    "        X_train_g_shuffled = X_train_g[shuffled_indices]\n",
    "        y_train_shuffled = y_train[shuffled_indices]\n",
    "        for i in range(0, m, minibatch_size):\n",
    "            xi = X_train_g_shuffled[i:i+minibatch_size]\n",
    "            yi = y_train_shuffled[i:i+minibatch_size]\n",
    "            gradients = 2*xi.T.dot(xi.dot(theta) - yi)/minibatch_size\n",
    "            theta = theta - eta*gradients\n",
    "    return theta"
   ]
  },
  {
   "cell_type": "markdown",
   "metadata": {},
   "source": [
    "### 1. mini-batch sizes: 50"
   ]
  },
  {
   "cell_type": "code",
   "execution_count": 23,
   "metadata": {},
   "outputs": [],
   "source": [
    "theta11 = mini_batch_gradient_descent(50)"
   ]
  },
  {
   "cell_type": "code",
   "execution_count": 24,
   "metadata": {},
   "outputs": [],
   "source": [
    "y_predg11 = X_test_g.dot(theta11)"
   ]
  },
  {
   "cell_type": "code",
   "execution_count": 25,
   "metadata": {},
   "outputs": [
    {
     "name": "stdout",
     "output_type": "stream",
     "text": [
      "Mean squared error at mini-batch size of 50: 0.11855553121879178\n"
     ]
    }
   ],
   "source": [
    "#mean-squared error\n",
    "import sklearn.metrics as metrics\n",
    "mse11 = metrics.mean_squared_error(y_test, y_predg11)\n",
    "print(\"Mean squared error at mini-batch size of 50:\", mse11)"
   ]
  },
  {
   "cell_type": "code",
   "execution_count": 26,
   "metadata": {},
   "outputs": [
    {
     "name": "stdout",
     "output_type": "stream",
     "text": [
      "r-squared at mini-batch size of 50: 0.9933447384174302\n"
     ]
    }
   ],
   "source": [
    "#r-squared\n",
    "rs11 = metrics.r2_score(y_test, y_predg11)\n",
    "print(\"r-squared at mini-batch size of 50:\", rs11)"
   ]
  },
  {
   "cell_type": "code",
   "execution_count": 27,
   "metadata": {},
   "outputs": [
    {
     "name": "stdout",
     "output_type": "stream",
     "text": [
      "Explained variance at mini-batch size of 50: 0.9933990563403979\n"
     ]
    }
   ],
   "source": [
    "#Explained variance\n",
    "ev11= metrics.explained_variance_score(y_test, y_predg11)\n",
    "print(\"Explained variance at mini-batch size of 50:\", ev11)"
   ]
  },
  {
   "cell_type": "code",
   "execution_count": 28,
   "metadata": {},
   "outputs": [
    {
     "data": {
      "image/png": "[encoded data removed]",
      "text/plain": [
       "<Figure size 432x288 with 1 Axes>"
      ]
     },
     "metadata": {
      "needs_background": "light"
     },
     "output_type": "display_data"
    }
   ],
   "source": [
    "plt.scatter(y_test, y_predg11, alpha=0.5, color = 'blue')\n",
    "plt.title('Scatter plot for Actual T_degC vs. Predicted T_degC at mini-batch size of 50')\n",
    "plt.xlabel('Actual T_degC')\n",
    "plt.ylabel('Predicted T_degC')\n",
    "plt.show()"
   ]
  },
  {
   "cell_type": "markdown",
   "metadata": {},
   "source": [
    "#### 6. For Training set:"
   ]
  },
  {
   "cell_type": "code",
   "execution_count": 29,
   "metadata": {},
   "outputs": [],
   "source": [
    "y_predgt11 = X_train_g.dot(theta11)"
   ]
  },
  {
   "cell_type": "code",
   "execution_count": 30,
   "metadata": {},
   "outputs": [
    {
     "name": "stdout",
     "output_type": "stream",
     "text": [
      "Mean squared error for training set at mini-batch size of 50: 0.11823163346237292\n"
     ]
    }
   ],
   "source": [
    "mset11 = metrics.mean_squared_error(y_train, y_predgt11)\n",
    "print(\"Mean squared error for training set at mini-batch size of 50:\", mset11)"
   ]
  },
  {
   "cell_type": "code",
   "execution_count": 31,
   "metadata": {},
   "outputs": [
    {
     "name": "stdout",
     "output_type": "stream",
     "text": [
      "r-squared for training set at mini-batch size of 50: 0.993378157731005\n"
     ]
    }
   ],
   "source": [
    "rst11 = metrics.r2_score(y_train, y_predgt11)\n",
    "print(\"r-squared for training set at mini-batch size of 50:\", rst11)"
   ]
  },
  {
   "cell_type": "code",
   "execution_count": 32,
   "metadata": {},
   "outputs": [
    {
     "name": "stdout",
     "output_type": "stream",
     "text": [
      "Explained variance for training set at mini-batch size of 50: 0.9934389169859376\n"
     ]
    }
   ],
   "source": [
    "evt11 = metrics.explained_variance_score(y_train, y_predgt11)\n",
    "print(\"Explained variance for training set at mini-batch size of 50:\", evt11)"
   ]
  },
  {
   "cell_type": "markdown",
   "metadata": {},
   "source": [
    "### 2. mini-batch sizes: 250"
   ]
  },
  {
   "cell_type": "code",
   "execution_count": 33,
   "metadata": {},
   "outputs": [],
   "source": [
    "theta22 = mini_batch_gradient_descent(250)"
   ]
  },
  {
   "cell_type": "code",
   "execution_count": 34,
   "metadata": {},
   "outputs": [],
   "source": [
    "y_predg22 = X_test_g.dot(theta22)"
   ]
  },
  {
   "cell_type": "code",
   "execution_count": 35,
   "metadata": {},
   "outputs": [
    {
     "name": "stdout",
     "output_type": "stream",
     "text": [
      "Mean squared error at mini-batch size of 250: 0.1126035092945266\n"
     ]
    }
   ],
   "source": [
    "#mean-squared error\n",
    "mse22 = metrics.mean_squared_error(y_test, y_predg22)\n",
    "print(\"Mean squared error at mini-batch size of 250:\", mse22)"
   ]
  },
  {
   "cell_type": "code",
   "execution_count": 36,
   "metadata": {},
   "outputs": [
    {
     "name": "stdout",
     "output_type": "stream",
     "text": [
      "r-squared at mini-batch size of 250: 0.9936788625400582\n"
     ]
    }
   ],
   "source": [
    "#r-squared\n",
    "rs22 = metrics.r2_score(y_test, y_predg22)\n",
    "print(\"r-squared at mini-batch size of 250:\", rs22)"
   ]
  },
  {
   "cell_type": "code",
   "execution_count": 37,
   "metadata": {},
   "outputs": [
    {
     "name": "stdout",
     "output_type": "stream",
     "text": [
      "Explained variance at mini-batch size of 250: 0.9936890036966183\n"
     ]
    }
   ],
   "source": [
    "#Explained variance\n",
    "ev22 = metrics.explained_variance_score(y_test, y_predg22)\n",
    "print(\"Explained variance at mini-batch size of 250:\", ev22)"
   ]
  },
  {
   "cell_type": "code",
   "execution_count": 38,
   "metadata": {},
   "outputs": [
    {
     "data": {
      "image/png": "[encoded data removed]",
      "text/plain": [
       "<Figure size 432x288 with 1 Axes>"
      ]
     },
     "metadata": {
      "needs_background": "light"
     },
     "output_type": "display_data"
    }
   ],
   "source": [
    "plt.scatter(y_test, y_predg22, alpha=0.5, color = 'blue')\n",
    "plt.title('Scatter plot for Actual T_degC vs. Predicted T_degC at mini-batch size of 250')\n",
    "plt.xlabel('Actual T_degC')\n",
    "plt.ylabel('Predicted T_degC')\n",
    "plt.show()"
   ]
  },
  {
   "cell_type": "markdown",
   "metadata": {},
   "source": [
    "#### 6. For Training set:"
   ]
  },
  {
   "cell_type": "code",
   "execution_count": 39,
   "metadata": {},
   "outputs": [],
   "source": [
    "y_predgt22 = X_train_g.dot(theta22)"
   ]
  },
  {
   "cell_type": "code",
   "execution_count": 40,
   "metadata": {},
   "outputs": [
    {
     "name": "stdout",
     "output_type": "stream",
     "text": [
      "Mean squared error for training set at mini-batch size of 250: 0.11225392061135928\n"
     ]
    }
   ],
   "source": [
    "mset22 = metrics.mean_squared_error(y_train, y_predgt22)\n",
    "print(\"Mean squared error for training set at mini-batch size of 250:\", mset22)"
   ]
  },
  {
   "cell_type": "code",
   "execution_count": 41,
   "metadata": {},
   "outputs": [
    {
     "name": "stdout",
     "output_type": "stream",
     "text": [
      "r-squared for training set at mini-batch size of 250: 0.9937129536774837\n"
     ]
    }
   ],
   "source": [
    "rst22 = metrics.r2_score(y_train, y_predgt22)\n",
    "print(\"r-squared for training set at mini-batch size of 250:\", rst22)"
   ]
  },
  {
   "cell_type": "code",
   "execution_count": 42,
   "metadata": {},
   "outputs": [
    {
     "name": "stdout",
     "output_type": "stream",
     "text": [
      "Explained variance for training set at mini-batch size of 250: 0.9937258849978737\n"
     ]
    }
   ],
   "source": [
    "evt22 = metrics.explained_variance_score(y_train, y_predgt22)\n",
    "print(\"Explained variance for training set at mini-batch size of 250:\", evt22)"
   ]
  },
  {
   "cell_type": "markdown",
   "metadata": {},
   "source": [
    "### 3. mini-batch sizes: 2000"
   ]
  },
  {
   "cell_type": "code",
   "execution_count": 43,
   "metadata": {},
   "outputs": [],
   "source": [
    "theta33 = mini_batch_gradient_descent(2000)"
   ]
  },
  {
   "cell_type": "code",
   "execution_count": 44,
   "metadata": {},
   "outputs": [],
   "source": [
    "y_predg33 = X_test_g.dot(theta33)"
   ]
  },
  {
   "cell_type": "code",
   "execution_count": 45,
   "metadata": {},
   "outputs": [
    {
     "name": "stdout",
     "output_type": "stream",
     "text": [
      "Mean squared error at mini-batch size of 2000: 0.11108473933487044\n"
     ]
    }
   ],
   "source": [
    "#mean-squared error\n",
    "mse33 = metrics.mean_squared_error(y_test, y_predg33)\n",
    "print(\"Mean squared error at mini-batch size of 2000:\", mse33)"
   ]
  },
  {
   "cell_type": "code",
   "execution_count": 46,
   "metadata": {},
   "outputs": [
    {
     "name": "stdout",
     "output_type": "stream",
     "text": [
      "r-squared at mini-batch size of 2000: 0.9937641205728244\n"
     ]
    }
   ],
   "source": [
    "#r-squared\n",
    "rs33 = metrics.r2_score(y_test, y_predg33)\n",
    "print(\"r-squared at mini-batch size of 2000:\", rs33)"
   ]
  },
  {
   "cell_type": "code",
   "execution_count": 47,
   "metadata": {},
   "outputs": [
    {
     "name": "stdout",
     "output_type": "stream",
     "text": [
      "Explained variance at mini-batch size of 2000: 0.9937641226190879\n"
     ]
    }
   ],
   "source": [
    "#Explained variance\n",
    "ev33 = metrics.explained_variance_score(y_test, y_predg33)\n",
    "print(\"Explained variance at mini-batch size of 2000:\", ev33)"
   ]
  },
  {
   "cell_type": "code",
   "execution_count": 48,
   "metadata": {},
   "outputs": [
    {
     "data": {
      "image/png": "[encoded data removed]",
      "text/plain": [
       "<Figure size 432x288 with 1 Axes>"
      ]
     },
     "metadata": {
      "needs_background": "light"
     },
     "output_type": "display_data"
    }
   ],
   "source": [
    "plt.scatter(y_test, y_predg33, alpha=0.5, color = 'blue')\n",
    "plt.title('Scatter plot for Actual T_degC vs. Predicted T_degC at mini-batch size of 2000')\n",
    "plt.xlabel('Actual T_degC')\n",
    "plt.ylabel('Predicted T_degC')\n",
    "plt.show()"
   ]
  },
  {
   "cell_type": "markdown",
   "metadata": {},
   "source": [
    "#### 6. For Training set:"
   ]
  },
  {
   "cell_type": "code",
   "execution_count": 49,
   "metadata": {},
   "outputs": [],
   "source": [
    "y_predgt33 = X_train_g.dot(theta33)"
   ]
  },
  {
   "cell_type": "code",
   "execution_count": 50,
   "metadata": {},
   "outputs": [
    {
     "name": "stdout",
     "output_type": "stream",
     "text": [
      "Mean squared error for training set at mini-batch size of 2000: 0.11070685278402446\n"
     ]
    }
   ],
   "source": [
    "mset33 = metrics.mean_squared_error(y_train, y_predgt33)\n",
    "print(\"Mean squared error for training set at mini-batch size of 2000:\", mset33)"
   ]
  },
  {
   "cell_type": "code",
   "execution_count": 51,
   "metadata": {},
   "outputs": [
    {
     "name": "stdout",
     "output_type": "stream",
     "text": [
      "r-squared for training set at mini-batch size of 2000: 0.9937996008702192\n"
     ]
    }
   ],
   "source": [
    "rst33 = metrics.r2_score(y_train, y_predgt33)\n",
    "print(\"r-squared for training set at mini-batch size of 2000:\", rst33)"
   ]
  },
  {
   "cell_type": "code",
   "execution_count": 52,
   "metadata": {},
   "outputs": [
    {
     "name": "stdout",
     "output_type": "stream",
     "text": [
      "Explained variance for training set at mini-batch size of 2000: 0.9937997975917974\n"
     ]
    }
   ],
   "source": [
    "evt33 = metrics.explained_variance_score(y_train, y_predgt33)\n",
    "print(\"Explained variance for training set at mini-batch size of 2000:\", evt33)"
   ]
  },
  {
   "cell_type": "code",
   "execution_count": null,
   "metadata": {},
   "outputs": [],
   "source": []
  },
  {
   "cell_type": "markdown",
   "metadata": {},
   "source": [
    "### Part E: Conceptual Questions"
   ]
  },
  {
   "cell_type": "markdown",
   "metadata": {},
   "source": [
    "1) Describe how parameter estimation in Gradient Descent differs from using the normal equation.\n",
    "\n",
    "2) We used Mini-Batch Gradient descent here, but there are a variety of options for Gradient Descent. How is Mini-Batch Gradient Descent different from Stochastic Gradient Descent?\n",
    "\n",
    "3) Identify your best-performing version of Gradient Descent and compare the error metrics for test data vs training data. Does this version of gradient descent show signs of overfitting? Explain.\n",
    "\n",
    "4) Explain what the learning rate is for. Even though we did not, why might it be helpful to change the learning rate over time?\n",
    "\n",
    "5) Why would a data scientist want to use early stopping in gradient descent?"
   ]
  },
  {
   "cell_type": "markdown",
   "metadata": {},
   "source": [
    "### Answers:"
   ]
  },
  {
   "cell_type": "markdown",
   "metadata": {},
   "source": [
    "1. Compared to the normal equation, gradient Descent doesn't need to choose any learning rate and doesn't need to iterate. Disadvantages of gradient descent is that it needs to choose the learning rate, so I may need to run the algorithm at least a few times to figure the rate out. I will also need many more iterations, which could make the model run slower. Compared with gradient descent, linear regression will be reasonably efficient and will do something acceptable when I have a very large number (millions ) of features. If n is large, it will be better to use gradient descent. Disadvantages for normal equation is it will be computationally expensive when I have a very large number of features (n features ), because I will ultimately need to take the inverse of a \"n x n\" matrix in order to solve for the parameters data. If n is relatively small (on the order of a hundred ~ ten thousand ), the normal equation will work better.      \n",
    "Stochastic means the random samples from the training data are chosen in each run to update parameter during optimisation, within the framework of gradient descent. In both gradient descent (GD) and stochastic gradient descent (SGD), I will update a set of parameters in an iterative manner to minimize an error function. While in gradient descent, I have to run through ALL the samples in the training set to do a single update for a parameter in a particular iteration. In SGD, on the other hand, I use ONLY ONE or SUBSET of training sample from the training set to do the update for a parameter in a particular iteration. If I use SUBSET, it is Minibatch Stochastic gradient Descent. Thus, if the number of training samples are large, I will use gradient descent may take too long because in every iteration when I am updating the values of the parameters. I will through the complete training set. On the other hand, using SGD will be faster because I used only one training sample and it started improving itself right away from the first sample. SGD often converges much faster compared to GD but the error function is not as well minimized as in the case of GD. Often in most cases, the close approximation that I obtain in SGD for the parameter values are enough because they reach the optimal values and keep oscillating there.    "
   ]
  },
  {
   "cell_type": "markdown",
   "metadata": {},
   "source": [
    "2. Mini-batch gradient descent is a variation of the gradient descent algorithm that splits the training dataset into small batches that are used to calculate model error and update model coefficients. Implementations may choose to sum the gradient over the mini-batch which further reduces the variance of the gradient. Mini-batch gradient descent also seeks to find a balance between the robustness of stochastic gradient descent and the efficiency of batch gradient descent. It is the most common implementation of gradient descent used in the field of deep learning.      \n",
    "Stochastic gradient descent is a variation of the gradient descent algorithm that calculates the error and updates the model for each example in the training dataset."
   ]
  },
  {
   "cell_type": "markdown",
   "metadata": {},
   "source": [
    "3. Compared with the the test set MSE for mini-batch size of 50, 250, and 2000, the three models give 0.11855553121879178, 0.1126035092945266, and 0.11108473933487044. The mini-batch size of 2000 gradient descent model gives the best performance since the test MSE is the smallest. The training set MSE for this mini-batch size 2000 model is 0.11070685278402446. The training set MSE is almost equal to the test set MSE. The two errors are almost equal. This means that the model is goood though and neither over-fitting nor under-fitting."
   ]
  },
  {
   "cell_type": "markdown",
   "metadata": {},
   "source": [
    "4. The amount that the weights are updated during training is referred to as the step size or the “learning rate.” The lower the value, the slower we travel along the downward slope. In order for Gradient Descent to work we must set the λ (learning rate) to an appropriate value. This parameter determines how fast or slow we will move towards the optimal weights. If the λ is very large we will skip the optimal solution. If it is too small we will need too many iterations to converge to the best values. So using a good λ is crucial. Depending on the cost function F that we will select, we might face different problems. When the Sum of Squared Errors is selected as our cost function then the value of θF(Wj)/θWj gets larger and larger as we increase the size of the training dataset. Thus the λ must be adapted to significantly smaller values."
   ]
  },
  {
   "cell_type": "markdown",
   "metadata": {},
   "source": [
    "5. Early stopping is a form of regularization used to avoid overfitting when training a learner with an iterative method, such as gradient descent. Such methods update the learner so as to make it better fit the training data with each iteration. Early stopping also improves the learner's performance on data outside of the training set. However, improving the learner's fit to the training data comes at the expense of increased generalization error. Early stopping rules provide guidance as to how many iterations can be run before the learner begins to over-fit."
   ]
  },
  {
   "cell_type": "code",
   "execution_count": null,
   "metadata": {},
   "outputs": [],
   "source": []
  },
  {
   "cell_type": "markdown",
   "metadata": {},
   "source": [
    "--------"
   ]
  },
  {
   "cell_type": "code",
   "execution_count": null,
   "metadata": {},
   "outputs": [],
   "source": []
  },
  {
   "cell_type": "code",
   "execution_count": null,
   "metadata": {},
   "outputs": [],
   "source": []
  }
 ],
 "metadata": {
  "kernelspec": {
   "display_name": "Python 3",
   "language": "python",
   "name": "python3"
  },
  "language_info": {
   "codemirror_mode": {
    "name": "ipython",
    "version": 3
   },
   "file_extension": ".py",
   "mimetype": "text/x-python",
   "name": "python",
   "nbconvert_exporter": "python",
   "pygments_lexer": "ipython3",
   "version": "3.7.4"
  }
 },
 "nbformat": 4,
 "nbformat_minor": 2
}
