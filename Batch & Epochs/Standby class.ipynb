{
 "cells": [
  {
   "cell_type": "code",
   "execution_count": null,
   "metadata": {},
   "outputs": [],
   "source": []
  },
  {
   "cell_type": "code",
   "execution_count": null,
   "metadata": {},
   "outputs": [],
   "source": [
    "from sklearn.linear_model import LinearRegression as linreg\n",
    "class lin_reg(linreg):\n",
    "    \n",
    "    def __init__(self, X_train, y_train):\n",
    "        linreg.__init__(self)\n",
    "        self.X_train = X_train\n",
    "        self.y_train = y_train\n",
    "    \n",
    "    def fitt(self):\n",
    "        self.fit(self.X_train, self.y_train)\n",
    "\n",
    "p1 = lin_reg(X_train_scaled, y_train)\n",
    "p1.fitt()"
   ]
  },
  {
   "cell_type": "code",
   "execution_count": null,
   "metadata": {},
   "outputs": [],
   "source": [
    "from sklearn.linear_model import LinearRegression as linreg\n",
    "class lin_reg(linreg):\n",
    "    \n",
    "    def __init__(self):\n",
    "        linreg.__init__(self)\n",
    "\n",
    "    \n",
    "lin_reg().fit(X_train_scaled, y_train)"
   ]
  },
  {
   "cell_type": "code",
   "execution_count": null,
   "metadata": {},
   "outputs": [],
   "source": [
    "m=100\n",
    "eta = 0.1\n",
    "def mini_batch_gradient_descent3():\n",
    "    n_iterations = 100\n",
    "    minibatch_size = 2000\n",
    "    thetas = np.random.randn(5, 1)\n",
    "    thetas_path = [thetas]\n",
    "    for epoch in range(n_iterations):\n",
    "        shuffled_indices = np.random.permutation(m)\n",
    "        X_train_g_shuffled = X_train_g[shuffled_indices]\n",
    "        y_shuffled = y_train[shuffled_indices]\n",
    "        for i in range(0, m, minibatch_size):\n",
    "            xi = X_train_g_shuffled[i:i+minibatch_size]\n",
    "            yi = y_shuffled[i:i+minibatch_size]\n",
    "            gradients = 2*xi.T.dot(xi.dot(thetas) - yi)/minibatch_size\n",
    "            thetas = thetas - eta*gradients\n",
    "            thetas_path.append(thetas)\n",
    "\n",
    "    return thetas"
   ]
  },
  {
   "cell_type": "code",
   "execution_count": null,
   "metadata": {},
   "outputs": [],
   "source": []
  },
  {
   "cell_type": "code",
   "execution_count": null,
   "metadata": {},
   "outputs": [],
   "source": []
  },
  {
   "cell_type": "code",
   "execution_count": null,
   "metadata": {},
   "outputs": [],
   "source": []
  }
 ],
 "metadata": {
  "kernelspec": {
   "display_name": "Python 3",
   "language": "python",
   "name": "python3"
  },
  "language_info": {
   "codemirror_mode": {
    "name": "ipython",
    "version": 3
   },
   "file_extension": ".py",
   "mimetype": "text/x-python",
   "name": "python",
   "nbconvert_exporter": "python",
   "pygments_lexer": "ipython3",
   "version": "3.7.4"
  }
 },
 "nbformat": 4,
 "nbformat_minor": 2
}
