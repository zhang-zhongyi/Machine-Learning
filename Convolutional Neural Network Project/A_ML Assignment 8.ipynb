{
 "cells": [
  {
   "cell_type": "markdown",
   "metadata": {},
   "source": [
    "# Machine Learning and Predictive Analytics\n",
    "# Assignment 8"
   ]
  },
  {
   "cell_type": "markdown",
   "metadata": {},
   "source": [
    "Name: Troy Zhongyi Zhang           \n",
    "Netid: zhongyiz@uchicago.edu"
   ]
  },
  {
   "cell_type": "markdown",
   "metadata": {},
   "source": [
    "# Convolutional Neural Network & Classification: \n",
    "\n",
    "The objective is to build an image classifier that is capable of properly identifying four different categories of image. \n",
    "\n",
    "The data consists of various train and test samples across the four categories of image. You will notice that the data for a specific category is a singular image that has been flipped, rotated, or slightly altered in some way. \n",
    "\n",
    "You can use the keras package to solve this problem (https://keras.io/). \n",
    "\n",
    "Data for HW: Note that each file is a zip\n",
    "\n",
    "dataset_train.zip\n",
    "\n",
    "dataset_test.zip"
   ]
  },
  {
   "cell_type": "markdown",
   "metadata": {},
   "source": [
    "# 1. Data Processing: \n",
    "The train & test data is pretty clean in terms of image data, but we will need to do a bit of prep work to use in our model. "
   ]
  },
  {
   "cell_type": "code",
   "execution_count": 1,
   "metadata": {},
   "outputs": [
    {
     "name": "stderr",
     "output_type": "stream",
     "text": [
      "Using TensorFlow backend.\n"
     ]
    }
   ],
   "source": [
    "# 1 - (a)\n",
    "from keras.preprocessing.image import ImageDataGenerator\n",
    "train_datagen = ImageDataGenerator(rescale = 1./255,\n",
    "                                   shear_range = 0.2,\n",
    "                                   zoom_range = 0.2,\n",
    "                                   horizontal_flip=True)"
   ]
  },
  {
   "cell_type": "code",
   "execution_count": 7,
   "metadata": {},
   "outputs": [
    {
     "name": "stdout",
     "output_type": "stream",
     "text": [
      "Found 88 images belonging to 4 classes.\n"
     ]
    }
   ],
   "source": [
    "# 1 - (b)\n",
    "train_generator = train_datagen.flow_from_directory('/Users/zhongyizhang/Desktop/UChicago_MSBI/2019Summer/Machine Learning/HWK8/dataset_train/',\n",
    "                                                    target_size=(64, 64),\n",
    "                                                    batch_size=32,\n",
    "                                                    class_mode='categorical')"
   ]
  },
  {
   "cell_type": "code",
   "execution_count": 8,
   "metadata": {},
   "outputs": [],
   "source": [
    "# x, y = train_generator.next()\n",
    "# for i in range(0,1):\n",
    "#     image = x[i]\n",
    "# #     print image"
   ]
  },
  {
   "cell_type": "code",
   "execution_count": 9,
   "metadata": {},
   "outputs": [
    {
     "name": "stdout",
     "output_type": "stream",
     "text": [
      "(64, 64)\n"
     ]
    }
   ],
   "source": [
    "print(train_generator.target_size)"
   ]
  },
  {
   "cell_type": "code",
   "execution_count": 10,
   "metadata": {},
   "outputs": [
    {
     "name": "stdout",
     "output_type": "stream",
     "text": [
      "[0 0 0 0 0 0 0 0 0 0 0 0 0 0 0 0 0 0 0 0 0 0 1 1 1 1 1 1 1 1 1 1 1 1 1 1 1\n",
      " 1 1 1 1 1 1 1 2 2 2 2 2 2 2 2 2 2 2 2 2 2 2 2 2 2 2 2 2 2 3 3 3 3 3 3 3 3\n",
      " 3 3 3 3 3 3 3 3 3 3 3 3 3 3]\n"
     ]
    }
   ],
   "source": [
    "print(train_generator.classes)"
   ]
  },
  {
   "cell_type": "markdown",
   "metadata": {},
   "source": [
    "1 - (c)      \n",
    "The image shape of each training observation is (64, 64, 3).       \n",
    "There are 4 classes in total we need to predict on."
   ]
  },
  {
   "cell_type": "code",
   "execution_count": null,
   "metadata": {},
   "outputs": [],
   "source": []
  },
  {
   "cell_type": "markdown",
   "metadata": {},
   "source": [
    "# 2. Initial Classifier Build: \n",
    "Now use keras to build an initial image classifier with the following specifications.\n",
    "\n",
    "Note: If you get lost, there is great documentation online and homework 7 included details on many of the layers used here."
   ]
  },
  {
   "cell_type": "code",
   "execution_count": 11,
   "metadata": {},
   "outputs": [
    {
     "name": "stderr",
     "output_type": "stream",
     "text": [
      "WARNING: Logging before flag parsing goes to stderr.\n",
      "W0924 19:45:40.387418 4497221056 deprecation_wrapper.py:119] From /Users/zhongyizhang/env/lib/python3.7/site-packages/keras/backend/tensorflow_backend.py:74: The name tf.get_default_graph is deprecated. Please use tf.compat.v1.get_default_graph instead.\n",
      "\n"
     ]
    }
   ],
   "source": [
    "from keras.models import Sequential\n",
    "classifier = Sequential()"
   ]
  },
  {
   "cell_type": "code",
   "execution_count": 40,
   "metadata": {},
   "outputs": [],
   "source": [
    "import numpy as np\n",
    "a=np.ones(10)\n",
    "b = np.ones(10)*2\n",
    "c=a*b"
   ]
  },
  {
   "cell_type": "code",
   "execution_count": 42,
   "metadata": {},
   "outputs": [
    {
     "data": {
      "text/plain": [
       "array([3., 3., 3., 3., 3., 3., 3., 3., 3., 3.])"
      ]
     },
     "execution_count": 42,
     "metadata": {},
     "output_type": "execute_result"
    }
   ],
   "source": [
    "d = c+1\n",
    "d"
   ]
  },
  {
   "cell_type": "code",
   "execution_count": 12,
   "metadata": {},
   "outputs": [
    {
     "name": "stderr",
     "output_type": "stream",
     "text": [
      "W0924 19:45:40.869372 4497221056 deprecation_wrapper.py:119] From /Users/zhongyizhang/env/lib/python3.7/site-packages/keras/backend/tensorflow_backend.py:517: The name tf.placeholder is deprecated. Please use tf.compat.v1.placeholder instead.\n",
      "\n",
      "W0924 19:45:40.875721 4497221056 deprecation_wrapper.py:119] From /Users/zhongyizhang/env/lib/python3.7/site-packages/keras/backend/tensorflow_backend.py:4138: The name tf.random_uniform is deprecated. Please use tf.random.uniform instead.\n",
      "\n"
     ]
    }
   ],
   "source": [
    "from keras.layers.convolutional import Conv2D\n",
    "classifier.add(Conv2D(filters = 32,\n",
    "                      kernel_size = (3,3),\n",
    "                      input_shape = (64, 64, 3),\n",
    "                      activation = 'relu'))"
   ]
  },
  {
   "cell_type": "code",
   "execution_count": 13,
   "metadata": {},
   "outputs": [
    {
     "name": "stderr",
     "output_type": "stream",
     "text": [
      "W0924 19:45:41.260447 4497221056 deprecation_wrapper.py:119] From /Users/zhongyizhang/env/lib/python3.7/site-packages/keras/backend/tensorflow_backend.py:3976: The name tf.nn.max_pool is deprecated. Please use tf.nn.max_pool2d instead.\n",
      "\n"
     ]
    }
   ],
   "source": [
    "from keras.layers.convolutional import MaxPooling2D\n",
    "classifier.add(MaxPooling2D(pool_size = (2,2)))"
   ]
  },
  {
   "cell_type": "code",
   "execution_count": 14,
   "metadata": {},
   "outputs": [],
   "source": [
    "classifier.add(Conv2D(filters = 64,\n",
    "                      kernel_size = (3,3),\n",
    "                      activation = 'relu'))"
   ]
  },
  {
   "cell_type": "code",
   "execution_count": 15,
   "metadata": {},
   "outputs": [],
   "source": [
    "classifier.add(MaxPooling2D(pool_size = (2,2)))"
   ]
  },
  {
   "cell_type": "code",
   "execution_count": 16,
   "metadata": {},
   "outputs": [],
   "source": [
    "from keras.layers import Flatten\n",
    "classifier.add(Flatten())"
   ]
  },
  {
   "cell_type": "code",
   "execution_count": 17,
   "metadata": {},
   "outputs": [],
   "source": [
    "from keras.layers import Dense\n",
    "classifier.add(Dense(units = 128,\n",
    "                     activation = 'relu'))"
   ]
  },
  {
   "cell_type": "code",
   "execution_count": 18,
   "metadata": {},
   "outputs": [],
   "source": [
    "classifier.add(Dense(units = 4,\n",
    "                     activation = 'softmax'))"
   ]
  },
  {
   "cell_type": "code",
   "execution_count": 19,
   "metadata": {},
   "outputs": [
    {
     "name": "stderr",
     "output_type": "stream",
     "text": [
      "W0924 19:45:43.344216 4497221056 deprecation_wrapper.py:119] From /Users/zhongyizhang/env/lib/python3.7/site-packages/keras/optimizers.py:790: The name tf.train.Optimizer is deprecated. Please use tf.compat.v1.train.Optimizer instead.\n",
      "\n",
      "W0924 19:45:43.365349 4497221056 deprecation_wrapper.py:119] From /Users/zhongyizhang/env/lib/python3.7/site-packages/keras/backend/tensorflow_backend.py:3295: The name tf.log is deprecated. Please use tf.math.log instead.\n",
      "\n"
     ]
    }
   ],
   "source": [
    "classifier.compile(loss = 'categorical_crossentropy', optimizer='adam', \n",
    "                   metrics = ['accuracy'])"
   ]
  },
  {
   "cell_type": "code",
   "execution_count": 20,
   "metadata": {},
   "outputs": [
    {
     "name": "stdout",
     "output_type": "stream",
     "text": [
      "_________________________________________________________________\n",
      "Layer (type)                 Output Shape              Param #   \n",
      "=================================================================\n",
      "conv2d_1 (Conv2D)            (None, 62, 62, 32)        896       \n",
      "_________________________________________________________________\n",
      "max_pooling2d_1 (MaxPooling2 (None, 31, 31, 32)        0         \n",
      "_________________________________________________________________\n",
      "conv2d_2 (Conv2D)            (None, 29, 29, 64)        18496     \n",
      "_________________________________________________________________\n",
      "max_pooling2d_2 (MaxPooling2 (None, 14, 14, 64)        0         \n",
      "_________________________________________________________________\n",
      "flatten_1 (Flatten)          (None, 12544)             0         \n",
      "_________________________________________________________________\n",
      "dense_1 (Dense)              (None, 128)               1605760   \n",
      "_________________________________________________________________\n",
      "dense_2 (Dense)              (None, 4)                 516       \n",
      "=================================================================\n",
      "Total params: 1,625,668\n",
      "Trainable params: 1,625,668\n",
      "Non-trainable params: 0\n",
      "_________________________________________________________________\n"
     ]
    }
   ],
   "source": [
    "classifier.summary()"
   ]
  },
  {
   "cell_type": "markdown",
   "metadata": {},
   "source": [
    "# 3. Model Runs: \n",
    "This will be run various times with different numbers of steps_per_epoch and epochs. "
   ]
  },
  {
   "cell_type": "code",
   "execution_count": 21,
   "metadata": {},
   "outputs": [
    {
     "name": "stderr",
     "output_type": "stream",
     "text": [
      "W0924 19:45:53.922466 4497221056 deprecation_wrapper.py:119] From /Users/zhongyizhang/env/lib/python3.7/site-packages/keras/backend/tensorflow_backend.py:174: The name tf.get_default_session is deprecated. Please use tf.compat.v1.get_default_session instead.\n",
      "\n",
      "W0924 19:45:54.209794 4497221056 deprecation.py:323] From /Users/zhongyizhang/env/lib/python3.7/site-packages/tensorflow/python/ops/math_grad.py:1250: add_dispatch_support.<locals>.wrapper (from tensorflow.python.ops.array_ops) is deprecated and will be removed in a future version.\n",
      "Instructions for updating:\n",
      "Use tf.where in 2.0, which has the same broadcast rule as np.where\n"
     ]
    },
    {
     "name": "stdout",
     "output_type": "stream",
     "text": [
      "Epoch 1/10\n",
      "10/10 [==============================] - 4s 361ms/step - loss: 0.8945 - acc: 0.6288\n",
      "Epoch 2/10\n",
      "10/10 [==============================] - 4s 356ms/step - loss: 0.1925 - acc: 0.9449\n",
      "Epoch 3/10\n",
      "10/10 [==============================] - 3s 341ms/step - loss: 0.0661 - acc: 0.9801\n",
      "Epoch 4/10\n",
      "10/10 [==============================] - 3s 348ms/step - loss: 0.0412 - acc: 0.9865\n",
      "Epoch 5/10\n",
      "10/10 [==============================] - 4s 358ms/step - loss: 0.0260 - acc: 0.9887\n",
      "Epoch 6/10\n",
      "10/10 [==============================] - 3s 344ms/step - loss: 0.0136 - acc: 1.0000\n",
      "Epoch 7/10\n",
      "10/10 [==============================] - 4s 352ms/step - loss: 0.0054 - acc: 1.0000\n",
      "Epoch 8/10\n",
      "10/10 [==============================] - 4s 357ms/step - loss: 0.0064 - acc: 0.9969\n",
      "Epoch 9/10\n",
      "10/10 [==============================] - 3s 333ms/step - loss: 0.0031 - acc: 1.0000\n",
      "Epoch 10/10\n",
      "10/10 [==============================] - 3s 348ms/step - loss: 0.0037 - acc: 1.0000\n"
     ]
    },
    {
     "data": {
      "text/plain": [
       "<keras.callbacks.History at 0x13e762590>"
      ]
     },
     "execution_count": 21,
     "metadata": {},
     "output_type": "execute_result"
    }
   ],
   "source": [
    "# 3-(a)\n",
    "import copy\n",
    "classifier0 = copy.deepcopy(classifier)\n",
    "classifier0.fit_generator(generator=train_generator, steps_per_epoch=10, \n",
    "                          epochs=10)"
   ]
  },
  {
   "cell_type": "code",
   "execution_count": 28,
   "metadata": {},
   "outputs": [],
   "source": [
    "# import os, glob\n",
    "# import numpy as np\n",
    "# from keras.models import model_from_yaml\n",
    "# from keras.preprocessing import image\n",
    "\n",
    "# image_dir = '/Users/zhongyizhang/Desktop/dataset_test/'\n",
    "# data_path = os.path.join()"
   ]
  },
  {
   "cell_type": "code",
   "execution_count": 29,
   "metadata": {},
   "outputs": [
    {
     "name": "stdout",
     "output_type": "stream",
     "text": [
      "Saved model to disk\n"
     ]
    }
   ],
   "source": [
    "# 3-(b)\n",
    "# write model and model weights to disk\n",
    "from keras.models import model_from_yaml\n",
    "model_yaml = classifier0.to_yaml()\n",
    "with open(\"model_1.yaml\", \"w\") as yaml_file:\n",
    "    yaml_file.write(model_yaml)\n",
    "    classifier0.save_weights(\"model_1.h5\")\n",
    "    print(\"Saved model to disk\")"
   ]
  },
  {
   "cell_type": "code",
   "execution_count": 32,
   "metadata": {},
   "outputs": [
    {
     "name": "stderr",
     "output_type": "stream",
     "text": [
      "/Users/zhongyizhang/env/lib/python3.7/site-packages/keras/engine/saving.py:473: YAMLLoadWarning: calling yaml.load() without Loader=... is deprecated, as the default Loader is unsafe. Please read https://msg.pyyaml.org/load for full details.\n",
      "  config = yaml.load(yaml_string)\n"
     ]
    },
    {
     "name": "stdout",
     "output_type": "stream",
     "text": [
      "Loaded model from disk\n"
     ]
    },
    {
     "data": {
      "text/plain": [
       "[array([3]),\n",
       " array([0]),\n",
       " array([3]),\n",
       " array([0]),\n",
       " array([1]),\n",
       " array([2]),\n",
       " array([1]),\n",
       " array([1])]"
      ]
     },
     "execution_count": 32,
     "metadata": {},
     "output_type": "execute_result"
    }
   ],
   "source": [
    "# 3-(c)\n",
    "import os, glob\n",
    "import numpy as np\n",
    "from keras.models import model_from_yaml\n",
    "from keras.preprocessing import image\n",
    "\n",
    "# load model from disk\n",
    "yaml_file = open('model_1.yaml', 'r')\n",
    "loaded_model_yaml = yaml_file.read()\n",
    "yaml_file.close()\n",
    "model = model_from_yaml(loaded_model_yaml)\n",
    "# load weights into new model\n",
    "model.load_weights(\"model_1.h5\")\n",
    "print(\"Loaded model from disk\")\n",
    "\n",
    "# test data path\n",
    "img_dir = \"/Users/zhongyizhang/Desktop/UChicago_MSBI/2019Summer/Machine Learning/HWK8/dataset_test/\" # Enter Directory of all images\n",
    "\n",
    "# iterate over each test image\n",
    "# make a prediction and add to results \n",
    "data_path = os.path.join(img_dir, '*g')\n",
    "files = glob.glob(data_path)\n",
    "data = []\n",
    "results = []\n",
    "for f1 in files:\n",
    "    img = image.load_img(f1, target_size = (64, 64))\n",
    "    img = image.img_to_array(img)\n",
    "    img = np.expand_dims(img, axis = 0)\n",
    "    data.append(img)\n",
    "    result = model.predict(img)\n",
    "    r = np.argmax(result, axis=1)\n",
    "    results.append(r)\n",
    "\n",
    "results"
   ]
  },
  {
   "cell_type": "code",
   "execution_count": 33,
   "metadata": {},
   "outputs": [
    {
     "data": {
      "text/plain": [
       "{'category 1': 0, 'category 2': 1, 'category 3': 2, 'category 4': 3}"
      ]
     },
     "execution_count": 33,
     "metadata": {},
     "output_type": "execute_result"
    }
   ],
   "source": [
    "train_generator.class_indices"
   ]
  },
  {
   "cell_type": "code",
   "execution_count": 34,
   "metadata": {},
   "outputs": [],
   "source": [
    "result_list1 = [str(results[0])[1], str(results[1])[1], str(results[2])[1], \n",
    "                str(results[3])[1], str(results[4])[1], str(results[5])[1], \n",
    "                str(results[6])[1], str(results[7])[1]]"
   ]
  },
  {
   "cell_type": "code",
   "execution_count": 35,
   "metadata": {},
   "outputs": [
    {
     "name": "stdout",
     "output_type": "stream",
     "text": [
      "File Nmae      Real Category    Predict Category\n",
      "-----------  ---------------  ------------------\n",
      "1022.png                   0                   3\n",
      "1053.png                   0                   0\n",
      "4011.png                   2                   3\n",
      "4053.png                   2                   0\n",
      "6023.png                   1                   1\n",
      "6051.png                   1                   2\n",
      "C014.png                   3                   1\n",
      "C033.png                   3                   1\n"
     ]
    }
   ],
   "source": [
    "# 3-(d)\n",
    "from tabulate import tabulate\n",
    "print(tabulate([['1022.png', 0, result_list1[0]], \n",
    "                ['1053.png', 0, result_list1[1]], \n",
    "                ['4011.png', 2, result_list1[2]], \n",
    "                ['4053.png', 2, result_list1[3]], \n",
    "                ['6023.png', 1, result_list1[4]], \n",
    "                ['6051.png', 1, result_list1[5]], \n",
    "                ['C014.png', 3, result_list1[6]], \n",
    "                ['C033.png', 3, result_list1[7]]],\n",
    "                headers = ['File Nmae', 'Real Category','Predict Category']))"
   ]
  },
  {
   "cell_type": "markdown",
   "metadata": {},
   "source": [
    "From the dataset_test folder and what I observed, I see:          \n",
    "file_name   real    pred      \n",
    "1022.png  -  0   -   3      \n",
    "1053.png  -  0   -   0      \n",
    "4011.png  -  2   -   0      \n",
    "4053.png  -  2   -   0        \n",
    "6023.png  -  1   -   1     \n",
    "6051.png  -  1   -   2     \n",
    "C014.png  -  3   -   1      \n",
    "C033.png  -  3   -   1          \n",
    "#### The classifier model I created correctly predicted 1053.png and 6023.png. The accuracy is 2/8 = 1/4 = 0.25 = 25%. The accuracy for \"steps_per_epoch = 10 and epochs = 10\" is 25%."
   ]
  },
  {
   "cell_type": "code",
   "execution_count": null,
   "metadata": {},
   "outputs": [],
   "source": []
  },
  {
   "cell_type": "code",
   "execution_count": 25,
   "metadata": {},
   "outputs": [
    {
     "name": "stdout",
     "output_type": "stream",
     "text": [
      "Epoch 1/30\n",
      "30/30 [==============================] - 11s 352ms/step - loss: 0.3948 - acc: 0.8628\n",
      "Epoch 2/30\n",
      "30/30 [==============================] - 11s 357ms/step - loss: 0.0373 - acc: 0.9885\n",
      "Epoch 3/30\n",
      "30/30 [==============================] - 11s 356ms/step - loss: 0.0074 - acc: 1.0000\n",
      "Epoch 4/30\n",
      "30/30 [==============================] - 10s 349ms/step - loss: 0.0198 - acc: 0.9951\n",
      "Epoch 5/30\n",
      "30/30 [==============================] - 11s 353ms/step - loss: 0.0034 - acc: 1.0000\n",
      "Epoch 6/30\n",
      "30/30 [==============================] - 10s 349ms/step - loss: 0.0019 - acc: 1.0000\n",
      "Epoch 7/30\n",
      "30/30 [==============================] - 10s 349ms/step - loss: 4.7242e-04 - acc: 1.0000\n",
      "Epoch 8/30\n",
      "30/30 [==============================] - 10s 346ms/step - loss: 2.0162e-04 - acc: 1.0000\n",
      "Epoch 9/30\n",
      "30/30 [==============================] - 10s 345ms/step - loss: 1.4430e-04 - acc: 1.0000\n",
      "Epoch 10/30\n",
      "30/30 [==============================] - 10s 348ms/step - loss: 1.0929e-04 - acc: 1.0000\n",
      "Epoch 11/30\n",
      "30/30 [==============================] - 10s 348ms/step - loss: 8.7987e-05 - acc: 1.0000\n",
      "Epoch 12/30\n",
      "30/30 [==============================] - 10s 344ms/step - loss: 1.0122e-04 - acc: 1.0000\n",
      "Epoch 13/30\n",
      "30/30 [==============================] - 10s 345ms/step - loss: 7.9664e-05 - acc: 1.0000\n",
      "Epoch 14/30\n",
      "30/30 [==============================] - 10s 345ms/step - loss: 5.0549e-05 - acc: 1.0000\n",
      "Epoch 15/30\n",
      "30/30 [==============================] - 10s 346ms/step - loss: 5.5300e-05 - acc: 1.0000\n",
      "Epoch 16/30\n",
      "30/30 [==============================] - 10s 343ms/step - loss: 3.4698e-04 - acc: 1.0000\n",
      "Epoch 17/30\n",
      "30/30 [==============================] - 10s 345ms/step - loss: 9.9615e-05 - acc: 1.0000\n",
      "Epoch 18/30\n",
      "30/30 [==============================] - 10s 347ms/step - loss: 6.6331e-05 - acc: 1.0000\n",
      "Epoch 19/30\n",
      "30/30 [==============================] - 10s 346ms/step - loss: 3.0334e-05 - acc: 1.0000\n",
      "Epoch 20/30\n",
      "30/30 [==============================] - 10s 342ms/step - loss: 2.2879e-04 - acc: 1.0000\n",
      "Epoch 21/30\n",
      "30/30 [==============================] - 10s 346ms/step - loss: 6.2740e-05 - acc: 1.0000\n",
      "Epoch 22/30\n",
      "30/30 [==============================] - 10s 344ms/step - loss: 3.4785e-05 - acc: 1.0000\n",
      "Epoch 23/30\n",
      "30/30 [==============================] - 10s 342ms/step - loss: 3.2958e-05 - acc: 1.0000\n",
      "Epoch 24/30\n",
      "30/30 [==============================] - 10s 344ms/step - loss: 2.6901e-05 - acc: 1.0000\n",
      "Epoch 25/30\n",
      "30/30 [==============================] - 10s 341ms/step - loss: 2.8087e-05 - acc: 1.0000\n",
      "Epoch 26/30\n",
      "30/30 [==============================] - 10s 345ms/step - loss: 3.3923e-05 - acc: 1.0000\n",
      "Epoch 27/30\n",
      "30/30 [==============================] - 10s 348ms/step - loss: 1.2491e-05 - acc: 1.0000\n",
      "Epoch 28/30\n",
      "30/30 [==============================] - 10s 344ms/step - loss: 2.0892e-05 - acc: 1.0000\n",
      "Epoch 29/30\n",
      "30/30 [==============================] - 10s 343ms/step - loss: 1.2718e-05 - acc: 1.0000\n",
      "Epoch 30/30\n",
      "30/30 [==============================] - 10s 344ms/step - loss: 2.2603e-05 - acc: 1.0000\n"
     ]
    },
    {
     "data": {
      "text/plain": [
       "<keras.callbacks.History at 0x13dddaa50>"
      ]
     },
     "execution_count": 25,
     "metadata": {},
     "output_type": "execute_result"
    }
   ],
   "source": [
    "# To test (steps_per_epoch: 30, epochs: 30) independently.\n",
    "import copy\n",
    "classifier00 = copy.deepcopy(classifier)\n",
    "classifier00.fit_generator(generator=train_generator, steps_per_epoch=30, \n",
    "                           epochs=30)"
   ]
  },
  {
   "cell_type": "code",
   "execution_count": 26,
   "metadata": {},
   "outputs": [
    {
     "data": {
      "text/plain": [
       "[array([3]),\n",
       " array([0]),\n",
       " array([0]),\n",
       " array([0]),\n",
       " array([1]),\n",
       " array([2]),\n",
       " array([1]),\n",
       " array([1])]"
      ]
     },
     "execution_count": 26,
     "metadata": {},
     "output_type": "execute_result"
    }
   ],
   "source": [
    "img_dir = \"/Users/zhongyizhang/Desktop/dataset_test/\" # Enter Directory of all images\n",
    "\n",
    "# iterate over each test image\n",
    "# make a prediction and add to results \n",
    "data_path = os.path.join(img_dir, '*g')\n",
    "files = glob.glob(data_path)\n",
    "data = []\n",
    "results = []\n",
    "for f1 in files:\n",
    "    img = image.load_img(f1, target_size = (64, 64))\n",
    "    img = image.img_to_array(img)\n",
    "    img = np.expand_dims(img, axis = 0)\n",
    "    data.append(img)\n",
    "    result = classifier00.predict(img)\n",
    "    r = np.argmax(result, axis=1)\n",
    "    results.append(r)\n",
    "\n",
    "results"
   ]
  },
  {
   "cell_type": "code",
   "execution_count": 27,
   "metadata": {},
   "outputs": [],
   "source": [
    "# 3-(e) from here\n",
    "step_list = [10, 10, 30, 30, 30, 50, 50, 50]\n",
    "epoch_list = [20, 30, 10, 20, 30, 10, 20, 30]\n",
    "result_list = ['r2', 'r3', 'r4', 'r5', 'r6', 'r7', 'r8', 'r9']\n",
    "\n",
    "# step_list = [2, 10]\n",
    "# epoch_list = [10, 2]\n",
    "# result_list = ['r1', 'r2']\n",
    "# range_l = [1, 2]"
   ]
  },
  {
   "cell_type": "code",
   "execution_count": 28,
   "metadata": {},
   "outputs": [
    {
     "name": "stdout",
     "output_type": "stream",
     "text": [
      "Epoch 1/20\n",
      "10/10 [==============================] - 4s 351ms/step - loss: 0.8812 - acc: 0.6895\n",
      "Epoch 2/20\n",
      "10/10 [==============================] - 3s 331ms/step - loss: 0.2196 - acc: 0.9220\n",
      "Epoch 3/20\n",
      "10/10 [==============================] - 4s 355ms/step - loss: 0.0990 - acc: 0.9688\n",
      "Epoch 4/20\n",
      "10/10 [==============================] - 4s 353ms/step - loss: 0.0281 - acc: 0.9937\n",
      "Epoch 5/20\n",
      "10/10 [==============================] - 4s 354ms/step - loss: 0.0301 - acc: 0.9886\n",
      "Epoch 6/20\n",
      "10/10 [==============================] - 3s 349ms/step - loss: 0.0214 - acc: 0.9928\n",
      "Epoch 7/20\n",
      "10/10 [==============================] - 3s 347ms/step - loss: 0.0185 - acc: 0.9877\n",
      "Epoch 8/20\n",
      "10/10 [==============================] - 3s 344ms/step - loss: 0.0057 - acc: 1.0000\n",
      "Epoch 9/20\n",
      "10/10 [==============================] - 4s 353ms/step - loss: 0.0028 - acc: 1.0000\n",
      "Epoch 10/20\n",
      "10/10 [==============================] - 4s 353ms/step - loss: 0.0086 - acc: 0.9937\n",
      "Epoch 11/20\n",
      "10/10 [==============================] - 3s 342ms/step - loss: 0.0041 - acc: 0.9968\n",
      "Epoch 12/20\n",
      "10/10 [==============================] - 4s 360ms/step - loss: 3.9504e-04 - acc: 1.0000\n",
      "Epoch 13/20\n",
      "10/10 [==============================] - 4s 361ms/step - loss: 8.0722e-04 - acc: 1.0000\n",
      "Epoch 14/20\n",
      "10/10 [==============================] - 4s 357ms/step - loss: 8.3372e-04 - acc: 1.0000\n",
      "Epoch 15/20\n",
      "10/10 [==============================] - 4s 365ms/step - loss: 8.8823e-04 - acc: 1.0000\n",
      "Epoch 16/20\n",
      "10/10 [==============================] - 4s 370ms/step - loss: 7.5331e-04 - acc: 1.0000\n",
      "Epoch 17/20\n",
      "10/10 [==============================] - 3s 347ms/step - loss: 3.7843e-04 - acc: 1.0000\n",
      "Epoch 18/20\n",
      "10/10 [==============================] - 4s 360ms/step - loss: 2.7034e-04 - acc: 1.0000\n",
      "Epoch 19/20\n",
      "10/10 [==============================] - 4s 359ms/step - loss: 1.4448e-04 - acc: 1.0000\n",
      "Epoch 20/20\n",
      "10/10 [==============================] - 4s 352ms/step - loss: 2.6617e-04 - acc: 1.0000\n",
      "result_list 2 = [array([3]), array([0]), array([0]), array([0]), array([1]), array([2]), array([1]), array([1])]\n",
      "Epoch 1/30\n",
      "10/10 [==============================] - 4s 359ms/step - loss: 0.8240 - acc: 0.7110\n",
      "Epoch 2/30\n",
      "10/10 [==============================] - 4s 353ms/step - loss: 0.1602 - acc: 0.9549\n",
      "Epoch 3/30\n",
      "10/10 [==============================] - 4s 359ms/step - loss: 0.0747 - acc: 0.9761\n",
      "Epoch 4/30\n",
      "10/10 [==============================] - 4s 363ms/step - loss: 0.0434 - acc: 0.9824\n",
      "Epoch 5/30\n",
      "10/10 [==============================] - 4s 354ms/step - loss: 0.0167 - acc: 0.9927\n",
      "Epoch 6/30\n",
      "10/10 [==============================] - 4s 357ms/step - loss: 0.0153 - acc: 0.9959\n",
      "Epoch 7/30\n",
      "10/10 [==============================] - 4s 363ms/step - loss: 0.0224 - acc: 0.9969\n",
      "Epoch 8/30\n",
      "10/10 [==============================] - 4s 358ms/step - loss: 0.0068 - acc: 1.0000\n",
      "Epoch 9/30\n",
      "10/10 [==============================] - 4s 355ms/step - loss: 0.0042 - acc: 1.0000\n",
      "Epoch 10/30\n",
      "10/10 [==============================] - 4s 359ms/step - loss: 0.0080 - acc: 0.9969\n",
      "Epoch 11/30\n",
      "10/10 [==============================] - 3s 349ms/step - loss: 0.0027 - acc: 1.0000\n",
      "Epoch 12/30\n",
      "10/10 [==============================] - 4s 359ms/step - loss: 0.0017 - acc: 1.0000\n",
      "Epoch 13/30\n",
      "10/10 [==============================] - 4s 355ms/step - loss: 8.9776e-04 - acc: 1.0000\n",
      "Epoch 14/30\n",
      "10/10 [==============================] - 3s 346ms/step - loss: 8.5575e-04 - acc: 1.0000\n",
      "Epoch 15/30\n",
      "10/10 [==============================] - 4s 356ms/step - loss: 6.2341e-04 - acc: 1.0000\n",
      "Epoch 16/30\n",
      "10/10 [==============================] - 4s 355ms/step - loss: 0.0011 - acc: 1.0000\n",
      "Epoch 17/30\n",
      "10/10 [==============================] - 3s 342ms/step - loss: 0.0034 - acc: 1.0000\n",
      "Epoch 18/30\n",
      "10/10 [==============================] - 4s 353ms/step - loss: 0.0120 - acc: 0.9959\n",
      "Epoch 19/30\n",
      "10/10 [==============================] - 4s 356ms/step - loss: 0.0064 - acc: 0.9959\n",
      "Epoch 20/30\n",
      "10/10 [==============================] - 3s 344ms/step - loss: 0.0033 - acc: 1.0000\n",
      "Epoch 21/30\n",
      "10/10 [==============================] - 4s 352ms/step - loss: 4.7614e-04 - acc: 1.0000\n",
      "Epoch 22/30\n",
      "10/10 [==============================] - 4s 350ms/step - loss: 9.6353e-04 - acc: 1.0000\n",
      "Epoch 23/30\n",
      "10/10 [==============================] - 3s 345ms/step - loss: 4.9644e-04 - acc: 1.0000\n",
      "Epoch 24/30\n",
      "10/10 [==============================] - 3s 349ms/step - loss: 5.0051e-04 - acc: 1.0000\n",
      "Epoch 25/30\n",
      "10/10 [==============================] - 4s 350ms/step - loss: 1.9847e-04 - acc: 1.0000\n",
      "Epoch 26/30\n",
      "10/10 [==============================] - 3s 343ms/step - loss: 2.9107e-04 - acc: 1.0000\n",
      "Epoch 27/30\n",
      "10/10 [==============================] - 4s 362ms/step - loss: 3.4431e-04 - acc: 1.0000\n",
      "Epoch 28/30\n",
      "10/10 [==============================] - 4s 353ms/step - loss: 2.2620e-04 - acc: 1.0000\n",
      "Epoch 29/30\n",
      "10/10 [==============================] - 3s 348ms/step - loss: 1.3071e-04 - acc: 1.0000\n",
      "Epoch 30/30\n",
      "10/10 [==============================] - 4s 355ms/step - loss: 9.1067e-05 - acc: 1.0000\n",
      "result_list 3 = [array([3]), array([0]), array([1]), array([0]), array([1]), array([2]), array([1]), array([1])]\n",
      "Epoch 1/10\n",
      "30/30 [==============================] - 11s 364ms/step - loss: 0.3139 - acc: 0.8894\n",
      "Epoch 2/10\n",
      "30/30 [==============================] - 11s 360ms/step - loss: 0.0283 - acc: 0.9941\n",
      "Epoch 3/10\n",
      "30/30 [==============================] - 11s 359ms/step - loss: 0.0111 - acc: 0.9955\n",
      "Epoch 4/10\n",
      "30/30 [==============================] - 10s 350ms/step - loss: 0.0150 - acc: 0.9962\n",
      "Epoch 5/10\n",
      "30/30 [==============================] - 11s 351ms/step - loss: 0.0010 - acc: 1.0000\n",
      "Epoch 6/10\n",
      "30/30 [==============================] - 11s 351ms/step - loss: 3.9365e-04 - acc: 1.0000\n",
      "Epoch 7/10\n",
      "30/30 [==============================] - 10s 346ms/step - loss: 2.7128e-04 - acc: 1.0000\n",
      "Epoch 8/10\n",
      "30/30 [==============================] - 11s 353ms/step - loss: 1.6334e-04 - acc: 1.0000\n",
      "Epoch 9/10\n",
      "30/30 [==============================] - 11s 352ms/step - loss: 2.0580e-04 - acc: 1.0000\n",
      "Epoch 10/10\n",
      "30/30 [==============================] - 10s 350ms/step - loss: 9.9307e-05 - acc: 1.0000\n",
      "result_list 4 = [array([3]), array([0]), array([0]), array([0]), array([1]), array([2]), array([1]), array([1])]\n",
      "Epoch 1/20\n",
      "30/30 [==============================] - 10s 349ms/step - loss: 0.6083 - acc: 0.8118\n",
      "Epoch 2/20\n",
      "30/30 [==============================] - 10s 346ms/step - loss: 0.0334 - acc: 0.9906\n",
      "Epoch 3/20\n",
      "30/30 [==============================] - 10s 347ms/step - loss: 0.0044 - acc: 1.0000\n",
      "Epoch 4/20\n",
      "30/30 [==============================] - 10s 347ms/step - loss: 0.0039 - acc: 0.9990\n",
      "Epoch 5/20\n",
      "30/30 [==============================] - 10s 348ms/step - loss: 0.0038 - acc: 0.9990\n",
      "Epoch 6/20\n",
      "30/30 [==============================] - 10s 346ms/step - loss: 6.4619e-04 - acc: 1.0000\n",
      "Epoch 7/20\n",
      "30/30 [==============================] - 11s 351ms/step - loss: 0.0038 - acc: 0.9990\n",
      "Epoch 8/20\n",
      "30/30 [==============================] - 10s 349ms/step - loss: 0.0029 - acc: 1.0000\n",
      "Epoch 9/20\n",
      "30/30 [==============================] - 10s 348ms/step - loss: 0.0049 - acc: 0.9976\n",
      "Epoch 10/20\n",
      "30/30 [==============================] - 10s 347ms/step - loss: 0.0033 - acc: 0.9986\n",
      "Epoch 11/20\n",
      "30/30 [==============================] - 10s 348ms/step - loss: 0.0028 - acc: 0.9990\n",
      "Epoch 12/20\n",
      "30/30 [==============================] - 10s 347ms/step - loss: 3.1902e-04 - acc: 1.0000\n",
      "Epoch 13/20\n",
      "30/30 [==============================] - 10s 347ms/step - loss: 1.3815e-04 - acc: 1.0000\n",
      "Epoch 14/20\n",
      "30/30 [==============================] - 10s 347ms/step - loss: 9.5788e-05 - acc: 1.0000\n",
      "Epoch 15/20\n",
      "30/30 [==============================] - 10s 347ms/step - loss: 7.1381e-05 - acc: 1.0000\n",
      "Epoch 16/20\n",
      "30/30 [==============================] - 10s 349ms/step - loss: 6.2602e-05 - acc: 1.0000\n",
      "Epoch 17/20\n",
      "30/30 [==============================] - 10s 345ms/step - loss: 5.0042e-05 - acc: 1.0000\n",
      "Epoch 18/20\n",
      "30/30 [==============================] - 10s 346ms/step - loss: 2.6433e-05 - acc: 1.0000\n",
      "Epoch 19/20\n",
      "30/30 [==============================] - 10s 347ms/step - loss: 2.6915e-05 - acc: 1.0000\n",
      "Epoch 20/20\n",
      "30/30 [==============================] - 10s 350ms/step - loss: 1.7202e-05 - acc: 1.0000\n",
      "result_list 5 = [array([3]), array([0]), array([0]), array([0]), array([1]), array([2]), array([1]), array([1])]\n"
     ]
    },
    {
     "name": "stdout",
     "output_type": "stream",
     "text": [
      "Epoch 1/30\n",
      "30/30 [==============================] - 10s 348ms/step - loss: 0.3172 - acc: 0.8876\n",
      "Epoch 2/30\n",
      "30/30 [==============================] - 10s 349ms/step - loss: 0.0405 - acc: 0.9854\n",
      "Epoch 3/30\n",
      "30/30 [==============================] - 10s 350ms/step - loss: 0.0098 - acc: 0.9972\n",
      "Epoch 4/30\n",
      "30/30 [==============================] - 10s 349ms/step - loss: 0.0015 - acc: 1.0000\n",
      "Epoch 5/30\n",
      "30/30 [==============================] - 10s 345ms/step - loss: 0.0011 - acc: 1.0000\n",
      "Epoch 6/30\n",
      "30/30 [==============================] - 10s 346ms/step - loss: 5.0808e-04 - acc: 1.0000\n",
      "Epoch 7/30\n",
      "30/30 [==============================] - 10s 347ms/step - loss: 8.9472e-04 - acc: 1.0000\n",
      "Epoch 8/30\n",
      "30/30 [==============================] - 10s 347ms/step - loss: 3.5568e-04 - acc: 1.0000\n",
      "Epoch 9/30\n",
      "30/30 [==============================] - 10s 346ms/step - loss: 2.1264e-04 - acc: 1.0000\n",
      "Epoch 10/30\n",
      "30/30 [==============================] - 10s 348ms/step - loss: 1.2981e-04 - acc: 1.0000\n",
      "Epoch 11/30\n",
      "30/30 [==============================] - 10s 341ms/step - loss: 9.9043e-05 - acc: 1.0000\n",
      "Epoch 12/30\n",
      "30/30 [==============================] - 10s 348ms/step - loss: 2.7809e-04 - acc: 1.0000\n",
      "Epoch 13/30\n",
      "30/30 [==============================] - 10s 347ms/step - loss: 5.7530e-05 - acc: 1.0000\n",
      "Epoch 14/30\n",
      "30/30 [==============================] - 10s 345ms/step - loss: 7.0844e-05 - acc: 1.0000\n",
      "Epoch 15/30\n",
      "30/30 [==============================] - 10s 344ms/step - loss: 3.6135e-05 - acc: 1.0000\n",
      "Epoch 16/30\n",
      "30/30 [==============================] - 10s 348ms/step - loss: 3.5554e-05 - acc: 1.0000\n",
      "Epoch 17/30\n",
      "30/30 [==============================] - 10s 344ms/step - loss: 3.1052e-05 - acc: 1.0000\n",
      "Epoch 18/30\n",
      "30/30 [==============================] - 10s 348ms/step - loss: 7.0315e-05 - acc: 1.0000\n",
      "Epoch 19/30\n",
      "30/30 [==============================] - 10s 345ms/step - loss: 4.4931e-05 - acc: 1.0000\n",
      "Epoch 20/30\n",
      "30/30 [==============================] - 10s 346ms/step - loss: 2.9425e-05 - acc: 1.0000\n",
      "Epoch 21/30\n",
      "30/30 [==============================] - 10s 345ms/step - loss: 2.9162e-05 - acc: 1.0000\n",
      "Epoch 22/30\n",
      "30/30 [==============================] - 10s 347ms/step - loss: 2.2292e-05 - acc: 1.0000\n",
      "Epoch 23/30\n",
      "30/30 [==============================] - 10s 347ms/step - loss: 2.0911e-05 - acc: 1.0000\n",
      "Epoch 24/30\n",
      "30/30 [==============================] - 10s 348ms/step - loss: 3.4030e-05 - acc: 1.0000\n",
      "Epoch 25/30\n",
      "30/30 [==============================] - 10s 348ms/step - loss: 2.0165e-05 - acc: 1.0000\n",
      "Epoch 26/30\n",
      "30/30 [==============================] - 10s 346ms/step - loss: 3.3125e-05 - acc: 1.0000\n",
      "Epoch 27/30\n",
      "30/30 [==============================] - 10s 348ms/step - loss: 1.8703e-05 - acc: 1.0000\n",
      "Epoch 28/30\n",
      "30/30 [==============================] - 10s 348ms/step - loss: 2.7606e-05 - acc: 1.0000\n",
      "Epoch 29/30\n",
      "30/30 [==============================] - 11s 352ms/step - loss: 1.6908e-05 - acc: 1.0000\n",
      "Epoch 30/30\n",
      "30/30 [==============================] - 10s 346ms/step - loss: 2.2480e-05 - acc: 1.0000\n",
      "result_list 6 = [array([3]), array([0]), array([3]), array([0]), array([1]), array([2]), array([1]), array([1])]\n",
      "Epoch 1/10\n",
      "50/50 [==============================] - 17s 350ms/step - loss: 0.2946 - acc: 0.9000\n",
      "Epoch 2/10\n",
      "50/50 [==============================] - 17s 346ms/step - loss: 0.0059 - acc: 0.9992\n",
      "Epoch 3/10\n",
      "50/50 [==============================] - 450s 9s/step - loss: 0.0035 - acc: 0.9994\n",
      "Epoch 4/10\n",
      "50/50 [==============================] - 18s 357ms/step - loss: 5.5286e-04 - acc: 1.0000\n",
      "Epoch 5/10\n",
      "50/50 [==============================] - 18s 358ms/step - loss: 2.0346e-04 - acc: 1.0000\n",
      "Epoch 6/10\n",
      "50/50 [==============================] - 18s 365ms/step - loss: 3.5862e-04 - acc: 1.0000\n",
      "Epoch 7/10\n",
      "50/50 [==============================] - 18s 362ms/step - loss: 8.1310e-05 - acc: 1.0000\n",
      "Epoch 8/10\n",
      "50/50 [==============================] - 18s 354ms/step - loss: 7.7019e-05 - acc: 1.0000\n",
      "Epoch 9/10\n",
      "50/50 [==============================] - 18s 351ms/step - loss: 4.5675e-05 - acc: 1.0000\n",
      "Epoch 10/10\n",
      "50/50 [==============================] - 17s 348ms/step - loss: 3.9639e-05 - acc: 1.0000\n",
      "result_list 7 = [array([3]), array([0]), array([0]), array([0]), array([1]), array([2]), array([1]), array([1])]\n",
      "Epoch 1/20\n",
      "50/50 [==============================] - 18s 363ms/step - loss: 0.2688 - acc: 0.9144\n",
      "Epoch 2/20\n",
      "50/50 [==============================] - 18s 360ms/step - loss: 0.0083 - acc: 0.9985\n",
      "Epoch 3/20\n",
      "50/50 [==============================] - 17s 349ms/step - loss: 0.0043 - acc: 0.9981\n",
      "Epoch 4/20\n",
      "50/50 [==============================] - 18s 350ms/step - loss: 0.0028 - acc: 0.9994\n",
      "Epoch 5/20\n",
      "50/50 [==============================] - 17s 348ms/step - loss: 5.6227e-04 - acc: 1.0000\n",
      "Epoch 6/20\n",
      "50/50 [==============================] - 18s 351ms/step - loss: 1.1896e-04 - acc: 1.0000\n",
      "Epoch 7/20\n",
      "50/50 [==============================] - 17s 345ms/step - loss: 7.1609e-05 - acc: 1.0000\n",
      "Epoch 8/20\n",
      "50/50 [==============================] - 17s 345ms/step - loss: 5.5726e-05 - acc: 1.0000\n",
      "Epoch 9/20\n",
      "50/50 [==============================] - 17s 349ms/step - loss: 4.5858e-05 - acc: 1.0000\n",
      "Epoch 10/20\n",
      "50/50 [==============================] - 17s 348ms/step - loss: 3.2802e-05 - acc: 1.0000\n",
      "Epoch 11/20\n",
      "50/50 [==============================] - 17s 346ms/step - loss: 2.6677e-05 - acc: 1.0000\n",
      "Epoch 12/20\n",
      "50/50 [==============================] - 17s 348ms/step - loss: 2.2097e-05 - acc: 1.0000\n",
      "Epoch 13/20\n",
      "50/50 [==============================] - 17s 346ms/step - loss: 1.7446e-05 - acc: 1.0000\n",
      "Epoch 14/20\n",
      "50/50 [==============================] - 17s 349ms/step - loss: 1.3902e-05 - acc: 1.0000\n",
      "Epoch 15/20\n",
      "50/50 [==============================] - 17s 349ms/step - loss: 1.6745e-05 - acc: 1.0000\n",
      "Epoch 16/20\n",
      "50/50 [==============================] - 17s 347ms/step - loss: 1.0974e-05 - acc: 1.0000\n",
      "Epoch 17/20\n",
      "50/50 [==============================] - 17s 346ms/step - loss: 1.5991e-05 - acc: 1.0000\n",
      "Epoch 18/20\n",
      "50/50 [==============================] - 17s 346ms/step - loss: 6.5839e-06 - acc: 1.0000\n",
      "Epoch 19/20\n",
      "50/50 [==============================] - 17s 347ms/step - loss: 4.3697e-05 - acc: 1.0000\n",
      "Epoch 20/20\n",
      "50/50 [==============================] - 17s 344ms/step - loss: 0.0484 - acc: 0.9871\n",
      "result_list 8 = [array([3]), array([0]), array([2]), array([0]), array([1]), array([2]), array([1]), array([1])]\n",
      "Epoch 1/30\n",
      "50/50 [==============================] - 17s 346ms/step - loss: 0.2702 - acc: 0.9106\n",
      "Epoch 2/30\n",
      "50/50 [==============================] - 17s 348ms/step - loss: 0.0147 - acc: 0.9954\n",
      "Epoch 3/30\n",
      "50/50 [==============================] - 17s 343ms/step - loss: 0.0016 - acc: 1.0000\n",
      "Epoch 4/30\n",
      "50/50 [==============================] - 17s 344ms/step - loss: 4.5778e-04 - acc: 1.0000\n",
      "Epoch 5/30\n",
      "50/50 [==============================] - 17s 347ms/step - loss: 2.2670e-04 - acc: 1.0000\n",
      "Epoch 6/30\n",
      "50/50 [==============================] - 17s 343ms/step - loss: 1.0649e-04 - acc: 1.0000\n",
      "Epoch 7/30\n",
      "50/50 [==============================] - 17s 346ms/step - loss: 7.7002e-05 - acc: 1.0000\n",
      "Epoch 8/30\n",
      "50/50 [==============================] - 17s 347ms/step - loss: 4.6537e-05 - acc: 1.0000\n",
      "Epoch 9/30\n",
      "50/50 [==============================] - 17s 347ms/step - loss: 5.9361e-05 - acc: 1.0000\n",
      "Epoch 10/30\n",
      "50/50 [==============================] - 18s 352ms/step - loss: 4.5782e-05 - acc: 1.0000\n",
      "Epoch 11/30\n",
      "50/50 [==============================] - 18s 355ms/step - loss: 5.2533e-05 - acc: 1.0000\n",
      "Epoch 12/30\n",
      "50/50 [==============================] - 18s 350ms/step - loss: 5.1519e-05 - acc: 1.0000\n",
      "Epoch 13/30\n",
      "50/50 [==============================] - 17s 348ms/step - loss: 5.3014e-05 - acc: 1.0000\n",
      "Epoch 14/30\n",
      "50/50 [==============================] - 17s 347ms/step - loss: 2.6895e-05 - acc: 1.0000\n",
      "Epoch 15/30\n",
      "50/50 [==============================] - 17s 346ms/step - loss: 1.7448e-05 - acc: 1.0000\n",
      "Epoch 16/30\n",
      "50/50 [==============================] - 17s 347ms/step - loss: 3.5181e-05 - acc: 1.0000\n",
      "Epoch 17/30\n",
      "50/50 [==============================] - 17s 348ms/step - loss: 3.8505e-05 - acc: 1.0000\n",
      "Epoch 18/30\n",
      "50/50 [==============================] - 17s 346ms/step - loss: 1.8166e-05 - acc: 1.0000\n",
      "Epoch 19/30\n",
      "50/50 [==============================] - 17s 347ms/step - loss: 9.0046e-06 - acc: 1.0000\n",
      "Epoch 20/30\n",
      "50/50 [==============================] - 17s 345ms/step - loss: 1.3002e-05 - acc: 1.0000\n",
      "Epoch 21/30\n",
      "50/50 [==============================] - 17s 346ms/step - loss: 1.5694e-05 - acc: 1.0000\n",
      "Epoch 22/30\n",
      "50/50 [==============================] - 17s 348ms/step - loss: 8.1767e-06 - acc: 1.0000\n",
      "Epoch 23/30\n",
      "50/50 [==============================] - 18s 351ms/step - loss: 1.4051e-05 - acc: 1.0000\n",
      "Epoch 24/30\n",
      "50/50 [==============================] - 17s 345ms/step - loss: 8.1090e-06 - acc: 1.0000\n",
      "Epoch 25/30\n",
      "50/50 [==============================] - 17s 345ms/step - loss: 5.6202e-06 - acc: 1.0000\n",
      "Epoch 26/30\n",
      "50/50 [==============================] - 17s 348ms/step - loss: 6.9406e-06 - acc: 1.0000\n",
      "Epoch 27/30\n",
      "50/50 [==============================] - 17s 344ms/step - loss: 7.7739e-06 - acc: 1.0000\n",
      "Epoch 28/30\n",
      "50/50 [==============================] - 17s 346ms/step - loss: 6.0142e-06 - acc: 1.0000\n",
      "Epoch 29/30\n",
      "50/50 [==============================] - 18s 351ms/step - loss: 5.8701e-06 - acc: 1.0000\n",
      "Epoch 30/30\n",
      "50/50 [==============================] - 18s 350ms/step - loss: 7.1696e-06 - acc: 1.0000\n",
      "result_list 9 = [array([3]), array([0]), array([0]), array([0]), array([1]), array([2]), array([1]), array([1])]\n"
     ]
    }
   ],
   "source": [
    "for i, j, k, l in zip(step_list, epoch_list, result_list, list(range(2,10))):\n",
    "    classifier1 = copy.deepcopy(classifier)\n",
    "    classifier1.fit_generator(generator=train_generator, steps_per_epoch=i, \n",
    "                              epochs=j)\n",
    "    img_dir = \"/Users/zhongyizhang/Desktop/dataset_test/\" # Enter Directory of all images\n",
    "\n",
    "    data_path = os.path.join(img_dir, '*g')\n",
    "    files = glob.glob(data_path)\n",
    "    data = []\n",
    "    k = []\n",
    "    for f1 in files:\n",
    "        img = image.load_img(f1, target_size = (64, 64))\n",
    "        img = image.img_to_array(img)\n",
    "        img = np.expand_dims(img, axis = 0)\n",
    "        data.append(img)\n",
    "        result = classifier1.predict(img)\n",
    "        r = np.argmax(result, axis=1)\n",
    "        k.append(r)\n",
    "    print('result_list',l, '=',k)"
   ]
  },
  {
   "cell_type": "markdown",
   "metadata": {},
   "source": [
    "Now I have following results except for (steps_per_epoch: 50, epochs: 100, I will run this time-consuming one independently)        \n",
    "result_list1 = [array([3]), array([0]), array([0]), array([0]), array([1]), array([2]), array([1]), array([1])]       \n",
    "result_list2 = [array([3]), array([0]), array([0]), array([0]), array([1]), array([2]), array([1]), array([1])]       \n",
    "result_list3 = [array([3]), array([0]), array([1]), array([0]), array([1]), array([2]), array([1]), array([1])]      \n",
    "result_list4 = [array([3]), array([0]), array([0]), array([0]), array([1]), array([2]), array([1]), array([1])]       \n",
    "result_list5 = [array([3]), array([0]), array([0]), array([0]), array([1]), array([2]), array([1]), array([1])]       \n",
    "result_list6 = [array([3]), array([0]), array([3]), array([0]), array([1]), array([2]), array([1]), array([1])]       \n",
    "result_list7 = [array([3]), array([0]), array([0]), array([0]), array([1]), array([2]), array([1]), array([1])]        \n",
    "result_list8 = [array([3]), array([0]), array([2]), array([0]), array([1]), array([2]), array([1]), array([1])]        \n",
    "result_list9 = [array([3]), array([0]), array([0]), array([0]), array([1]), array([2]), array([1]), array([1])]        "
   ]
  },
  {
   "cell_type": "code",
   "execution_count": null,
   "metadata": {},
   "outputs": [],
   "source": []
  },
  {
   "cell_type": "code",
   "execution_count": 29,
   "metadata": {},
   "outputs": [
    {
     "name": "stdout",
     "output_type": "stream",
     "text": [
      "Epoch 1/100\n",
      "50/50 [==============================] - 18s 352ms/step - loss: 0.2435 - acc: 0.9108\n",
      "Epoch 2/100\n",
      "50/50 [==============================] - 18s 357ms/step - loss: 0.0079 - acc: 0.9987\n",
      "Epoch 3/100\n",
      "50/50 [==============================] - 18s 357ms/step - loss: 0.0030 - acc: 1.0000\n",
      "Epoch 4/100\n",
      "50/50 [==============================] - 17s 345ms/step - loss: 3.0245e-04 - acc: 1.0000\n",
      "Epoch 5/100\n",
      "50/50 [==============================] - 17s 346ms/step - loss: 1.9619e-04 - acc: 1.0000\n",
      "Epoch 6/100\n",
      "50/50 [==============================] - 17s 348ms/step - loss: 1.2140e-04 - acc: 1.0000\n",
      "Epoch 7/100\n",
      "50/50 [==============================] - 18s 357ms/step - loss: 6.7478e-05 - acc: 1.0000\n",
      "Epoch 8/100\n",
      "50/50 [==============================] - 18s 366ms/step - loss: 4.2527e-05 - acc: 1.0000\n",
      "Epoch 9/100\n",
      "50/50 [==============================] - 18s 358ms/step - loss: 3.3960e-05 - acc: 1.0000\n",
      "Epoch 10/100\n",
      "50/50 [==============================] - 18s 355ms/step - loss: 9.1267e-05 - acc: 1.0000\n",
      "Epoch 11/100\n",
      "50/50 [==============================] - 18s 353ms/step - loss: 4.9506e-05 - acc: 1.0000\n",
      "Epoch 12/100\n",
      "50/50 [==============================] - 18s 363ms/step - loss: 2.1038e-05 - acc: 1.0000\n",
      "Epoch 13/100\n",
      "50/50 [==============================] - 18s 350ms/step - loss: 2.8236e-05 - acc: 1.0000\n",
      "Epoch 14/100\n",
      "50/50 [==============================] - 17s 349ms/step - loss: 1.8048e-05 - acc: 1.0000\n",
      "Epoch 15/100\n",
      "50/50 [==============================] - 18s 350ms/step - loss: 1.2989e-05 - acc: 1.0000\n",
      "Epoch 16/100\n",
      "50/50 [==============================] - 17s 349ms/step - loss: 1.5367e-05 - acc: 1.0000\n",
      "Epoch 17/100\n",
      "50/50 [==============================] - 17s 347ms/step - loss: 1.1910e-05 - acc: 1.0000\n",
      "Epoch 18/100\n",
      "50/50 [==============================] - 18s 360ms/step - loss: 1.1000e-05 - acc: 1.0000\n",
      "Epoch 19/100\n",
      "50/50 [==============================] - 19s 374ms/step - loss: 1.2357e-05 - acc: 1.0000\n",
      "Epoch 20/100\n",
      "50/50 [==============================] - 19s 372ms/step - loss: 9.3309e-06 - acc: 1.0000\n",
      "Epoch 21/100\n",
      "50/50 [==============================] - 18s 366ms/step - loss: 7.6008e-06 - acc: 1.0000\n",
      "Epoch 22/100\n",
      "50/50 [==============================] - 19s 371ms/step - loss: 1.2957e-05 - acc: 1.0000\n",
      "Epoch 23/100\n",
      "50/50 [==============================] - 18s 358ms/step - loss: 9.1225e-06 - acc: 1.0000\n",
      "Epoch 24/100\n",
      "50/50 [==============================] - 18s 365ms/step - loss: 1.0397e-05 - acc: 1.0000\n",
      "Epoch 25/100\n",
      "50/50 [==============================] - 18s 366ms/step - loss: 6.6096e-06 - acc: 1.0000\n",
      "Epoch 26/100\n",
      "50/50 [==============================] - 19s 370ms/step - loss: 7.2047e-06 - acc: 1.0000\n",
      "Epoch 27/100\n",
      "50/50 [==============================] - 18s 365ms/step - loss: 4.9453e-06 - acc: 1.0000\n",
      "Epoch 28/100\n",
      "50/50 [==============================] - 18s 364ms/step - loss: 5.5001e-06 - acc: 1.0000\n",
      "Epoch 29/100\n",
      "50/50 [==============================] - 18s 364ms/step - loss: 5.2547e-06 - acc: 1.0000\n",
      "Epoch 30/100\n",
      "50/50 [==============================] - 18s 366ms/step - loss: 3.3422e-06 - acc: 1.0000\n",
      "Epoch 31/100\n",
      "50/50 [==============================] - 18s 357ms/step - loss: 4.4061e-06 - acc: 1.0000\n",
      "Epoch 32/100\n",
      "50/50 [==============================] - 18s 357ms/step - loss: 4.1453e-06 - acc: 1.0000\n",
      "Epoch 33/100\n",
      "50/50 [==============================] - 18s 355ms/step - loss: 6.8707e-06 - acc: 1.0000\n",
      "Epoch 34/100\n",
      "50/50 [==============================] - 18s 353ms/step - loss: 3.0058e-06 - acc: 1.0000\n",
      "Epoch 35/100\n",
      "50/50 [==============================] - 17s 346ms/step - loss: 2.6628e-06 - acc: 1.0000\n",
      "Epoch 36/100\n",
      "50/50 [==============================] - 17s 338ms/step - loss: 3.3586e-06 - acc: 1.0000\n",
      "Epoch 37/100\n",
      "50/50 [==============================] - 17s 336ms/step - loss: 2.7561e-06 - acc: 1.0000\n",
      "Epoch 38/100\n",
      "50/50 [==============================] - 17s 338ms/step - loss: 2.4092e-06 - acc: 1.0000\n",
      "Epoch 39/100\n",
      "50/50 [==============================] - 17s 343ms/step - loss: 2.8625e-06 - acc: 1.0000\n",
      "Epoch 40/100\n",
      "50/50 [==============================] - 17s 338ms/step - loss: 2.9711e-06 - acc: 1.0000\n",
      "Epoch 41/100\n",
      "50/50 [==============================] - 17s 335ms/step - loss: 2.3083e-06 - acc: 1.0000\n",
      "Epoch 42/100\n",
      "50/50 [==============================] - 17s 338ms/step - loss: 2.3467e-06 - acc: 1.0000\n",
      "Epoch 43/100\n",
      "50/50 [==============================] - 17s 336ms/step - loss: 1.8940e-06 - acc: 1.0000\n",
      "Epoch 44/100\n",
      "50/50 [==============================] - 17s 336ms/step - loss: 2.8364e-06 - acc: 1.0000\n",
      "Epoch 45/100\n",
      "50/50 [==============================] - 17s 338ms/step - loss: 1.7461e-06 - acc: 1.0000\n",
      "Epoch 46/100\n",
      "50/50 [==============================] - 17s 336ms/step - loss: 2.3474e-06 - acc: 1.0000\n",
      "Epoch 47/100\n",
      "50/50 [==============================] - 17s 336ms/step - loss: 2.6196e-06 - acc: 1.0000\n",
      "Epoch 48/100\n",
      "50/50 [==============================] - 17s 338ms/step - loss: 1.8493e-06 - acc: 1.0000\n",
      "Epoch 49/100\n",
      "50/50 [==============================] - 17s 335ms/step - loss: 1.9251e-06 - acc: 1.0000\n",
      "Epoch 50/100\n",
      "50/50 [==============================] - 17s 336ms/step - loss: 2.1036e-06 - acc: 1.0000\n",
      "Epoch 51/100\n",
      "50/50 [==============================] - 17s 337ms/step - loss: 2.1087e-06 - acc: 1.0000\n",
      "Epoch 52/100\n",
      "50/50 [==============================] - 17s 335ms/step - loss: 1.4288e-06 - acc: 1.0000\n",
      "Epoch 53/100\n",
      "50/50 [==============================] - 17s 336ms/step - loss: 1.2940e-06 - acc: 1.0000\n",
      "Epoch 54/100\n",
      "50/50 [==============================] - 17s 338ms/step - loss: 2.1190e-06 - acc: 1.0000\n",
      "Epoch 55/100\n",
      "50/50 [==============================] - 17s 336ms/step - loss: 2.0437e-06 - acc: 1.0000\n",
      "Epoch 56/100\n",
      "50/50 [==============================] - 17s 336ms/step - loss: 1.2529e-06 - acc: 1.0000\n",
      "Epoch 57/100\n",
      "50/50 [==============================] - 17s 337ms/step - loss: 1.2933e-06 - acc: 1.0000\n",
      "Epoch 58/100\n",
      "50/50 [==============================] - 17s 336ms/step - loss: 9.9634e-07 - acc: 1.0000\n",
      "Epoch 59/100\n",
      "50/50 [==============================] - 17s 335ms/step - loss: 1.4651e-06 - acc: 1.0000\n",
      "Epoch 60/100\n",
      "50/50 [==============================] - 17s 338ms/step - loss: 1.0894e-06 - acc: 1.0000\n",
      "Epoch 61/100\n",
      "50/50 [==============================] - 17s 336ms/step - loss: 1.0835e-06 - acc: 1.0000\n",
      "Epoch 62/100\n",
      "50/50 [==============================] - 17s 335ms/step - loss: 8.5683e-07 - acc: 1.0000\n",
      "Epoch 63/100\n",
      "50/50 [==============================] - 17s 337ms/step - loss: 9.2698e-07 - acc: 1.0000\n",
      "Epoch 64/100\n",
      "50/50 [==============================] - 17s 336ms/step - loss: 1.1258e-06 - acc: 1.0000\n",
      "Epoch 65/100\n",
      "50/50 [==============================] - 17s 337ms/step - loss: 8.0554e-07 - acc: 1.0000\n",
      "Epoch 66/100\n",
      "50/50 [==============================] - 17s 337ms/step - loss: 1.0110e-06 - acc: 1.0000\n",
      "Epoch 67/100\n",
      "50/50 [==============================] - 17s 336ms/step - loss: 9.5002e-07 - acc: 1.0000\n",
      "Epoch 68/100\n",
      "50/50 [==============================] - 17s 336ms/step - loss: 1.1129e-06 - acc: 1.0000\n",
      "Epoch 69/100\n",
      "50/50 [==============================] - 17s 338ms/step - loss: 8.1249e-07 - acc: 1.0000\n",
      "Epoch 70/100\n",
      "50/50 [==============================] - 17s 336ms/step - loss: 6.4807e-07 - acc: 1.0000\n",
      "Epoch 71/100\n",
      "50/50 [==============================] - 17s 336ms/step - loss: 6.6056e-07 - acc: 1.0000\n",
      "Epoch 72/100\n",
      "50/50 [==============================] - 17s 338ms/step - loss: 6.4700e-07 - acc: 1.0000\n",
      "Epoch 73/100\n",
      "50/50 [==============================] - 17s 336ms/step - loss: 7.4923e-07 - acc: 1.0000\n",
      "Epoch 74/100\n",
      "50/50 [==============================] - 17s 335ms/step - loss: 6.9124e-07 - acc: 1.0000\n",
      "Epoch 75/100\n",
      "50/50 [==============================] - 17s 338ms/step - loss: 5.3556e-07 - acc: 1.0000\n",
      "Epoch 76/100\n",
      "50/50 [==============================] - 17s 336ms/step - loss: 5.9247e-07 - acc: 1.0000\n",
      "Epoch 77/100\n",
      "50/50 [==============================] - 17s 336ms/step - loss: 5.5592e-07 - acc: 1.0000\n",
      "Epoch 78/100\n",
      "50/50 [==============================] - 17s 338ms/step - loss: 4.9615e-07 - acc: 1.0000\n",
      "Epoch 79/100\n",
      "50/50 [==============================] - 17s 336ms/step - loss: 3.8777e-07 - acc: 1.0000\n",
      "Epoch 80/100\n",
      "50/50 [==============================] - 17s 336ms/step - loss: 5.4226e-07 - acc: 1.0000\n",
      "Epoch 81/100\n",
      "50/50 [==============================] - 17s 338ms/step - loss: 4.6209e-07 - acc: 1.0000\n",
      "Epoch 82/100\n",
      "50/50 [==============================] - 17s 335ms/step - loss: 5.2907e-07 - acc: 1.0000\n",
      "Epoch 83/100\n",
      "50/50 [==============================] - 17s 336ms/step - loss: 4.6862e-07 - acc: 1.0000\n",
      "Epoch 84/100\n",
      "50/50 [==============================] - 17s 337ms/step - loss: 3.8044e-07 - acc: 1.0000\n",
      "Epoch 85/100\n",
      "50/50 [==============================] - 17s 336ms/step - loss: 5.5401e-07 - acc: 1.0000\n",
      "Epoch 86/100\n",
      "50/50 [==============================] - 17s 337ms/step - loss: 3.8138e-07 - acc: 1.0000\n",
      "Epoch 87/100\n",
      "50/50 [==============================] - 17s 338ms/step - loss: 3.4543e-07 - acc: 1.0000\n",
      "Epoch 88/100\n",
      "50/50 [==============================] - 17s 336ms/step - loss: 4.4993e-07 - acc: 1.0000\n",
      "Epoch 89/100\n",
      "50/50 [==============================] - 17s 336ms/step - loss: 3.8035e-07 - acc: 1.0000\n",
      "Epoch 90/100\n",
      "50/50 [==============================] - 17s 338ms/step - loss: 3.9657e-07 - acc: 1.0000\n",
      "Epoch 91/100\n",
      "50/50 [==============================] - 17s 336ms/step - loss: 3.3421e-07 - acc: 1.0000\n",
      "Epoch 92/100\n",
      "50/50 [==============================] - 17s 336ms/step - loss: 3.7887e-07 - acc: 1.0000\n",
      "Epoch 93/100\n",
      "50/50 [==============================] - 17s 338ms/step - loss: 3.6112e-07 - acc: 1.0000\n",
      "Epoch 94/100\n",
      "50/50 [==============================] - 17s 336ms/step - loss: 4.0338e-07 - acc: 1.0000\n",
      "Epoch 95/100\n",
      "50/50 [==============================] - 17s 336ms/step - loss: 3.8261e-07 - acc: 1.0000\n",
      "Epoch 96/100\n",
      "50/50 [==============================] - 17s 337ms/step - loss: 3.0949e-07 - acc: 1.0000\n",
      "Epoch 97/100\n",
      "50/50 [==============================] - 17s 336ms/step - loss: 3.1861e-07 - acc: 1.0000\n",
      "Epoch 98/100\n",
      "50/50 [==============================] - 17s 336ms/step - loss: 4.2704e-07 - acc: 1.0000\n",
      "Epoch 99/100\n",
      "50/50 [==============================] - 17s 338ms/step - loss: 2.7652e-07 - acc: 1.0000\n",
      "Epoch 100/100\n",
      "50/50 [==============================] - 17s 336ms/step - loss: 3.2667e-07 - acc: 1.0000\n"
     ]
    },
    {
     "data": {
      "text/plain": [
       "<keras.callbacks.History at 0x1539f0c10>"
      ]
     },
     "execution_count": 29,
     "metadata": {},
     "output_type": "execute_result"
    }
   ],
   "source": [
    "# 3-(a)\n",
    "classifier2=copy.deepcopy(classifier)\n",
    "classifier2.fit_generator(generator=train_generator, steps_per_epoch=50, \n",
    "                          epochs=100)"
   ]
  },
  {
   "cell_type": "code",
   "execution_count": 31,
   "metadata": {},
   "outputs": [
    {
     "data": {
      "text/plain": [
       "[array([3]),\n",
       " array([0]),\n",
       " array([0]),\n",
       " array([0]),\n",
       " array([1]),\n",
       " array([2]),\n",
       " array([1]),\n",
       " array([1])]"
      ]
     },
     "execution_count": 31,
     "metadata": {},
     "output_type": "execute_result"
    }
   ],
   "source": [
    "img_dir = \"/Users/zhongyizhang/Desktop/dataset_test/\" # Enter Directory of all images\n",
    "\n",
    "# iterate over each test image\n",
    "# make a prediction and add to results \n",
    "data_path = os.path.join(img_dir, '*g')\n",
    "files = glob.glob(data_path)\n",
    "data = []\n",
    "results = []\n",
    "for f1 in files:\n",
    "    img = image.load_img(f1, target_size = (64, 64))\n",
    "    img = image.img_to_array(img)\n",
    "    img = np.expand_dims(img, axis = 0)\n",
    "    data.append(img)\n",
    "    result = classifier2.predict(img)\n",
    "    r = np.argmax(result, axis=1)\n",
    "    results.append(r)\n",
    "\n",
    "results"
   ]
  },
  {
   "cell_type": "markdown",
   "metadata": {},
   "source": [
    "In conclusion I have foloowing results by running：       \n",
    "(steps_per_epoch: 10, epochs: 10)      \n",
    "(steps_per_epoch: 10, epochs: 20)      \n",
    "(steps_per_epoch: 10, epochs: 30)      \n",
    "(steps_per_epoch: 30, epochs: 10)        \n",
    "(steps_per_epoch: 30, epochs: 20)      \n",
    "(steps_per_epoch: 30, epochs: 30)         \n",
    "(steps_per_epoch: 50, epochs: 10)      \n",
    "(steps_per_epoch: 50, epochs: 20)      \n",
    "(steps_per_epoch: 50, epochs: 30)       \n",
    "(steps_per_epoch: 50, epochs: 100)        "
   ]
  },
  {
   "cell_type": "markdown",
   "metadata": {},
   "source": [
    "result_list1 = [array([3]), array([0]), array([0]), array([0]), array([1]), array([2]), array([1]), array([1])]          \n",
    "result_list2 = [array([3]), array([0]), array([0]), array([0]), array([1]), array([2]), array([1]), array([1])]        \n",
    "result_list3 = [array([3]), array([0]), array([1]), array([0]), array([1]), array([2]), array([1]), array([1])]       \n",
    "result_list4 = [array([3]), array([0]), array([0]), array([0]), array([1]), array([2]), array([1]), array([1])]          \n",
    "result_list5 = [array([3]), array([0]), array([0]), array([0]), array([1]), array([2]), array([1]), array([1])]            \n",
    "result_list6 = [array([3]), array([0]), array([3]), array([0]), array([1]), array([2]), array([1]), array([1])]           \n",
    "result_list7 = [array([3]), array([0]), array([0]), array([0]), array([1]), array([2]), array([1]), array([1])]            \n",
    "result_list8 = [array([3]), array([0]), array([2]), array([0]), array([1]), array([2]), array([1]), array([1])]          \n",
    "result_list9 = [array([3]), array([0]), array([0]), array([0]), array([1]), array([2]), array([1]), array([1])]          \n",
    "result_list10 = [array([3]), array([0]), array([0]), array([0]), array([1]), array([2]), array([1]), array([1])]"
   ]
  },
  {
   "cell_type": "code",
   "execution_count": 43,
   "metadata": {},
   "outputs": [
    {
     "name": "stdout",
     "output_type": "stream",
     "text": [
      " r1: [3, 0, 0, 0, 1, 2, 1, 1] \n",
      " r2: [3, 0, 0, 0, 1, 2, 1, 1] \n",
      " r3: [3, 0, 1, 0, 1, 2, 1, 1] \n",
      " r4: [3, 0, 0, 0, 1, 2, 1, 1] \n",
      " r5: [3, 0, 0, 0, 1, 2, 1, 1] \n",
      " r6: [3, 0, 3, 0, 1, 2, 1, 1] \n",
      " r7: [3, 0, 0, 0, 1, 2, 1, 1] \n",
      " r8: [3, 0, 2, 0, 1, 2, 1, 1] \n",
      " r9: [3, 0, 0, 0, 1, 2, 1, 1] \n",
      " r10: [3, 0, 0, 0, 1, 2, 1, 1]\n"
     ]
    }
   ],
   "source": [
    "# result_list1 = [array([3]), array([0]), array([0]), array([0]), array([1]), array([2]), array([1]), array([1])]\n",
    "# result_list2 = [array([3]), array([0]), array([0]), array([0]), array([1]), array([2]), array([1]), array([1])]\n",
    "# result_list3 = [array([3]), array([0]), array([1]), array([0]), array([1]), array([2]), array([1]), array([1])]\n",
    "# result_list4 = [array([3]), array([0]), array([0]), array([0]), array([1]), array([2]), array([1]), array([1])]\n",
    "# result_list5 = [array([3]), array([0]), array([0]), array([0]), array([1]), array([2]), array([1]), array([1])]\n",
    "# result_list6 = [array([3]), array([0]), array([3]), array([0]), array([1]), array([2]), array([1]), array([1])]\n",
    "# result_list7 = [array([3]), array([0]), array([0]), array([0]), array([1]), array([2]), array([1]), array([1])]\n",
    "# result_list8 = [array([3]), array([0]), array([2]), array([0]), array([1]), array([2]), array([1]), array([1])]\n",
    "# result_list9 = [array([3]), array([0]), array([0]), array([0]), array([1]), array([2]), array([1]), array([1])]\n",
    "# result_list10 = [array([3]), array([0]), array([0]), array([0]), array([1]), array([2]), array([1]), array([1])]\n",
    "\n",
    "r1 = [3, 0, 0, 0, 1, 2, 1, 1]\n",
    "r2 = [3, 0, 0, 0, 1, 2, 1, 1]\n",
    "r3 = [3, 0, 1, 0, 1, 2, 1, 1]\n",
    "r4 = [3, 0, 0, 0, 1, 2, 1, 1]\n",
    "r5 = [3, 0, 0, 0, 1, 2, 1, 1]\n",
    "r6 = [3, 0, 3, 0, 1, 2, 1, 1]\n",
    "r7 = [3, 0, 0, 0, 1, 2, 1, 1]\n",
    "r8 = [3, 0, 2, 0, 1, 2, 1, 1]\n",
    "r9 = [3, 0, 0, 0, 1, 2, 1, 1]\n",
    "r10 = [3, 0, 0, 0, 1, 2, 1, 1]\n",
    "print(' r1:', r1,'\\n','r2:', r2,'\\n','r3:', r3,'\\n','r4:', r4,'\\n','r5:', r5,'\\n',\n",
    "     'r6:', r6,'\\n', 'r7:', r7,'\\n','r8:', r8,'\\n','r9:', r9,'\\n','r10:', r10)\n"
   ]
  },
  {
   "cell_type": "markdown",
   "metadata": {},
   "source": [
    "Prediction results:           \n",
    "r1: [3, 0, 0, 0, 1, 2, 1, 1]        \n",
    "r2: [3, 0, 0, 0, 1, 2, 1, 1]        \n",
    "r3: [3, 0, 1, 0, 1, 2, 1, 1]       \n",
    "r4: [3, 0, 0, 0, 1, 2, 1, 1]        \n",
    "r5: [3, 0, 0, 0, 1, 2, 1, 1]      \n",
    "r6: [3, 0, 3, 0, 1, 2, 1, 1]       \n",
    "r7: [3, 0, 0, 0, 1, 2, 1, 1]       \n",
    "r8: [3, 0, 2, 0, 1, 2, 1, 1]      \n",
    "r9: [3, 0, 0, 0, 1, 2, 1, 1]      \n",
    "r10: [3, 0, 0, 0, 1, 2, 1, 1]       \n",
    "Correct: [0, 0, 2, 2, 1, 1, 3, 3]       "
   ]
  },
  {
   "cell_type": "code",
   "execution_count": 47,
   "metadata": {},
   "outputs": [],
   "source": [
    "import pandas as pd\n",
    "data = [[10, 10, 0.25], [10, 20, 0.25], [10, 30, 0.25], [30, 10, 0.25], \n",
    "        [30, 20, 0.25], [30, 30, 0.25], [50, 10, 0.25], [50, 20, 0.375],\n",
    "        [50, 30, 0.25], [50, 100, 0.25]] \n",
    "  \n",
    "\n",
    "df0 = pd.DataFrame(data, columns = ['Steps per Epoch', 'Epochs', 'Accuracy'])\n"
   ]
  },
  {
   "cell_type": "code",
   "execution_count": 48,
   "metadata": {},
   "outputs": [
    {
     "data": {
      "text/html": [
       "<div>\n",
       "<style scoped>\n",
       "    .dataframe tbody tr th:only-of-type {\n",
       "        vertical-align: middle;\n",
       "    }\n",
       "\n",
       "    .dataframe tbody tr th {\n",
       "        vertical-align: top;\n",
       "    }\n",
       "\n",
       "    .dataframe thead th {\n",
       "        text-align: right;\n",
       "    }\n",
       "</style>\n",
       "<table border=\"1\" class=\"dataframe\">\n",
       "  <thead>\n",
       "    <tr style=\"text-align: right;\">\n",
       "      <th></th>\n",
       "      <th>Steps per Epoch</th>\n",
       "      <th>Epochs</th>\n",
       "      <th>Accuracy</th>\n",
       "    </tr>\n",
       "  </thead>\n",
       "  <tbody>\n",
       "    <tr>\n",
       "      <th>0</th>\n",
       "      <td>10</td>\n",
       "      <td>10</td>\n",
       "      <td>0.250</td>\n",
       "    </tr>\n",
       "    <tr>\n",
       "      <th>1</th>\n",
       "      <td>10</td>\n",
       "      <td>20</td>\n",
       "      <td>0.250</td>\n",
       "    </tr>\n",
       "    <tr>\n",
       "      <th>2</th>\n",
       "      <td>10</td>\n",
       "      <td>30</td>\n",
       "      <td>0.250</td>\n",
       "    </tr>\n",
       "    <tr>\n",
       "      <th>3</th>\n",
       "      <td>30</td>\n",
       "      <td>10</td>\n",
       "      <td>0.250</td>\n",
       "    </tr>\n",
       "    <tr>\n",
       "      <th>4</th>\n",
       "      <td>30</td>\n",
       "      <td>20</td>\n",
       "      <td>0.250</td>\n",
       "    </tr>\n",
       "    <tr>\n",
       "      <th>5</th>\n",
       "      <td>30</td>\n",
       "      <td>30</td>\n",
       "      <td>0.250</td>\n",
       "    </tr>\n",
       "    <tr>\n",
       "      <th>6</th>\n",
       "      <td>50</td>\n",
       "      <td>10</td>\n",
       "      <td>0.250</td>\n",
       "    </tr>\n",
       "    <tr>\n",
       "      <th>7</th>\n",
       "      <td>50</td>\n",
       "      <td>20</td>\n",
       "      <td>0.375</td>\n",
       "    </tr>\n",
       "    <tr>\n",
       "      <th>8</th>\n",
       "      <td>50</td>\n",
       "      <td>30</td>\n",
       "      <td>0.250</td>\n",
       "    </tr>\n",
       "    <tr>\n",
       "      <th>9</th>\n",
       "      <td>50</td>\n",
       "      <td>100</td>\n",
       "      <td>0.250</td>\n",
       "    </tr>\n",
       "  </tbody>\n",
       "</table>\n",
       "</div>"
      ],
      "text/plain": [
       "   Steps per Epoch  Epochs  Accuracy\n",
       "0               10      10     0.250\n",
       "1               10      20     0.250\n",
       "2               10      30     0.250\n",
       "3               30      10     0.250\n",
       "4               30      20     0.250\n",
       "5               30      30     0.250\n",
       "6               50      10     0.250\n",
       "7               50      20     0.375\n",
       "8               50      30     0.250\n",
       "9               50     100     0.250"
      ]
     },
     "execution_count": 48,
     "metadata": {},
     "output_type": "execute_result"
    }
   ],
   "source": [
    "df0"
   ]
  },
  {
   "cell_type": "code",
   "execution_count": null,
   "metadata": {},
   "outputs": [],
   "source": []
  },
  {
   "cell_type": "markdown",
   "metadata": {},
   "source": [
    "# Conceptual Questions: \n",
    "\n",
    "4. Discuss the effect of the following on accuracy and loss (train & test): \n",
    "\n",
    "Increasing the steps_per_epoch\n",
    "Increasing the number of epochs\n",
    "5. Name two uses of zero padding in CNN.\n",
    "\n",
    "6. What is the use of a 1 x 1 kernel in CNN? \n",
    "\n",
    "7. What are the advantages of a CNN over a fully connected DNN for this image classification problem?"
   ]
  },
  {
   "cell_type": "markdown",
   "metadata": {},
   "source": [
    "---------------------"
   ]
  },
  {
   "cell_type": "markdown",
   "metadata": {},
   "source": [
    "### Answers:"
   ]
  },
  {
   "cell_type": "markdown",
   "metadata": {},
   "source": [
    "4. Higher number of epoch could cause over-fitting. For Steps per epoch, if this parameter is too high, it could also cause over-fitting, although this doesn't clearly show on my running results. As the number of epoch going higher, the accuracy may potentially go even lower. This works the same as the Steps per epoch. \n",
    "\n",
    "In conclusion, the accuracy could go higher when the \"Steps per Epoch\" parameter goes up and the \"Epoches\" parameter goes up. However, these two parameters go up also causes the over-fitting. Moreover, the accuracy could decrease again if the \"Steps per Epoch\" parameter and the \"Epoches\" parameter goes up too high. There are optimal values for these two paramters."
   ]
  },
  {
   "cell_type": "markdown",
   "metadata": {},
   "source": [
    "5. Zero-padding refers to the process of symmetrically adding zeroes to the input matrix. It's a commonly used modification that allows the size of the input to be adjusted to our requirement. It is mostly used in designing the CNN layers when the dimensions of the input volume need to be preserved in the output volume.\n",
    "\n",
    "For two uses:\n",
    "Zero-padding is a generic way to:         \n",
    "(1) control the shrinkage of dimension after applying filters larger than 1x1          \n",
    "(2) avoid loosing information at the boundaries, e.g. when weights in a filter drop rapidly away from its center.\n",
    "\n",
    "For a specific input, activation function, or loss function, a variant might perform better, i.e. utilizing domain knowledge. However, the key for zero-padding is \"being generic\". For example, a completely different padding would be \"reflection padding\" that, instead of a specific value, puts a mirror of input outside the boundaries. We could try reflection padding and if it gives better results, then we might look for a justification based on the task, activation function, etc."
   ]
  },
  {
   "cell_type": "markdown",
   "metadata": {},
   "source": [
    "6. 1 x 1 conv filters can be used to change the dimensionality in the filter space. If 𝐹1>𝐹 then we are increasing dimensionality, if 𝐹1<𝐹 we are decreasing dimensionality, in the filter dimension. 1 x 1 convolutions are used to compute reductions before the expensive 3x3 and 5x5 convolutions. \n",
    "\n",
    "In the Inception architecture, I can use the 1 x 1 convolutional filters to reduce dimensionality in the filter dimension. These 1 x 1 conv layers can be used in general to change the filter space dimensionality (either increase or decrease) and in the Inception architecture, I can see how effective these 1 x 1 filters can be for dimensionality reduction, explicitly in the filter dimension space, not the spatial dimension space."
   ]
  },
  {
   "cell_type": "markdown",
   "metadata": {},
   "source": [
    "7. Fully connected neural networks are good enough classifiers. However, they aren't good for feature extraction. Before the emergence on CNNs, the state-of-the-art was to extract explicit features from images and then classify these features.\n",
    "\n",
    "CNNs are trained to identify and extract the best features from the images for the problem at hand. That is their main strength. The latter layers of a CNN are fully connected because of their strength as a classifier. So these two architectures aren't competing though as you may think as CNNs incorporate Fully-connected layers."
   ]
  },
  {
   "cell_type": "code",
   "execution_count": null,
   "metadata": {},
   "outputs": [],
   "source": []
  },
  {
   "cell_type": "markdown",
   "metadata": {},
   "source": [
    "---------------------------"
   ]
  },
  {
   "cell_type": "code",
   "execution_count": null,
   "metadata": {},
   "outputs": [],
   "source": []
  },
  {
   "cell_type": "code",
   "execution_count": null,
   "metadata": {},
   "outputs": [],
   "source": []
  }
 ],
 "metadata": {
  "kernelspec": {
   "display_name": "Python 3",
   "language": "python",
   "name": "python3"
  },
  "language_info": {
   "codemirror_mode": {
    "name": "ipython",
    "version": 3
   },
   "file_extension": ".py",
   "mimetype": "text/x-python",
   "name": "python",
   "nbconvert_exporter": "python",
   "pygments_lexer": "ipython3",
   "version": "3.7.4"
  }
 },
 "nbformat": 4,
 "nbformat_minor": 2
}
